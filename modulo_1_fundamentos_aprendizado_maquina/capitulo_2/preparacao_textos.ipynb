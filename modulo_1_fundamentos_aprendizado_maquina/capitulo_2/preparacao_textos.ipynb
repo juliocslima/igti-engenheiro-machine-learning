{
 "cells": [
  {
   "cell_type": "code",
   "execution_count": 1,
   "metadata": {
    "colab": {
     "base_uri": "https://localhost:8080/"
    },
    "executionInfo": {
     "elapsed": 2985,
     "status": "ok",
     "timestamp": 1621105474493,
     "user": {
      "displayName": "Tulio Philipe",
      "photoUrl": "https://lh3.googleusercontent.com/a-/AOh14GiC2kqFihAn3Ile03oz-6rO8qVjEHv1DhGQ0ngQ5g=s64",
      "userId": "06907869093485551957"
     },
     "user_tz": 180
    },
    "id": "Zxswp_7dxPI8",
    "outputId": "de750f3c-478f-4efa-82e9-8287a6e42b12"
   },
   "outputs": [
    {
     "name": "stderr",
     "output_type": "stream",
     "text": [
      "[nltk_data] Downloading package stopwords to /home/jlima/nltk_data...\n",
      "[nltk_data]   Unzipping corpora/stopwords.zip.\n",
      "[nltk_data] Downloading package punkt to /home/jlima/nltk_data...\n",
      "[nltk_data]   Package punkt is already up-to-date!\n"
     ]
    }
   ],
   "source": [
    "#gerando as stopwords\n",
    "import nltk  #biblioteca para a análise de textos\n",
    "import numpy as np\n",
    "nltk.download('stopwords')\n",
    "nltk.download('punkt')\n",
    "from pprint import pprint  #biblioteca para realizar o \"print\" de forma mais amigável \"pretty-print\""
   ]
  },
  {
   "cell_type": "code",
   "execution_count": 2,
   "metadata": {
    "colab": {
     "base_uri": "https://localhost:8080/"
    },
    "executionInfo": {
     "elapsed": 2962,
     "status": "ok",
     "timestamp": 1621105474494,
     "user": {
      "displayName": "Tulio Philipe",
      "photoUrl": "https://lh3.googleusercontent.com/a-/AOh14GiC2kqFihAn3Ile03oz-6rO8qVjEHv1DhGQ0ngQ5g=s64",
      "userId": "06907869093485551957"
     },
     "user_tz": 180
    },
    "id": "ooiskYxFNCZL",
    "outputId": "05ced04d-0b21-4ff1-a5ef-6fc862fa7684"
   },
   "outputs": [
    {
     "name": "stdout",
     "output_type": "stream",
     "text": [
      "['de' 'a' 'o' 'que' 'e' 'é' 'do' 'da' 'em' 'um' 'para' 'com' 'não' 'uma'\n",
      " 'os' 'no' 'se' 'na' 'por' 'mais' 'as' 'dos' 'como' 'mas' 'ao' 'ele' 'das'\n",
      " 'à' 'seu' 'sua' 'ou' 'quando' 'muito' 'nos' 'já' 'eu' 'também' 'só'\n",
      " 'pelo' 'pela' 'até' 'isso' 'ela' 'entre' 'depois' 'sem' 'mesmo' 'aos'\n",
      " 'seus' 'quem' 'nas' 'me' 'esse' 'eles' 'você' 'essa' 'num' 'nem' 'suas'\n",
      " 'meu' 'às' 'minha' 'numa' 'pelos' 'elas' 'qual' 'nós' 'lhe' 'deles'\n",
      " 'essas' 'esses' 'pelas' 'este' 'dele' 'tu' 'te' 'vocês' 'vos' 'lhes'\n",
      " 'meus' 'minhas' 'teu' 'tua' 'teus' 'tuas' 'nosso' 'nossa' 'nossos'\n",
      " 'nossas' 'dela' 'delas' 'esta' 'estes' 'estas' 'aquele' 'aquela'\n",
      " 'aqueles' 'aquelas' 'isto' 'aquilo' 'estou' 'está' 'estamos' 'estão'\n",
      " 'estive' 'esteve' 'estivemos' 'estiveram' 'estava' 'estávamos' 'estavam'\n",
      " 'estivera' 'estivéramos' 'esteja' 'estejamos' 'estejam' 'estivesse'\n",
      " 'estivéssemos' 'estivessem' 'estiver' 'estivermos' 'estiverem' 'hei' 'há'\n",
      " 'havemos' 'hão' 'houve' 'houvemos' 'houveram' 'houvera' 'houvéramos'\n",
      " 'haja' 'hajamos' 'hajam' 'houvesse' 'houvéssemos' 'houvessem' 'houver'\n",
      " 'houvermos' 'houverem' 'houverei' 'houverá' 'houveremos' 'houverão'\n",
      " 'houveria' 'houveríamos' 'houveriam' 'sou' 'somos' 'são' 'era' 'éramos'\n",
      " 'eram' 'fui' 'foi' 'fomos' 'foram' 'fora' 'fôramos' 'seja' 'sejamos'\n",
      " 'sejam' 'fosse' 'fôssemos' 'fossem' 'for' 'formos' 'forem' 'serei' 'será'\n",
      " 'seremos' 'serão' 'seria' 'seríamos' 'seriam' 'tenho' 'tem' 'temos' 'tém'\n",
      " 'tinha' 'tínhamos' 'tinham' 'tive' 'teve' 'tivemos' 'tiveram' 'tivera'\n",
      " 'tivéramos' 'tenha' 'tenhamos' 'tenham' 'tivesse' 'tivéssemos' 'tivessem'\n",
      " 'tiver' 'tivermos' 'tiverem' 'terei' 'terá' 'teremos' 'terão' 'teria'\n",
      " 'teríamos' 'teriam']\n"
     ]
    }
   ],
   "source": [
    "stopWordPortugues = nltk.corpus.stopwords.words('portuguese')\n",
    "print(np.transpose(stopWordPortugues))"
   ]
  },
  {
   "cell_type": "code",
   "execution_count": 3,
   "metadata": {
    "colab": {
     "base_uri": "https://localhost:8080/"
    },
    "executionInfo": {
     "elapsed": 2959,
     "status": "ok",
     "timestamp": 1621105474495,
     "user": {
      "displayName": "Tulio Philipe",
      "photoUrl": "https://lh3.googleusercontent.com/a-/AOh14GiC2kqFihAn3Ile03oz-6rO8qVjEHv1DhGQ0ngQ5g=s64",
      "userId": "06907869093485551957"
     },
     "user_tz": 180
    },
    "id": "X0XjQ38tf3FO",
    "outputId": "c2138e21-06ab-4fa7-9687-8b06e804aed6"
   },
   "outputs": [
    {
     "name": "stdout",
     "output_type": "stream",
     "text": [
      "[' O menino gosta de jogar futebol aos finais de semana.',\n",
      " 'Ele gosta de jogar com seus amigos Marcos e João, mas não gosta de brincar\\n'\n",
      " 'com a irmã Marcela']\n"
     ]
    }
   ],
   "source": [
    "#gerando os tokens de sentenças\n",
    "sample_text=\"\"\" O menino gosta de jogar futebol aos finais de semana. \n",
    "Ele gosta de jogar com seus amigos Marcos e João, mas não gosta de brincar\n",
    "com a irmã Marcela\"\"\"\n",
    "tokenizacao_sentencas=nltk.sent_tokenize\n",
    "sample_sentence = tokenizacao_sentencas(text=sample_text)\n",
    "pprint(sample_sentence)"
   ]
  },
  {
   "cell_type": "code",
   "execution_count": 4,
   "metadata": {
    "colab": {
     "base_uri": "https://localhost:8080/"
    },
    "executionInfo": {
     "elapsed": 2955,
     "status": "ok",
     "timestamp": 1621105474495,
     "user": {
      "displayName": "Tulio Philipe",
      "photoUrl": "https://lh3.googleusercontent.com/a-/AOh14GiC2kqFihAn3Ile03oz-6rO8qVjEHv1DhGQ0ngQ5g=s64",
      "userId": "06907869093485551957"
     },
     "user_tz": 180
    },
    "id": "hq947qkkOpuN",
    "outputId": "023067f9-f25b-43de-8570-2ca7b1de5850"
   },
   "outputs": [
    {
     "data": {
      "text/plain": [
       "2"
      ]
     },
     "execution_count": 4,
     "metadata": {},
     "output_type": "execute_result"
    }
   ],
   "source": [
    "len(sample_sentence)"
   ]
  },
  {
   "cell_type": "code",
   "execution_count": 5,
   "metadata": {
    "colab": {
     "base_uri": "https://localhost:8080/"
    },
    "executionInfo": {
     "elapsed": 3429,
     "status": "ok",
     "timestamp": 1621105474973,
     "user": {
      "displayName": "Tulio Philipe",
      "photoUrl": "https://lh3.googleusercontent.com/a-/AOh14GiC2kqFihAn3Ile03oz-6rO8qVjEHv1DhGQ0ngQ5g=s64",
      "userId": "06907869093485551957"
     },
     "user_tz": 180
    },
    "id": "VZlivgR3g6EF",
    "outputId": "78aebd9e-a47d-49a9-f95b-ad055f55ac8c"
   },
   "outputs": [
    {
     "name": "stdout",
     "output_type": "stream",
     "text": [
      "['O',\n",
      " 'menino',\n",
      " 'gosta',\n",
      " 'de',\n",
      " 'jogar',\n",
      " 'futebol',\n",
      " 'aos',\n",
      " 'finais',\n",
      " 'de',\n",
      " 'semana',\n",
      " '.']\n"
     ]
    }
   ],
   "source": [
    "#tokenização de palavras\n",
    "sample_sentence='O menino gosta de jogar futebol aos finais de semana.'\n",
    "tokenizacao_palavras=nltk.word_tokenize\n",
    "sample_words = tokenizacao_palavras(text=sample_sentence)\n",
    "pprint(sample_words)"
   ]
  },
  {
   "cell_type": "code",
   "execution_count": 5,
   "metadata": {
    "colab": {
     "base_uri": "https://localhost:8080/"
    },
    "executionInfo": {
     "elapsed": 3425,
     "status": "ok",
     "timestamp": 1621105474974,
     "user": {
      "displayName": "Tulio Philipe",
      "photoUrl": "https://lh3.googleusercontent.com/a-/AOh14GiC2kqFihAn3Ile03oz-6rO8qVjEHv1DhGQ0ngQ5g=s64",
      "userId": "06907869093485551957"
     },
     "user_tz": 180
    },
    "id": "4GhT0e4qNX0u",
    "outputId": "5b25de8e-3abc-4620-916f-f0068c5f93b1"
   },
   "outputs": [
    {
     "name": "stderr",
     "output_type": "stream",
     "text": [
      "[nltk_data] Downloading package rslp to /home/jlima/nltk_data...\n",
      "[nltk_data]   Unzipping stemmers/rslp.zip.\n"
     ]
    },
    {
     "data": {
      "text/plain": [
       "True"
      ]
     },
     "execution_count": 5,
     "metadata": {},
     "output_type": "execute_result"
    }
   ],
   "source": [
    "#gerando as amostras de stem\n",
    "from nltk.stem import PorterStemmer  #stemização baseado no algoritmo de Porter\n",
    "from nltk.stem import RSLPStemmer #stemização para o português\n",
    "nltk.download('rslp')"
   ]
  },
  {
   "cell_type": "code",
   "execution_count": 6,
   "metadata": {
    "colab": {
     "base_uri": "https://localhost:8080/"
    },
    "executionInfo": {
     "elapsed": 3421,
     "status": "ok",
     "timestamp": 1621105474974,
     "user": {
      "displayName": "Tulio Philipe",
      "photoUrl": "https://lh3.googleusercontent.com/a-/AOh14GiC2kqFihAn3Ile03oz-6rO8qVjEHv1DhGQ0ngQ5g=s64",
      "userId": "06907869093485551957"
     },
     "user_tz": 180
    },
    "id": "XYW4BWysQiyx",
    "outputId": "bb58c479-1e06-4788-8d32-c3b893300126"
   },
   "outputs": [
    {
     "name": "stdout",
     "output_type": "stream",
     "text": [
      "jump\n",
      "amor\n",
      "amor\n",
      "am\n"
     ]
    }
   ],
   "source": [
    "#gerado stem através do nltk\n",
    "ps=PorterStemmer()\n",
    "stemmer =RSLPStemmer()\n",
    "\n",
    "print(ps.stem('jumping'))\n",
    "print(stemmer.stem('amoroso')) \n",
    "print(stemmer.stem('amorosa'))\n",
    "print(stemmer.stem('amados'))\n"
   ]
  },
  {
   "cell_type": "code",
   "execution_count": 7,
   "metadata": {
    "colab": {
     "base_uri": "https://localhost:8080/"
    },
    "executionInfo": {
     "elapsed": 3418,
     "status": "ok",
     "timestamp": 1621105474975,
     "user": {
      "displayName": "Tulio Philipe",
      "photoUrl": "https://lh3.googleusercontent.com/a-/AOh14GiC2kqFihAn3Ile03oz-6rO8qVjEHv1DhGQ0ngQ5g=s64",
      "userId": "06907869093485551957"
     },
     "user_tz": 180
    },
    "id": "BJDrwlnPQ0Qs",
    "outputId": "598c6f55-e6f4-4567-beb5-0ee8603e300f"
   },
   "outputs": [
    {
     "name": "stdout",
     "output_type": "stream",
     "text": [
      "Linguagens suportadas %s ('arabic', 'danish', 'dutch', 'english', 'finnish', 'french', 'german', 'hungarian', 'italian', 'norwegian', 'porter', 'portuguese', 'romanian', 'russian', 'spanish', 'swedish')\n"
     ]
    }
   ],
   "source": [
    "from nltk.stem import SnowballStemmer   # mais indicado para a lingua portuguesa\n",
    "\n",
    "print('Linguagens suportadas %s',SnowballStemmer.languages)\n"
   ]
  },
  {
   "cell_type": "code",
   "execution_count": 8,
   "metadata": {
    "colab": {
     "base_uri": "https://localhost:8080/"
    },
    "executionInfo": {
     "elapsed": 3412,
     "status": "ok",
     "timestamp": 1621105474975,
     "user": {
      "displayName": "Tulio Philipe",
      "photoUrl": "https://lh3.googleusercontent.com/a-/AOh14GiC2kqFihAn3Ile03oz-6rO8qVjEHv1DhGQ0ngQ5g=s64",
      "userId": "06907869093485551957"
     },
     "user_tz": 180
    },
    "id": "BZNfCX1KQ5P0",
    "outputId": "10f343a9-5a0f-46fe-d359-d0fb80012081"
   },
   "outputs": [
    {
     "name": "stdout",
     "output_type": "stream",
     "text": [
      "cas\n",
      "cas\n",
      "cas\n"
     ]
    }
   ],
   "source": [
    "ss = SnowballStemmer(\"portuguese\")\n",
    "print(ss.stem('casado'))\n",
    "print(ss.stem('casarão'))\n",
    "print(ss.stem('casa'))"
   ]
  },
  {
   "cell_type": "markdown",
   "metadata": {
    "id": "OZV1Kn5Ao2fF"
   },
   "source": [
    "** ---------------------**Exemplo Bag of Words ---------------------**** **\n"
   ]
  },
  {
   "cell_type": "code",
   "execution_count": 9,
   "metadata": {
    "executionInfo": {
     "elapsed": 3410,
     "status": "ok",
     "timestamp": 1621105474975,
     "user": {
      "displayName": "Tulio Philipe",
      "photoUrl": "https://lh3.googleusercontent.com/a-/AOh14GiC2kqFihAn3Ile03oz-6rO8qVjEHv1DhGQ0ngQ5g=s64",
      "userId": "06907869093485551957"
     },
     "user_tz": 180
    },
    "id": "_idIhbTZqNsV"
   },
   "outputs": [],
   "source": [
    "sentenca=\"O IGTI oferece especializacao em Deep Learning. Deep Learning e utilizado em diversas aplicacoes. As aplicacoes de deep learning sao estudadas nesta especializacao. O IGTI tambem oferece bootcamp\"\n"
   ]
  },
  {
   "cell_type": "code",
   "execution_count": 10,
   "metadata": {
    "executionInfo": {
     "elapsed": 3410,
     "status": "ok",
     "timestamp": 1621105474976,
     "user": {
      "displayName": "Tulio Philipe",
      "photoUrl": "https://lh3.googleusercontent.com/a-/AOh14GiC2kqFihAn3Ile03oz-6rO8qVjEHv1DhGQ0ngQ5g=s64",
      "userId": "06907869093485551957"
     },
     "user_tz": 180
    },
    "id": "jgmZh9ItwH24"
   },
   "outputs": [],
   "source": [
    "#coloca toda a sentença em lowercase\n",
    "sentenca=sentenca.lower()"
   ]
  },
  {
   "cell_type": "code",
   "execution_count": 11,
   "metadata": {
    "colab": {
     "base_uri": "https://localhost:8080/"
    },
    "executionInfo": {
     "elapsed": 3406,
     "status": "ok",
     "timestamp": 1621105474976,
     "user": {
      "displayName": "Tulio Philipe",
      "photoUrl": "https://lh3.googleusercontent.com/a-/AOh14GiC2kqFihAn3Ile03oz-6rO8qVjEHv1DhGQ0ngQ5g=s64",
      "userId": "06907869093485551957"
     },
     "user_tz": 180
    },
    "id": "f3RxA_XMun_b",
    "outputId": "aa0b58c3-a767-402c-c5fc-45db04f221cc"
   },
   "outputs": [
    {
     "name": "stdout",
     "output_type": "stream",
     "text": [
      "o igti oferece especializacao em deep learning. deep learning e utilizado em diversas aplicacoes. as aplicacoes de deep learning sao estudadas nesta especializacao. o igti tambem oferece bootcamp\n"
     ]
    }
   ],
   "source": [
    "print(sentenca)"
   ]
  },
  {
   "cell_type": "code",
   "execution_count": 12,
   "metadata": {
    "colab": {
     "base_uri": "https://localhost:8080/"
    },
    "executionInfo": {
     "elapsed": 3402,
     "status": "ok",
     "timestamp": 1621105474976,
     "user": {
      "displayName": "Tulio Philipe",
      "photoUrl": "https://lh3.googleusercontent.com/a-/AOh14GiC2kqFihAn3Ile03oz-6rO8qVjEHv1DhGQ0ngQ5g=s64",
      "userId": "06907869093485551957"
     },
     "user_tz": 180
    },
    "id": "8Ck6OBZzu0p9",
    "outputId": "35636fc4-2ce1-4401-d447-b20e6bb4fe3e"
   },
   "outputs": [
    {
     "name": "stdout",
     "output_type": "stream",
     "text": [
      "['o igti oferece especializacao em deep learning.',\n",
      " 'deep learning e utilizado em diversas aplicacoes.',\n",
      " 'as aplicacoes de deep learning sao estudadas nesta especializacao.',\n",
      " 'o igti tambem oferece bootcamp']\n"
     ]
    }
   ],
   "source": [
    "#tokenização de sentencas\n",
    "tokenizacao_sentencas=nltk.sent_tokenize\n",
    "sample_sentence = tokenizacao_sentencas(text=sentenca)\n",
    "pprint(sample_sentence)\n"
   ]
  },
  {
   "cell_type": "code",
   "execution_count": 13,
   "metadata": {
    "colab": {
     "base_uri": "https://localhost:8080/",
     "height": 35
    },
    "executionInfo": {
     "elapsed": 3398,
     "status": "ok",
     "timestamp": 1621105474977,
     "user": {
      "displayName": "Tulio Philipe",
      "photoUrl": "https://lh3.googleusercontent.com/a-/AOh14GiC2kqFihAn3Ile03oz-6rO8qVjEHv1DhGQ0ngQ5g=s64",
      "userId": "06907869093485551957"
     },
     "user_tz": 180
    },
    "id": "aJx79fF7vmD_",
    "outputId": "c654d708-512e-4931-db11-170b7f09170d"
   },
   "outputs": [
    {
     "data": {
      "text/plain": [
       "'o igti oferece especializacao em deep learning.'"
      ]
     },
     "execution_count": 13,
     "metadata": {},
     "output_type": "execute_result"
    }
   ],
   "source": [
    "sample_sentence[0] #seleciona a primeira sentença"
   ]
  },
  {
   "cell_type": "code",
   "execution_count": 14,
   "metadata": {
    "executionInfo": {
     "elapsed": 3397,
     "status": "ok",
     "timestamp": 1621105474977,
     "user": {
      "displayName": "Tulio Philipe",
      "photoUrl": "https://lh3.googleusercontent.com/a-/AOh14GiC2kqFihAn3Ile03oz-6rO8qVjEHv1DhGQ0ngQ5g=s64",
      "userId": "06907869093485551957"
     },
     "user_tz": 180
    },
    "id": "fPXCXPsPvkuv"
   },
   "outputs": [],
   "source": [
    "#tokenização de palavras\n",
    "tokenizacao_palavras=nltk.word_tokenize\n",
    "list_words=[]\n",
    "for i in range(len(sample_sentence)):\n",
    "  sample_words = tokenizacao_palavras(text=sample_sentence[i])\n",
    "  list_words.extend(sample_words)\n"
   ]
  },
  {
   "cell_type": "code",
   "execution_count": 15,
   "metadata": {
    "colab": {
     "base_uri": "https://localhost:8080/"
    },
    "executionInfo": {
     "elapsed": 3738,
     "status": "ok",
     "timestamp": 1621105475322,
     "user": {
      "displayName": "Tulio Philipe",
      "photoUrl": "https://lh3.googleusercontent.com/a-/AOh14GiC2kqFihAn3Ile03oz-6rO8qVjEHv1DhGQ0ngQ5g=s64",
      "userId": "06907869093485551957"
     },
     "user_tz": 180
    },
    "id": "UMXwFa1Iw5a2",
    "outputId": "5035df31-b443-4a72-8682-bb0521528843"
   },
   "outputs": [
    {
     "name": "stdout",
     "output_type": "stream",
     "text": [
      "['o', 'igti', 'oferece', 'especializacao', 'em', 'deep', 'learning', '.', 'deep', 'learning', 'e', 'utilizado', 'em', 'diversas', 'aplicacoes', '.', 'as', 'aplicacoes', 'de', 'deep', 'learning', 'sao', 'estudadas', 'nesta', 'especializacao', '.', 'o', 'igti', 'tambem', 'oferece', 'bootcamp']\n"
     ]
    }
   ],
   "source": [
    "print(list_words)  #corpus a ser analisado"
   ]
  },
  {
   "cell_type": "code",
   "execution_count": 16,
   "metadata": {
    "executionInfo": {
     "elapsed": 3738,
     "status": "ok",
     "timestamp": 1621105475324,
     "user": {
      "displayName": "Tulio Philipe",
      "photoUrl": "https://lh3.googleusercontent.com/a-/AOh14GiC2kqFihAn3Ile03oz-6rO8qVjEHv1DhGQ0ngQ5g=s64",
      "userId": "06907869093485551957"
     },
     "user_tz": 180
    },
    "id": "0yZEFwLNxdML"
   },
   "outputs": [],
   "source": [
    "#tokeniza palavras\n",
    "def tokenizaPalavras(sentenca):\n",
    "  sample_words = tokenizacao_palavras(text=sentenca)\n",
    "  return sample_words\n",
    "\n",
    "\n",
    "#removendo stopwords e criando o BoW\n",
    "def removeStopWords(list_of_words):\n",
    "\n",
    "  my_stop_words=['o','em','as','de','sao','nesta','.','e','a','na','do'] # cria a lista de stopwords\n",
    "  list_cleaned=set(list_of_words)-set(my_stop_words)\n",
    "  return list_cleaned\n",
    "\n",
    "my_BoW=removeStopWords(list_words)"
   ]
  },
  {
   "cell_type": "code",
   "execution_count": 17,
   "metadata": {
    "colab": {
     "base_uri": "https://localhost:8080/"
    },
    "executionInfo": {
     "elapsed": 3734,
     "status": "ok",
     "timestamp": 1621105475324,
     "user": {
      "displayName": "Tulio Philipe",
      "photoUrl": "https://lh3.googleusercontent.com/a-/AOh14GiC2kqFihAn3Ile03oz-6rO8qVjEHv1DhGQ0ngQ5g=s64",
      "userId": "06907869093485551957"
     },
     "user_tz": 180
    },
    "id": "MVp7bYXm2aBS",
    "outputId": "327be389-a0c7-4e55-a28c-78170ab41775"
   },
   "outputs": [
    {
     "name": "stdout",
     "output_type": "stream",
     "text": [
      "{'oferece', 'learning', 'especializacao', 'utilizado', 'deep', 'igti', 'bootcamp', 'estudadas', 'tambem', 'aplicacoes', 'diversas'}\n"
     ]
    }
   ],
   "source": [
    "print(my_BoW)"
   ]
  },
  {
   "cell_type": "code",
   "execution_count": 18,
   "metadata": {
    "executionInfo": {
     "elapsed": 3733,
     "status": "ok",
     "timestamp": 1621105475324,
     "user": {
      "displayName": "Tulio Philipe",
      "photoUrl": "https://lh3.googleusercontent.com/a-/AOh14GiC2kqFihAn3Ile03oz-6rO8qVjEHv1DhGQ0ngQ5g=s64",
      "userId": "06907869093485551957"
     },
     "user_tz": 180
    },
    "id": "oz6-fmYP6xBX"
   },
   "outputs": [],
   "source": [
    "#Cria o vetor que representa a sentenca na BoW \n",
    "def bagofwords(sentence, words):\n",
    "    sentence_words = tokenizaPalavras(sentence)\n",
    "    # conta a frequência de palavras que estão no vetor do BoW\n",
    "    bag = np.zeros(len(words))\n",
    "    for sw in sentence_words:\n",
    "        for i,word in enumerate(words):\n",
    "            if word == sw: \n",
    "                bag[i] += 1\n",
    "                \n",
    "    return np.array(bag)\n",
    "\n"
   ]
  },
  {
   "cell_type": "code",
   "execution_count": 19,
   "metadata": {
    "colab": {
     "base_uri": "https://localhost:8080/"
    },
    "executionInfo": {
     "elapsed": 3730,
     "status": "ok",
     "timestamp": 1621105475325,
     "user": {
      "displayName": "Tulio Philipe",
      "photoUrl": "https://lh3.googleusercontent.com/a-/AOh14GiC2kqFihAn3Ile03oz-6rO8qVjEHv1DhGQ0ngQ5g=s64",
      "userId": "06907869093485551957"
     },
     "user_tz": 180
    },
    "id": "vjDpTNr8SAMI",
    "outputId": "8e8b39a3-8c24-4f23-bfbf-586fd3e496b7"
   },
   "outputs": [
    {
     "name": "stdout",
     "output_type": "stream",
     "text": [
      "[2. 1. 1. 0. 1. 2. 1. 0. 0. 0. 0.]\n"
     ]
    }
   ],
   "source": [
    "sentenca_teste='o igti oferece especializacao em deep learning e o igti oferece bootcamp'\n",
    "print(bagofwords(sentenca_teste,my_BoW))"
   ]
  }
 ],
 "metadata": {
  "colab": {
   "name": "preparacao_textos.ipynb",
   "provenance": []
  },
  "kernelspec": {
   "display_name": "Python 3",
   "language": "python",
   "name": "python3"
  },
  "language_info": {
   "codemirror_mode": {
    "name": "ipython",
    "version": 3
   },
   "file_extension": ".py",
   "mimetype": "text/x-python",
   "name": "python",
   "nbconvert_exporter": "python",
   "pygments_lexer": "ipython3",
   "version": "3.8.8"
  }
 },
 "nbformat": 4,
 "nbformat_minor": 4
}
