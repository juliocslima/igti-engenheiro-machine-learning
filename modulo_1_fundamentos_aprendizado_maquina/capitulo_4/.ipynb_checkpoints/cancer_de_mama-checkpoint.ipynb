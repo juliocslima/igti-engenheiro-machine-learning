{
 "cells": [
  {
   "cell_type": "code",
   "execution_count": null,
   "metadata": {},
   "outputs": [],
   "source": [
    "!pip install -U scikit-learn --upgrade"
   ]
  },
  {
   "cell_type": "code",
   "execution_count": 1,
   "metadata": {
    "executionInfo": {
     "elapsed": 581,
     "status": "ok",
     "timestamp": 1621191434201,
     "user": {
      "displayName": "Tulio Philipe",
      "photoUrl": "https://lh3.googleusercontent.com/a-/AOh14GiC2kqFihAn3Ile03oz-6rO8qVjEHv1DhGQ0ngQ5g=s64",
      "userId": "06907869093485551957"
     },
     "user_tz": 180
    },
    "id": "6V92amh7AiRf"
   },
   "outputs": [],
   "source": [
    "import numpy as np  #utilizada para tratar vetores e matrizes\n",
    " \n",
    "import pandas as pd  #utilizada para tratar dataframes\n",
    " \n",
    "import matplotlib as mpl  #utilizada para tratar gráficos\n",
    "import matplotlib.pyplot as plt\n",
    " \n",
    "from sklearn import preprocessing  #utilizada para realizar o preprocessamento dos dados\n",
    "from sklearn.model_selection import train_test_split # função utilizada para dividir do dataset entre treinamento e test\n",
    "from sklearn.metrics import classification_report, confusion_matrix  #metrica de desempenho para o sklearn\n",
    "\n"
   ]
  },
  {
   "cell_type": "code",
   "execution_count": 3,
   "metadata": {
    "executionInfo": {
     "elapsed": 1069,
     "status": "ok",
     "timestamp": 1621191434699,
     "user": {
      "displayName": "Tulio Philipe",
      "photoUrl": "https://lh3.googleusercontent.com/a-/AOh14GiC2kqFihAn3Ile03oz-6rO8qVjEHv1DhGQ0ngQ5g=s64",
      "userId": "06907869093485551957"
     },
     "user_tz": 180
    },
    "id": "wNbevo4lBKYG"
   },
   "outputs": [],
   "source": [
    "# Realiza o download do dataset a ser utilizado.\n",
    "!wget -q https://raw.githubusercontent.com/patrickmlong/Breast-Cancer-Wisconsin-Diagnostic-DataSet/master/data.csv\n",
    "data = pd.read_csv(\"data.csv\")"
   ]
  },
  {
   "cell_type": "code",
   "execution_count": 4,
   "metadata": {
    "colab": {
     "base_uri": "https://localhost:8080/",
     "height": 241
    },
    "executionInfo": {
     "elapsed": 1067,
     "status": "ok",
     "timestamp": 1621191434700,
     "user": {
      "displayName": "Tulio Philipe",
      "photoUrl": "https://lh3.googleusercontent.com/a-/AOh14GiC2kqFihAn3Ile03oz-6rO8qVjEHv1DhGQ0ngQ5g=s64",
      "userId": "06907869093485551957"
     },
     "user_tz": 180
    },
    "id": "ETREN81zCSGP",
    "outputId": "6dd4f66f-27c4-4118-93bb-76f0e8d1d6ac"
   },
   "outputs": [
    {
     "data": {
      "text/html": [
       "<div>\n",
       "<style scoped>\n",
       "    .dataframe tbody tr th:only-of-type {\n",
       "        vertical-align: middle;\n",
       "    }\n",
       "\n",
       "    .dataframe tbody tr th {\n",
       "        vertical-align: top;\n",
       "    }\n",
       "\n",
       "    .dataframe thead th {\n",
       "        text-align: right;\n",
       "    }\n",
       "</style>\n",
       "<table border=\"1\" class=\"dataframe\">\n",
       "  <thead>\n",
       "    <tr style=\"text-align: right;\">\n",
       "      <th></th>\n",
       "      <th>id</th>\n",
       "      <th>diagnosis</th>\n",
       "      <th>radius_mean</th>\n",
       "      <th>texture_mean</th>\n",
       "      <th>perimeter_mean</th>\n",
       "      <th>area_mean</th>\n",
       "      <th>smoothness_mean</th>\n",
       "      <th>compactness_mean</th>\n",
       "      <th>concavity_mean</th>\n",
       "      <th>concave points_mean</th>\n",
       "      <th>...</th>\n",
       "      <th>texture_worst</th>\n",
       "      <th>perimeter_worst</th>\n",
       "      <th>area_worst</th>\n",
       "      <th>smoothness_worst</th>\n",
       "      <th>compactness_worst</th>\n",
       "      <th>concavity_worst</th>\n",
       "      <th>concave points_worst</th>\n",
       "      <th>symmetry_worst</th>\n",
       "      <th>fractal_dimension_worst</th>\n",
       "      <th>Unnamed: 32</th>\n",
       "    </tr>\n",
       "  </thead>\n",
       "  <tbody>\n",
       "    <tr>\n",
       "      <th>0</th>\n",
       "      <td>842302</td>\n",
       "      <td>M</td>\n",
       "      <td>17.99</td>\n",
       "      <td>10.38</td>\n",
       "      <td>122.80</td>\n",
       "      <td>1001.0</td>\n",
       "      <td>0.11840</td>\n",
       "      <td>0.27760</td>\n",
       "      <td>0.3001</td>\n",
       "      <td>0.14710</td>\n",
       "      <td>...</td>\n",
       "      <td>17.33</td>\n",
       "      <td>184.60</td>\n",
       "      <td>2019.0</td>\n",
       "      <td>0.1622</td>\n",
       "      <td>0.6656</td>\n",
       "      <td>0.7119</td>\n",
       "      <td>0.2654</td>\n",
       "      <td>0.4601</td>\n",
       "      <td>0.11890</td>\n",
       "      <td>NaN</td>\n",
       "    </tr>\n",
       "    <tr>\n",
       "      <th>1</th>\n",
       "      <td>842517</td>\n",
       "      <td>M</td>\n",
       "      <td>20.57</td>\n",
       "      <td>17.77</td>\n",
       "      <td>132.90</td>\n",
       "      <td>1326.0</td>\n",
       "      <td>0.08474</td>\n",
       "      <td>0.07864</td>\n",
       "      <td>0.0869</td>\n",
       "      <td>0.07017</td>\n",
       "      <td>...</td>\n",
       "      <td>23.41</td>\n",
       "      <td>158.80</td>\n",
       "      <td>1956.0</td>\n",
       "      <td>0.1238</td>\n",
       "      <td>0.1866</td>\n",
       "      <td>0.2416</td>\n",
       "      <td>0.1860</td>\n",
       "      <td>0.2750</td>\n",
       "      <td>0.08902</td>\n",
       "      <td>NaN</td>\n",
       "    </tr>\n",
       "    <tr>\n",
       "      <th>2</th>\n",
       "      <td>84300903</td>\n",
       "      <td>M</td>\n",
       "      <td>19.69</td>\n",
       "      <td>21.25</td>\n",
       "      <td>130.00</td>\n",
       "      <td>1203.0</td>\n",
       "      <td>0.10960</td>\n",
       "      <td>0.15990</td>\n",
       "      <td>0.1974</td>\n",
       "      <td>0.12790</td>\n",
       "      <td>...</td>\n",
       "      <td>25.53</td>\n",
       "      <td>152.50</td>\n",
       "      <td>1709.0</td>\n",
       "      <td>0.1444</td>\n",
       "      <td>0.4245</td>\n",
       "      <td>0.4504</td>\n",
       "      <td>0.2430</td>\n",
       "      <td>0.3613</td>\n",
       "      <td>0.08758</td>\n",
       "      <td>NaN</td>\n",
       "    </tr>\n",
       "    <tr>\n",
       "      <th>3</th>\n",
       "      <td>84348301</td>\n",
       "      <td>M</td>\n",
       "      <td>11.42</td>\n",
       "      <td>20.38</td>\n",
       "      <td>77.58</td>\n",
       "      <td>386.1</td>\n",
       "      <td>0.14250</td>\n",
       "      <td>0.28390</td>\n",
       "      <td>0.2414</td>\n",
       "      <td>0.10520</td>\n",
       "      <td>...</td>\n",
       "      <td>26.50</td>\n",
       "      <td>98.87</td>\n",
       "      <td>567.7</td>\n",
       "      <td>0.2098</td>\n",
       "      <td>0.8663</td>\n",
       "      <td>0.6869</td>\n",
       "      <td>0.2575</td>\n",
       "      <td>0.6638</td>\n",
       "      <td>0.17300</td>\n",
       "      <td>NaN</td>\n",
       "    </tr>\n",
       "    <tr>\n",
       "      <th>4</th>\n",
       "      <td>84358402</td>\n",
       "      <td>M</td>\n",
       "      <td>20.29</td>\n",
       "      <td>14.34</td>\n",
       "      <td>135.10</td>\n",
       "      <td>1297.0</td>\n",
       "      <td>0.10030</td>\n",
       "      <td>0.13280</td>\n",
       "      <td>0.1980</td>\n",
       "      <td>0.10430</td>\n",
       "      <td>...</td>\n",
       "      <td>16.67</td>\n",
       "      <td>152.20</td>\n",
       "      <td>1575.0</td>\n",
       "      <td>0.1374</td>\n",
       "      <td>0.2050</td>\n",
       "      <td>0.4000</td>\n",
       "      <td>0.1625</td>\n",
       "      <td>0.2364</td>\n",
       "      <td>0.07678</td>\n",
       "      <td>NaN</td>\n",
       "    </tr>\n",
       "  </tbody>\n",
       "</table>\n",
       "<p>5 rows × 33 columns</p>\n",
       "</div>"
      ],
      "text/plain": [
       "         id diagnosis  radius_mean  texture_mean  perimeter_mean  area_mean  \\\n",
       "0    842302         M        17.99         10.38          122.80     1001.0   \n",
       "1    842517         M        20.57         17.77          132.90     1326.0   \n",
       "2  84300903         M        19.69         21.25          130.00     1203.0   \n",
       "3  84348301         M        11.42         20.38           77.58      386.1   \n",
       "4  84358402         M        20.29         14.34          135.10     1297.0   \n",
       "\n",
       "   smoothness_mean  compactness_mean  concavity_mean  concave points_mean  \\\n",
       "0          0.11840           0.27760          0.3001              0.14710   \n",
       "1          0.08474           0.07864          0.0869              0.07017   \n",
       "2          0.10960           0.15990          0.1974              0.12790   \n",
       "3          0.14250           0.28390          0.2414              0.10520   \n",
       "4          0.10030           0.13280          0.1980              0.10430   \n",
       "\n",
       "   ...  texture_worst  perimeter_worst  area_worst  smoothness_worst  \\\n",
       "0  ...          17.33           184.60      2019.0            0.1622   \n",
       "1  ...          23.41           158.80      1956.0            0.1238   \n",
       "2  ...          25.53           152.50      1709.0            0.1444   \n",
       "3  ...          26.50            98.87       567.7            0.2098   \n",
       "4  ...          16.67           152.20      1575.0            0.1374   \n",
       "\n",
       "   compactness_worst  concavity_worst  concave points_worst  symmetry_worst  \\\n",
       "0             0.6656           0.7119                0.2654          0.4601   \n",
       "1             0.1866           0.2416                0.1860          0.2750   \n",
       "2             0.4245           0.4504                0.2430          0.3613   \n",
       "3             0.8663           0.6869                0.2575          0.6638   \n",
       "4             0.2050           0.4000                0.1625          0.2364   \n",
       "\n",
       "   fractal_dimension_worst  Unnamed: 32  \n",
       "0                  0.11890          NaN  \n",
       "1                  0.08902          NaN  \n",
       "2                  0.08758          NaN  \n",
       "3                  0.17300          NaN  \n",
       "4                  0.07678          NaN  \n",
       "\n",
       "[5 rows x 33 columns]"
      ]
     },
     "execution_count": 4,
     "metadata": {},
     "output_type": "execute_result"
    }
   ],
   "source": [
    "data.head(5) #apresenta uma amostra do banco de dados"
   ]
  },
  {
   "cell_type": "markdown",
   "metadata": {
    "id": "rvSrpjFUFuBl"
   },
   "source": [
    "# **Conhecendo os Dados**"
   ]
  },
  {
   "cell_type": "code",
   "execution_count": 5,
   "metadata": {
    "colab": {
     "base_uri": "https://localhost:8080/"
    },
    "executionInfo": {
     "elapsed": 1062,
     "status": "ok",
     "timestamp": 1621191434700,
     "user": {
      "displayName": "Tulio Philipe",
      "photoUrl": "https://lh3.googleusercontent.com/a-/AOh14GiC2kqFihAn3Ile03oz-6rO8qVjEHv1DhGQ0ngQ5g=s64",
      "userId": "06907869093485551957"
     },
     "user_tz": 180
    },
    "id": "P_5-IXG2ExiU",
    "outputId": "7b08bae5-ffa9-4707-e116-7ca5de92f724"
   },
   "outputs": [
    {
     "name": "stdout",
     "output_type": "stream",
     "text": [
      "<class 'pandas.core.frame.DataFrame'>\n",
      "RangeIndex: 569 entries, 0 to 568\n",
      "Data columns (total 33 columns):\n",
      " #   Column                   Non-Null Count  Dtype  \n",
      "---  ------                   --------------  -----  \n",
      " 0   id                       569 non-null    int64  \n",
      " 1   diagnosis                569 non-null    object \n",
      " 2   radius_mean              569 non-null    float64\n",
      " 3   texture_mean             569 non-null    float64\n",
      " 4   perimeter_mean           569 non-null    float64\n",
      " 5   area_mean                569 non-null    float64\n",
      " 6   smoothness_mean          569 non-null    float64\n",
      " 7   compactness_mean         569 non-null    float64\n",
      " 8   concavity_mean           569 non-null    float64\n",
      " 9   concave points_mean      569 non-null    float64\n",
      " 10  symmetry_mean            569 non-null    float64\n",
      " 11  fractal_dimension_mean   569 non-null    float64\n",
      " 12  radius_se                569 non-null    float64\n",
      " 13  texture_se               569 non-null    float64\n",
      " 14  perimeter_se             569 non-null    float64\n",
      " 15  area_se                  569 non-null    float64\n",
      " 16  smoothness_se            569 non-null    float64\n",
      " 17  compactness_se           569 non-null    float64\n",
      " 18  concavity_se             569 non-null    float64\n",
      " 19  concave points_se        569 non-null    float64\n",
      " 20  symmetry_se              569 non-null    float64\n",
      " 21  fractal_dimension_se     569 non-null    float64\n",
      " 22  radius_worst             569 non-null    float64\n",
      " 23  texture_worst            569 non-null    float64\n",
      " 24  perimeter_worst          569 non-null    float64\n",
      " 25  area_worst               569 non-null    float64\n",
      " 26  smoothness_worst         569 non-null    float64\n",
      " 27  compactness_worst        569 non-null    float64\n",
      " 28  concavity_worst          569 non-null    float64\n",
      " 29  concave points_worst     569 non-null    float64\n",
      " 30  symmetry_worst           569 non-null    float64\n",
      " 31  fractal_dimension_worst  569 non-null    float64\n",
      " 32  Unnamed: 32              0 non-null      float64\n",
      "dtypes: float64(31), int64(1), object(1)\n",
      "memory usage: 146.8+ KB\n"
     ]
    }
   ],
   "source": [
    "#conhecendo o banco de dados\n",
    "data.info()"
   ]
  },
  {
   "cell_type": "code",
   "execution_count": 6,
   "metadata": {
    "colab": {
     "base_uri": "https://localhost:8080/",
     "height": 334
    },
    "executionInfo": {
     "elapsed": 1059,
     "status": "ok",
     "timestamp": 1621191434701,
     "user": {
      "displayName": "Tulio Philipe",
      "photoUrl": "https://lh3.googleusercontent.com/a-/AOh14GiC2kqFihAn3Ile03oz-6rO8qVjEHv1DhGQ0ngQ5g=s64",
      "userId": "06907869093485551957"
     },
     "user_tz": 180
    },
    "id": "xVWA0Di4E62h",
    "outputId": "c266e1a5-73f5-4ddc-e8f9-6e8130e79dab"
   },
   "outputs": [
    {
     "data": {
      "text/html": [
       "<div>\n",
       "<style scoped>\n",
       "    .dataframe tbody tr th:only-of-type {\n",
       "        vertical-align: middle;\n",
       "    }\n",
       "\n",
       "    .dataframe tbody tr th {\n",
       "        vertical-align: top;\n",
       "    }\n",
       "\n",
       "    .dataframe thead th {\n",
       "        text-align: right;\n",
       "    }\n",
       "</style>\n",
       "<table border=\"1\" class=\"dataframe\">\n",
       "  <thead>\n",
       "    <tr style=\"text-align: right;\">\n",
       "      <th></th>\n",
       "      <th>id</th>\n",
       "      <th>radius_mean</th>\n",
       "      <th>texture_mean</th>\n",
       "      <th>perimeter_mean</th>\n",
       "      <th>area_mean</th>\n",
       "      <th>smoothness_mean</th>\n",
       "      <th>compactness_mean</th>\n",
       "      <th>concavity_mean</th>\n",
       "      <th>concave points_mean</th>\n",
       "      <th>symmetry_mean</th>\n",
       "      <th>...</th>\n",
       "      <th>texture_worst</th>\n",
       "      <th>perimeter_worst</th>\n",
       "      <th>area_worst</th>\n",
       "      <th>smoothness_worst</th>\n",
       "      <th>compactness_worst</th>\n",
       "      <th>concavity_worst</th>\n",
       "      <th>concave points_worst</th>\n",
       "      <th>symmetry_worst</th>\n",
       "      <th>fractal_dimension_worst</th>\n",
       "      <th>Unnamed: 32</th>\n",
       "    </tr>\n",
       "  </thead>\n",
       "  <tbody>\n",
       "    <tr>\n",
       "      <th>count</th>\n",
       "      <td>5.690000e+02</td>\n",
       "      <td>569.000000</td>\n",
       "      <td>569.000000</td>\n",
       "      <td>569.000000</td>\n",
       "      <td>569.000000</td>\n",
       "      <td>569.000000</td>\n",
       "      <td>569.000000</td>\n",
       "      <td>569.000000</td>\n",
       "      <td>569.000000</td>\n",
       "      <td>569.000000</td>\n",
       "      <td>...</td>\n",
       "      <td>569.000000</td>\n",
       "      <td>569.000000</td>\n",
       "      <td>569.000000</td>\n",
       "      <td>569.000000</td>\n",
       "      <td>569.000000</td>\n",
       "      <td>569.000000</td>\n",
       "      <td>569.000000</td>\n",
       "      <td>569.000000</td>\n",
       "      <td>569.000000</td>\n",
       "      <td>0.0</td>\n",
       "    </tr>\n",
       "    <tr>\n",
       "      <th>mean</th>\n",
       "      <td>3.037183e+07</td>\n",
       "      <td>14.127292</td>\n",
       "      <td>19.289649</td>\n",
       "      <td>91.969033</td>\n",
       "      <td>654.889104</td>\n",
       "      <td>0.096360</td>\n",
       "      <td>0.104341</td>\n",
       "      <td>0.088799</td>\n",
       "      <td>0.048919</td>\n",
       "      <td>0.181162</td>\n",
       "      <td>...</td>\n",
       "      <td>25.677223</td>\n",
       "      <td>107.261213</td>\n",
       "      <td>880.583128</td>\n",
       "      <td>0.132369</td>\n",
       "      <td>0.254265</td>\n",
       "      <td>0.272188</td>\n",
       "      <td>0.114606</td>\n",
       "      <td>0.290076</td>\n",
       "      <td>0.083946</td>\n",
       "      <td>NaN</td>\n",
       "    </tr>\n",
       "    <tr>\n",
       "      <th>std</th>\n",
       "      <td>1.250206e+08</td>\n",
       "      <td>3.524049</td>\n",
       "      <td>4.301036</td>\n",
       "      <td>24.298981</td>\n",
       "      <td>351.914129</td>\n",
       "      <td>0.014064</td>\n",
       "      <td>0.052813</td>\n",
       "      <td>0.079720</td>\n",
       "      <td>0.038803</td>\n",
       "      <td>0.027414</td>\n",
       "      <td>...</td>\n",
       "      <td>6.146258</td>\n",
       "      <td>33.602542</td>\n",
       "      <td>569.356993</td>\n",
       "      <td>0.022832</td>\n",
       "      <td>0.157336</td>\n",
       "      <td>0.208624</td>\n",
       "      <td>0.065732</td>\n",
       "      <td>0.061867</td>\n",
       "      <td>0.018061</td>\n",
       "      <td>NaN</td>\n",
       "    </tr>\n",
       "    <tr>\n",
       "      <th>min</th>\n",
       "      <td>8.670000e+03</td>\n",
       "      <td>6.981000</td>\n",
       "      <td>9.710000</td>\n",
       "      <td>43.790000</td>\n",
       "      <td>143.500000</td>\n",
       "      <td>0.052630</td>\n",
       "      <td>0.019380</td>\n",
       "      <td>0.000000</td>\n",
       "      <td>0.000000</td>\n",
       "      <td>0.106000</td>\n",
       "      <td>...</td>\n",
       "      <td>12.020000</td>\n",
       "      <td>50.410000</td>\n",
       "      <td>185.200000</td>\n",
       "      <td>0.071170</td>\n",
       "      <td>0.027290</td>\n",
       "      <td>0.000000</td>\n",
       "      <td>0.000000</td>\n",
       "      <td>0.156500</td>\n",
       "      <td>0.055040</td>\n",
       "      <td>NaN</td>\n",
       "    </tr>\n",
       "    <tr>\n",
       "      <th>25%</th>\n",
       "      <td>8.692180e+05</td>\n",
       "      <td>11.700000</td>\n",
       "      <td>16.170000</td>\n",
       "      <td>75.170000</td>\n",
       "      <td>420.300000</td>\n",
       "      <td>0.086370</td>\n",
       "      <td>0.064920</td>\n",
       "      <td>0.029560</td>\n",
       "      <td>0.020310</td>\n",
       "      <td>0.161900</td>\n",
       "      <td>...</td>\n",
       "      <td>21.080000</td>\n",
       "      <td>84.110000</td>\n",
       "      <td>515.300000</td>\n",
       "      <td>0.116600</td>\n",
       "      <td>0.147200</td>\n",
       "      <td>0.114500</td>\n",
       "      <td>0.064930</td>\n",
       "      <td>0.250400</td>\n",
       "      <td>0.071460</td>\n",
       "      <td>NaN</td>\n",
       "    </tr>\n",
       "    <tr>\n",
       "      <th>50%</th>\n",
       "      <td>9.060240e+05</td>\n",
       "      <td>13.370000</td>\n",
       "      <td>18.840000</td>\n",
       "      <td>86.240000</td>\n",
       "      <td>551.100000</td>\n",
       "      <td>0.095870</td>\n",
       "      <td>0.092630</td>\n",
       "      <td>0.061540</td>\n",
       "      <td>0.033500</td>\n",
       "      <td>0.179200</td>\n",
       "      <td>...</td>\n",
       "      <td>25.410000</td>\n",
       "      <td>97.660000</td>\n",
       "      <td>686.500000</td>\n",
       "      <td>0.131300</td>\n",
       "      <td>0.211900</td>\n",
       "      <td>0.226700</td>\n",
       "      <td>0.099930</td>\n",
       "      <td>0.282200</td>\n",
       "      <td>0.080040</td>\n",
       "      <td>NaN</td>\n",
       "    </tr>\n",
       "    <tr>\n",
       "      <th>75%</th>\n",
       "      <td>8.813129e+06</td>\n",
       "      <td>15.780000</td>\n",
       "      <td>21.800000</td>\n",
       "      <td>104.100000</td>\n",
       "      <td>782.700000</td>\n",
       "      <td>0.105300</td>\n",
       "      <td>0.130400</td>\n",
       "      <td>0.130700</td>\n",
       "      <td>0.074000</td>\n",
       "      <td>0.195700</td>\n",
       "      <td>...</td>\n",
       "      <td>29.720000</td>\n",
       "      <td>125.400000</td>\n",
       "      <td>1084.000000</td>\n",
       "      <td>0.146000</td>\n",
       "      <td>0.339100</td>\n",
       "      <td>0.382900</td>\n",
       "      <td>0.161400</td>\n",
       "      <td>0.317900</td>\n",
       "      <td>0.092080</td>\n",
       "      <td>NaN</td>\n",
       "    </tr>\n",
       "    <tr>\n",
       "      <th>max</th>\n",
       "      <td>9.113205e+08</td>\n",
       "      <td>28.110000</td>\n",
       "      <td>39.280000</td>\n",
       "      <td>188.500000</td>\n",
       "      <td>2501.000000</td>\n",
       "      <td>0.163400</td>\n",
       "      <td>0.345400</td>\n",
       "      <td>0.426800</td>\n",
       "      <td>0.201200</td>\n",
       "      <td>0.304000</td>\n",
       "      <td>...</td>\n",
       "      <td>49.540000</td>\n",
       "      <td>251.200000</td>\n",
       "      <td>4254.000000</td>\n",
       "      <td>0.222600</td>\n",
       "      <td>1.058000</td>\n",
       "      <td>1.252000</td>\n",
       "      <td>0.291000</td>\n",
       "      <td>0.663800</td>\n",
       "      <td>0.207500</td>\n",
       "      <td>NaN</td>\n",
       "    </tr>\n",
       "  </tbody>\n",
       "</table>\n",
       "<p>8 rows × 32 columns</p>\n",
       "</div>"
      ],
      "text/plain": [
       "                 id  radius_mean  texture_mean  perimeter_mean    area_mean  \\\n",
       "count  5.690000e+02   569.000000    569.000000      569.000000   569.000000   \n",
       "mean   3.037183e+07    14.127292     19.289649       91.969033   654.889104   \n",
       "std    1.250206e+08     3.524049      4.301036       24.298981   351.914129   \n",
       "min    8.670000e+03     6.981000      9.710000       43.790000   143.500000   \n",
       "25%    8.692180e+05    11.700000     16.170000       75.170000   420.300000   \n",
       "50%    9.060240e+05    13.370000     18.840000       86.240000   551.100000   \n",
       "75%    8.813129e+06    15.780000     21.800000      104.100000   782.700000   \n",
       "max    9.113205e+08    28.110000     39.280000      188.500000  2501.000000   \n",
       "\n",
       "       smoothness_mean  compactness_mean  concavity_mean  concave points_mean  \\\n",
       "count       569.000000        569.000000      569.000000           569.000000   \n",
       "mean          0.096360          0.104341        0.088799             0.048919   \n",
       "std           0.014064          0.052813        0.079720             0.038803   \n",
       "min           0.052630          0.019380        0.000000             0.000000   \n",
       "25%           0.086370          0.064920        0.029560             0.020310   \n",
       "50%           0.095870          0.092630        0.061540             0.033500   \n",
       "75%           0.105300          0.130400        0.130700             0.074000   \n",
       "max           0.163400          0.345400        0.426800             0.201200   \n",
       "\n",
       "       symmetry_mean  ...  texture_worst  perimeter_worst   area_worst  \\\n",
       "count     569.000000  ...     569.000000       569.000000   569.000000   \n",
       "mean        0.181162  ...      25.677223       107.261213   880.583128   \n",
       "std         0.027414  ...       6.146258        33.602542   569.356993   \n",
       "min         0.106000  ...      12.020000        50.410000   185.200000   \n",
       "25%         0.161900  ...      21.080000        84.110000   515.300000   \n",
       "50%         0.179200  ...      25.410000        97.660000   686.500000   \n",
       "75%         0.195700  ...      29.720000       125.400000  1084.000000   \n",
       "max         0.304000  ...      49.540000       251.200000  4254.000000   \n",
       "\n",
       "       smoothness_worst  compactness_worst  concavity_worst  \\\n",
       "count        569.000000         569.000000       569.000000   \n",
       "mean           0.132369           0.254265         0.272188   \n",
       "std            0.022832           0.157336         0.208624   \n",
       "min            0.071170           0.027290         0.000000   \n",
       "25%            0.116600           0.147200         0.114500   \n",
       "50%            0.131300           0.211900         0.226700   \n",
       "75%            0.146000           0.339100         0.382900   \n",
       "max            0.222600           1.058000         1.252000   \n",
       "\n",
       "       concave points_worst  symmetry_worst  fractal_dimension_worst  \\\n",
       "count            569.000000      569.000000               569.000000   \n",
       "mean               0.114606        0.290076                 0.083946   \n",
       "std                0.065732        0.061867                 0.018061   \n",
       "min                0.000000        0.156500                 0.055040   \n",
       "25%                0.064930        0.250400                 0.071460   \n",
       "50%                0.099930        0.282200                 0.080040   \n",
       "75%                0.161400        0.317900                 0.092080   \n",
       "max                0.291000        0.663800                 0.207500   \n",
       "\n",
       "       Unnamed: 32  \n",
       "count          0.0  \n",
       "mean           NaN  \n",
       "std            NaN  \n",
       "min            NaN  \n",
       "25%            NaN  \n",
       "50%            NaN  \n",
       "75%            NaN  \n",
       "max            NaN  \n",
       "\n",
       "[8 rows x 32 columns]"
      ]
     },
     "execution_count": 6,
     "metadata": {},
     "output_type": "execute_result"
    }
   ],
   "source": [
    "#Conhecendo o banco de dados\n",
    "data.describe()"
   ]
  },
  {
   "cell_type": "code",
   "execution_count": 7,
   "metadata": {
    "colab": {
     "base_uri": "https://localhost:8080/"
    },
    "executionInfo": {
     "elapsed": 1055,
     "status": "ok",
     "timestamp": 1621191434701,
     "user": {
      "displayName": "Tulio Philipe",
      "photoUrl": "https://lh3.googleusercontent.com/a-/AOh14GiC2kqFihAn3Ile03oz-6rO8qVjEHv1DhGQ0ngQ5g=s64",
      "userId": "06907869093485551957"
     },
     "user_tz": 180
    },
    "id": "11TK4u7uH6Tn",
    "outputId": "ab89886a-a0ca-405e-cdf5-20f0b29fbd0c"
   },
   "outputs": [
    {
     "data": {
      "text/plain": [
       "Index(['id', 'diagnosis', 'radius_mean', 'texture_mean', 'perimeter_mean',\n",
       "       'area_mean', 'smoothness_mean', 'compactness_mean', 'concavity_mean',\n",
       "       'concave points_mean', 'symmetry_mean', 'fractal_dimension_mean',\n",
       "       'radius_se', 'texture_se', 'perimeter_se', 'area_se', 'smoothness_se',\n",
       "       'compactness_se', 'concavity_se', 'concave points_se', 'symmetry_se',\n",
       "       'fractal_dimension_se', 'radius_worst', 'texture_worst',\n",
       "       'perimeter_worst', 'area_worst', 'smoothness_worst',\n",
       "       'compactness_worst', 'concavity_worst', 'concave points_worst',\n",
       "       'symmetry_worst', 'fractal_dimension_worst', 'Unnamed: 32'],\n",
       "      dtype='object')"
      ]
     },
     "execution_count": 7,
     "metadata": {},
     "output_type": "execute_result"
    }
   ],
   "source": [
    "data.columns  #verificando os nomes das colunas do dataframe"
   ]
  },
  {
   "cell_type": "code",
   "execution_count": 8,
   "metadata": {
    "colab": {
     "base_uri": "https://localhost:8080/"
    },
    "executionInfo": {
     "elapsed": 1406,
     "status": "ok",
     "timestamp": 1621191435056,
     "user": {
      "displayName": "Tulio Philipe",
      "photoUrl": "https://lh3.googleusercontent.com/a-/AOh14GiC2kqFihAn3Ile03oz-6rO8qVjEHv1DhGQ0ngQ5g=s64",
      "userId": "06907869093485551957"
     },
     "user_tz": 180
    },
    "id": "jTFSvqlCh0tL",
    "outputId": "2480e3f5-5c36-47bf-8048-e1a59373fd2e"
   },
   "outputs": [
    {
     "data": {
      "text/plain": [
       "B    357\n",
       "M    212\n",
       "Name: diagnosis, dtype: int64"
      ]
     },
     "execution_count": 8,
     "metadata": {},
     "output_type": "execute_result"
    }
   ],
   "source": [
    "data.diagnosis.value_counts()"
   ]
  },
  {
   "cell_type": "code",
   "execution_count": 9,
   "metadata": {
    "executionInfo": {
     "elapsed": 1402,
     "status": "ok",
     "timestamp": 1621191435057,
     "user": {
      "displayName": "Tulio Philipe",
      "photoUrl": "https://lh3.googleusercontent.com/a-/AOh14GiC2kqFihAn3Ile03oz-6rO8qVjEHv1DhGQ0ngQ5g=s64",
      "userId": "06907869093485551957"
     },
     "user_tz": 180
    },
    "id": "y5KESEaVIPS2"
   },
   "outputs": [],
   "source": [
    "data_new=data[['radius_mean', 'texture_mean', 'perimeter_mean',\n",
    "       'area_mean', 'smoothness_mean', 'compactness_mean', 'concavity_mean']] #selecionando algumas colunas do dataframe"
   ]
  },
  {
   "cell_type": "code",
   "execution_count": 10,
   "metadata": {
    "colab": {
     "base_uri": "https://localhost:8080/",
     "height": 187
    },
    "executionInfo": {
     "elapsed": 1399,
     "status": "ok",
     "timestamp": 1621191435057,
     "user": {
      "displayName": "Tulio Philipe",
      "photoUrl": "https://lh3.googleusercontent.com/a-/AOh14GiC2kqFihAn3Ile03oz-6rO8qVjEHv1DhGQ0ngQ5g=s64",
      "userId": "06907869093485551957"
     },
     "user_tz": 180
    },
    "id": "qgBEvX5dFkS6",
    "outputId": "39e259d9-623c-49a6-e726-31f18f205361"
   },
   "outputs": [
    {
     "data": {
      "text/html": [
       "<style type=\"text/css\">\n",
       "#T_a38b8_row0_col0, #T_a38b8_row0_col2, #T_a38b8_row1_col1, #T_a38b8_row2_col0, #T_a38b8_row2_col2, #T_a38b8_row3_col3, #T_a38b8_row4_col4, #T_a38b8_row5_col5, #T_a38b8_row6_col6 {\n",
       "  background-color: #b40426;\n",
       "  color: #f1f1f1;\n",
       "}\n",
       "#T_a38b8_row0_col1 {\n",
       "  background-color: #7699f6;\n",
       "  color: #f1f1f1;\n",
       "}\n",
       "#T_a38b8_row0_col3, #T_a38b8_row3_col0 {\n",
       "  background-color: #b8122a;\n",
       "  color: #f1f1f1;\n",
       "}\n",
       "#T_a38b8_row0_col4, #T_a38b8_row1_col4, #T_a38b8_row2_col4, #T_a38b8_row3_col4, #T_a38b8_row4_col1, #T_a38b8_row5_col1, #T_a38b8_row6_col1 {\n",
       "  background-color: #3b4cc0;\n",
       "  color: #f1f1f1;\n",
       "}\n",
       "#T_a38b8_row0_col5 {\n",
       "  background-color: #c1d4f4;\n",
       "  color: #000000;\n",
       "}\n",
       "#T_a38b8_row0_col6 {\n",
       "  background-color: #f3c8b2;\n",
       "  color: #000000;\n",
       "}\n",
       "#T_a38b8_row1_col0, #T_a38b8_row1_col3 {\n",
       "  background-color: #abc8fd;\n",
       "  color: #000000;\n",
       "}\n",
       "#T_a38b8_row1_col2 {\n",
       "  background-color: #aec9fc;\n",
       "  color: #000000;\n",
       "}\n",
       "#T_a38b8_row1_col5 {\n",
       "  background-color: #8fb1fe;\n",
       "  color: #000000;\n",
       "}\n",
       "#T_a38b8_row1_col6 {\n",
       "  background-color: #a5c3fe;\n",
       "  color: #000000;\n",
       "}\n",
       "#T_a38b8_row2_col1 {\n",
       "  background-color: #6b8df0;\n",
       "  color: #f1f1f1;\n",
       "}\n",
       "#T_a38b8_row2_col3, #T_a38b8_row3_col2 {\n",
       "  background-color: #ba162b;\n",
       "  color: #f1f1f1;\n",
       "}\n",
       "#T_a38b8_row2_col5 {\n",
       "  background-color: #ccd9ed;\n",
       "  color: #000000;\n",
       "}\n",
       "#T_a38b8_row2_col6 {\n",
       "  background-color: #f6bfa6;\n",
       "  color: #000000;\n",
       "}\n",
       "#T_a38b8_row3_col1 {\n",
       "  background-color: #7295f4;\n",
       "  color: #f1f1f1;\n",
       "}\n",
       "#T_a38b8_row3_col5 {\n",
       "  background-color: #bed2f6;\n",
       "  color: #000000;\n",
       "}\n",
       "#T_a38b8_row3_col6 {\n",
       "  background-color: #f4c6af;\n",
       "  color: #000000;\n",
       "}\n",
       "#T_a38b8_row4_col0 {\n",
       "  background-color: #779af7;\n",
       "  color: #f1f1f1;\n",
       "}\n",
       "#T_a38b8_row4_col2 {\n",
       "  background-color: #84a7fc;\n",
       "  color: #f1f1f1;\n",
       "}\n",
       "#T_a38b8_row4_col3 {\n",
       "  background-color: #7a9df8;\n",
       "  color: #f1f1f1;\n",
       "}\n",
       "#T_a38b8_row4_col5 {\n",
       "  background-color: #f7b89c;\n",
       "  color: #000000;\n",
       "}\n",
       "#T_a38b8_row4_col6 {\n",
       "  background-color: #e5d8d1;\n",
       "  color: #000000;\n",
       "}\n",
       "#T_a38b8_row5_col0 {\n",
       "  background-color: #b1cbfc;\n",
       "  color: #000000;\n",
       "}\n",
       "#T_a38b8_row5_col2 {\n",
       "  background-color: #c6d6f1;\n",
       "  color: #000000;\n",
       "}\n",
       "#T_a38b8_row5_col3 {\n",
       "  background-color: #adc9fd;\n",
       "  color: #000000;\n",
       "}\n",
       "#T_a38b8_row5_col4 {\n",
       "  background-color: #ead5c9;\n",
       "  color: #000000;\n",
       "}\n",
       "#T_a38b8_row5_col6 {\n",
       "  background-color: #e46e56;\n",
       "  color: #f1f1f1;\n",
       "}\n",
       "#T_a38b8_row6_col0 {\n",
       "  background-color: #e6d7cf;\n",
       "  color: #000000;\n",
       "}\n",
       "#T_a38b8_row6_col2 {\n",
       "  background-color: #f1cdba;\n",
       "  color: #000000;\n",
       "}\n",
       "#T_a38b8_row6_col3 {\n",
       "  background-color: #e9d5cb;\n",
       "  color: #000000;\n",
       "}\n",
       "#T_a38b8_row6_col4 {\n",
       "  background-color: #a3c2fe;\n",
       "  color: #000000;\n",
       "}\n",
       "#T_a38b8_row6_col5 {\n",
       "  background-color: #e7745b;\n",
       "  color: #f1f1f1;\n",
       "}\n",
       "</style>\n",
       "<table id=\"T_a38b8_\">\n",
       "  <thead>\n",
       "    <tr>\n",
       "      <th class=\"blank level0\" >&nbsp;</th>\n",
       "      <th class=\"col_heading level0 col0\" >radius_mean</th>\n",
       "      <th class=\"col_heading level0 col1\" >texture_mean</th>\n",
       "      <th class=\"col_heading level0 col2\" >perimeter_mean</th>\n",
       "      <th class=\"col_heading level0 col3\" >area_mean</th>\n",
       "      <th class=\"col_heading level0 col4\" >smoothness_mean</th>\n",
       "      <th class=\"col_heading level0 col5\" >compactness_mean</th>\n",
       "      <th class=\"col_heading level0 col6\" >concavity_mean</th>\n",
       "    </tr>\n",
       "  </thead>\n",
       "  <tbody>\n",
       "    <tr>\n",
       "      <th id=\"T_a38b8_level0_row0\" class=\"row_heading level0 row0\" >radius_mean</th>\n",
       "      <td id=\"T_a38b8_row0_col0\" class=\"data row0 col0\" >1.0</td>\n",
       "      <td id=\"T_a38b8_row0_col1\" class=\"data row0 col1\" >0.32</td>\n",
       "      <td id=\"T_a38b8_row0_col2\" class=\"data row0 col2\" >1.0</td>\n",
       "      <td id=\"T_a38b8_row0_col3\" class=\"data row0 col3\" >0.99</td>\n",
       "      <td id=\"T_a38b8_row0_col4\" class=\"data row0 col4\" >0.17</td>\n",
       "      <td id=\"T_a38b8_row0_col5\" class=\"data row0 col5\" >0.51</td>\n",
       "      <td id=\"T_a38b8_row0_col6\" class=\"data row0 col6\" >0.68</td>\n",
       "    </tr>\n",
       "    <tr>\n",
       "      <th id=\"T_a38b8_level0_row1\" class=\"row_heading level0 row1\" >texture_mean</th>\n",
       "      <td id=\"T_a38b8_row1_col0\" class=\"data row1 col0\" >0.32</td>\n",
       "      <td id=\"T_a38b8_row1_col1\" class=\"data row1 col1\" >1.0</td>\n",
       "      <td id=\"T_a38b8_row1_col2\" class=\"data row1 col2\" >0.33</td>\n",
       "      <td id=\"T_a38b8_row1_col3\" class=\"data row1 col3\" >0.32</td>\n",
       "      <td id=\"T_a38b8_row1_col4\" class=\"data row1 col4\" >-0.023</td>\n",
       "      <td id=\"T_a38b8_row1_col5\" class=\"data row1 col5\" >0.24</td>\n",
       "      <td id=\"T_a38b8_row1_col6\" class=\"data row1 col6\" >0.3</td>\n",
       "    </tr>\n",
       "    <tr>\n",
       "      <th id=\"T_a38b8_level0_row2\" class=\"row_heading level0 row2\" >perimeter_mean</th>\n",
       "      <td id=\"T_a38b8_row2_col0\" class=\"data row2 col0\" >1.0</td>\n",
       "      <td id=\"T_a38b8_row2_col1\" class=\"data row2 col1\" >0.33</td>\n",
       "      <td id=\"T_a38b8_row2_col2\" class=\"data row2 col2\" >1.0</td>\n",
       "      <td id=\"T_a38b8_row2_col3\" class=\"data row2 col3\" >0.99</td>\n",
       "      <td id=\"T_a38b8_row2_col4\" class=\"data row2 col4\" >0.21</td>\n",
       "      <td id=\"T_a38b8_row2_col5\" class=\"data row2 col5\" >0.56</td>\n",
       "      <td id=\"T_a38b8_row2_col6\" class=\"data row2 col6\" >0.72</td>\n",
       "    </tr>\n",
       "    <tr>\n",
       "      <th id=\"T_a38b8_level0_row3\" class=\"row_heading level0 row3\" >area_mean</th>\n",
       "      <td id=\"T_a38b8_row3_col0\" class=\"data row3 col0\" >0.99</td>\n",
       "      <td id=\"T_a38b8_row3_col1\" class=\"data row3 col1\" >0.32</td>\n",
       "      <td id=\"T_a38b8_row3_col2\" class=\"data row3 col2\" >0.99</td>\n",
       "      <td id=\"T_a38b8_row3_col3\" class=\"data row3 col3\" >1.0</td>\n",
       "      <td id=\"T_a38b8_row3_col4\" class=\"data row3 col4\" >0.18</td>\n",
       "      <td id=\"T_a38b8_row3_col5\" class=\"data row3 col5\" >0.5</td>\n",
       "      <td id=\"T_a38b8_row3_col6\" class=\"data row3 col6\" >0.69</td>\n",
       "    </tr>\n",
       "    <tr>\n",
       "      <th id=\"T_a38b8_level0_row4\" class=\"row_heading level0 row4\" >smoothness_mean</th>\n",
       "      <td id=\"T_a38b8_row4_col0\" class=\"data row4 col0\" >0.17</td>\n",
       "      <td id=\"T_a38b8_row4_col1\" class=\"data row4 col1\" >-0.023</td>\n",
       "      <td id=\"T_a38b8_row4_col2\" class=\"data row4 col2\" >0.21</td>\n",
       "      <td id=\"T_a38b8_row4_col3\" class=\"data row4 col3\" >0.18</td>\n",
       "      <td id=\"T_a38b8_row4_col4\" class=\"data row4 col4\" >1.0</td>\n",
       "      <td id=\"T_a38b8_row4_col5\" class=\"data row4 col5\" >0.66</td>\n",
       "      <td id=\"T_a38b8_row4_col6\" class=\"data row4 col6\" >0.52</td>\n",
       "    </tr>\n",
       "    <tr>\n",
       "      <th id=\"T_a38b8_level0_row5\" class=\"row_heading level0 row5\" >compactness_mean</th>\n",
       "      <td id=\"T_a38b8_row5_col0\" class=\"data row5 col0\" >0.51</td>\n",
       "      <td id=\"T_a38b8_row5_col1\" class=\"data row5 col1\" >0.24</td>\n",
       "      <td id=\"T_a38b8_row5_col2\" class=\"data row5 col2\" >0.56</td>\n",
       "      <td id=\"T_a38b8_row5_col3\" class=\"data row5 col3\" >0.5</td>\n",
       "      <td id=\"T_a38b8_row5_col4\" class=\"data row5 col4\" >0.66</td>\n",
       "      <td id=\"T_a38b8_row5_col5\" class=\"data row5 col5\" >1.0</td>\n",
       "      <td id=\"T_a38b8_row5_col6\" class=\"data row5 col6\" >0.88</td>\n",
       "    </tr>\n",
       "    <tr>\n",
       "      <th id=\"T_a38b8_level0_row6\" class=\"row_heading level0 row6\" >concavity_mean</th>\n",
       "      <td id=\"T_a38b8_row6_col0\" class=\"data row6 col0\" >0.68</td>\n",
       "      <td id=\"T_a38b8_row6_col1\" class=\"data row6 col1\" >0.3</td>\n",
       "      <td id=\"T_a38b8_row6_col2\" class=\"data row6 col2\" >0.72</td>\n",
       "      <td id=\"T_a38b8_row6_col3\" class=\"data row6 col3\" >0.69</td>\n",
       "      <td id=\"T_a38b8_row6_col4\" class=\"data row6 col4\" >0.52</td>\n",
       "      <td id=\"T_a38b8_row6_col5\" class=\"data row6 col5\" >0.88</td>\n",
       "      <td id=\"T_a38b8_row6_col6\" class=\"data row6 col6\" >1.0</td>\n",
       "    </tr>\n",
       "  </tbody>\n",
       "</table>\n"
      ],
      "text/plain": [
       "<pandas.io.formats.style.Styler at 0x7f454d3e4fd0>"
      ]
     },
     "execution_count": 10,
     "metadata": {},
     "output_type": "execute_result"
    }
   ],
   "source": [
    "data_new.corr(method='pearson').style.format(\"{:.2}\").background_gradient(cmap=plt.get_cmap('coolwarm'), axis=1)  #verifica a correlação entre os dados\n"
   ]
  },
  {
   "cell_type": "code",
   "execution_count": 11,
   "metadata": {
    "colab": {
     "base_uri": "https://localhost:8080/",
     "height": 271
    },
    "executionInfo": {
     "elapsed": 1996,
     "status": "ok",
     "timestamp": 1621191435658,
     "user": {
      "displayName": "Tulio Philipe",
      "photoUrl": "https://lh3.googleusercontent.com/a-/AOh14GiC2kqFihAn3Ile03oz-6rO8qVjEHv1DhGQ0ngQ5g=s64",
      "userId": "06907869093485551957"
     },
     "user_tz": 180
    },
    "id": "YgNFfOEJJIQA",
    "outputId": "14ade86c-3253-4995-d277-72ab6abf4a80"
   },
   "outputs": [
    {
     "data": {
      "text/plain": [
       "<AxesSubplot:xlabel='radius_mean', ylabel='perimeter_mean'>"
      ]
     },
     "execution_count": 11,
     "metadata": {},
     "output_type": "execute_result"
    },
    {
     "data": {
      "image/png": "[encoded data removed]",
      "text/plain": [
       "<Figure size 432x288 with 2 Axes>"
      ]
     },
     "metadata": {
      "needs_background": "light"
     },
     "output_type": "display_data"
    }
   ],
   "source": [
    "data_new.plot.scatter(x='radius_mean',y='perimeter_mean',c='concavity_mean',colormap='viridis')    #realiza o plot dos gráficos de dispersão"
   ]
  },
  {
   "cell_type": "markdown",
   "metadata": {
    "id": "ZDcp5aQlQHqr"
   },
   "source": [
    "# **Limpando e Pre-processando os Dados**"
   ]
  },
  {
   "cell_type": "code",
   "execution_count": 12,
   "metadata": {
    "executionInfo": {
     "elapsed": 1991,
     "status": "ok",
     "timestamp": 1621191435658,
     "user": {
      "displayName": "Tulio Philipe",
      "photoUrl": "https://lh3.googleusercontent.com/a-/AOh14GiC2kqFihAn3Ile03oz-6rO8qVjEHv1DhGQ0ngQ5g=s64",
      "userId": "06907869093485551957"
     },
     "user_tz": 180
    },
    "id": "-as96ElqQNMj"
   },
   "outputs": [],
   "source": [
    "data = data.drop('id',axis=1)   #retira o id \n",
    "data = data.drop('Unnamed: 32',axis=1) #retira a coluna Unnamed"
   ]
  },
  {
   "cell_type": "code",
   "execution_count": 13,
   "metadata": {
    "executionInfo": {
     "elapsed": 1989,
     "status": "ok",
     "timestamp": 1621191435658,
     "user": {
      "displayName": "Tulio Philipe",
      "photoUrl": "https://lh3.googleusercontent.com/a-/AOh14GiC2kqFihAn3Ile03oz-6rO8qVjEHv1DhGQ0ngQ5g=s64",
      "userId": "06907869093485551957"
     },
     "user_tz": 180
    },
    "id": "mI4UI-YxQY_q"
   },
   "outputs": [],
   "source": [
    "data['diagnosis'] = data['diagnosis'].map({'M':1,'B':0}) # transformando os dados da coluna de diagnóstico (M - 1) e (B - 0)"
   ]
  },
  {
   "cell_type": "code",
   "execution_count": 14,
   "metadata": {
    "executionInfo": {
     "elapsed": 1987,
     "status": "ok",
     "timestamp": 1621191435659,
     "user": {
      "displayName": "Tulio Philipe",
      "photoUrl": "https://lh3.googleusercontent.com/a-/AOh14GiC2kqFihAn3Ile03oz-6rO8qVjEHv1DhGQ0ngQ5g=s64",
      "userId": "06907869093485551957"
     },
     "user_tz": 180
    },
    "id": "AfK7mAgPQsxy"
   },
   "outputs": [],
   "source": [
    "data_n2 = pd.DataFrame(preprocessing.scale(data.iloc[:,1:32]))  # pega as colunas do dataframe (1 a 32) e realiza a normalização dos dados\n",
    "data_n2.columns = list(data.iloc[:,1:32].columns)  #coloca o cabaçalho no \"novo\" dataframe\n",
    "data_n2['diagnosis'] = data['diagnosis'] #coloca os valores para a saída (diagnóstico) no \"novo\" dataframe"
   ]
  },
  {
   "cell_type": "code",
   "execution_count": 15,
   "metadata": {
    "colab": {
     "base_uri": "https://localhost:8080/",
     "height": 241
    },
    "executionInfo": {
     "elapsed": 454,
     "status": "ok",
     "timestamp": 1621193289673,
     "user": {
      "displayName": "Tulio Philipe",
      "photoUrl": "https://lh3.googleusercontent.com/a-/AOh14GiC2kqFihAn3Ile03oz-6rO8qVjEHv1DhGQ0ngQ5g=s64",
      "userId": "06907869093485551957"
     },
     "user_tz": 180
    },
    "id": "ZheDaPThpkpb",
    "outputId": "5f7c3c1a-d688-4c61-bfc9-0e7c8aa87d8b"
   },
   "outputs": [
    {
     "data": {
      "text/html": [
       "<div>\n",
       "<style scoped>\n",
       "    .dataframe tbody tr th:only-of-type {\n",
       "        vertical-align: middle;\n",
       "    }\n",
       "\n",
       "    .dataframe tbody tr th {\n",
       "        vertical-align: top;\n",
       "    }\n",
       "\n",
       "    .dataframe thead th {\n",
       "        text-align: right;\n",
       "    }\n",
       "</style>\n",
       "<table border=\"1\" class=\"dataframe\">\n",
       "  <thead>\n",
       "    <tr style=\"text-align: right;\">\n",
       "      <th></th>\n",
       "      <th>radius_mean</th>\n",
       "      <th>texture_mean</th>\n",
       "      <th>perimeter_mean</th>\n",
       "      <th>area_mean</th>\n",
       "      <th>smoothness_mean</th>\n",
       "      <th>compactness_mean</th>\n",
       "      <th>concavity_mean</th>\n",
       "      <th>concave points_mean</th>\n",
       "      <th>symmetry_mean</th>\n",
       "      <th>fractal_dimension_mean</th>\n",
       "      <th>...</th>\n",
       "      <th>texture_worst</th>\n",
       "      <th>perimeter_worst</th>\n",
       "      <th>area_worst</th>\n",
       "      <th>smoothness_worst</th>\n",
       "      <th>compactness_worst</th>\n",
       "      <th>concavity_worst</th>\n",
       "      <th>concave points_worst</th>\n",
       "      <th>symmetry_worst</th>\n",
       "      <th>fractal_dimension_worst</th>\n",
       "      <th>diagnosis</th>\n",
       "    </tr>\n",
       "  </thead>\n",
       "  <tbody>\n",
       "    <tr>\n",
       "      <th>0</th>\n",
       "      <td>1.097064</td>\n",
       "      <td>-2.073335</td>\n",
       "      <td>1.269934</td>\n",
       "      <td>0.984375</td>\n",
       "      <td>1.568466</td>\n",
       "      <td>3.283515</td>\n",
       "      <td>2.652874</td>\n",
       "      <td>2.532475</td>\n",
       "      <td>2.217515</td>\n",
       "      <td>2.255747</td>\n",
       "      <td>...</td>\n",
       "      <td>-1.359293</td>\n",
       "      <td>2.303601</td>\n",
       "      <td>2.001237</td>\n",
       "      <td>1.307686</td>\n",
       "      <td>2.616665</td>\n",
       "      <td>2.109526</td>\n",
       "      <td>2.296076</td>\n",
       "      <td>2.750622</td>\n",
       "      <td>1.937015</td>\n",
       "      <td>1</td>\n",
       "    </tr>\n",
       "    <tr>\n",
       "      <th>1</th>\n",
       "      <td>1.829821</td>\n",
       "      <td>-0.353632</td>\n",
       "      <td>1.685955</td>\n",
       "      <td>1.908708</td>\n",
       "      <td>-0.826962</td>\n",
       "      <td>-0.487072</td>\n",
       "      <td>-0.023846</td>\n",
       "      <td>0.548144</td>\n",
       "      <td>0.001392</td>\n",
       "      <td>-0.868652</td>\n",
       "      <td>...</td>\n",
       "      <td>-0.369203</td>\n",
       "      <td>1.535126</td>\n",
       "      <td>1.890489</td>\n",
       "      <td>-0.375612</td>\n",
       "      <td>-0.430444</td>\n",
       "      <td>-0.146749</td>\n",
       "      <td>1.087084</td>\n",
       "      <td>-0.243890</td>\n",
       "      <td>0.281190</td>\n",
       "      <td>1</td>\n",
       "    </tr>\n",
       "    <tr>\n",
       "      <th>2</th>\n",
       "      <td>1.579888</td>\n",
       "      <td>0.456187</td>\n",
       "      <td>1.566503</td>\n",
       "      <td>1.558884</td>\n",
       "      <td>0.942210</td>\n",
       "      <td>1.052926</td>\n",
       "      <td>1.363478</td>\n",
       "      <td>2.037231</td>\n",
       "      <td>0.939685</td>\n",
       "      <td>-0.398008</td>\n",
       "      <td>...</td>\n",
       "      <td>-0.023974</td>\n",
       "      <td>1.347475</td>\n",
       "      <td>1.456285</td>\n",
       "      <td>0.527407</td>\n",
       "      <td>1.082932</td>\n",
       "      <td>0.854974</td>\n",
       "      <td>1.955000</td>\n",
       "      <td>1.152255</td>\n",
       "      <td>0.201391</td>\n",
       "      <td>1</td>\n",
       "    </tr>\n",
       "    <tr>\n",
       "      <th>3</th>\n",
       "      <td>-0.768909</td>\n",
       "      <td>0.253732</td>\n",
       "      <td>-0.592687</td>\n",
       "      <td>-0.764464</td>\n",
       "      <td>3.283553</td>\n",
       "      <td>3.402909</td>\n",
       "      <td>1.915897</td>\n",
       "      <td>1.451707</td>\n",
       "      <td>2.867383</td>\n",
       "      <td>4.910919</td>\n",
       "      <td>...</td>\n",
       "      <td>0.133984</td>\n",
       "      <td>-0.249939</td>\n",
       "      <td>-0.550021</td>\n",
       "      <td>3.394275</td>\n",
       "      <td>3.893397</td>\n",
       "      <td>1.989588</td>\n",
       "      <td>2.175786</td>\n",
       "      <td>6.046041</td>\n",
       "      <td>4.935010</td>\n",
       "      <td>1</td>\n",
       "    </tr>\n",
       "    <tr>\n",
       "      <th>4</th>\n",
       "      <td>1.750297</td>\n",
       "      <td>-1.151816</td>\n",
       "      <td>1.776573</td>\n",
       "      <td>1.826229</td>\n",
       "      <td>0.280372</td>\n",
       "      <td>0.539340</td>\n",
       "      <td>1.371011</td>\n",
       "      <td>1.428493</td>\n",
       "      <td>-0.009560</td>\n",
       "      <td>-0.562450</td>\n",
       "      <td>...</td>\n",
       "      <td>-1.466770</td>\n",
       "      <td>1.338539</td>\n",
       "      <td>1.220724</td>\n",
       "      <td>0.220556</td>\n",
       "      <td>-0.313395</td>\n",
       "      <td>0.613179</td>\n",
       "      <td>0.729259</td>\n",
       "      <td>-0.868353</td>\n",
       "      <td>-0.397100</td>\n",
       "      <td>1</td>\n",
       "    </tr>\n",
       "  </tbody>\n",
       "</table>\n",
       "<p>5 rows × 31 columns</p>\n",
       "</div>"
      ],
      "text/plain": [
       "   radius_mean  texture_mean  perimeter_mean  area_mean  smoothness_mean  \\\n",
       "0     1.097064     -2.073335        1.269934   0.984375         1.568466   \n",
       "1     1.829821     -0.353632        1.685955   1.908708        -0.826962   \n",
       "2     1.579888      0.456187        1.566503   1.558884         0.942210   \n",
       "3    -0.768909      0.253732       -0.592687  -0.764464         3.283553   \n",
       "4     1.750297     -1.151816        1.776573   1.826229         0.280372   \n",
       "\n",
       "   compactness_mean  concavity_mean  concave points_mean  symmetry_mean  \\\n",
       "0          3.283515        2.652874             2.532475       2.217515   \n",
       "1         -0.487072       -0.023846             0.548144       0.001392   \n",
       "2          1.052926        1.363478             2.037231       0.939685   \n",
       "3          3.402909        1.915897             1.451707       2.867383   \n",
       "4          0.539340        1.371011             1.428493      -0.009560   \n",
       "\n",
       "   fractal_dimension_mean  ...  texture_worst  perimeter_worst  area_worst  \\\n",
       "0                2.255747  ...      -1.359293         2.303601    2.001237   \n",
       "1               -0.868652  ...      -0.369203         1.535126    1.890489   \n",
       "2               -0.398008  ...      -0.023974         1.347475    1.456285   \n",
       "3                4.910919  ...       0.133984        -0.249939   -0.550021   \n",
       "4               -0.562450  ...      -1.466770         1.338539    1.220724   \n",
       "\n",
       "   smoothness_worst  compactness_worst  concavity_worst  concave points_worst  \\\n",
       "0          1.307686           2.616665         2.109526              2.296076   \n",
       "1         -0.375612          -0.430444        -0.146749              1.087084   \n",
       "2          0.527407           1.082932         0.854974              1.955000   \n",
       "3          3.394275           3.893397         1.989588              2.175786   \n",
       "4          0.220556          -0.313395         0.613179              0.729259   \n",
       "\n",
       "   symmetry_worst  fractal_dimension_worst  diagnosis  \n",
       "0        2.750622                 1.937015          1  \n",
       "1       -0.243890                 0.281190          1  \n",
       "2        1.152255                 0.201391          1  \n",
       "3        6.046041                 4.935010          1  \n",
       "4       -0.868353                -0.397100          1  \n",
       "\n",
       "[5 rows x 31 columns]"
      ]
     },
     "execution_count": 15,
     "metadata": {},
     "output_type": "execute_result"
    }
   ],
   "source": [
    "data_n2.head()"
   ]
  },
  {
   "cell_type": "code",
   "execution_count": 16,
   "metadata": {
    "executionInfo": {
     "elapsed": 747,
     "status": "ok",
     "timestamp": 1621193339046,
     "user": {
      "displayName": "Tulio Philipe",
      "photoUrl": "https://lh3.googleusercontent.com/a-/AOh14GiC2kqFihAn3Ile03oz-6rO8qVjEHv1DhGQ0ngQ5g=s64",
      "userId": "06907869093485551957"
     },
     "user_tz": 180
    },
    "id": "0njS2zpeRWM_"
   },
   "outputs": [],
   "source": [
    "data_out = data_n2.drop('diagnosis',axis=1)  # seleciona os valores para serem utilizados como entrada do dataframe\n",
    "X = data_out.values  # cria o vetor de entrada "
   ]
  },
  {
   "cell_type": "code",
   "execution_count": 17,
   "metadata": {
    "colab": {
     "base_uri": "https://localhost:8080/"
    },
    "executionInfo": {
     "elapsed": 565,
     "status": "ok",
     "timestamp": 1621193345768,
     "user": {
      "displayName": "Tulio Philipe",
      "photoUrl": "https://lh3.googleusercontent.com/a-/AOh14GiC2kqFihAn3Ile03oz-6rO8qVjEHv1DhGQ0ngQ5g=s64",
      "userId": "06907869093485551957"
     },
     "user_tz": 180
    },
    "id": "YS03UBdZpzzq",
    "outputId": "01c5de2a-c12d-4507-bd43-d4f260b9dfa9"
   },
   "outputs": [
    {
     "data": {
      "text/plain": [
       "array([[ 1.09706398, -2.07333501,  1.26993369, ...,  2.29607613,\n",
       "         2.75062224,  1.93701461],\n",
       "       [ 1.82982061, -0.35363241,  1.68595471, ...,  1.0870843 ,\n",
       "        -0.24388967,  0.28118999],\n",
       "       [ 1.57988811,  0.45618695,  1.56650313, ...,  1.95500035,\n",
       "         1.152255  ,  0.20139121],\n",
       "       ...,\n",
       "       [ 0.70228425,  2.0455738 ,  0.67267578, ...,  0.41406869,\n",
       "        -1.10454895, -0.31840916],\n",
       "       [ 1.83834103,  2.33645719,  1.98252415, ...,  2.28998549,\n",
       "         1.91908301,  2.21963528],\n",
       "       [-1.80840125,  1.22179204, -1.81438851, ..., -1.74506282,\n",
       "        -0.04813821, -0.75120669]])"
      ]
     },
     "execution_count": 17,
     "metadata": {},
     "output_type": "execute_result"
    }
   ],
   "source": [
    "X"
   ]
  },
  {
   "cell_type": "markdown",
   "metadata": {
    "id": "edm_YinOR7nO"
   },
   "source": [
    "# **Criando o Modelo de Deep Learning**"
   ]
  },
  {
   "cell_type": "code",
   "execution_count": 20,
   "metadata": {},
   "outputs": [
    {
     "name": "stdout",
     "output_type": "stream",
     "text": [
      "Requirement already satisfied: keras in /home/jlima/anaconda3/lib/python3.8/site-packages (2.4.3)\n",
      "Collecting keras\n",
      "  Downloading keras-2.7.0-py2.py3-none-any.whl (1.3 MB)\n",
      "     |████████████████████████████████| 1.3 MB 4.1 MB/s            \n",
      "\u001b[?25hInstalling collected packages: keras\n",
      "  Attempting uninstall: keras\n",
      "    Found existing installation: Keras 2.4.3\n",
      "    Uninstalling Keras-2.4.3:\n",
      "      Successfully uninstalled Keras-2.4.3\n",
      "Successfully installed keras-2.7.0\n"
     ]
    }
   ],
   "source": [
    "!pip install -U keras"
   ]
  },
  {
   "cell_type": "code",
   "execution_count": 37,
   "metadata": {
    "executionInfo": {
     "elapsed": 1983,
     "status": "ok",
     "timestamp": 1621191435660,
     "user": {
      "displayName": "Tulio Philipe",
      "photoUrl": "https://lh3.googleusercontent.com/a-/AOh14GiC2kqFihAn3Ile03oz-6rO8qVjEHv1DhGQ0ngQ5g=s64",
      "userId": "06907869093485551957"
     },
     "user_tz": 180
    },
    "id": "a7LF0P6nSAsz"
   },
   "outputs": [],
   "source": [
    "import tensorflow as tf\n",
    "import keras"
   ]
  },
  {
   "cell_type": "code",
   "execution_count": 48,
   "metadata": {},
   "outputs": [
    {
     "data": {
      "text/plain": [
       "tensorflow.python.keras.optimizer_v2.gradient_descent.SGD"
      ]
     },
     "execution_count": 48,
     "metadata": {},
     "output_type": "execute_result"
    }
   ],
   "source": [
    "tf.keras.optimizers.SGD"
   ]
  },
  {
   "cell_type": "code",
   "execution_count": 59,
   "metadata": {},
   "outputs": [],
   "source": [
    "from keras.models import Sequential, Model  #utilizada para criar o modelo sequencial da MLP\n",
    "from keras.layers import Dense, Dropout, Input #utilizada para criar as camadas da rede\n",
    "from tensorflow.keras.optimizers import SGD #otimizador utilizado \n",
    "from keras.optimizers import adam_v2"
   ]
  },
  {
   "cell_type": "code",
   "execution_count": 55,
   "metadata": {
    "executionInfo": {
     "elapsed": 1980,
     "status": "ok",
     "timestamp": 1621191435660,
     "user": {
      "displayName": "Tulio Philipe",
      "photoUrl": "https://lh3.googleusercontent.com/a-/AOh14GiC2kqFihAn3Ile03oz-6rO8qVjEHv1DhGQ0ngQ5g=s64",
      "userId": "06907869093485551957"
     },
     "user_tz": 180
    },
    "id": "5SS743lZSVGJ"
   },
   "outputs": [],
   "source": [
    "model = Sequential() #cria o objeto para o modelo sequencial\n",
    "model.add(Dense(128,activation=\"relu\",input_dim = np.shape(X)[1]))  # cria a camada inicial para os dados (deve conter a dimensão dos dados de entrada)\n",
    "model.add(Dropout(0.25))  # adiciona a cada de dropout com 0.25% de neuronios \"dropados\"\n",
    "model.add(Dense(32, activation='relu')) #adiciona a nova camada escodida\n",
    "model.add(Dropout(0.25)) #adiciona o dropout\n",
    "model.add(Dense(32, activation='relu')) #adiciona outra camada escondida\n",
    "model.add(Dense(1, activation='sigmoid')) #adiciona a cadama de saída \n"
   ]
  },
  {
   "cell_type": "code",
   "execution_count": 56,
   "metadata": {
    "colab": {
     "base_uri": "https://localhost:8080/"
    },
    "executionInfo": {
     "elapsed": 1977,
     "status": "ok",
     "timestamp": 1621191435660,
     "user": {
      "displayName": "Tulio Philipe",
      "photoUrl": "https://lh3.googleusercontent.com/a-/AOh14GiC2kqFihAn3Ile03oz-6rO8qVjEHv1DhGQ0ngQ5g=s64",
      "userId": "06907869093485551957"
     },
     "user_tz": 180
    },
    "id": "VV4SdoFJTSiz",
    "outputId": "677a0854-7615-467c-9340-92523be33957"
   },
   "outputs": [
    {
     "name": "stdout",
     "output_type": "stream",
     "text": [
      "Model: \"sequential_1\"\n",
      "_________________________________________________________________\n",
      "Layer (type)                 Output Shape              Param #   \n",
      "=================================================================\n",
      "dense_4 (Dense)              (None, 128)               3968      \n",
      "_________________________________________________________________\n",
      "dropout_2 (Dropout)          (None, 128)               0         \n",
      "_________________________________________________________________\n",
      "dense_5 (Dense)              (None, 32)                4128      \n",
      "_________________________________________________________________\n",
      "dropout_3 (Dropout)          (None, 32)                0         \n",
      "_________________________________________________________________\n",
      "dense_6 (Dense)              (None, 32)                1056      \n",
      "_________________________________________________________________\n",
      "dense_7 (Dense)              (None, 1)                 33        \n",
      "=================================================================\n",
      "Total params: 9,185\n",
      "Trainable params: 9,185\n",
      "Non-trainable params: 0\n",
      "_________________________________________________________________\n"
     ]
    }
   ],
   "source": [
    "model.summary()"
   ]
  },
  {
   "cell_type": "code",
   "execution_count": 62,
   "metadata": {
    "executionInfo": {
     "elapsed": 1974,
     "status": "ok",
     "timestamp": 1621191435661,
     "user": {
      "displayName": "Tulio Philipe",
      "photoUrl": "https://lh3.googleusercontent.com/a-/AOh14GiC2kqFihAn3Ile03oz-6rO8qVjEHv1DhGQ0ngQ5g=s64",
      "userId": "06907869093485551957"
     },
     "user_tz": 180
    },
    "id": "nUwajbcWTGMJ"
   },
   "outputs": [],
   "source": [
    "# sgd = tf.keras.optimizers.SGD(learning_rate=0.01, decay=1e-6, momentum=0.9, nesterov=True)  #indica qual será o otimizador utilizado \n",
    "optimizer = adam_v2.Adam(learning_rate=0.01, decay=1e-6)"
   ]
  },
  {
   "cell_type": "code",
   "execution_count": 63,
   "metadata": {
    "executionInfo": {
     "elapsed": 1971,
     "status": "ok",
     "timestamp": 1621191435661,
     "user": {
      "displayName": "Tulio Philipe",
      "photoUrl": "https://lh3.googleusercontent.com/a-/AOh14GiC2kqFihAn3Ile03oz-6rO8qVjEHv1DhGQ0ngQ5g=s64",
      "userId": "06907869093485551957"
     },
     "user_tz": 180
    },
    "id": "s23Gu5Y2TNyZ"
   },
   "outputs": [],
   "source": [
    "model.compile(loss='binary_crossentropy', optimizer=optimizer, metrics=['accuracy']) #indica qual será a função perda a ser utilizada"
   ]
  },
  {
   "cell_type": "markdown",
   "metadata": {
    "id": "hoxSMDlVTsGB"
   },
   "source": [
    "# **Realiza a Partição dos Dados**"
   ]
  },
  {
   "cell_type": "code",
   "execution_count": 64,
   "metadata": {
    "executionInfo": {
     "elapsed": 1969,
     "status": "ok",
     "timestamp": 1621191435661,
     "user": {
      "displayName": "Tulio Philipe",
      "photoUrl": "https://lh3.googleusercontent.com/a-/AOh14GiC2kqFihAn3Ile03oz-6rO8qVjEHv1DhGQ0ngQ5g=s64",
      "userId": "06907869093485551957"
     },
     "user_tz": 180
    },
    "id": "8NChdQlfTmrh"
   },
   "outputs": [],
   "source": [
    "#divide o conjunto de dados entre treinamento e teste\n",
    "X_train, X_test, y_train, y_test = train_test_split(X, data_n2['diagnosis'], test_size=0.3, random_state=0)"
   ]
  },
  {
   "cell_type": "code",
   "execution_count": 65,
   "metadata": {
    "colab": {
     "base_uri": "https://localhost:8080/"
    },
    "executionInfo": {
     "elapsed": 482,
     "status": "ok",
     "timestamp": 1621191497528,
     "user": {
      "displayName": "Tulio Philipe",
      "photoUrl": "https://lh3.googleusercontent.com/a-/AOh14GiC2kqFihAn3Ile03oz-6rO8qVjEHv1DhGQ0ngQ5g=s64",
      "userId": "06907869093485551957"
     },
     "user_tz": 180
    },
    "id": "KNLWV3wDivHJ",
    "outputId": "6754bc72-ba43-4834-cca8-757f9ca082f2"
   },
   "outputs": [
    {
     "data": {
      "text/plain": [
       "512    1\n",
       "457    0\n",
       "439    0\n",
       "298    0\n",
       "37     0\n",
       "      ..\n",
       "7      1\n",
       "408    1\n",
       "523    0\n",
       "361    0\n",
       "553    0\n",
       "Name: diagnosis, Length: 171, dtype: int64"
      ]
     },
     "execution_count": 65,
     "metadata": {},
     "output_type": "execute_result"
    }
   ],
   "source": [
    "y_test"
   ]
  },
  {
   "cell_type": "markdown",
   "metadata": {
    "id": "WObaiNn2U-Dl"
   },
   "source": [
    "# Realiza o Treinamento do **Modelo**"
   ]
  },
  {
   "cell_type": "code",
   "execution_count": 66,
   "metadata": {
    "colab": {
     "base_uri": "https://localhost:8080/"
    },
    "executionInfo": {
     "elapsed": 10368,
     "status": "ok",
     "timestamp": 1621191444063,
     "user": {
      "displayName": "Tulio Philipe",
      "photoUrl": "https://lh3.googleusercontent.com/a-/AOh14GiC2kqFihAn3Ile03oz-6rO8qVjEHv1DhGQ0ngQ5g=s64",
      "userId": "06907869093485551957"
     },
     "user_tz": 180
    },
    "id": "grFlZVuaU3Hb",
    "outputId": "93d42899-e098-44df-89f0-a4a4a688e8c9"
   },
   "outputs": [
    {
     "name": "stdout",
     "output_type": "stream",
     "text": [
      "Epoch 1/150\n",
      "40/40 [==============================] - 17s 3ms/step - loss: 0.2909 - accuracy: 0.8770\n",
      "Epoch 2/150\n",
      "40/40 [==============================] - 0s 2ms/step - loss: 0.1260 - accuracy: 0.9689\n",
      "Epoch 3/150\n",
      "40/40 [==============================] - 0s 2ms/step - loss: 0.1511 - accuracy: 0.9595\n",
      "Epoch 4/150\n",
      "40/40 [==============================] - 0s 2ms/step - loss: 0.0897 - accuracy: 0.9809\n",
      "Epoch 5/150\n",
      "40/40 [==============================] - 0s 2ms/step - loss: 0.0812 - accuracy: 0.9823\n",
      "Epoch 6/150\n",
      "40/40 [==============================] - 0s 2ms/step - loss: 0.0356 - accuracy: 0.9915\n",
      "Epoch 7/150\n",
      "40/40 [==============================] - 0s 2ms/step - loss: 0.0535 - accuracy: 0.9795\n",
      "Epoch 8/150\n",
      "40/40 [==============================] - 0s 2ms/step - loss: 0.0667 - accuracy: 0.9867\n",
      "Epoch 9/150\n",
      "40/40 [==============================] - 0s 2ms/step - loss: 0.0428 - accuracy: 0.9912\n",
      "Epoch 10/150\n",
      "40/40 [==============================] - 0s 2ms/step - loss: 0.0250 - accuracy: 0.9905\n",
      "Epoch 11/150\n",
      "40/40 [==============================] - 0s 2ms/step - loss: 0.0565 - accuracy: 0.9847\n",
      "Epoch 12/150\n",
      "40/40 [==============================] - 0s 2ms/step - loss: 0.0567 - accuracy: 0.9864\n",
      "Epoch 13/150\n",
      "40/40 [==============================] - 0s 2ms/step - loss: 0.0314 - accuracy: 0.9940\n",
      "Epoch 14/150\n",
      "40/40 [==============================] - 0s 2ms/step - loss: 0.0207 - accuracy: 0.9937\n",
      "Epoch 15/150\n",
      "40/40 [==============================] - 0s 2ms/step - loss: 0.0264 - accuracy: 0.9926\n",
      "Epoch 16/150\n",
      "40/40 [==============================] - 0s 2ms/step - loss: 0.0149 - accuracy: 0.9960\n",
      "Epoch 17/150\n",
      "40/40 [==============================] - 0s 2ms/step - loss: 0.0426 - accuracy: 0.9853\n",
      "Epoch 18/150\n",
      "40/40 [==============================] - 0s 2ms/step - loss: 0.1389 - accuracy: 0.9796\n",
      "Epoch 19/150\n",
      "40/40 [==============================] - 0s 2ms/step - loss: 0.0423 - accuracy: 0.9801\n",
      "Epoch 20/150\n",
      "40/40 [==============================] - 0s 2ms/step - loss: 0.0245 - accuracy: 0.9913\n",
      "Epoch 21/150\n",
      "40/40 [==============================] - 0s 2ms/step - loss: 0.0239 - accuracy: 0.9897\n",
      "Epoch 22/150\n",
      "40/40 [==============================] - 0s 2ms/step - loss: 0.0971 - accuracy: 0.9754\n",
      "Epoch 23/150\n",
      "40/40 [==============================] - 0s 2ms/step - loss: 0.0244 - accuracy: 0.9913\n",
      "Epoch 24/150\n",
      "40/40 [==============================] - 0s 2ms/step - loss: 0.0238 - accuracy: 0.9959\n",
      "Epoch 25/150\n",
      "40/40 [==============================] - 0s 2ms/step - loss: 0.0171 - accuracy: 0.9895\n",
      "Epoch 26/150\n",
      "40/40 [==============================] - 0s 2ms/step - loss: 0.0198 - accuracy: 0.9989\n",
      "Epoch 27/150\n",
      "40/40 [==============================] - 0s 2ms/step - loss: 0.0438 - accuracy: 0.9807\n",
      "Epoch 28/150\n",
      "40/40 [==============================] - 0s 2ms/step - loss: 0.0434 - accuracy: 0.9814\n",
      "Epoch 29/150\n",
      "40/40 [==============================] - 0s 3ms/step - loss: 0.0644 - accuracy: 0.9863\n",
      "Epoch 30/150\n",
      "40/40 [==============================] - ETA: 0s - loss: 0.0172 - accuracy: 0.9839   - 0s 2ms/step - loss: 0.0168 - accuracy: 0.9856\n",
      "Epoch 31/150\n",
      "40/40 [==============================] - 0s 3ms/step - loss: 0.0062 - accuracy: 0.9973\n",
      "Epoch 32/150\n",
      "40/40 [==============================] - 0s 2ms/step - loss: 0.0071 - accuracy: 0.9971\n",
      "Epoch 33/150\n",
      "40/40 [==============================] - 0s 2ms/step - loss: 0.0231 - accuracy: 0.9896\n",
      "Epoch 34/150\n",
      "40/40 [==============================] - 0s 3ms/step - loss: 0.0351 - accuracy: 0.9964\n",
      "Epoch 35/150\n",
      "40/40 [==============================] - 0s 4ms/step - loss: 0.0506 - accuracy: 0.9905\n",
      "Epoch 36/150\n",
      "40/40 [==============================] - 0s 3ms/step - loss: 0.0217 - accuracy: 0.9838\n",
      "Epoch 37/150\n",
      "40/40 [==============================] - 0s 3ms/step - loss: 0.0083 - accuracy: 0.9922\n",
      "Epoch 38/150\n",
      "40/40 [==============================] - 0s 3ms/step - loss: 0.0073 - accuracy: 1.0000\n",
      "Epoch 39/150\n",
      "40/40 [==============================] - 0s 2ms/step - loss: 0.0060 - accuracy: 0.9988\n",
      "Epoch 40/150\n",
      "40/40 [==============================] - 0s 2ms/step - loss: 0.0569 - accuracy: 0.9867\n",
      "Epoch 41/150\n",
      "40/40 [==============================] - 0s 2ms/step - loss: 0.0167 - accuracy: 0.9971\n",
      "Epoch 42/150\n",
      "40/40 [==============================] - 0s 2ms/step - loss: 0.0065 - accuracy: 0.9966\n",
      "Epoch 43/150\n",
      "40/40 [==============================] - 0s 3ms/step - loss: 0.0046 - accuracy: 0.9990\n",
      "Epoch 44/150\n",
      "40/40 [==============================] - 0s 4ms/step - loss: 0.0236 - accuracy: 0.9872\n",
      "Epoch 45/150\n",
      "40/40 [==============================] - 0s 4ms/step - loss: 0.0216 - accuracy: 0.9969\n",
      "Epoch 46/150\n",
      "40/40 [==============================] - 0s 2ms/step - loss: 0.0212 - accuracy: 0.9882\n",
      "Epoch 47/150\n",
      "40/40 [==============================] - 0s 4ms/step - loss: 0.0128 - accuracy: 0.9965\n",
      "Epoch 48/150\n",
      "40/40 [==============================] - 0s 4ms/step - loss: 0.0189 - accuracy: 0.9901\n",
      "Epoch 49/150\n",
      "40/40 [==============================] - 0s 2ms/step - loss: 0.0040 - accuracy: 0.9999\n",
      "Epoch 50/150\n",
      "40/40 [==============================] - 0s 5ms/step - loss: 0.0138 - accuracy: 0.9957\n",
      "Epoch 51/150\n",
      "40/40 [==============================] - 0s 3ms/step - loss: 0.0446 - accuracy: 0.9795\n",
      "Epoch 52/150\n",
      "40/40 [==============================] - 0s 2ms/step - loss: 0.0118 - accuracy: 0.9961\n",
      "Epoch 53/150\n",
      "40/40 [==============================] - 0s 2ms/step - loss: 0.0066 - accuracy: 0.9976\n",
      "Epoch 54/150\n",
      "40/40 [==============================] - 0s 2ms/step - loss: 0.0057 - accuracy: 1.0000\n",
      "Epoch 55/150\n",
      "40/40 [==============================] - 0s 2ms/step - loss: 0.0166 - accuracy: 0.9945\n",
      "Epoch 56/150\n",
      "40/40 [==============================] - 0s 3ms/step - loss: 0.0135 - accuracy: 0.9971\n",
      "Epoch 57/150\n",
      "40/40 [==============================] - 0s 2ms/step - loss: 0.0446 - accuracy: 0.9944\n",
      "Epoch 58/150\n",
      "40/40 [==============================] - 0s 2ms/step - loss: 0.0527 - accuracy: 0.9870\n",
      "Epoch 59/150\n",
      "40/40 [==============================] - 0s 2ms/step - loss: 0.0474 - accuracy: 0.9748\n",
      "Epoch 60/150\n",
      "40/40 [==============================] - 0s 3ms/step - loss: 0.0207 - accuracy: 0.9932\n",
      "Epoch 61/150\n",
      "40/40 [==============================] - 0s 2ms/step - loss: 0.0742 - accuracy: 0.9841\n",
      "Epoch 62/150\n",
      "40/40 [==============================] - 0s 4ms/step - loss: 0.0693 - accuracy: 0.9881\n",
      "Epoch 63/150\n",
      "40/40 [==============================] - 0s 5ms/step - loss: 0.0302 - accuracy: 0.9819\n",
      "Epoch 64/150\n",
      "40/40 [==============================] - 0s 2ms/step - loss: 0.0096 - accuracy: 0.9936\n",
      "Epoch 65/150\n",
      "40/40 [==============================] - 0s 2ms/step - loss: 0.0159 - accuracy: 0.9861\n",
      "Epoch 66/150\n",
      "40/40 [==============================] - 0s 4ms/step - loss: 0.0119 - accuracy: 0.9991\n",
      "Epoch 67/150\n",
      "40/40 [==============================] - 0s 3ms/step - loss: 0.0153 - accuracy: 0.9938\n",
      "Epoch 68/150\n",
      "40/40 [==============================] - 0s 3ms/step - loss: 0.0145 - accuracy: 0.9960\n",
      "Epoch 69/150\n",
      "40/40 [==============================] - 0s 3ms/step - loss: 0.0365 - accuracy: 0.9905\n",
      "Epoch 70/150\n",
      "40/40 [==============================] - 0s 3ms/step - loss: 0.0100 - accuracy: 0.9995\n",
      "Epoch 71/150\n",
      "40/40 [==============================] - 0s 4ms/step - loss: 0.1349 - accuracy: 0.9819\n",
      "Epoch 72/150\n",
      "40/40 [==============================] - 0s 3ms/step - loss: 0.0411 - accuracy: 0.9857\n",
      "Epoch 73/150\n",
      "40/40 [==============================] - 0s 2ms/step - loss: 0.0100 - accuracy: 0.9988\n",
      "Epoch 74/150\n",
      "40/40 [==============================] - 0s 4ms/step - loss: 0.0022 - accuracy: 0.9982\n",
      "Epoch 75/150\n",
      "40/40 [==============================] - 0s 3ms/step - loss: 0.0013 - accuracy: 1.0000\n",
      "Epoch 76/150\n",
      "40/40 [==============================] - 0s 3ms/step - loss: 0.0011 - accuracy: 0.9998\n",
      "Epoch 77/150\n",
      "40/40 [==============================] - 0s 3ms/step - loss: 0.0068 - accuracy: 0.9998\n",
      "Epoch 78/150\n",
      "40/40 [==============================] - 0s 3ms/step - loss: 0.0468 - accuracy: 0.9939\n",
      "Epoch 79/150\n",
      "40/40 [==============================] - 0s 2ms/step - loss: 0.0051 - accuracy: 0.9984\n",
      "Epoch 80/150\n",
      "40/40 [==============================] - 0s 3ms/step - loss: 0.0100 - accuracy: 0.9915\n",
      "Epoch 81/150\n",
      "40/40 [==============================] - 0s 4ms/step - loss: 0.0207 - accuracy: 0.9860\n",
      "Epoch 82/150\n"
     ]
    },
    {
     "name": "stdout",
     "output_type": "stream",
     "text": [
      "40/40 [==============================] - 0s 2ms/step - loss: 0.0254 - accuracy: 0.9939\n",
      "Epoch 83/150\n",
      "40/40 [==============================] - 0s 3ms/step - loss: 0.0057 - accuracy: 1.0000\n",
      "Epoch 84/150\n",
      "40/40 [==============================] - 0s 3ms/step - loss: 0.0023 - accuracy: 1.0000\n",
      "Epoch 85/150\n",
      "40/40 [==============================] - 0s 2ms/step - loss: 0.0223 - accuracy: 0.9983\n",
      "Epoch 86/150\n",
      "40/40 [==============================] - 0s 2ms/step - loss: 0.0448 - accuracy: 0.9918\n",
      "Epoch 87/150\n",
      "40/40 [==============================] - 0s 3ms/step - loss: 0.0068 - accuracy: 0.9955\n",
      "Epoch 88/150\n",
      "40/40 [==============================] - 0s 2ms/step - loss: 0.0037 - accuracy: 0.9984\n",
      "Epoch 89/150\n",
      "40/40 [==============================] - 0s 3ms/step - loss: 0.0049 - accuracy: 1.0000\n",
      "Epoch 90/150\n",
      "40/40 [==============================] - 0s 3ms/step - loss: 0.0108 - accuracy: 0.9966\n",
      "Epoch 91/150\n",
      "40/40 [==============================] - 0s 3ms/step - loss: 0.0074 - accuracy: 0.9932\n",
      "Epoch 92/150\n",
      "40/40 [==============================] - 0s 2ms/step - loss: 0.0051 - accuracy: 0.9994\n",
      "Epoch 93/150\n",
      "40/40 [==============================] - 0s 3ms/step - loss: 0.0149 - accuracy: 0.9946\n",
      "Epoch 94/150\n",
      "40/40 [==============================] - 0s 3ms/step - loss: 0.0044 - accuracy: 1.0000\n",
      "Epoch 95/150\n",
      "40/40 [==============================] - 0s 2ms/step - loss: 3.3655e-04 - accuracy: 1.0000\n",
      "Epoch 96/150\n",
      "40/40 [==============================] - 0s 3ms/step - loss: 0.0069 - accuracy: 0.9971\n",
      "Epoch 97/150\n",
      "40/40 [==============================] - 0s 3ms/step - loss: 0.0015 - accuracy: 1.0000\n",
      "Epoch 98/150\n",
      "40/40 [==============================] - 0s 2ms/step - loss: 0.0105 - accuracy: 0.9966\n",
      "Epoch 99/150\n",
      "40/40 [==============================] - 0s 3ms/step - loss: 0.0030 - accuracy: 0.9994\n",
      "Epoch 100/150\n",
      "40/40 [==============================] - 0s 3ms/step - loss: 8.9039e-04 - accuracy: 1.0000\n",
      "Epoch 101/150\n",
      "40/40 [==============================] - 0s 2ms/step - loss: 9.0983e-04 - accuracy: 0.9993\n",
      "Epoch 102/150\n",
      "40/40 [==============================] - 0s 3ms/step - loss: 0.0015 - accuracy: 1.0000\n",
      "Epoch 103/150\n",
      "40/40 [==============================] - 0s 3ms/step - loss: 9.3159e-04 - accuracy: 1.0000\n",
      "Epoch 104/150\n",
      "40/40 [==============================] - 0s 3ms/step - loss: 6.4219e-04 - accuracy: 1.0000\n",
      "Epoch 105/150\n",
      "40/40 [==============================] - 0s 3ms/step - loss: 1.5126e-04 - accuracy: 1.0000\n",
      "Epoch 106/150\n",
      "40/40 [==============================] - 0s 3ms/step - loss: 2.4996e-04 - accuracy: 1.0000\n",
      "Epoch 107/150\n",
      "40/40 [==============================] - 0s 2ms/step - loss: 7.9806e-05 - accuracy: 1.0000\n",
      "Epoch 108/150\n",
      "40/40 [==============================] - 0s 3ms/step - loss: 1.3247e-04 - accuracy: 1.0000\n",
      "Epoch 109/150\n",
      "40/40 [==============================] - 0s 3ms/step - loss: 0.0166 - accuracy: 0.9935\n",
      "Epoch 110/150\n",
      "40/40 [==============================] - 0s 2ms/step - loss: 0.0014 - accuracy: 1.0000\n",
      "Epoch 111/150\n",
      "40/40 [==============================] - 0s 3ms/step - loss: 0.0029 - accuracy: 0.9979\n",
      "Epoch 112/150\n",
      "40/40 [==============================] - 0s 3ms/step - loss: 0.0020 - accuracy: 1.0000\n",
      "Epoch 113/150\n",
      "40/40 [==============================] - 0s 3ms/step - loss: 0.0013 - accuracy: 1.0000\n",
      "Epoch 114/150\n",
      "40/40 [==============================] - 0s 2ms/step - loss: 4.2709e-05 - accuracy: 1.0000\n",
      "Epoch 115/150\n",
      "40/40 [==============================] - 0s 3ms/step - loss: 0.0029 - accuracy: 0.9980\n",
      "Epoch 116/150\n",
      "40/40 [==============================] - 0s 3ms/step - loss: 0.0714 - accuracy: 0.9863\n",
      "Epoch 117/150\n",
      "40/40 [==============================] - 0s 2ms/step - loss: 0.0148 - accuracy: 0.9946\n",
      "Epoch 118/150\n",
      "40/40 [==============================] - 0s 3ms/step - loss: 0.0255 - accuracy: 0.9977\n",
      "Epoch 119/150\n",
      "40/40 [==============================] - 0s 3ms/step - loss: 0.0045 - accuracy: 1.0000\n",
      "Epoch 120/150\n",
      "40/40 [==============================] - 0s 2ms/step - loss: 0.0082 - accuracy: 0.9977\n",
      "Epoch 121/150\n",
      "40/40 [==============================] - 0s 3ms/step - loss: 0.0042 - accuracy: 0.9980\n",
      "Epoch 122/150\n",
      "40/40 [==============================] - 0s 3ms/step - loss: 0.0037 - accuracy: 0.9978\n",
      "Epoch 123/150\n",
      "40/40 [==============================] - 0s 2ms/step - loss: 0.0113 - accuracy: 0.9979\n",
      "Epoch 124/150\n",
      "40/40 [==============================] - 0s 2ms/step - loss: 0.0028 - accuracy: 1.0000\n",
      "Epoch 125/150\n",
      "40/40 [==============================] - 0s 3ms/step - loss: 0.0013 - accuracy: 1.0000\n",
      "Epoch 126/150\n",
      "40/40 [==============================] - 0s 2ms/step - loss: 0.0044 - accuracy: 1.0000\n",
      "Epoch 127/150\n",
      "40/40 [==============================] - 0s 2ms/step - loss: 0.0047 - accuracy: 1.0000\n",
      "Epoch 128/150\n",
      "40/40 [==============================] - 0s 3ms/step - loss: 0.0017 - accuracy: 1.0000\n",
      "Epoch 129/150\n",
      "40/40 [==============================] - 0s 3ms/step - loss: 1.6379e-04 - accuracy: 1.0000\n",
      "Epoch 130/150\n",
      "40/40 [==============================] - 0s 2ms/step - loss: 0.0012 - accuracy: 1.0000\n",
      "Epoch 131/150\n",
      "40/40 [==============================] - 0s 3ms/step - loss: 3.7806e-04 - accuracy: 1.0000\n",
      "Epoch 132/150\n",
      "40/40 [==============================] - 0s 3ms/step - loss: 0.0012 - accuracy: 1.0000\n",
      "Epoch 133/150\n",
      "40/40 [==============================] - 0s 3ms/step - loss: 6.4282e-04 - accuracy: 1.0000\n",
      "Epoch 134/150\n",
      "40/40 [==============================] - 0s 3ms/step - loss: 0.0043 - accuracy: 0.9990\n",
      "Epoch 135/150\n",
      "40/40 [==============================] - 0s 3ms/step - loss: 0.2649 - accuracy: 0.9800\n",
      "Epoch 136/150\n",
      "40/40 [==============================] - 0s 2ms/step - loss: 0.0634 - accuracy: 0.9766\n",
      "Epoch 137/150\n",
      "40/40 [==============================] - 0s 3ms/step - loss: 0.0198 - accuracy: 0.9919\n",
      "Epoch 138/150\n",
      "40/40 [==============================] - 0s 3ms/step - loss: 0.0164 - accuracy: 0.9924\n",
      "Epoch 139/150\n",
      "40/40 [==============================] - 0s 2ms/step - loss: 0.0079 - accuracy: 0.9978\n",
      "Epoch 140/150\n",
      "40/40 [==============================] - 0s 3ms/step - loss: 5.1431e-04 - accuracy: 1.0000\n",
      "Epoch 141/150\n",
      "40/40 [==============================] - 0s 4ms/step - loss: 0.0015 - accuracy: 1.0000\n",
      "Epoch 142/150\n",
      "40/40 [==============================] - 0s 3ms/step - loss: 0.0094 - accuracy: 0.9982\n",
      "Epoch 143/150\n",
      "40/40 [==============================] - 0s 3ms/step - loss: 0.0016 - accuracy: 1.0000\n",
      "Epoch 144/150\n",
      "40/40 [==============================] - 0s 3ms/step - loss: 3.5310e-04 - accuracy: 1.0000\n",
      "Epoch 145/150\n",
      "40/40 [==============================] - 0s 3ms/step - loss: 0.0495 - accuracy: 0.9891\n",
      "Epoch 146/150\n",
      "40/40 [==============================] - 0s 3ms/step - loss: 0.0011 - accuracy: 1.0000\n",
      "Epoch 147/150\n",
      "40/40 [==============================] - 0s 3ms/step - loss: 9.7487e-04 - accuracy: 1.0000\n",
      "Epoch 148/150\n",
      "40/40 [==============================] - 0s 3ms/step - loss: 0.0047 - accuracy: 0.9951\n",
      "Epoch 149/150\n",
      "40/40 [==============================] - 0s 3ms/step - loss: 0.0215 - accuracy: 0.9937\n",
      "Epoch 150/150\n",
      "40/40 [==============================] - 0s 2ms/step - loss: 0.0201 - accuracy: 0.9966\n"
     ]
    },
    {
     "data": {
      "text/plain": [
       "<keras.callbacks.History at 0x7f45104bd700>"
      ]
     },
     "execution_count": 66,
     "metadata": {},
     "output_type": "execute_result"
    }
   ],
   "source": [
    "#Treinamento do modelo\n",
    "model.fit(X_train, y_train, epochs=150, batch_size=10) # X= entrada do modelo/ Y=target(saida do modelo) /epochs= número de iterações sobre o dataset\n",
    "# batch_size= número de instancias do dataset que deve ser utilizado, por vez, para treinar o modelo"
   ]
  },
  {
   "cell_type": "markdown",
   "metadata": {
    "id": "3pldllt9VNpS"
   },
   "source": [
    "# **Realiza a Análise do Modelo**"
   ]
  },
  {
   "cell_type": "code",
   "execution_count": 67,
   "metadata": {
    "colab": {
     "base_uri": "https://localhost:8080/"
    },
    "executionInfo": {
     "elapsed": 10775,
     "status": "ok",
     "timestamp": 1621191444474,
     "user": {
      "displayName": "Tulio Philipe",
      "photoUrl": "https://lh3.googleusercontent.com/a-/AOh14GiC2kqFihAn3Ile03oz-6rO8qVjEHv1DhGQ0ngQ5g=s64",
      "userId": "06907869093485551957"
     },
     "user_tz": 180
    },
    "id": "WwWM37kRVRGZ",
    "outputId": "6f2df1ab-4313-4049-fd97-dc6d4a5ae57c"
   },
   "outputs": [
    {
     "name": "stdout",
     "output_type": "stream",
     "text": [
      "6/6 [==============================] - 1s 1ms/step - loss: 0.8864 - accuracy: 0.9415\n",
      "\n",
      "accuracy: 94.15%\n"
     ]
    }
   ],
   "source": [
    "#avaliar o modelo \n",
    "scores = model.evaluate(X_test, y_test)\n",
    "print(\"\\n%s: %.2f%%\" % (model.metrics_names[1], scores[1]*100))"
   ]
  },
  {
   "cell_type": "code",
   "execution_count": 68,
   "metadata": {
    "executionInfo": {
     "elapsed": 10769,
     "status": "ok",
     "timestamp": 1621191444475,
     "user": {
      "displayName": "Tulio Philipe",
      "photoUrl": "https://lh3.googleusercontent.com/a-/AOh14GiC2kqFihAn3Ile03oz-6rO8qVjEHv1DhGQ0ngQ5g=s64",
      "userId": "06907869093485551957"
     },
     "user_tz": 180
    },
    "id": "1u3CZVx7VVJ5"
   },
   "outputs": [],
   "source": [
    "#realiza a previsão \n",
    "previsao_MLP = model.predict(X_test)"
   ]
  },
  {
   "cell_type": "code",
   "execution_count": 69,
   "metadata": {
    "colab": {
     "base_uri": "https://localhost:8080/"
    },
    "executionInfo": {
     "elapsed": 10766,
     "status": "ok",
     "timestamp": 1621191444475,
     "user": {
      "displayName": "Tulio Philipe",
      "photoUrl": "https://lh3.googleusercontent.com/a-/AOh14GiC2kqFihAn3Ile03oz-6rO8qVjEHv1DhGQ0ngQ5g=s64",
      "userId": "06907869093485551957"
     },
     "user_tz": 180
    },
    "id": "fwQ462yEYJG9",
    "outputId": "058c2d4b-b1b9-4545-bca8-80c6d3c78083"
   },
   "outputs": [
    {
     "data": {
      "text/plain": [
       "array([[1.0000000e+00],\n",
       "       [9.4630718e-03],\n",
       "       [4.0587079e-13],\n",
       "       [2.2312077e-05],\n",
       "       [7.2974845e-15],\n",
       "       [4.6173892e-18],\n",
       "       [0.0000000e+00],\n",
       "       [1.0730103e-13],\n",
       "       [2.2451606e-37],\n",
       "       [0.0000000e+00],\n",
       "       [1.0187538e-10],\n",
       "       [1.4865398e-04],\n",
       "       [1.0252945e-35],\n",
       "       [7.7661574e-01],\n",
       "       [6.0520118e-01],\n",
       "       [1.0000000e+00],\n",
       "       [0.0000000e+00],\n",
       "       [1.0000000e+00],\n",
       "       [1.0000000e+00],\n",
       "       [1.0000000e+00],\n",
       "       [1.0000000e+00],\n",
       "       [1.0000000e+00],\n",
       "       [3.4048784e-13],\n",
       "       [7.4507918e-14],\n",
       "       [1.0000000e+00],\n",
       "       [3.8269515e-21],\n",
       "       [9.0636802e-26],\n",
       "       [1.0000000e+00],\n",
       "       [4.6161261e-12],\n",
       "       [1.0000000e+00]], dtype=float32)"
      ]
     },
     "execution_count": 69,
     "metadata": {},
     "output_type": "execute_result"
    }
   ],
   "source": [
    "previsao_MLP[:30]"
   ]
  },
  {
   "cell_type": "code",
   "execution_count": 70,
   "metadata": {
    "colab": {
     "base_uri": "https://localhost:8080/"
    },
    "executionInfo": {
     "elapsed": 491,
     "status": "ok",
     "timestamp": 1621192075316,
     "user": {
      "displayName": "Tulio Philipe",
      "photoUrl": "https://lh3.googleusercontent.com/a-/AOh14GiC2kqFihAn3Ile03oz-6rO8qVjEHv1DhGQ0ngQ5g=s64",
      "userId": "06907869093485551957"
     },
     "user_tz": 180
    },
    "id": "m6Z4r-6ujCFf",
    "outputId": "b1b913e1-c574-485f-f925-d532d99e3f72"
   },
   "outputs": [
    {
     "data": {
      "text/plain": [
       "512    1\n",
       "457    0\n",
       "439    0\n",
       "298    0\n",
       "37     0\n",
       "      ..\n",
       "7      1\n",
       "408    1\n",
       "523    0\n",
       "361    0\n",
       "553    0\n",
       "Name: diagnosis, Length: 171, dtype: int64"
      ]
     },
     "execution_count": 70,
     "metadata": {},
     "output_type": "execute_result"
    }
   ],
   "source": [
    "y_test"
   ]
  },
  {
   "cell_type": "code",
   "execution_count": 71,
   "metadata": {
    "colab": {
     "base_uri": "https://localhost:8080/"
    },
    "executionInfo": {
     "elapsed": 473,
     "status": "ok",
     "timestamp": 1621192283403,
     "user": {
      "displayName": "Tulio Philipe",
      "photoUrl": "https://lh3.googleusercontent.com/a-/AOh14GiC2kqFihAn3Ile03oz-6rO8qVjEHv1DhGQ0ngQ5g=s64",
      "userId": "06907869093485551957"
     },
     "user_tz": 180
    },
    "id": "4ZNv-tl3lBBB",
    "outputId": "fdd1ae12-fd39-40d7-b51b-1422d5b2cdee"
   },
   "outputs": [
    {
     "data": {
      "text/plain": [
       "array([[1],\n",
       "       [0],\n",
       "       [0],\n",
       "       [0],\n",
       "       [0],\n",
       "       [0],\n",
       "       [0],\n",
       "       [0],\n",
       "       [0],\n",
       "       [0],\n",
       "       [0],\n",
       "       [0],\n",
       "       [0],\n",
       "       [1],\n",
       "       [1],\n",
       "       [1],\n",
       "       [0],\n",
       "       [1],\n",
       "       [1],\n",
       "       [1],\n",
       "       [1],\n",
       "       [1],\n",
       "       [0],\n",
       "       [0],\n",
       "       [1],\n",
       "       [0],\n",
       "       [0],\n",
       "       [1],\n",
       "       [0],\n",
       "       [1],\n",
       "       [0],\n",
       "       [1],\n",
       "       [0],\n",
       "       [1],\n",
       "       [0],\n",
       "       [1],\n",
       "       [0],\n",
       "       [1],\n",
       "       [0],\n",
       "       [1],\n",
       "       [1],\n",
       "       [0],\n",
       "       [1],\n",
       "       [0],\n",
       "       [0],\n",
       "       [1],\n",
       "       [0],\n",
       "       [0],\n",
       "       [0],\n",
       "       [1],\n",
       "       [1],\n",
       "       [1],\n",
       "       [1],\n",
       "       [0],\n",
       "       [0],\n",
       "       [0],\n",
       "       [0],\n",
       "       [0],\n",
       "       [0],\n",
       "       [1],\n",
       "       [1],\n",
       "       [1],\n",
       "       [0],\n",
       "       [0],\n",
       "       [1],\n",
       "       [0],\n",
       "       [1],\n",
       "       [1],\n",
       "       [1],\n",
       "       [0],\n",
       "       [1],\n",
       "       [1],\n",
       "       [0],\n",
       "       [1],\n",
       "       [1],\n",
       "       [0],\n",
       "       [0],\n",
       "       [0],\n",
       "       [0],\n",
       "       [0],\n",
       "       [1],\n",
       "       [1],\n",
       "       [1],\n",
       "       [0],\n",
       "       [1],\n",
       "       [0],\n",
       "       [0],\n",
       "       [0],\n",
       "       [1],\n",
       "       [1],\n",
       "       [0],\n",
       "       [1],\n",
       "       [1],\n",
       "       [1],\n",
       "       [0],\n",
       "       [0],\n",
       "       [1],\n",
       "       [0],\n",
       "       [0],\n",
       "       [0],\n",
       "       [0],\n",
       "       [0],\n",
       "       [0],\n",
       "       [0],\n",
       "       [1],\n",
       "       [0],\n",
       "       [1],\n",
       "       [0],\n",
       "       [0],\n",
       "       [0],\n",
       "       [0],\n",
       "       [1],\n",
       "       [1],\n",
       "       [1],\n",
       "       [0],\n",
       "       [0],\n",
       "       [0],\n",
       "       [0],\n",
       "       [0],\n",
       "       [0],\n",
       "       [0],\n",
       "       [0],\n",
       "       [0],\n",
       "       [0],\n",
       "       [1],\n",
       "       [0],\n",
       "       [0],\n",
       "       [0],\n",
       "       [0],\n",
       "       [0],\n",
       "       [1],\n",
       "       [0],\n",
       "       [0],\n",
       "       [0],\n",
       "       [0],\n",
       "       [0],\n",
       "       [1],\n",
       "       [1],\n",
       "       [1],\n",
       "       [0],\n",
       "       [0],\n",
       "       [0],\n",
       "       [1],\n",
       "       [0],\n",
       "       [0],\n",
       "       [1],\n",
       "       [0],\n",
       "       [1],\n",
       "       [0],\n",
       "       [0],\n",
       "       [0],\n",
       "       [0],\n",
       "       [0],\n",
       "       [1],\n",
       "       [0],\n",
       "       [1],\n",
       "       [0],\n",
       "       [1],\n",
       "       [0],\n",
       "       [1],\n",
       "       [1],\n",
       "       [0],\n",
       "       [0],\n",
       "       [1],\n",
       "       [0],\n",
       "       [1],\n",
       "       [1],\n",
       "       [1],\n",
       "       [0],\n",
       "       [0],\n",
       "       [0]])"
      ]
     },
     "execution_count": 71,
     "metadata": {},
     "output_type": "execute_result"
    }
   ],
   "source": [
    "labels = (previsao_MLP > 0.5).astype(np.int)\n",
    "labels"
   ]
  },
  {
   "cell_type": "code",
   "execution_count": 72,
   "metadata": {
    "colab": {
     "base_uri": "https://localhost:8080/",
     "height": 446
    },
    "executionInfo": {
     "elapsed": 1077,
     "status": "ok",
     "timestamp": 1621192293645,
     "user": {
      "displayName": "Tulio Philipe",
      "photoUrl": "https://lh3.googleusercontent.com/a-/AOh14GiC2kqFihAn3Ile03oz-6rO8qVjEHv1DhGQ0ngQ5g=s64",
      "userId": "06907869093485551957"
     },
     "user_tz": 180
    },
    "id": "Vy2ttoiBVfSf",
    "outputId": "e8555fdb-53b1-4255-909a-d1bf4697b04d"
   },
   "outputs": [
    {
     "data": {
      "text/plain": [
       "<AxesSubplot:>"
      ]
     },
     "execution_count": 72,
     "metadata": {},
     "output_type": "execute_result"
    },
    {
     "data": {
      "image/png": "[encoded data removed]",
      "text/plain": [
       "<Figure size 720x504 with 2 Axes>"
      ]
     },
     "metadata": {
      "needs_background": "light"
     },
     "output_type": "display_data"
    }
   ],
   "source": [
    "#matrix de confusão\n",
    "matriz_confusao_mlp = confusion_matrix(y_test, labels) #constroi a matriz de confusao (numérica)\n",
    "\n",
    "import seaborn\n",
    "plt.figure(figsize = (10,7))\n",
    "seaborn.heatmap(matriz_confusao_mlp, annot=True)\n"
   ]
  }
 ],
 "metadata": {
  "colab": {
   "name": "cancer_de_mama.ipynb",
   "provenance": []
  },
  "kernelspec": {
   "display_name": "Python 3",
   "language": "python",
   "name": "python3"
  },
  "language_info": {
   "codemirror_mode": {
    "name": "ipython",
    "version": 3
   },
   "file_extension": ".py",
   "mimetype": "text/x-python",
   "name": "python",
   "nbconvert_exporter": "python",
   "pygments_lexer": "ipython3",
   "version": "3.8.8"
  }
 },
 "nbformat": 4,
 "nbformat_minor": 1
}
