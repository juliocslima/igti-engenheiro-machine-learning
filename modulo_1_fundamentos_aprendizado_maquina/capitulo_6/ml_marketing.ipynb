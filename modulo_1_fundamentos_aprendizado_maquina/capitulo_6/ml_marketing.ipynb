{
 "cells": [
  {
   "cell_type": "code",
   "execution_count": 0,
   "metadata": {
    "application/vnd.databricks.v1+cell": {
     "inputWidgets": {},
     "nuid": "e70ba037-aaae-45cf-89a9-e24f576fe56e",
     "showTitle": false,
     "title": ""
    }
   },
   "outputs": [],
   "source": [
    "#código para o desafio do bootcamp de TPD"
   ]
  },
  {
   "cell_type": "markdown",
   "metadata": {
    "application/vnd.databricks.v1+cell": {
     "inputWidgets": {},
     "nuid": "329d4483-3862-4f0c-a8e5-1644e936f4b7",
     "showTitle": false,
     "title": ""
    }
   },
   "source": [
    "1) Primeiro passo - Seção Spark"
   ]
  },
  {
   "cell_type": "code",
   "execution_count": 0,
   "metadata": {
    "application/vnd.databricks.v1+cell": {
     "inputWidgets": {},
     "nuid": "7a08b748-aa5f-439c-bb6c-665b3153c5db",
     "showTitle": false,
     "title": ""
    }
   },
   "outputs": [
    {
     "data": {
      "text/html": [
       "<style scoped>\n",
       "  .ansiout {\n",
       "    display: block;\n",
       "    unicode-bidi: embed;\n",
       "    white-space: pre-wrap;\n",
       "    word-wrap: break-word;\n",
       "    word-break: break-all;\n",
       "    font-family: \"Source Code Pro\", \"Menlo\", monospace;;\n",
       "    font-size: 13px;\n",
       "    color: #555;\n",
       "    margin-left: 4px;\n",
       "    line-height: 19px;\n",
       "  }\n",
       "</style>\n",
       "<div class=\"ansiout\"></div>"
      ]
     },
     "metadata": {
      "application/vnd.databricks.v1+output": {
       "addedWidgets": {},
       "arguments": {},
       "data": "<div class=\"ansiout\"></div>",
       "datasetInfos": [],
       "metadata": {},
       "removedWidgets": [],
       "type": "html"
      }
     },
     "output_type": "display_data"
    }
   ],
   "source": [
    "from pyspark.sql import SparkSession #importa a biblioteca que cria a seção do spark"
   ]
  },
  {
   "cell_type": "code",
   "execution_count": 0,
   "metadata": {
    "application/vnd.databricks.v1+cell": {
     "inputWidgets": {},
     "nuid": "307e0fe0-5f0f-4b21-8a4d-ce246be6f43d",
     "showTitle": false,
     "title": ""
    }
   },
   "outputs": [
    {
     "data": {
      "text/html": [
       "<style scoped>\n",
       "  .ansiout {\n",
       "    display: block;\n",
       "    unicode-bidi: embed;\n",
       "    white-space: pre-wrap;\n",
       "    word-wrap: break-word;\n",
       "    word-break: break-all;\n",
       "    font-family: \"Source Code Pro\", \"Menlo\", monospace;;\n",
       "    font-size: 13px;\n",
       "    color: #555;\n",
       "    margin-left: 4px;\n",
       "    line-height: 19px;\n",
       "  }\n",
       "</style>\n",
       "<div class=\"ansiout\"></div>"
      ]
     },
     "metadata": {
      "application/vnd.databricks.v1+output": {
       "addedWidgets": {},
       "arguments": {},
       "data": "<div class=\"ansiout\"></div>",
       "datasetInfos": [],
       "metadata": {},
       "removedWidgets": [],
       "type": "html"
      }
     },
     "output_type": "display_data"
    }
   ],
   "source": [
    "#inicia a seção para a utilização do spark\n",
    "spark = SparkSession.builder.appName(\"desafio_tpd\").getOrCreate() #cria a seção caso não exista ou obtém a já criada"
   ]
  },
  {
   "cell_type": "code",
   "execution_count": 0,
   "metadata": {
    "application/vnd.databricks.v1+cell": {
     "inputWidgets": {},
     "nuid": "99fde9c1-f751-4bf0-9fc9-9ad2ccf8156d",
     "showTitle": false,
     "title": ""
    }
   },
   "outputs": [
    {
     "data": {
      "text/html": [
       "<style scoped>\n",
       "  .table-result-container {\n",
       "    max-height: 300px;\n",
       "    overflow: auto;\n",
       "  }\n",
       "  table, th, td {\n",
       "    border: 1px solid black;\n",
       "    border-collapse: collapse;\n",
       "  }\n",
       "  th, td {\n",
       "    padding: 5px;\n",
       "  }\n",
       "  th {\n",
       "    text-align: left;\n",
       "  }\n",
       "</style><div class='table-result-container'><table class='table-result'><thead style='background-color: white'><tr><th>path</th><th>name</th><th>size</th></tr></thead><tbody><tr><td>dbfs:/FileStore/tables/Mall_Customers.csv</td><td>Mall_Customers.csv</td><td>4286</td></tr><tr><td>dbfs:/FileStore/tables/Police_Department_Incident_Reports__Historical_2003_to_May_2018.csv</td><td>Police_Department_Incident_Reports__Historical_2003_to_May_2018.csv</td><td>463094961</td></tr><tr><td>dbfs:/FileStore/tables/Webinar_MLE_04_06.pptx</td><td>Webinar_MLE_04_06.pptx</td><td>5268055</td></tr><tr><td>dbfs:/FileStore/tables/adult_data.csv</td><td>adult_data.csv</td><td>5608318</td></tr><tr><td>dbfs:/FileStore/tables/d1995_07_01-24d0c.json</td><td>d1995_07_01-24d0c.json</td><td>7451741</td></tr><tr><td>dbfs:/FileStore/tables/d1995_07_02-c3f44.json</td><td>d1995_07_02-c3f44.json</td><td>9572086</td></tr><tr><td>dbfs:/FileStore/tables/d1995_07_03-f99af.json</td><td>d1995_07_03-f99af.json</td><td>14125303</td></tr><tr><td>dbfs:/FileStore/tables/d1995_07_04-c5a7f.json</td><td>d1995_07_04-c5a7f.json</td><td>12030333</td></tr><tr><td>dbfs:/FileStore/tables/d1995_07_05-0f261.json</td><td>d1995_07_05-0f261.json</td><td>14662194</td></tr><tr><td>dbfs:/FileStore/tables/d1995_07_06-20619.json</td><td>d1995_07_06-20619.json</td><td>15557682</td></tr><tr><td>dbfs:/FileStore/tables/d1995_07_07-2dd8d.json</td><td>d1995_07_07-2dd8d.json</td><td>15279295</td></tr><tr><td>dbfs:/FileStore/tables/d1995_07_08-83302.json</td><td>d1995_07_08-83302.json</td><td>7033852</td></tr><tr><td>dbfs:/FileStore/tables/d1995_07_09-f75d3.json</td><td>d1995_07_09-f75d3.json</td><td>5589076</td></tr><tr><td>dbfs:/FileStore/tables/d1995_07_10-160a3.json</td><td>d1995_07_10-160a3.json</td><td>10616482</td></tr><tr><td>dbfs:/FileStore/tables/d1995_07_11-8800f.json</td><td>d1995_07_11-8800f.json</td><td>12486245</td></tr><tr><td>dbfs:/FileStore/tables/d1995_07_12-3091c.json</td><td>d1995_07_12-3091c.json</td><td>14080494</td></tr><tr><td>dbfs:/FileStore/tables/d1995_07_13-242b2.json</td><td>d1995_07_13-242b2.json</td><td>21989188</td></tr><tr><td>dbfs:/FileStore/tables/d1995_07_14-bab67.json</td><td>d1995_07_14-bab67.json</td><td>13780636</td></tr><tr><td>dbfs:/FileStore/tables/d1995_07_15-57e08.json</td><td>d1995_07_15-57e08.json</td><td>8057272</td></tr><tr><td>dbfs:/FileStore/tables/d1995_07_16-2ca03.json</td><td>d1995_07_16-2ca03.json</td><td>7171848</td></tr><tr><td>dbfs:/FileStore/tables/d1995_07_17-905a5.json</td><td>d1995_07_17-905a5.json</td><td>11897536</td></tr><tr><td>dbfs:/FileStore/tables/d1995_07_18-13b8b.json</td><td>d1995_07_18-13b8b.json</td><td>10569098</td></tr><tr><td>dbfs:/FileStore/tables/d1995_07_19-e2537.json</td><td>d1995_07_19-e2537.json</td><td>11515206</td></tr><tr><td>dbfs:/FileStore/tables/d1995_07_20-0f6d2.json</td><td>d1995_07_20-0f6d2.json</td><td>11049142</td></tr><tr><td>dbfs:/FileStore/tables/d1995_07_21-37a88.json</td><td>d1995_07_21-37a88.json</td><td>10475868</td></tr><tr><td>dbfs:/FileStore/tables/d1995_07_22-3b894.json</td><td>d1995_07_22-3b894.json</td><td>6028420</td></tr><tr><td>dbfs:/FileStore/tables/d1995_07_23-8d606.json</td><td>d1995_07_23-8d606.json</td><td>5620028</td></tr><tr><td>dbfs:/FileStore/tables/d1995_07_24-bcae5.json</td><td>d1995_07_24-bcae5.json</td><td>10433367</td></tr><tr><td>dbfs:/FileStore/tables/d1995_07_25-22c14.json</td><td>d1995_07_25-22c14.json</td><td>9883055</td></tr><tr><td>dbfs:/FileStore/tables/d1995_07_26-8a504.json</td><td>d1995_07_26-8a504.json</td><td>9087395</td></tr><tr><td>dbfs:/FileStore/tables/d1995_07_27-32f69.json</td><td>d1995_07_27-32f69.json</td><td>10172162</td></tr><tr><td>dbfs:/FileStore/tables/d1995_07_28-8d6d2.json</td><td>d1995_07_28-8d6d2.json</td><td>6206927</td></tr><tr><td>dbfs:/FileStore/tables/datasets_228_482_diabetes.csv</td><td>datasets_228_482_diabetes.csv</td><td>23873</td></tr><tr><td>dbfs:/FileStore/tables/designation.json</td><td>designation.json</td><td>400</td></tr><tr><td>dbfs:/FileStore/tables/digits.csv</td><td>digits.csv</td><td>338477</td></tr><tr><td>dbfs:/FileStore/tables/digitsNew.csv</td><td>digitsNew.csv</td><td>76775041</td></tr><tr><td>dbfs:/FileStore/tables/iris_bezdekIris.csv</td><td>iris_bezdekIris.csv</td><td>4551</td></tr><tr><td>dbfs:/FileStore/tables/kddcup_data_10_percent_corrected-2f6f3</td><td>kddcup_data_10_percent_corrected-2f6f3</td><td>74889749</td></tr><tr><td>dbfs:/FileStore/tables/regressaoLinear.csv</td><td>regressaoLinear.csv</td><td>564</td></tr><tr><td>dbfs:/FileStore/tables/salario_df.csv</td><td>salario_df.csv</td><td>2505</td></tr><tr><td>dbfs:/FileStore/tables/salary.json</td><td>salary.json</td><td>361</td></tr><tr><td>dbfs:/FileStore/tables/temperature.csv</td><td>temperature.csv</td><td>13971171</td></tr><tr><td>dbfs:/FileStore/tables/transport_nodes-7c826.csv</td><td>transport_nodes-7c826.csv</td><td>465</td></tr><tr><td>dbfs:/FileStore/tables/transport_relationships-c2bfc.csv</td><td>transport_relationships-c2bfc.csv</td><td>550</td></tr><tr><td>dbfs:/FileStore/tables/u.data</td><td>u.data</td><td>1979173</td></tr><tr><td>dbfs:/FileStore/tables/winequality_red-42ff5.csv</td><td>winequality_red-42ff5.csv</td><td>84199</td></tr><tr><td>dbfs:/FileStore/tables/worldcities.csv</td><td>worldcities.csv</td><td>1667065</td></tr></tbody></table></div>"
      ]
     },
     "metadata": {
      "application/vnd.databricks.v1+output": {
       "addedWidgets": {},
       "aggData": [],
       "aggError": "",
       "aggOverflow": false,
       "aggSchema": [],
       "aggSeriesLimitReached": false,
       "aggType": "",
       "arguments": {},
       "columnCustomDisplayInfos": {},
       "data": [
        [
         "dbfs:/FileStore/tables/Mall_Customers.csv",
         "Mall_Customers.csv",
         4286
        ],
        [
         "dbfs:/FileStore/tables/Police_Department_Incident_Reports__Historical_2003_to_May_2018.csv",
         "Police_Department_Incident_Reports__Historical_2003_to_May_2018.csv",
         463094961
        ],
        [
         "dbfs:/FileStore/tables/Webinar_MLE_04_06.pptx",
         "Webinar_MLE_04_06.pptx",
         5268055
        ],
        [
         "dbfs:/FileStore/tables/adult_data.csv",
         "adult_data.csv",
         5608318
        ],
        [
         "dbfs:/FileStore/tables/d1995_07_01-24d0c.json",
         "d1995_07_01-24d0c.json",
         7451741
        ],
        [
         "dbfs:/FileStore/tables/d1995_07_02-c3f44.json",
         "d1995_07_02-c3f44.json",
         9572086
        ],
        [
         "dbfs:/FileStore/tables/d1995_07_03-f99af.json",
         "d1995_07_03-f99af.json",
         14125303
        ],
        [
         "dbfs:/FileStore/tables/d1995_07_04-c5a7f.json",
         "d1995_07_04-c5a7f.json",
         12030333
        ],
        [
         "dbfs:/FileStore/tables/d1995_07_05-0f261.json",
         "d1995_07_05-0f261.json",
         14662194
        ],
        [
         "dbfs:/FileStore/tables/d1995_07_06-20619.json",
         "d1995_07_06-20619.json",
         15557682
        ],
        [
         "dbfs:/FileStore/tables/d1995_07_07-2dd8d.json",
         "d1995_07_07-2dd8d.json",
         15279295
        ],
        [
         "dbfs:/FileStore/tables/d1995_07_08-83302.json",
         "d1995_07_08-83302.json",
         7033852
        ],
        [
         "dbfs:/FileStore/tables/d1995_07_09-f75d3.json",
         "d1995_07_09-f75d3.json",
         5589076
        ],
        [
         "dbfs:/FileStore/tables/d1995_07_10-160a3.json",
         "d1995_07_10-160a3.json",
         10616482
        ],
        [
         "dbfs:/FileStore/tables/d1995_07_11-8800f.json",
         "d1995_07_11-8800f.json",
         12486245
        ],
        [
         "dbfs:/FileStore/tables/d1995_07_12-3091c.json",
         "d1995_07_12-3091c.json",
         14080494
        ],
        [
         "dbfs:/FileStore/tables/d1995_07_13-242b2.json",
         "d1995_07_13-242b2.json",
         21989188
        ],
        [
         "dbfs:/FileStore/tables/d1995_07_14-bab67.json",
         "d1995_07_14-bab67.json",
         13780636
        ],
        [
         "dbfs:/FileStore/tables/d1995_07_15-57e08.json",
         "d1995_07_15-57e08.json",
         8057272
        ],
        [
         "dbfs:/FileStore/tables/d1995_07_16-2ca03.json",
         "d1995_07_16-2ca03.json",
         7171848
        ],
        [
         "dbfs:/FileStore/tables/d1995_07_17-905a5.json",
         "d1995_07_17-905a5.json",
         11897536
        ],
        [
         "dbfs:/FileStore/tables/d1995_07_18-13b8b.json",
         "d1995_07_18-13b8b.json",
         10569098
        ],
        [
         "dbfs:/FileStore/tables/d1995_07_19-e2537.json",
         "d1995_07_19-e2537.json",
         11515206
        ],
        [
         "dbfs:/FileStore/tables/d1995_07_20-0f6d2.json",
         "d1995_07_20-0f6d2.json",
         11049142
        ],
        [
         "dbfs:/FileStore/tables/d1995_07_21-37a88.json",
         "d1995_07_21-37a88.json",
         10475868
        ],
        [
         "dbfs:/FileStore/tables/d1995_07_22-3b894.json",
         "d1995_07_22-3b894.json",
         6028420
        ],
        [
         "dbfs:/FileStore/tables/d1995_07_23-8d606.json",
         "d1995_07_23-8d606.json",
         5620028
        ],
        [
         "dbfs:/FileStore/tables/d1995_07_24-bcae5.json",
         "d1995_07_24-bcae5.json",
         10433367
        ],
        [
         "dbfs:/FileStore/tables/d1995_07_25-22c14.json",
         "d1995_07_25-22c14.json",
         9883055
        ],
        [
         "dbfs:/FileStore/tables/d1995_07_26-8a504.json",
         "d1995_07_26-8a504.json",
         9087395
        ],
        [
         "dbfs:/FileStore/tables/d1995_07_27-32f69.json",
         "d1995_07_27-32f69.json",
         10172162
        ],
        [
         "dbfs:/FileStore/tables/d1995_07_28-8d6d2.json",
         "d1995_07_28-8d6d2.json",
         6206927
        ],
        [
         "dbfs:/FileStore/tables/datasets_228_482_diabetes.csv",
         "datasets_228_482_diabetes.csv",
         23873
        ],
        [
         "dbfs:/FileStore/tables/designation.json",
         "designation.json",
         400
        ],
        [
         "dbfs:/FileStore/tables/digits.csv",
         "digits.csv",
         338477
        ],
        [
         "dbfs:/FileStore/tables/digitsNew.csv",
         "digitsNew.csv",
         76775041
        ],
        [
         "dbfs:/FileStore/tables/iris_bezdekIris.csv",
         "iris_bezdekIris.csv",
         4551
        ],
        [
         "dbfs:/FileStore/tables/kddcup_data_10_percent_corrected-2f6f3",
         "kddcup_data_10_percent_corrected-2f6f3",
         74889749
        ],
        [
         "dbfs:/FileStore/tables/regressaoLinear.csv",
         "regressaoLinear.csv",
         564
        ],
        [
         "dbfs:/FileStore/tables/salario_df.csv",
         "salario_df.csv",
         2505
        ],
        [
         "dbfs:/FileStore/tables/salary.json",
         "salary.json",
         361
        ],
        [
         "dbfs:/FileStore/tables/temperature.csv",
         "temperature.csv",
         13971171
        ],
        [
         "dbfs:/FileStore/tables/transport_nodes-7c826.csv",
         "transport_nodes-7c826.csv",
         465
        ],
        [
         "dbfs:/FileStore/tables/transport_relationships-c2bfc.csv",
         "transport_relationships-c2bfc.csv",
         550
        ],
        [
         "dbfs:/FileStore/tables/u.data",
         "u.data",
         1979173
        ],
        [
         "dbfs:/FileStore/tables/winequality_red-42ff5.csv",
         "winequality_red-42ff5.csv",
         84199
        ],
        [
         "dbfs:/FileStore/tables/worldcities.csv",
         "worldcities.csv",
         1667065
        ]
       ],
       "datasetInfos": [],
       "dbfsResultPath": null,
       "isJsonSchema": true,
       "metadata": {},
       "overflow": false,
       "plotOptions": {
        "customPlotOptions": {},
        "displayType": "table",
        "pivotAggregation": null,
        "pivotColumns": null,
        "xColumns": null,
        "yColumns": null
       },
       "removedWidgets": [],
       "schema": [
        {
         "metadata": "{}",
         "name": "path",
         "type": "\"string\""
        },
        {
         "metadata": "{}",
         "name": "name",
         "type": "\"string\""
        },
        {
         "metadata": "{}",
         "name": "size",
         "type": "\"long\""
        }
       ],
       "type": "table"
      }
     },
     "output_type": "display_data"
    }
   ],
   "source": [
    "%fs ls /FileStore/tables    "
   ]
  },
  {
   "cell_type": "code",
   "execution_count": 0,
   "metadata": {
    "application/vnd.databricks.v1+cell": {
     "inputWidgets": {},
     "nuid": "e751da10-7930-468a-ac22-4c37074c0e24",
     "showTitle": false,
     "title": ""
    }
   },
   "outputs": [
    {
     "data": {
      "text/html": [
       "<style scoped>\n",
       "  .ansiout {\n",
       "    display: block;\n",
       "    unicode-bidi: embed;\n",
       "    white-space: pre-wrap;\n",
       "    word-wrap: break-word;\n",
       "    word-break: break-all;\n",
       "    font-family: \"Source Code Pro\", \"Menlo\", monospace;;\n",
       "    font-size: 13px;\n",
       "    color: #555;\n",
       "    margin-left: 4px;\n",
       "    line-height: 19px;\n",
       "  }\n",
       "</style>\n",
       "<div class=\"ansiout\"></div>"
      ]
     },
     "metadata": {
      "application/vnd.databricks.v1+output": {
       "addedWidgets": {},
       "arguments": {},
       "data": "<div class=\"ansiout\"></div>",
       "datasetInfos": [],
       "metadata": {},
       "removedWidgets": [],
       "type": "html"
      }
     },
     "output_type": "display_data"
    }
   ],
   "source": [
    "diretorioDatasetDiabets=\"/FileStore/tables/Mall_Customers.csv\"  #diretório que contém o arquivo a ser utilizado"
   ]
  },
  {
   "cell_type": "code",
   "execution_count": 0,
   "metadata": {
    "application/vnd.databricks.v1+cell": {
     "inputWidgets": {},
     "nuid": "1fce3504-1a5b-4f61-b044-323b6772b4bb",
     "showTitle": false,
     "title": ""
    }
   },
   "outputs": [
    {
     "data": {
      "text/html": [
       "<style scoped>\n",
       "  .ansiout {\n",
       "    display: block;\n",
       "    unicode-bidi: embed;\n",
       "    white-space: pre-wrap;\n",
       "    word-wrap: break-word;\n",
       "    word-break: break-all;\n",
       "    font-family: \"Source Code Pro\", \"Menlo\", monospace;;\n",
       "    font-size: 13px;\n",
       "    color: #555;\n",
       "    margin-left: 4px;\n",
       "    line-height: 19px;\n",
       "  }\n",
       "</style>\n",
       "<div class=\"ansiout\"></div>"
      ]
     },
     "metadata": {
      "application/vnd.databricks.v1+output": {
       "addedWidgets": {},
       "arguments": {},
       "data": "<div class=\"ansiout\"></div>",
       "datasetInfos": [
        {
         "name": "data",
         "schema": {
          "fields": [
           {
            "metadata": {},
            "name": "CustomerID",
            "nullable": true,
            "type": "integer"
           },
           {
            "metadata": {},
            "name": "Genre",
            "nullable": true,
            "type": "string"
           },
           {
            "metadata": {},
            "name": "Age",
            "nullable": true,
            "type": "integer"
           },
           {
            "metadata": {},
            "name": "Annual Income (k$)",
            "nullable": true,
            "type": "integer"
           },
           {
            "metadata": {},
            "name": "Spending Score (1-100)",
            "nullable": true,
            "type": "integer"
           }
          ],
          "type": "struct"
         },
         "tableIdentifier": null,
         "typeStr": "pyspark.sql.dataframe.DataFrame"
        }
       ],
       "metadata": {},
       "removedWidgets": [],
       "type": "html"
      }
     },
     "output_type": "display_data"
    }
   ],
   "source": [
    "data = spark.read.format(\"csv\").options(header=\"true\", inferschema=\"true\").load(diretorioDatasetDiabets)  #realiza a leitura do dataset"
   ]
  },
  {
   "cell_type": "code",
   "execution_count": 0,
   "metadata": {
    "application/vnd.databricks.v1+cell": {
     "inputWidgets": {},
     "nuid": "f44d1125-03d5-4ecf-86e9-2845af1acf0f",
     "showTitle": false,
     "title": ""
    }
   },
   "outputs": [
    {
     "data": {
      "text/html": [
       "<style scoped>\n",
       "  .ansiout {\n",
       "    display: block;\n",
       "    unicode-bidi: embed;\n",
       "    white-space: pre-wrap;\n",
       "    word-wrap: break-word;\n",
       "    word-break: break-all;\n",
       "    font-family: \"Source Code Pro\", \"Menlo\", monospace;;\n",
       "    font-size: 13px;\n",
       "    color: #555;\n",
       "    margin-left: 4px;\n",
       "    line-height: 19px;\n",
       "  }\n",
       "</style>\n",
       "<div class=\"ansiout\">+----------+------+---+------------------+----------------------+\n",
       "CustomerID|Genre |Age|Annual Income (k$)|Spending Score (1-100)|\n",
       "+----------+------+---+------------------+----------------------+\n",
       "1         |Male  |19 |15                |39                    |\n",
       "2         |Male  |21 |15                |81                    |\n",
       "3         |Female|20 |16                |6                     |\n",
       "4         |Female|23 |16                |77                    |\n",
       "5         |Female|31 |17                |40                    |\n",
       "+----------+------+---+------------------+----------------------+\n",
       "only showing top 5 rows\n",
       "\n",
       "</div>"
      ]
     },
     "metadata": {
      "application/vnd.databricks.v1+output": {
       "addedWidgets": {},
       "arguments": {},
       "data": "<div class=\"ansiout\">+----------+------+---+------------------+----------------------+\n|CustomerID|Genre |Age|Annual Income (k$)|Spending Score (1-100)|\n+----------+------+---+------------------+----------------------+\n|1         |Male  |19 |15                |39                    |\n|2         |Male  |21 |15                |81                    |\n|3         |Female|20 |16                |6                     |\n|4         |Female|23 |16                |77                    |\n|5         |Female|31 |17                |40                    |\n+----------+------+---+------------------+----------------------+\nonly showing top 5 rows\n\n</div>",
       "datasetInfos": [],
       "metadata": {},
       "removedWidgets": [],
       "type": "html"
      }
     },
     "output_type": "display_data"
    }
   ],
   "source": [
    "data.show(5,False)  #mostrando as 5 primeiras instâncias do dataset"
   ]
  },
  {
   "cell_type": "code",
   "execution_count": 0,
   "metadata": {
    "application/vnd.databricks.v1+cell": {
     "inputWidgets": {},
     "nuid": "5bf1b0cb-76cf-4076-a37c-690f46b06768",
     "showTitle": false,
     "title": ""
    }
   },
   "outputs": [
    {
     "data": {
      "text/html": [
       "<style scoped>\n",
       "  .ansiout {\n",
       "    display: block;\n",
       "    unicode-bidi: embed;\n",
       "    white-space: pre-wrap;\n",
       "    word-wrap: break-word;\n",
       "    word-break: break-all;\n",
       "    font-family: \"Source Code Pro\", \"Menlo\", monospace;;\n",
       "    font-size: 13px;\n",
       "    color: #555;\n",
       "    margin-left: 4px;\n",
       "    line-height: 19px;\n",
       "  }\n",
       "</style>\n",
       "<div class=\"ansiout\">Out[6]: [&#39;CustomerID&#39;, &#39;Genre&#39;, &#39;Age&#39;, &#39;Annual Income (k$)&#39;, &#39;Spending Score (1-100)&#39;]</div>"
      ]
     },
     "metadata": {
      "application/vnd.databricks.v1+output": {
       "addedWidgets": {},
       "arguments": {},
       "data": "<div class=\"ansiout\">Out[6]: [&#39;CustomerID&#39;, &#39;Genre&#39;, &#39;Age&#39;, &#39;Annual Income (k$)&#39;, &#39;Spending Score (1-100)&#39;]</div>",
       "datasetInfos": [],
       "metadata": {},
       "removedWidgets": [],
       "type": "html"
      }
     },
     "output_type": "display_data"
    }
   ],
   "source": [
    "data.columns #mostra as colunas do dataset"
   ]
  },
  {
   "cell_type": "code",
   "execution_count": 0,
   "metadata": {
    "application/vnd.databricks.v1+cell": {
     "inputWidgets": {},
     "nuid": "b25e36fa-defe-44d4-8e8f-be57aec3b277",
     "showTitle": false,
     "title": ""
    }
   },
   "outputs": [
    {
     "data": {
      "text/html": [
       "<style scoped>\n",
       "  .ansiout {\n",
       "    display: block;\n",
       "    unicode-bidi: embed;\n",
       "    white-space: pre-wrap;\n",
       "    word-wrap: break-word;\n",
       "    word-break: break-all;\n",
       "    font-family: \"Source Code Pro\", \"Menlo\", monospace;;\n",
       "    font-size: 13px;\n",
       "    color: #555;\n",
       "    margin-left: 4px;\n",
       "    line-height: 19px;\n",
       "  }\n",
       "</style>\n",
       "<div class=\"ansiout\">root\n",
       "-- CustomerID: integer (nullable = true)\n",
       "-- Genre: string (nullable = true)\n",
       "-- Age: integer (nullable = true)\n",
       "-- Annual Income (k$): integer (nullable = true)\n",
       "-- Spending Score (1-100): integer (nullable = true)\n",
       "\n",
       "</div>"
      ]
     },
     "metadata": {
      "application/vnd.databricks.v1+output": {
       "addedWidgets": {},
       "arguments": {},
       "data": "<div class=\"ansiout\">root\n |-- CustomerID: integer (nullable = true)\n |-- Genre: string (nullable = true)\n |-- Age: integer (nullable = true)\n |-- Annual Income (k$): integer (nullable = true)\n |-- Spending Score (1-100): integer (nullable = true)\n\n</div>",
       "datasetInfos": [],
       "metadata": {},
       "removedWidgets": [],
       "type": "html"
      }
     },
     "output_type": "display_data"
    }
   ],
   "source": [
    "data.printSchema()  #mostra o esquema inferido pelas variáveis"
   ]
  },
  {
   "cell_type": "code",
   "execution_count": 0,
   "metadata": {
    "application/vnd.databricks.v1+cell": {
     "inputWidgets": {},
     "nuid": "3d565306-d775-41da-a9b1-e5f55819a171",
     "showTitle": false,
     "title": ""
    }
   },
   "outputs": [
    {
     "data": {
      "text/html": [
       "<style scoped>\n",
       "  .ansiout {\n",
       "    display: block;\n",
       "    unicode-bidi: embed;\n",
       "    white-space: pre-wrap;\n",
       "    word-wrap: break-word;\n",
       "    word-break: break-all;\n",
       "    font-family: \"Source Code Pro\", \"Menlo\", monospace;;\n",
       "    font-size: 13px;\n",
       "    color: #555;\n",
       "    margin-left: 4px;\n",
       "    line-height: 19px;\n",
       "  }\n",
       "</style>\n",
       "<div class=\"ansiout\">Out[8]: 200</div>"
      ]
     },
     "metadata": {
      "application/vnd.databricks.v1+output": {
       "addedWidgets": {},
       "arguments": {},
       "data": "<div class=\"ansiout\">Out[8]: 200</div>",
       "datasetInfos": [],
       "metadata": {},
       "removedWidgets": [],
       "type": "html"
      }
     },
     "output_type": "display_data"
    }
   ],
   "source": [
    "data.count()  #conta a quantidade de registros"
   ]
  },
  {
   "cell_type": "code",
   "execution_count": 0,
   "metadata": {
    "application/vnd.databricks.v1+cell": {
     "inputWidgets": {},
     "nuid": "2420a5ab-5a47-40eb-ad05-39e014f3b213",
     "showTitle": false,
     "title": ""
    }
   },
   "outputs": [
    {
     "data": {
      "text/html": [
       "<style scoped>\n",
       "  .ansiout {\n",
       "    display: block;\n",
       "    unicode-bidi: embed;\n",
       "    white-space: pre-wrap;\n",
       "    word-wrap: break-word;\n",
       "    word-break: break-all;\n",
       "    font-family: \"Source Code Pro\", \"Menlo\", monospace;;\n",
       "    font-size: 13px;\n",
       "    color: #555;\n",
       "    margin-left: 4px;\n",
       "    line-height: 19px;\n",
       "  }\n",
       "</style>\n",
       "<div class=\"ansiout\">+----------+-----+---+------------------+----------------------+\n",
       "CustomerID|Genre|Age|Annual Income (k$)|Spending Score (1-100)|\n",
       "+----------+-----+---+------------------+----------------------+\n",
       "         0|    0|  0|                 0|                     0|\n",
       "+----------+-----+---+------------------+----------------------+\n",
       "\n",
       "</div>"
      ]
     },
     "metadata": {
      "application/vnd.databricks.v1+output": {
       "addedWidgets": {},
       "arguments": {},
       "data": "<div class=\"ansiout\">+----------+-----+---+------------------+----------------------+\n|CustomerID|Genre|Age|Annual Income (k$)|Spending Score (1-100)|\n+----------+-----+---+------------------+----------------------+\n|         0|    0|  0|                 0|                     0|\n+----------+-----+---+------------------+----------------------+\n\n</div>",
       "datasetInfos": [],
       "metadata": {},
       "removedWidgets": [],
       "type": "html"
      }
     },
     "output_type": "display_data"
    }
   ],
   "source": [
    "#verificando a existência ou não de valores nulos\n",
    "from pyspark.sql.functions import isnan, when, count, col\n",
    "\n",
    "data.select([count(when(isnan(c), c)).alias(c) for c in data.columns]).show()"
   ]
  },
  {
   "cell_type": "code",
   "execution_count": 0,
   "metadata": {
    "application/vnd.databricks.v1+cell": {
     "inputWidgets": {},
     "nuid": "c0318a2a-2f69-42dd-aa78-7bdeca63f05b",
     "showTitle": false,
     "title": ""
    }
   },
   "outputs": [
    {
     "data": {
      "text/html": [
       "<style scoped>\n",
       "  .ansiout {\n",
       "    display: block;\n",
       "    unicode-bidi: embed;\n",
       "    white-space: pre-wrap;\n",
       "    word-wrap: break-word;\n",
       "    word-break: break-all;\n",
       "    font-family: \"Source Code Pro\", \"Menlo\", monospace;;\n",
       "    font-size: 13px;\n",
       "    color: #555;\n",
       "    margin-left: 4px;\n",
       "    line-height: 19px;\n",
       "  }\n",
       "</style>\n",
       "<div class=\"ansiout\">+-------+------------------+------+-----------------+------------------+----------------------+\n",
       "summary|        CustomerID| Genre|              Age|Annual Income (k$)|Spending Score (1-100)|\n",
       "+-------+------------------+------+-----------------+------------------+----------------------+\n",
       "  count|               200|   200|              200|               200|                   200|\n",
       "   mean|             100.5|  null|            38.85|             60.56|                  50.2|\n",
       " stddev|57.879184513951124|  null|13.96900733155888| 26.26472116527124|    25.823521668370173|\n",
       "    min|                 1|Female|               18|                15|                     1|\n",
       "    max|               200|  Male|               70|               137|                    99|\n",
       "+-------+------------------+------+-----------------+------------------+----------------------+\n",
       "\n",
       "</div>"
      ]
     },
     "metadata": {
      "application/vnd.databricks.v1+output": {
       "addedWidgets": {},
       "arguments": {},
       "data": "<div class=\"ansiout\">+-------+------------------+------+-----------------+------------------+----------------------+\n|summary|        CustomerID| Genre|              Age|Annual Income (k$)|Spending Score (1-100)|\n+-------+------------------+------+-----------------+------------------+----------------------+\n|  count|               200|   200|              200|               200|                   200|\n|   mean|             100.5|  null|            38.85|             60.56|                  50.2|\n| stddev|57.879184513951124|  null|13.96900733155888| 26.26472116527124|    25.823521668370173|\n|    min|                 1|Female|               18|                15|                     1|\n|    max|               200|  Male|               70|               137|                    99|\n+-------+------------------+------+-----------------+------------------+----------------------+\n\n</div>",
       "datasetInfos": [],
       "metadata": {},
       "removedWidgets": [],
       "type": "html"
      }
     },
     "output_type": "display_data"
    }
   ],
   "source": [
    "data.describe().show() #mostrando as estatísticas do dataset"
   ]
  },
  {
   "cell_type": "markdown",
   "metadata": {
    "application/vnd.databricks.v1+cell": {
     "inputWidgets": {},
     "nuid": "786ecd3d-9a89-4502-9fe6-3ef0515a1a55",
     "showTitle": false,
     "title": ""
    }
   },
   "source": [
    "Verificando se existem outliers (anomalias) nos dados. Para isso, será utilizado o boxplot."
   ]
  },
  {
   "cell_type": "code",
   "execution_count": 0,
   "metadata": {
    "application/vnd.databricks.v1+cell": {
     "inputWidgets": {},
     "nuid": "4ace94b5-935b-47ee-a19e-5f72e3997bfe",
     "showTitle": false,
     "title": ""
    }
   },
   "outputs": [
    {
     "data": {
      "text/html": [
       "<style scoped>\n",
       "  .ansiout {\n",
       "    display: block;\n",
       "    unicode-bidi: embed;\n",
       "    white-space: pre-wrap;\n",
       "    word-wrap: break-word;\n",
       "    word-break: break-all;\n",
       "    font-family: \"Source Code Pro\", \"Menlo\", monospace;;\n",
       "    font-size: 13px;\n",
       "    color: #555;\n",
       "    margin-left: 4px;\n",
       "    line-height: 19px;\n",
       "  }\n",
       "</style>\n",
       "<div class=\"ansiout\">+---+------------------+----------------------+\n",
       "Age|Annual Income (k$)|Spending Score (1-100)|\n",
       "+---+------------------+----------------------+\n",
       " 19|                15|                    39|\n",
       " 21|                15|                    81|\n",
       " 20|                16|                     6|\n",
       " 23|                16|                    77|\n",
       " 31|                17|                    40|\n",
       " 22|                17|                    76|\n",
       " 35|                18|                     6|\n",
       " 23|                18|                    94|\n",
       " 64|                19|                     3|\n",
       " 30|                19|                    72|\n",
       " 67|                19|                    14|\n",
       " 35|                19|                    99|\n",
       " 58|                20|                    15|\n",
       " 24|                20|                    77|\n",
       " 37|                20|                    13|\n",
       " 22|                20|                    79|\n",
       " 35|                21|                    35|\n",
       " 20|                21|                    66|\n",
       " 52|                23|                    29|\n",
       " 35|                23|                    98|\n",
       "+---+------------------+----------------------+\n",
       "only showing top 20 rows\n",
       "\n",
       "</div>"
      ]
     },
     "metadata": {
      "application/vnd.databricks.v1+output": {
       "addedWidgets": {},
       "arguments": {},
       "data": "<div class=\"ansiout\">+---+------------------+----------------------+\n|Age|Annual Income (k$)|Spending Score (1-100)|\n+---+------------------+----------------------+\n| 19|                15|                    39|\n| 21|                15|                    81|\n| 20|                16|                     6|\n| 23|                16|                    77|\n| 31|                17|                    40|\n| 22|                17|                    76|\n| 35|                18|                     6|\n| 23|                18|                    94|\n| 64|                19|                     3|\n| 30|                19|                    72|\n| 67|                19|                    14|\n| 35|                19|                    99|\n| 58|                20|                    15|\n| 24|                20|                    77|\n| 37|                20|                    13|\n| 22|                20|                    79|\n| 35|                21|                    35|\n| 20|                21|                    66|\n| 52|                23|                    29|\n| 35|                23|                    98|\n+---+------------------+----------------------+\nonly showing top 20 rows\n\n</div>",
       "datasetInfos": [
        {
         "name": "data_outliers",
         "schema": {
          "fields": [
           {
            "metadata": {},
            "name": "Age",
            "nullable": true,
            "type": "integer"
           },
           {
            "metadata": {},
            "name": "Annual Income (k$)",
            "nullable": true,
            "type": "integer"
           },
           {
            "metadata": {},
            "name": "Spending Score (1-100)",
            "nullable": true,
            "type": "integer"
           }
          ],
          "type": "struct"
         },
         "tableIdentifier": null,
         "typeStr": "pyspark.sql.dataframe.DataFrame"
        }
       ],
       "metadata": {},
       "removedWidgets": [],
       "type": "html"
      }
     },
     "output_type": "display_data"
    }
   ],
   "source": [
    "#selecionando apenas algumas colunas\n",
    "data_outliers=data.select([c for c in data.columns if c in ['Age','Annual Income (k$)','Spending Score (1-100)']])\n",
    "data_outliers.show()"
   ]
  },
  {
   "cell_type": "code",
   "execution_count": 0,
   "metadata": {
    "application/vnd.databricks.v1+cell": {
     "inputWidgets": {},
     "nuid": "9e8a098b-a75b-4449-b505-94062adba171",
     "showTitle": false,
     "title": ""
    }
   },
   "outputs": [
    {
     "data": {
      "text/html": [
       "<style scoped>\n",
       "  .table-result-container {\n",
       "    max-height: 300px;\n",
       "    overflow: auto;\n",
       "  }\n",
       "  table, th, td {\n",
       "    border: 1px solid black;\n",
       "    border-collapse: collapse;\n",
       "  }\n",
       "  th, td {\n",
       "    padding: 5px;\n",
       "  }\n",
       "  th {\n",
       "    text-align: left;\n",
       "  }\n",
       "</style><div class='table-result-container'><table class='table-result'><thead style='background-color: white'><tr><th>Age</th><th>Annual Income (k$)</th><th>Spending Score (1-100)</th></tr></thead><tbody><tr><td>19</td><td>15</td><td>39</td></tr><tr><td>21</td><td>15</td><td>81</td></tr><tr><td>20</td><td>16</td><td>6</td></tr><tr><td>23</td><td>16</td><td>77</td></tr><tr><td>31</td><td>17</td><td>40</td></tr><tr><td>22</td><td>17</td><td>76</td></tr><tr><td>35</td><td>18</td><td>6</td></tr><tr><td>23</td><td>18</td><td>94</td></tr><tr><td>64</td><td>19</td><td>3</td></tr><tr><td>30</td><td>19</td><td>72</td></tr><tr><td>67</td><td>19</td><td>14</td></tr><tr><td>35</td><td>19</td><td>99</td></tr><tr><td>58</td><td>20</td><td>15</td></tr><tr><td>24</td><td>20</td><td>77</td></tr><tr><td>37</td><td>20</td><td>13</td></tr><tr><td>22</td><td>20</td><td>79</td></tr><tr><td>35</td><td>21</td><td>35</td></tr><tr><td>20</td><td>21</td><td>66</td></tr><tr><td>52</td><td>23</td><td>29</td></tr><tr><td>35</td><td>23</td><td>98</td></tr><tr><td>35</td><td>24</td><td>35</td></tr><tr><td>25</td><td>24</td><td>73</td></tr><tr><td>46</td><td>25</td><td>5</td></tr><tr><td>31</td><td>25</td><td>73</td></tr><tr><td>54</td><td>28</td><td>14</td></tr><tr><td>29</td><td>28</td><td>82</td></tr><tr><td>45</td><td>28</td><td>32</td></tr><tr><td>35</td><td>28</td><td>61</td></tr><tr><td>40</td><td>29</td><td>31</td></tr><tr><td>23</td><td>29</td><td>87</td></tr><tr><td>60</td><td>30</td><td>4</td></tr><tr><td>21</td><td>30</td><td>73</td></tr><tr><td>53</td><td>33</td><td>4</td></tr><tr><td>18</td><td>33</td><td>92</td></tr><tr><td>49</td><td>33</td><td>14</td></tr><tr><td>21</td><td>33</td><td>81</td></tr><tr><td>42</td><td>34</td><td>17</td></tr><tr><td>30</td><td>34</td><td>73</td></tr><tr><td>36</td><td>37</td><td>26</td></tr><tr><td>20</td><td>37</td><td>75</td></tr><tr><td>65</td><td>38</td><td>35</td></tr><tr><td>24</td><td>38</td><td>92</td></tr><tr><td>48</td><td>39</td><td>36</td></tr><tr><td>31</td><td>39</td><td>61</td></tr><tr><td>49</td><td>39</td><td>28</td></tr><tr><td>24</td><td>39</td><td>65</td></tr><tr><td>50</td><td>40</td><td>55</td></tr><tr><td>27</td><td>40</td><td>47</td></tr><tr><td>29</td><td>40</td><td>42</td></tr><tr><td>31</td><td>40</td><td>42</td></tr><tr><td>49</td><td>42</td><td>52</td></tr><tr><td>33</td><td>42</td><td>60</td></tr><tr><td>31</td><td>43</td><td>54</td></tr><tr><td>59</td><td>43</td><td>60</td></tr><tr><td>50</td><td>43</td><td>45</td></tr><tr><td>47</td><td>43</td><td>41</td></tr><tr><td>51</td><td>44</td><td>50</td></tr><tr><td>69</td><td>44</td><td>46</td></tr><tr><td>27</td><td>46</td><td>51</td></tr><tr><td>53</td><td>46</td><td>46</td></tr><tr><td>70</td><td>46</td><td>56</td></tr><tr><td>19</td><td>46</td><td>55</td></tr><tr><td>67</td><td>47</td><td>52</td></tr><tr><td>54</td><td>47</td><td>59</td></tr><tr><td>63</td><td>48</td><td>51</td></tr><tr><td>18</td><td>48</td><td>59</td></tr><tr><td>43</td><td>48</td><td>50</td></tr><tr><td>68</td><td>48</td><td>48</td></tr><tr><td>19</td><td>48</td><td>59</td></tr><tr><td>32</td><td>48</td><td>47</td></tr><tr><td>70</td><td>49</td><td>55</td></tr><tr><td>47</td><td>49</td><td>42</td></tr><tr><td>60</td><td>50</td><td>49</td></tr><tr><td>60</td><td>50</td><td>56</td></tr><tr><td>59</td><td>54</td><td>47</td></tr><tr><td>26</td><td>54</td><td>54</td></tr><tr><td>45</td><td>54</td><td>53</td></tr><tr><td>40</td><td>54</td><td>48</td></tr><tr><td>23</td><td>54</td><td>52</td></tr><tr><td>49</td><td>54</td><td>42</td></tr><tr><td>57</td><td>54</td><td>51</td></tr><tr><td>38</td><td>54</td><td>55</td></tr><tr><td>67</td><td>54</td><td>41</td></tr><tr><td>46</td><td>54</td><td>44</td></tr><tr><td>21</td><td>54</td><td>57</td></tr><tr><td>48</td><td>54</td><td>46</td></tr><tr><td>55</td><td>57</td><td>58</td></tr><tr><td>22</td><td>57</td><td>55</td></tr><tr><td>34</td><td>58</td><td>60</td></tr><tr><td>50</td><td>58</td><td>46</td></tr><tr><td>68</td><td>59</td><td>55</td></tr><tr><td>18</td><td>59</td><td>41</td></tr><tr><td>48</td><td>60</td><td>49</td></tr><tr><td>40</td><td>60</td><td>40</td></tr><tr><td>32</td><td>60</td><td>42</td></tr><tr><td>24</td><td>60</td><td>52</td></tr><tr><td>47</td><td>60</td><td>47</td></tr><tr><td>27</td><td>60</td><td>50</td></tr><tr><td>48</td><td>61</td><td>42</td></tr><tr><td>20</td><td>61</td><td>49</td></tr><tr><td>23</td><td>62</td><td>41</td></tr><tr><td>49</td><td>62</td><td>48</td></tr><tr><td>67</td><td>62</td><td>59</td></tr><tr><td>26</td><td>62</td><td>55</td></tr><tr><td>49</td><td>62</td><td>56</td></tr><tr><td>21</td><td>62</td><td>42</td></tr><tr><td>66</td><td>63</td><td>50</td></tr><tr><td>54</td><td>63</td><td>46</td></tr><tr><td>68</td><td>63</td><td>43</td></tr><tr><td>66</td><td>63</td><td>48</td></tr><tr><td>65</td><td>63</td><td>52</td></tr><tr><td>19</td><td>63</td><td>54</td></tr><tr><td>38</td><td>64</td><td>42</td></tr><tr><td>19</td><td>64</td><td>46</td></tr><tr><td>18</td><td>65</td><td>48</td></tr><tr><td>19</td><td>65</td><td>50</td></tr><tr><td>63</td><td>65</td><td>43</td></tr><tr><td>49</td><td>65</td><td>59</td></tr><tr><td>51</td><td>67</td><td>43</td></tr><tr><td>50</td><td>67</td><td>57</td></tr><tr><td>27</td><td>67</td><td>56</td></tr><tr><td>38</td><td>67</td><td>40</td></tr><tr><td>40</td><td>69</td><td>58</td></tr><tr><td>39</td><td>69</td><td>91</td></tr><tr><td>23</td><td>70</td><td>29</td></tr><tr><td>31</td><td>70</td><td>77</td></tr><tr><td>43</td><td>71</td><td>35</td></tr><tr><td>40</td><td>71</td><td>95</td></tr><tr><td>59</td><td>71</td><td>11</td></tr><tr><td>38</td><td>71</td><td>75</td></tr><tr><td>47</td><td>71</td><td>9</td></tr><tr><td>39</td><td>71</td><td>75</td></tr><tr><td>25</td><td>72</td><td>34</td></tr><tr><td>31</td><td>72</td><td>71</td></tr><tr><td>20</td><td>73</td><td>5</td></tr><tr><td>29</td><td>73</td><td>88</td></tr><tr><td>44</td><td>73</td><td>7</td></tr><tr><td>32</td><td>73</td><td>73</td></tr><tr><td>19</td><td>74</td><td>10</td></tr><tr><td>35</td><td>74</td><td>72</td></tr><tr><td>57</td><td>75</td><td>5</td></tr><tr><td>32</td><td>75</td><td>93</td></tr><tr><td>28</td><td>76</td><td>40</td></tr><tr><td>32</td><td>76</td><td>87</td></tr><tr><td>25</td><td>77</td><td>12</td></tr><tr><td>28</td><td>77</td><td>97</td></tr><tr><td>48</td><td>77</td><td>36</td></tr><tr><td>32</td><td>77</td><td>74</td></tr><tr><td>34</td><td>78</td><td>22</td></tr><tr><td>34</td><td>78</td><td>90</td></tr><tr><td>43</td><td>78</td><td>17</td></tr><tr><td>39</td><td>78</td><td>88</td></tr><tr><td>44</td><td>78</td><td>20</td></tr><tr><td>38</td><td>78</td><td>76</td></tr><tr><td>47</td><td>78</td><td>16</td></tr><tr><td>27</td><td>78</td><td>89</td></tr><tr><td>37</td><td>78</td><td>1</td></tr><tr><td>30</td><td>78</td><td>78</td></tr><tr><td>34</td><td>78</td><td>1</td></tr><tr><td>30</td><td>78</td><td>73</td></tr><tr><td>56</td><td>79</td><td>35</td></tr><tr><td>29</td><td>79</td><td>83</td></tr><tr><td>19</td><td>81</td><td>5</td></tr><tr><td>31</td><td>81</td><td>93</td></tr><tr><td>50</td><td>85</td><td>26</td></tr><tr><td>36</td><td>85</td><td>75</td></tr><tr><td>42</td><td>86</td><td>20</td></tr><tr><td>33</td><td>86</td><td>95</td></tr><tr><td>36</td><td>87</td><td>27</td></tr><tr><td>32</td><td>87</td><td>63</td></tr><tr><td>40</td><td>87</td><td>13</td></tr><tr><td>28</td><td>87</td><td>75</td></tr><tr><td>36</td><td>87</td><td>10</td></tr><tr><td>36</td><td>87</td><td>92</td></tr><tr><td>52</td><td>88</td><td>13</td></tr><tr><td>30</td><td>88</td><td>86</td></tr><tr><td>58</td><td>88</td><td>15</td></tr><tr><td>27</td><td>88</td><td>69</td></tr><tr><td>59</td><td>93</td><td>14</td></tr><tr><td>35</td><td>93</td><td>90</td></tr><tr><td>37</td><td>97</td><td>32</td></tr><tr><td>32</td><td>97</td><td>86</td></tr><tr><td>46</td><td>98</td><td>15</td></tr><tr><td>29</td><td>98</td><td>88</td></tr><tr><td>41</td><td>99</td><td>39</td></tr><tr><td>30</td><td>99</td><td>97</td></tr><tr><td>54</td><td>101</td><td>24</td></tr><tr><td>28</td><td>101</td><td>68</td></tr><tr><td>41</td><td>103</td><td>17</td></tr><tr><td>36</td><td>103</td><td>85</td></tr><tr><td>34</td><td>103</td><td>23</td></tr><tr><td>32</td><td>103</td><td>69</td></tr><tr><td>33</td><td>113</td><td>8</td></tr><tr><td>38</td><td>113</td><td>91</td></tr><tr><td>47</td><td>120</td><td>16</td></tr><tr><td>35</td><td>120</td><td>79</td></tr><tr><td>45</td><td>126</td><td>28</td></tr><tr><td>32</td><td>126</td><td>74</td></tr><tr><td>32</td><td>137</td><td>18</td></tr><tr><td>30</td><td>137</td><td>83</td></tr></tbody></table></div>"
      ]
     },
     "metadata": {
      "application/vnd.databricks.v1+output": {
       "addedWidgets": {},
       "aggData": [],
       "aggError": "",
       "aggOverflow": false,
       "aggSchema": [],
       "aggSeriesLimitReached": false,
       "aggType": "",
       "arguments": {},
       "columnCustomDisplayInfos": {},
       "data": [
        [
         19,
         15,
         39
        ],
        [
         21,
         15,
         81
        ],
        [
         20,
         16,
         6
        ],
        [
         23,
         16,
         77
        ],
        [
         31,
         17,
         40
        ],
        [
         22,
         17,
         76
        ],
        [
         35,
         18,
         6
        ],
        [
         23,
         18,
         94
        ],
        [
         64,
         19,
         3
        ],
        [
         30,
         19,
         72
        ],
        [
         67,
         19,
         14
        ],
        [
         35,
         19,
         99
        ],
        [
         58,
         20,
         15
        ],
        [
         24,
         20,
         77
        ],
        [
         37,
         20,
         13
        ],
        [
         22,
         20,
         79
        ],
        [
         35,
         21,
         35
        ],
        [
         20,
         21,
         66
        ],
        [
         52,
         23,
         29
        ],
        [
         35,
         23,
         98
        ],
        [
         35,
         24,
         35
        ],
        [
         25,
         24,
         73
        ],
        [
         46,
         25,
         5
        ],
        [
         31,
         25,
         73
        ],
        [
         54,
         28,
         14
        ],
        [
         29,
         28,
         82
        ],
        [
         45,
         28,
         32
        ],
        [
         35,
         28,
         61
        ],
        [
         40,
         29,
         31
        ],
        [
         23,
         29,
         87
        ],
        [
         60,
         30,
         4
        ],
        [
         21,
         30,
         73
        ],
        [
         53,
         33,
         4
        ],
        [
         18,
         33,
         92
        ],
        [
         49,
         33,
         14
        ],
        [
         21,
         33,
         81
        ],
        [
         42,
         34,
         17
        ],
        [
         30,
         34,
         73
        ],
        [
         36,
         37,
         26
        ],
        [
         20,
         37,
         75
        ],
        [
         65,
         38,
         35
        ],
        [
         24,
         38,
         92
        ],
        [
         48,
         39,
         36
        ],
        [
         31,
         39,
         61
        ],
        [
         49,
         39,
         28
        ],
        [
         24,
         39,
         65
        ],
        [
         50,
         40,
         55
        ],
        [
         27,
         40,
         47
        ],
        [
         29,
         40,
         42
        ],
        [
         31,
         40,
         42
        ],
        [
         49,
         42,
         52
        ],
        [
         33,
         42,
         60
        ],
        [
         31,
         43,
         54
        ],
        [
         59,
         43,
         60
        ],
        [
         50,
         43,
         45
        ],
        [
         47,
         43,
         41
        ],
        [
         51,
         44,
         50
        ],
        [
         69,
         44,
         46
        ],
        [
         27,
         46,
         51
        ],
        [
         53,
         46,
         46
        ],
        [
         70,
         46,
         56
        ],
        [
         19,
         46,
         55
        ],
        [
         67,
         47,
         52
        ],
        [
         54,
         47,
         59
        ],
        [
         63,
         48,
         51
        ],
        [
         18,
         48,
         59
        ],
        [
         43,
         48,
         50
        ],
        [
         68,
         48,
         48
        ],
        [
         19,
         48,
         59
        ],
        [
         32,
         48,
         47
        ],
        [
         70,
         49,
         55
        ],
        [
         47,
         49,
         42
        ],
        [
         60,
         50,
         49
        ],
        [
         60,
         50,
         56
        ],
        [
         59,
         54,
         47
        ],
        [
         26,
         54,
         54
        ],
        [
         45,
         54,
         53
        ],
        [
         40,
         54,
         48
        ],
        [
         23,
         54,
         52
        ],
        [
         49,
         54,
         42
        ],
        [
         57,
         54,
         51
        ],
        [
         38,
         54,
         55
        ],
        [
         67,
         54,
         41
        ],
        [
         46,
         54,
         44
        ],
        [
         21,
         54,
         57
        ],
        [
         48,
         54,
         46
        ],
        [
         55,
         57,
         58
        ],
        [
         22,
         57,
         55
        ],
        [
         34,
         58,
         60
        ],
        [
         50,
         58,
         46
        ],
        [
         68,
         59,
         55
        ],
        [
         18,
         59,
         41
        ],
        [
         48,
         60,
         49
        ],
        [
         40,
         60,
         40
        ],
        [
         32,
         60,
         42
        ],
        [
         24,
         60,
         52
        ],
        [
         47,
         60,
         47
        ],
        [
         27,
         60,
         50
        ],
        [
         48,
         61,
         42
        ],
        [
         20,
         61,
         49
        ],
        [
         23,
         62,
         41
        ],
        [
         49,
         62,
         48
        ],
        [
         67,
         62,
         59
        ],
        [
         26,
         62,
         55
        ],
        [
         49,
         62,
         56
        ],
        [
         21,
         62,
         42
        ],
        [
         66,
         63,
         50
        ],
        [
         54,
         63,
         46
        ],
        [
         68,
         63,
         43
        ],
        [
         66,
         63,
         48
        ],
        [
         65,
         63,
         52
        ],
        [
         19,
         63,
         54
        ],
        [
         38,
         64,
         42
        ],
        [
         19,
         64,
         46
        ],
        [
         18,
         65,
         48
        ],
        [
         19,
         65,
         50
        ],
        [
         63,
         65,
         43
        ],
        [
         49,
         65,
         59
        ],
        [
         51,
         67,
         43
        ],
        [
         50,
         67,
         57
        ],
        [
         27,
         67,
         56
        ],
        [
         38,
         67,
         40
        ],
        [
         40,
         69,
         58
        ],
        [
         39,
         69,
         91
        ],
        [
         23,
         70,
         29
        ],
        [
         31,
         70,
         77
        ],
        [
         43,
         71,
         35
        ],
        [
         40,
         71,
         95
        ],
        [
         59,
         71,
         11
        ],
        [
         38,
         71,
         75
        ],
        [
         47,
         71,
         9
        ],
        [
         39,
         71,
         75
        ],
        [
         25,
         72,
         34
        ],
        [
         31,
         72,
         71
        ],
        [
         20,
         73,
         5
        ],
        [
         29,
         73,
         88
        ],
        [
         44,
         73,
         7
        ],
        [
         32,
         73,
         73
        ],
        [
         19,
         74,
         10
        ],
        [
         35,
         74,
         72
        ],
        [
         57,
         75,
         5
        ],
        [
         32,
         75,
         93
        ],
        [
         28,
         76,
         40
        ],
        [
         32,
         76,
         87
        ],
        [
         25,
         77,
         12
        ],
        [
         28,
         77,
         97
        ],
        [
         48,
         77,
         36
        ],
        [
         32,
         77,
         74
        ],
        [
         34,
         78,
         22
        ],
        [
         34,
         78,
         90
        ],
        [
         43,
         78,
         17
        ],
        [
         39,
         78,
         88
        ],
        [
         44,
         78,
         20
        ],
        [
         38,
         78,
         76
        ],
        [
         47,
         78,
         16
        ],
        [
         27,
         78,
         89
        ],
        [
         37,
         78,
         1
        ],
        [
         30,
         78,
         78
        ],
        [
         34,
         78,
         1
        ],
        [
         30,
         78,
         73
        ],
        [
         56,
         79,
         35
        ],
        [
         29,
         79,
         83
        ],
        [
         19,
         81,
         5
        ],
        [
         31,
         81,
         93
        ],
        [
         50,
         85,
         26
        ],
        [
         36,
         85,
         75
        ],
        [
         42,
         86,
         20
        ],
        [
         33,
         86,
         95
        ],
        [
         36,
         87,
         27
        ],
        [
         32,
         87,
         63
        ],
        [
         40,
         87,
         13
        ],
        [
         28,
         87,
         75
        ],
        [
         36,
         87,
         10
        ],
        [
         36,
         87,
         92
        ],
        [
         52,
         88,
         13
        ],
        [
         30,
         88,
         86
        ],
        [
         58,
         88,
         15
        ],
        [
         27,
         88,
         69
        ],
        [
         59,
         93,
         14
        ],
        [
         35,
         93,
         90
        ],
        [
         37,
         97,
         32
        ],
        [
         32,
         97,
         86
        ],
        [
         46,
         98,
         15
        ],
        [
         29,
         98,
         88
        ],
        [
         41,
         99,
         39
        ],
        [
         30,
         99,
         97
        ],
        [
         54,
         101,
         24
        ],
        [
         28,
         101,
         68
        ],
        [
         41,
         103,
         17
        ],
        [
         36,
         103,
         85
        ],
        [
         34,
         103,
         23
        ],
        [
         32,
         103,
         69
        ],
        [
         33,
         113,
         8
        ],
        [
         38,
         113,
         91
        ],
        [
         47,
         120,
         16
        ],
        [
         35,
         120,
         79
        ],
        [
         45,
         126,
         28
        ],
        [
         32,
         126,
         74
        ],
        [
         32,
         137,
         18
        ],
        [
         30,
         137,
         83
        ]
       ],
       "datasetInfos": [],
       "dbfsResultPath": null,
       "isJsonSchema": true,
       "metadata": {},
       "overflow": false,
       "plotOptions": {
        "customPlotOptions": {
         "boxPlot": []
        },
        "displayType": "boxPlot",
        "pivotAggregation": "sum",
        "pivotColumns": [],
        "xColumns": [],
        "yColumns": [
         "Annual Income (k$)"
        ]
       },
       "removedWidgets": [],
       "schema": [
        {
         "metadata": "{}",
         "name": "Age",
         "type": "\"integer\""
        },
        {
         "metadata": "{}",
         "name": "Annual Income (k$)",
         "type": "\"integer\""
        },
        {
         "metadata": "{}",
         "name": "Spending Score (1-100)",
         "type": "\"integer\""
        }
       ],
       "type": "table"
      }
     },
     "output_type": "display_data"
    }
   ],
   "source": [
    "#boxplot\n",
    "display(data_outliers)"
   ]
  },
  {
   "cell_type": "code",
   "execution_count": 0,
   "metadata": {
    "application/vnd.databricks.v1+cell": {
     "inputWidgets": {},
     "nuid": "d43599b2-81a5-4283-9532-17243ebf7203",
     "showTitle": false,
     "title": ""
    }
   },
   "outputs": [
    {
     "data": {
      "text/html": [
       "<style scoped>\n",
       "  .table-result-container {\n",
       "    max-height: 300px;\n",
       "    overflow: auto;\n",
       "  }\n",
       "  table, th, td {\n",
       "    border: 1px solid black;\n",
       "    border-collapse: collapse;\n",
       "  }\n",
       "  th, td {\n",
       "    padding: 5px;\n",
       "  }\n",
       "  th {\n",
       "    text-align: left;\n",
       "  }\n",
       "</style><div class='table-result-container'><table class='table-result'><thead style='background-color: white'><tr><th>Age</th><th>Annual Income (k$)</th><th>Spending Score (1-100)</th></tr></thead><tbody><tr><td>19</td><td>15</td><td>39</td></tr><tr><td>21</td><td>15</td><td>81</td></tr><tr><td>20</td><td>16</td><td>6</td></tr><tr><td>23</td><td>16</td><td>77</td></tr><tr><td>31</td><td>17</td><td>40</td></tr><tr><td>22</td><td>17</td><td>76</td></tr><tr><td>35</td><td>18</td><td>6</td></tr><tr><td>23</td><td>18</td><td>94</td></tr><tr><td>64</td><td>19</td><td>3</td></tr><tr><td>30</td><td>19</td><td>72</td></tr><tr><td>67</td><td>19</td><td>14</td></tr><tr><td>35</td><td>19</td><td>99</td></tr><tr><td>58</td><td>20</td><td>15</td></tr><tr><td>24</td><td>20</td><td>77</td></tr><tr><td>37</td><td>20</td><td>13</td></tr><tr><td>22</td><td>20</td><td>79</td></tr><tr><td>35</td><td>21</td><td>35</td></tr><tr><td>20</td><td>21</td><td>66</td></tr><tr><td>52</td><td>23</td><td>29</td></tr><tr><td>35</td><td>23</td><td>98</td></tr><tr><td>35</td><td>24</td><td>35</td></tr><tr><td>25</td><td>24</td><td>73</td></tr><tr><td>46</td><td>25</td><td>5</td></tr><tr><td>31</td><td>25</td><td>73</td></tr><tr><td>54</td><td>28</td><td>14</td></tr><tr><td>29</td><td>28</td><td>82</td></tr><tr><td>45</td><td>28</td><td>32</td></tr><tr><td>35</td><td>28</td><td>61</td></tr><tr><td>40</td><td>29</td><td>31</td></tr><tr><td>23</td><td>29</td><td>87</td></tr><tr><td>60</td><td>30</td><td>4</td></tr><tr><td>21</td><td>30</td><td>73</td></tr><tr><td>53</td><td>33</td><td>4</td></tr><tr><td>18</td><td>33</td><td>92</td></tr><tr><td>49</td><td>33</td><td>14</td></tr><tr><td>21</td><td>33</td><td>81</td></tr><tr><td>42</td><td>34</td><td>17</td></tr><tr><td>30</td><td>34</td><td>73</td></tr><tr><td>36</td><td>37</td><td>26</td></tr><tr><td>20</td><td>37</td><td>75</td></tr><tr><td>65</td><td>38</td><td>35</td></tr><tr><td>24</td><td>38</td><td>92</td></tr><tr><td>48</td><td>39</td><td>36</td></tr><tr><td>31</td><td>39</td><td>61</td></tr><tr><td>49</td><td>39</td><td>28</td></tr><tr><td>24</td><td>39</td><td>65</td></tr><tr><td>50</td><td>40</td><td>55</td></tr><tr><td>27</td><td>40</td><td>47</td></tr><tr><td>29</td><td>40</td><td>42</td></tr><tr><td>31</td><td>40</td><td>42</td></tr><tr><td>49</td><td>42</td><td>52</td></tr><tr><td>33</td><td>42</td><td>60</td></tr><tr><td>31</td><td>43</td><td>54</td></tr><tr><td>59</td><td>43</td><td>60</td></tr><tr><td>50</td><td>43</td><td>45</td></tr><tr><td>47</td><td>43</td><td>41</td></tr><tr><td>51</td><td>44</td><td>50</td></tr><tr><td>69</td><td>44</td><td>46</td></tr><tr><td>27</td><td>46</td><td>51</td></tr><tr><td>53</td><td>46</td><td>46</td></tr><tr><td>70</td><td>46</td><td>56</td></tr><tr><td>19</td><td>46</td><td>55</td></tr><tr><td>67</td><td>47</td><td>52</td></tr><tr><td>54</td><td>47</td><td>59</td></tr><tr><td>63</td><td>48</td><td>51</td></tr><tr><td>18</td><td>48</td><td>59</td></tr><tr><td>43</td><td>48</td><td>50</td></tr><tr><td>68</td><td>48</td><td>48</td></tr><tr><td>19</td><td>48</td><td>59</td></tr><tr><td>32</td><td>48</td><td>47</td></tr><tr><td>70</td><td>49</td><td>55</td></tr><tr><td>47</td><td>49</td><td>42</td></tr><tr><td>60</td><td>50</td><td>49</td></tr><tr><td>60</td><td>50</td><td>56</td></tr><tr><td>59</td><td>54</td><td>47</td></tr><tr><td>26</td><td>54</td><td>54</td></tr><tr><td>45</td><td>54</td><td>53</td></tr><tr><td>40</td><td>54</td><td>48</td></tr><tr><td>23</td><td>54</td><td>52</td></tr><tr><td>49</td><td>54</td><td>42</td></tr><tr><td>57</td><td>54</td><td>51</td></tr><tr><td>38</td><td>54</td><td>55</td></tr><tr><td>67</td><td>54</td><td>41</td></tr><tr><td>46</td><td>54</td><td>44</td></tr><tr><td>21</td><td>54</td><td>57</td></tr><tr><td>48</td><td>54</td><td>46</td></tr><tr><td>55</td><td>57</td><td>58</td></tr><tr><td>22</td><td>57</td><td>55</td></tr><tr><td>34</td><td>58</td><td>60</td></tr><tr><td>50</td><td>58</td><td>46</td></tr><tr><td>68</td><td>59</td><td>55</td></tr><tr><td>18</td><td>59</td><td>41</td></tr><tr><td>48</td><td>60</td><td>49</td></tr><tr><td>40</td><td>60</td><td>40</td></tr><tr><td>32</td><td>60</td><td>42</td></tr><tr><td>24</td><td>60</td><td>52</td></tr><tr><td>47</td><td>60</td><td>47</td></tr><tr><td>27</td><td>60</td><td>50</td></tr><tr><td>48</td><td>61</td><td>42</td></tr><tr><td>20</td><td>61</td><td>49</td></tr><tr><td>23</td><td>62</td><td>41</td></tr><tr><td>49</td><td>62</td><td>48</td></tr><tr><td>67</td><td>62</td><td>59</td></tr><tr><td>26</td><td>62</td><td>55</td></tr><tr><td>49</td><td>62</td><td>56</td></tr><tr><td>21</td><td>62</td><td>42</td></tr><tr><td>66</td><td>63</td><td>50</td></tr><tr><td>54</td><td>63</td><td>46</td></tr><tr><td>68</td><td>63</td><td>43</td></tr><tr><td>66</td><td>63</td><td>48</td></tr><tr><td>65</td><td>63</td><td>52</td></tr><tr><td>19</td><td>63</td><td>54</td></tr><tr><td>38</td><td>64</td><td>42</td></tr><tr><td>19</td><td>64</td><td>46</td></tr><tr><td>18</td><td>65</td><td>48</td></tr><tr><td>19</td><td>65</td><td>50</td></tr><tr><td>63</td><td>65</td><td>43</td></tr><tr><td>49</td><td>65</td><td>59</td></tr><tr><td>51</td><td>67</td><td>43</td></tr><tr><td>50</td><td>67</td><td>57</td></tr><tr><td>27</td><td>67</td><td>56</td></tr><tr><td>38</td><td>67</td><td>40</td></tr><tr><td>40</td><td>69</td><td>58</td></tr><tr><td>39</td><td>69</td><td>91</td></tr><tr><td>23</td><td>70</td><td>29</td></tr><tr><td>31</td><td>70</td><td>77</td></tr><tr><td>43</td><td>71</td><td>35</td></tr><tr><td>40</td><td>71</td><td>95</td></tr><tr><td>59</td><td>71</td><td>11</td></tr><tr><td>38</td><td>71</td><td>75</td></tr><tr><td>47</td><td>71</td><td>9</td></tr><tr><td>39</td><td>71</td><td>75</td></tr><tr><td>25</td><td>72</td><td>34</td></tr><tr><td>31</td><td>72</td><td>71</td></tr><tr><td>20</td><td>73</td><td>5</td></tr><tr><td>29</td><td>73</td><td>88</td></tr><tr><td>44</td><td>73</td><td>7</td></tr><tr><td>32</td><td>73</td><td>73</td></tr><tr><td>19</td><td>74</td><td>10</td></tr><tr><td>35</td><td>74</td><td>72</td></tr><tr><td>57</td><td>75</td><td>5</td></tr><tr><td>32</td><td>75</td><td>93</td></tr><tr><td>28</td><td>76</td><td>40</td></tr><tr><td>32</td><td>76</td><td>87</td></tr><tr><td>25</td><td>77</td><td>12</td></tr><tr><td>28</td><td>77</td><td>97</td></tr><tr><td>48</td><td>77</td><td>36</td></tr><tr><td>32</td><td>77</td><td>74</td></tr><tr><td>34</td><td>78</td><td>22</td></tr><tr><td>34</td><td>78</td><td>90</td></tr><tr><td>43</td><td>78</td><td>17</td></tr><tr><td>39</td><td>78</td><td>88</td></tr><tr><td>44</td><td>78</td><td>20</td></tr><tr><td>38</td><td>78</td><td>76</td></tr><tr><td>47</td><td>78</td><td>16</td></tr><tr><td>27</td><td>78</td><td>89</td></tr><tr><td>37</td><td>78</td><td>1</td></tr><tr><td>30</td><td>78</td><td>78</td></tr><tr><td>34</td><td>78</td><td>1</td></tr><tr><td>30</td><td>78</td><td>73</td></tr><tr><td>56</td><td>79</td><td>35</td></tr><tr><td>29</td><td>79</td><td>83</td></tr><tr><td>19</td><td>81</td><td>5</td></tr><tr><td>31</td><td>81</td><td>93</td></tr><tr><td>50</td><td>85</td><td>26</td></tr><tr><td>36</td><td>85</td><td>75</td></tr><tr><td>42</td><td>86</td><td>20</td></tr><tr><td>33</td><td>86</td><td>95</td></tr><tr><td>36</td><td>87</td><td>27</td></tr><tr><td>32</td><td>87</td><td>63</td></tr><tr><td>40</td><td>87</td><td>13</td></tr><tr><td>28</td><td>87</td><td>75</td></tr><tr><td>36</td><td>87</td><td>10</td></tr><tr><td>36</td><td>87</td><td>92</td></tr><tr><td>52</td><td>88</td><td>13</td></tr><tr><td>30</td><td>88</td><td>86</td></tr><tr><td>58</td><td>88</td><td>15</td></tr><tr><td>27</td><td>88</td><td>69</td></tr><tr><td>59</td><td>93</td><td>14</td></tr><tr><td>35</td><td>93</td><td>90</td></tr><tr><td>37</td><td>97</td><td>32</td></tr><tr><td>32</td><td>97</td><td>86</td></tr><tr><td>46</td><td>98</td><td>15</td></tr><tr><td>29</td><td>98</td><td>88</td></tr><tr><td>41</td><td>99</td><td>39</td></tr><tr><td>30</td><td>99</td><td>97</td></tr><tr><td>54</td><td>101</td><td>24</td></tr><tr><td>28</td><td>101</td><td>68</td></tr><tr><td>41</td><td>103</td><td>17</td></tr><tr><td>36</td><td>103</td><td>85</td></tr><tr><td>34</td><td>103</td><td>23</td></tr><tr><td>32</td><td>103</td><td>69</td></tr><tr><td>33</td><td>113</td><td>8</td></tr><tr><td>38</td><td>113</td><td>91</td></tr><tr><td>47</td><td>120</td><td>16</td></tr><tr><td>35</td><td>120</td><td>79</td></tr><tr><td>45</td><td>126</td><td>28</td></tr><tr><td>32</td><td>126</td><td>74</td></tr><tr><td>32</td><td>137</td><td>18</td></tr><tr><td>30</td><td>137</td><td>83</td></tr></tbody></table></div>"
      ]
     },
     "metadata": {
      "application/vnd.databricks.v1+output": {
       "addedWidgets": {},
       "aggData": [],
       "aggError": "",
       "aggOverflow": false,
       "aggSchema": [],
       "aggSeriesLimitReached": false,
       "aggType": "",
       "arguments": {},
       "columnCustomDisplayInfos": {},
       "data": [
        [
         19,
         15,
         39
        ],
        [
         21,
         15,
         81
        ],
        [
         20,
         16,
         6
        ],
        [
         23,
         16,
         77
        ],
        [
         31,
         17,
         40
        ],
        [
         22,
         17,
         76
        ],
        [
         35,
         18,
         6
        ],
        [
         23,
         18,
         94
        ],
        [
         64,
         19,
         3
        ],
        [
         30,
         19,
         72
        ],
        [
         67,
         19,
         14
        ],
        [
         35,
         19,
         99
        ],
        [
         58,
         20,
         15
        ],
        [
         24,
         20,
         77
        ],
        [
         37,
         20,
         13
        ],
        [
         22,
         20,
         79
        ],
        [
         35,
         21,
         35
        ],
        [
         20,
         21,
         66
        ],
        [
         52,
         23,
         29
        ],
        [
         35,
         23,
         98
        ],
        [
         35,
         24,
         35
        ],
        [
         25,
         24,
         73
        ],
        [
         46,
         25,
         5
        ],
        [
         31,
         25,
         73
        ],
        [
         54,
         28,
         14
        ],
        [
         29,
         28,
         82
        ],
        [
         45,
         28,
         32
        ],
        [
         35,
         28,
         61
        ],
        [
         40,
         29,
         31
        ],
        [
         23,
         29,
         87
        ],
        [
         60,
         30,
         4
        ],
        [
         21,
         30,
         73
        ],
        [
         53,
         33,
         4
        ],
        [
         18,
         33,
         92
        ],
        [
         49,
         33,
         14
        ],
        [
         21,
         33,
         81
        ],
        [
         42,
         34,
         17
        ],
        [
         30,
         34,
         73
        ],
        [
         36,
         37,
         26
        ],
        [
         20,
         37,
         75
        ],
        [
         65,
         38,
         35
        ],
        [
         24,
         38,
         92
        ],
        [
         48,
         39,
         36
        ],
        [
         31,
         39,
         61
        ],
        [
         49,
         39,
         28
        ],
        [
         24,
         39,
         65
        ],
        [
         50,
         40,
         55
        ],
        [
         27,
         40,
         47
        ],
        [
         29,
         40,
         42
        ],
        [
         31,
         40,
         42
        ],
        [
         49,
         42,
         52
        ],
        [
         33,
         42,
         60
        ],
        [
         31,
         43,
         54
        ],
        [
         59,
         43,
         60
        ],
        [
         50,
         43,
         45
        ],
        [
         47,
         43,
         41
        ],
        [
         51,
         44,
         50
        ],
        [
         69,
         44,
         46
        ],
        [
         27,
         46,
         51
        ],
        [
         53,
         46,
         46
        ],
        [
         70,
         46,
         56
        ],
        [
         19,
         46,
         55
        ],
        [
         67,
         47,
         52
        ],
        [
         54,
         47,
         59
        ],
        [
         63,
         48,
         51
        ],
        [
         18,
         48,
         59
        ],
        [
         43,
         48,
         50
        ],
        [
         68,
         48,
         48
        ],
        [
         19,
         48,
         59
        ],
        [
         32,
         48,
         47
        ],
        [
         70,
         49,
         55
        ],
        [
         47,
         49,
         42
        ],
        [
         60,
         50,
         49
        ],
        [
         60,
         50,
         56
        ],
        [
         59,
         54,
         47
        ],
        [
         26,
         54,
         54
        ],
        [
         45,
         54,
         53
        ],
        [
         40,
         54,
         48
        ],
        [
         23,
         54,
         52
        ],
        [
         49,
         54,
         42
        ],
        [
         57,
         54,
         51
        ],
        [
         38,
         54,
         55
        ],
        [
         67,
         54,
         41
        ],
        [
         46,
         54,
         44
        ],
        [
         21,
         54,
         57
        ],
        [
         48,
         54,
         46
        ],
        [
         55,
         57,
         58
        ],
        [
         22,
         57,
         55
        ],
        [
         34,
         58,
         60
        ],
        [
         50,
         58,
         46
        ],
        [
         68,
         59,
         55
        ],
        [
         18,
         59,
         41
        ],
        [
         48,
         60,
         49
        ],
        [
         40,
         60,
         40
        ],
        [
         32,
         60,
         42
        ],
        [
         24,
         60,
         52
        ],
        [
         47,
         60,
         47
        ],
        [
         27,
         60,
         50
        ],
        [
         48,
         61,
         42
        ],
        [
         20,
         61,
         49
        ],
        [
         23,
         62,
         41
        ],
        [
         49,
         62,
         48
        ],
        [
         67,
         62,
         59
        ],
        [
         26,
         62,
         55
        ],
        [
         49,
         62,
         56
        ],
        [
         21,
         62,
         42
        ],
        [
         66,
         63,
         50
        ],
        [
         54,
         63,
         46
        ],
        [
         68,
         63,
         43
        ],
        [
         66,
         63,
         48
        ],
        [
         65,
         63,
         52
        ],
        [
         19,
         63,
         54
        ],
        [
         38,
         64,
         42
        ],
        [
         19,
         64,
         46
        ],
        [
         18,
         65,
         48
        ],
        [
         19,
         65,
         50
        ],
        [
         63,
         65,
         43
        ],
        [
         49,
         65,
         59
        ],
        [
         51,
         67,
         43
        ],
        [
         50,
         67,
         57
        ],
        [
         27,
         67,
         56
        ],
        [
         38,
         67,
         40
        ],
        [
         40,
         69,
         58
        ],
        [
         39,
         69,
         91
        ],
        [
         23,
         70,
         29
        ],
        [
         31,
         70,
         77
        ],
        [
         43,
         71,
         35
        ],
        [
         40,
         71,
         95
        ],
        [
         59,
         71,
         11
        ],
        [
         38,
         71,
         75
        ],
        [
         47,
         71,
         9
        ],
        [
         39,
         71,
         75
        ],
        [
         25,
         72,
         34
        ],
        [
         31,
         72,
         71
        ],
        [
         20,
         73,
         5
        ],
        [
         29,
         73,
         88
        ],
        [
         44,
         73,
         7
        ],
        [
         32,
         73,
         73
        ],
        [
         19,
         74,
         10
        ],
        [
         35,
         74,
         72
        ],
        [
         57,
         75,
         5
        ],
        [
         32,
         75,
         93
        ],
        [
         28,
         76,
         40
        ],
        [
         32,
         76,
         87
        ],
        [
         25,
         77,
         12
        ],
        [
         28,
         77,
         97
        ],
        [
         48,
         77,
         36
        ],
        [
         32,
         77,
         74
        ],
        [
         34,
         78,
         22
        ],
        [
         34,
         78,
         90
        ],
        [
         43,
         78,
         17
        ],
        [
         39,
         78,
         88
        ],
        [
         44,
         78,
         20
        ],
        [
         38,
         78,
         76
        ],
        [
         47,
         78,
         16
        ],
        [
         27,
         78,
         89
        ],
        [
         37,
         78,
         1
        ],
        [
         30,
         78,
         78
        ],
        [
         34,
         78,
         1
        ],
        [
         30,
         78,
         73
        ],
        [
         56,
         79,
         35
        ],
        [
         29,
         79,
         83
        ],
        [
         19,
         81,
         5
        ],
        [
         31,
         81,
         93
        ],
        [
         50,
         85,
         26
        ],
        [
         36,
         85,
         75
        ],
        [
         42,
         86,
         20
        ],
        [
         33,
         86,
         95
        ],
        [
         36,
         87,
         27
        ],
        [
         32,
         87,
         63
        ],
        [
         40,
         87,
         13
        ],
        [
         28,
         87,
         75
        ],
        [
         36,
         87,
         10
        ],
        [
         36,
         87,
         92
        ],
        [
         52,
         88,
         13
        ],
        [
         30,
         88,
         86
        ],
        [
         58,
         88,
         15
        ],
        [
         27,
         88,
         69
        ],
        [
         59,
         93,
         14
        ],
        [
         35,
         93,
         90
        ],
        [
         37,
         97,
         32
        ],
        [
         32,
         97,
         86
        ],
        [
         46,
         98,
         15
        ],
        [
         29,
         98,
         88
        ],
        [
         41,
         99,
         39
        ],
        [
         30,
         99,
         97
        ],
        [
         54,
         101,
         24
        ],
        [
         28,
         101,
         68
        ],
        [
         41,
         103,
         17
        ],
        [
         36,
         103,
         85
        ],
        [
         34,
         103,
         23
        ],
        [
         32,
         103,
         69
        ],
        [
         33,
         113,
         8
        ],
        [
         38,
         113,
         91
        ],
        [
         47,
         120,
         16
        ],
        [
         35,
         120,
         79
        ],
        [
         45,
         126,
         28
        ],
        [
         32,
         126,
         74
        ],
        [
         32,
         137,
         18
        ],
        [
         30,
         137,
         83
        ]
       ],
       "datasetInfos": [],
       "dbfsResultPath": null,
       "isJsonSchema": true,
       "metadata": {},
       "overflow": false,
       "plotOptions": {
        "customPlotOptions": {
         "histogram": [
          {
           "key": "bins",
           "value": "20"
          }
         ]
        },
        "displayType": "histogram",
        "pivotAggregation": "sum",
        "pivotColumns": [],
        "xColumns": [],
        "yColumns": [
         "Annual Income (k$)"
        ]
       },
       "removedWidgets": [],
       "schema": [
        {
         "metadata": "{}",
         "name": "Age",
         "type": "\"integer\""
        },
        {
         "metadata": "{}",
         "name": "Annual Income (k$)",
         "type": "\"integer\""
        },
        {
         "metadata": "{}",
         "name": "Spending Score (1-100)",
         "type": "\"integer\""
        }
       ],
       "type": "table"
      }
     },
     "output_type": "display_data"
    }
   ],
   "source": [
    "#histograma\n",
    "display(data_outliers)"
   ]
  },
  {
   "cell_type": "markdown",
   "metadata": {
    "application/vnd.databricks.v1+cell": {
     "inputWidgets": {},
     "nuid": "9b1565e4-3a8f-44a3-8777-33823eacdcc6",
     "showTitle": false,
     "title": ""
    }
   },
   "source": [
    "Conhecendo o dataset"
   ]
  },
  {
   "cell_type": "code",
   "execution_count": 0,
   "metadata": {
    "application/vnd.databricks.v1+cell": {
     "inputWidgets": {},
     "nuid": "444b3c8b-df29-4fec-8206-c18ae38dbbac",
     "showTitle": false,
     "title": ""
    }
   },
   "outputs": [
    {
     "data": {
      "text/html": [
       "<style scoped>\n",
       "  .table-result-container {\n",
       "    max-height: 300px;\n",
       "    overflow: auto;\n",
       "  }\n",
       "  table, th, td {\n",
       "    border: 1px solid black;\n",
       "    border-collapse: collapse;\n",
       "  }\n",
       "  th, td {\n",
       "    padding: 5px;\n",
       "  }\n",
       "  th {\n",
       "    text-align: left;\n",
       "  }\n",
       "</style><div class='table-result-container'><table class='table-result'><thead style='background-color: white'><tr><th>Genre</th><th>Annual Income (k$)</th></tr></thead><tbody><tr><td>Male</td><td>15</td></tr><tr><td>Male</td><td>15</td></tr><tr><td>Female</td><td>16</td></tr><tr><td>Female</td><td>16</td></tr><tr><td>Female</td><td>17</td></tr><tr><td>Female</td><td>17</td></tr><tr><td>Female</td><td>18</td></tr><tr><td>Female</td><td>18</td></tr><tr><td>Male</td><td>19</td></tr><tr><td>Female</td><td>19</td></tr><tr><td>Male</td><td>19</td></tr><tr><td>Female</td><td>19</td></tr><tr><td>Female</td><td>20</td></tr><tr><td>Female</td><td>20</td></tr><tr><td>Male</td><td>20</td></tr><tr><td>Male</td><td>20</td></tr><tr><td>Female</td><td>21</td></tr><tr><td>Male</td><td>21</td></tr><tr><td>Male</td><td>23</td></tr><tr><td>Female</td><td>23</td></tr><tr><td>Male</td><td>24</td></tr><tr><td>Male</td><td>24</td></tr><tr><td>Female</td><td>25</td></tr><tr><td>Male</td><td>25</td></tr><tr><td>Female</td><td>28</td></tr><tr><td>Male</td><td>28</td></tr><tr><td>Female</td><td>28</td></tr><tr><td>Male</td><td>28</td></tr><tr><td>Female</td><td>29</td></tr><tr><td>Female</td><td>29</td></tr><tr><td>Male</td><td>30</td></tr><tr><td>Female</td><td>30</td></tr><tr><td>Male</td><td>33</td></tr><tr><td>Male</td><td>33</td></tr><tr><td>Female</td><td>33</td></tr><tr><td>Female</td><td>33</td></tr><tr><td>Female</td><td>34</td></tr><tr><td>Female</td><td>34</td></tr><tr><td>Female</td><td>37</td></tr><tr><td>Female</td><td>37</td></tr><tr><td>Female</td><td>38</td></tr><tr><td>Male</td><td>38</td></tr><tr><td>Male</td><td>39</td></tr><tr><td>Female</td><td>39</td></tr><tr><td>Female</td><td>39</td></tr><tr><td>Female</td><td>39</td></tr><tr><td>Female</td><td>40</td></tr><tr><td>Female</td><td>40</td></tr><tr><td>Female</td><td>40</td></tr><tr><td>Female</td><td>40</td></tr><tr><td>Female</td><td>42</td></tr><tr><td>Male</td><td>42</td></tr><tr><td>Female</td><td>43</td></tr><tr><td>Male</td><td>43</td></tr><tr><td>Female</td><td>43</td></tr><tr><td>Male</td><td>43</td></tr><tr><td>Female</td><td>44</td></tr><tr><td>Male</td><td>44</td></tr><tr><td>Female</td><td>46</td></tr><tr><td>Male</td><td>46</td></tr><tr><td>Male</td><td>46</td></tr><tr><td>Male</td><td>46</td></tr><tr><td>Female</td><td>47</td></tr><tr><td>Female</td><td>47</td></tr><tr><td>Male</td><td>48</td></tr><tr><td>Male</td><td>48</td></tr><tr><td>Female</td><td>48</td></tr><tr><td>Female</td><td>48</td></tr><tr><td>Male</td><td>48</td></tr><tr><td>Female</td><td>48</td></tr><tr><td>Male</td><td>49</td></tr><tr><td>Female</td><td>49</td></tr><tr><td>Female</td><td>50</td></tr><tr><td>Female</td><td>50</td></tr><tr><td>Male</td><td>54</td></tr><tr><td>Male</td><td>54</td></tr><tr><td>Female</td><td>54</td></tr><tr><td>Male</td><td>54</td></tr><tr><td>Female</td><td>54</td></tr><tr><td>Female</td><td>54</td></tr><tr><td>Male</td><td>54</td></tr><tr><td>Male</td><td>54</td></tr><tr><td>Male</td><td>54</td></tr><tr><td>Female</td><td>54</td></tr><tr><td>Female</td><td>54</td></tr><tr><td>Male</td><td>54</td></tr><tr><td>Female</td><td>57</td></tr><tr><td>Female</td><td>57</td></tr><tr><td>Female</td><td>58</td></tr><tr><td>Female</td><td>58</td></tr><tr><td>Female</td><td>59</td></tr><tr><td>Male</td><td>59</td></tr><tr><td>Male</td><td>60</td></tr><tr><td>Female</td><td>60</td></tr><tr><td>Female</td><td>60</td></tr><tr><td>Male</td><td>60</td></tr><tr><td>Female</td><td>60</td></tr><tr><td>Female</td><td>60</td></tr><tr><td>Male</td><td>61</td></tr><tr><td>Male</td><td>61</td></tr><tr><td>Female</td><td>62</td></tr><tr><td>Female</td><td>62</td></tr><tr><td>Male</td><td>62</td></tr><tr><td>Male</td><td>62</td></tr><tr><td>Male</td><td>62</td></tr><tr><td>Female</td><td>62</td></tr><tr><td>Female</td><td>63</td></tr><tr><td>Male</td><td>63</td></tr><tr><td>Male</td><td>63</td></tr><tr><td>Male</td><td>63</td></tr><tr><td>Male</td><td>63</td></tr><tr><td>Female</td><td>63</td></tr><tr><td>Female</td><td>64</td></tr><tr><td>Male</td><td>64</td></tr><tr><td>Female</td><td>65</td></tr><tr><td>Female</td><td>65</td></tr><tr><td>Female</td><td>65</td></tr><tr><td>Female</td><td>65</td></tr><tr><td>Female</td><td>67</td></tr><tr><td>Female</td><td>67</td></tr><tr><td>Male</td><td>67</td></tr><tr><td>Female</td><td>67</td></tr><tr><td>Female</td><td>69</td></tr><tr><td>Male</td><td>69</td></tr><tr><td>Female</td><td>70</td></tr><tr><td>Female</td><td>70</td></tr><tr><td>Male</td><td>71</td></tr><tr><td>Male</td><td>71</td></tr><tr><td>Male</td><td>71</td></tr><tr><td>Male</td><td>71</td></tr><tr><td>Male</td><td>71</td></tr><tr><td>Male</td><td>71</td></tr><tr><td>Female</td><td>72</td></tr><tr><td>Female</td><td>72</td></tr><tr><td>Male</td><td>73</td></tr><tr><td>Female</td><td>73</td></tr><tr><td>Female</td><td>73</td></tr><tr><td>Male</td><td>73</td></tr><tr><td>Male</td><td>74</td></tr><tr><td>Female</td><td>74</td></tr><tr><td>Female</td><td>75</td></tr><tr><td>Male</td><td>75</td></tr><tr><td>Female</td><td>76</td></tr><tr><td>Female</td><td>76</td></tr><tr><td>Male</td><td>77</td></tr><tr><td>Male</td><td>77</td></tr><tr><td>Male</td><td>77</td></tr><tr><td>Female</td><td>77</td></tr><tr><td>Female</td><td>78</td></tr><tr><td>Male</td><td>78</td></tr><tr><td>Male</td><td>78</td></tr><tr><td>Male</td><td>78</td></tr><tr><td>Female</td><td>78</td></tr><tr><td>Female</td><td>78</td></tr><tr><td>Female</td><td>78</td></tr><tr><td>Female</td><td>78</td></tr><tr><td>Male</td><td>78</td></tr><tr><td>Female</td><td>78</td></tr><tr><td>Male</td><td>78</td></tr><tr><td>Female</td><td>78</td></tr><tr><td>Female</td><td>79</td></tr><tr><td>Female</td><td>79</td></tr><tr><td>Male</td><td>81</td></tr><tr><td>Female</td><td>81</td></tr><tr><td>Male</td><td>85</td></tr><tr><td>Female</td><td>85</td></tr><tr><td>Male</td><td>86</td></tr><tr><td>Female</td><td>86</td></tr><tr><td>Female</td><td>87</td></tr><tr><td>Male</td><td>87</td></tr><tr><td>Male</td><td>87</td></tr><tr><td>Male</td><td>87</td></tr><tr><td>Male</td><td>87</td></tr><tr><td>Male</td><td>87</td></tr><tr><td>Female</td><td>88</td></tr><tr><td>Female</td><td>88</td></tr><tr><td>Male</td><td>88</td></tr><tr><td>Male</td><td>88</td></tr><tr><td>Male</td><td>93</td></tr><tr><td>Male</td><td>93</td></tr><tr><td>Female</td><td>97</td></tr><tr><td>Female</td><td>97</td></tr><tr><td>Male</td><td>98</td></tr><tr><td>Female</td><td>98</td></tr><tr><td>Female</td><td>99</td></tr><tr><td>Male</td><td>99</td></tr><tr><td>Female</td><td>101</td></tr><tr><td>Male</td><td>101</td></tr><tr><td>Female</td><td>103</td></tr><tr><td>Female</td><td>103</td></tr><tr><td>Female</td><td>103</td></tr><tr><td>Female</td><td>103</td></tr><tr><td>Male</td><td>113</td></tr><tr><td>Female</td><td>113</td></tr><tr><td>Female</td><td>120</td></tr><tr><td>Female</td><td>120</td></tr><tr><td>Female</td><td>126</td></tr><tr><td>Male</td><td>126</td></tr><tr><td>Male</td><td>137</td></tr><tr><td>Male</td><td>137</td></tr></tbody></table></div>"
      ]
     },
     "metadata": {
      "application/vnd.databricks.v1+output": {
       "addedWidgets": {},
       "aggData": [],
       "aggError": "",
       "aggOverflow": false,
       "aggSchema": [],
       "aggSeriesLimitReached": false,
       "aggType": "",
       "arguments": {},
       "columnCustomDisplayInfos": {},
       "data": [
        [
         "Male",
         15
        ],
        [
         "Male",
         15
        ],
        [
         "Female",
         16
        ],
        [
         "Female",
         16
        ],
        [
         "Female",
         17
        ],
        [
         "Female",
         17
        ],
        [
         "Female",
         18
        ],
        [
         "Female",
         18
        ],
        [
         "Male",
         19
        ],
        [
         "Female",
         19
        ],
        [
         "Male",
         19
        ],
        [
         "Female",
         19
        ],
        [
         "Female",
         20
        ],
        [
         "Female",
         20
        ],
        [
         "Male",
         20
        ],
        [
         "Male",
         20
        ],
        [
         "Female",
         21
        ],
        [
         "Male",
         21
        ],
        [
         "Male",
         23
        ],
        [
         "Female",
         23
        ],
        [
         "Male",
         24
        ],
        [
         "Male",
         24
        ],
        [
         "Female",
         25
        ],
        [
         "Male",
         25
        ],
        [
         "Female",
         28
        ],
        [
         "Male",
         28
        ],
        [
         "Female",
         28
        ],
        [
         "Male",
         28
        ],
        [
         "Female",
         29
        ],
        [
         "Female",
         29
        ],
        [
         "Male",
         30
        ],
        [
         "Female",
         30
        ],
        [
         "Male",
         33
        ],
        [
         "Male",
         33
        ],
        [
         "Female",
         33
        ],
        [
         "Female",
         33
        ],
        [
         "Female",
         34
        ],
        [
         "Female",
         34
        ],
        [
         "Female",
         37
        ],
        [
         "Female",
         37
        ],
        [
         "Female",
         38
        ],
        [
         "Male",
         38
        ],
        [
         "Male",
         39
        ],
        [
         "Female",
         39
        ],
        [
         "Female",
         39
        ],
        [
         "Female",
         39
        ],
        [
         "Female",
         40
        ],
        [
         "Female",
         40
        ],
        [
         "Female",
         40
        ],
        [
         "Female",
         40
        ],
        [
         "Female",
         42
        ],
        [
         "Male",
         42
        ],
        [
         "Female",
         43
        ],
        [
         "Male",
         43
        ],
        [
         "Female",
         43
        ],
        [
         "Male",
         43
        ],
        [
         "Female",
         44
        ],
        [
         "Male",
         44
        ],
        [
         "Female",
         46
        ],
        [
         "Male",
         46
        ],
        [
         "Male",
         46
        ],
        [
         "Male",
         46
        ],
        [
         "Female",
         47
        ],
        [
         "Female",
         47
        ],
        [
         "Male",
         48
        ],
        [
         "Male",
         48
        ],
        [
         "Female",
         48
        ],
        [
         "Female",
         48
        ],
        [
         "Male",
         48
        ],
        [
         "Female",
         48
        ],
        [
         "Male",
         49
        ],
        [
         "Female",
         49
        ],
        [
         "Female",
         50
        ],
        [
         "Female",
         50
        ],
        [
         "Male",
         54
        ],
        [
         "Male",
         54
        ],
        [
         "Female",
         54
        ],
        [
         "Male",
         54
        ],
        [
         "Female",
         54
        ],
        [
         "Female",
         54
        ],
        [
         "Male",
         54
        ],
        [
         "Male",
         54
        ],
        [
         "Male",
         54
        ],
        [
         "Female",
         54
        ],
        [
         "Female",
         54
        ],
        [
         "Male",
         54
        ],
        [
         "Female",
         57
        ],
        [
         "Female",
         57
        ],
        [
         "Female",
         58
        ],
        [
         "Female",
         58
        ],
        [
         "Female",
         59
        ],
        [
         "Male",
         59
        ],
        [
         "Male",
         60
        ],
        [
         "Female",
         60
        ],
        [
         "Female",
         60
        ],
        [
         "Male",
         60
        ],
        [
         "Female",
         60
        ],
        [
         "Female",
         60
        ],
        [
         "Male",
         61
        ],
        [
         "Male",
         61
        ],
        [
         "Female",
         62
        ],
        [
         "Female",
         62
        ],
        [
         "Male",
         62
        ],
        [
         "Male",
         62
        ],
        [
         "Male",
         62
        ],
        [
         "Female",
         62
        ],
        [
         "Female",
         63
        ],
        [
         "Male",
         63
        ],
        [
         "Male",
         63
        ],
        [
         "Male",
         63
        ],
        [
         "Male",
         63
        ],
        [
         "Female",
         63
        ],
        [
         "Female",
         64
        ],
        [
         "Male",
         64
        ],
        [
         "Female",
         65
        ],
        [
         "Female",
         65
        ],
        [
         "Female",
         65
        ],
        [
         "Female",
         65
        ],
        [
         "Female",
         67
        ],
        [
         "Female",
         67
        ],
        [
         "Male",
         67
        ],
        [
         "Female",
         67
        ],
        [
         "Female",
         69
        ],
        [
         "Male",
         69
        ],
        [
         "Female",
         70
        ],
        [
         "Female",
         70
        ],
        [
         "Male",
         71
        ],
        [
         "Male",
         71
        ],
        [
         "Male",
         71
        ],
        [
         "Male",
         71
        ],
        [
         "Male",
         71
        ],
        [
         "Male",
         71
        ],
        [
         "Female",
         72
        ],
        [
         "Female",
         72
        ],
        [
         "Male",
         73
        ],
        [
         "Female",
         73
        ],
        [
         "Female",
         73
        ],
        [
         "Male",
         73
        ],
        [
         "Male",
         74
        ],
        [
         "Female",
         74
        ],
        [
         "Female",
         75
        ],
        [
         "Male",
         75
        ],
        [
         "Female",
         76
        ],
        [
         "Female",
         76
        ],
        [
         "Male",
         77
        ],
        [
         "Male",
         77
        ],
        [
         "Male",
         77
        ],
        [
         "Female",
         77
        ],
        [
         "Female",
         78
        ],
        [
         "Male",
         78
        ],
        [
         "Male",
         78
        ],
        [
         "Male",
         78
        ],
        [
         "Female",
         78
        ],
        [
         "Female",
         78
        ],
        [
         "Female",
         78
        ],
        [
         "Female",
         78
        ],
        [
         "Male",
         78
        ],
        [
         "Female",
         78
        ],
        [
         "Male",
         78
        ],
        [
         "Female",
         78
        ],
        [
         "Female",
         79
        ],
        [
         "Female",
         79
        ],
        [
         "Male",
         81
        ],
        [
         "Female",
         81
        ],
        [
         "Male",
         85
        ],
        [
         "Female",
         85
        ],
        [
         "Male",
         86
        ],
        [
         "Female",
         86
        ],
        [
         "Female",
         87
        ],
        [
         "Male",
         87
        ],
        [
         "Male",
         87
        ],
        [
         "Male",
         87
        ],
        [
         "Male",
         87
        ],
        [
         "Male",
         87
        ],
        [
         "Female",
         88
        ],
        [
         "Female",
         88
        ],
        [
         "Male",
         88
        ],
        [
         "Male",
         88
        ],
        [
         "Male",
         93
        ],
        [
         "Male",
         93
        ],
        [
         "Female",
         97
        ],
        [
         "Female",
         97
        ],
        [
         "Male",
         98
        ],
        [
         "Female",
         98
        ],
        [
         "Female",
         99
        ],
        [
         "Male",
         99
        ],
        [
         "Female",
         101
        ],
        [
         "Male",
         101
        ],
        [
         "Female",
         103
        ],
        [
         "Female",
         103
        ],
        [
         "Female",
         103
        ],
        [
         "Female",
         103
        ],
        [
         "Male",
         113
        ],
        [
         "Female",
         113
        ],
        [
         "Female",
         120
        ],
        [
         "Female",
         120
        ],
        [
         "Female",
         126
        ],
        [
         "Male",
         126
        ],
        [
         "Male",
         137
        ],
        [
         "Male",
         137
        ]
       ],
       "datasetInfos": [],
       "dbfsResultPath": null,
       "isJsonSchema": true,
       "metadata": {},
       "overflow": false,
       "plotOptions": {
        "customPlotOptions": {
         "plotlyBar": [
          {
           "key": "grouped",
           "value": true
          },
          {
           "key": "stacked",
           "value": false
          },
          {
           "key": "100_stacked",
           "value": false
          }
         ]
        },
        "displayType": "plotlyBar",
        "pivotAggregation": "avg",
        "pivotColumns": [
         "Genre"
        ],
        "xColumns": [],
        "yColumns": [
         "Annual Income (k$)"
        ]
       },
       "removedWidgets": [],
       "schema": [
        {
         "metadata": "{}",
         "name": "Genre",
         "type": "\"string\""
        },
        {
         "metadata": "{}",
         "name": "Annual Income (k$)",
         "type": "\"integer\""
        }
       ],
       "type": "table"
      }
     },
     "output_type": "display_data"
    }
   ],
   "source": [
    "display(data.select([\"Genre\",\"Annual Income (k$)\"]))"
   ]
  },
  {
   "cell_type": "code",
   "execution_count": 0,
   "metadata": {
    "application/vnd.databricks.v1+cell": {
     "inputWidgets": {},
     "nuid": "646885c5-a5c1-4d6f-a883-ead4c2dbefd7",
     "showTitle": false,
     "title": ""
    }
   },
   "outputs": [
    {
     "data": {
      "text/html": [
       "<style scoped>\n",
       "  .table-result-container {\n",
       "    max-height: 300px;\n",
       "    overflow: auto;\n",
       "  }\n",
       "  table, th, td {\n",
       "    border: 1px solid black;\n",
       "    border-collapse: collapse;\n",
       "  }\n",
       "  th, td {\n",
       "    padding: 5px;\n",
       "  }\n",
       "  th {\n",
       "    text-align: left;\n",
       "  }\n",
       "</style><div class='table-result-container'><table class='table-result'><thead style='background-color: white'><tr><th>Age</th></tr></thead><tbody><tr><td>19</td></tr><tr><td>21</td></tr><tr><td>20</td></tr><tr><td>23</td></tr><tr><td>31</td></tr><tr><td>22</td></tr><tr><td>35</td></tr><tr><td>23</td></tr><tr><td>64</td></tr><tr><td>30</td></tr><tr><td>67</td></tr><tr><td>35</td></tr><tr><td>58</td></tr><tr><td>24</td></tr><tr><td>37</td></tr><tr><td>22</td></tr><tr><td>35</td></tr><tr><td>20</td></tr><tr><td>52</td></tr><tr><td>35</td></tr><tr><td>35</td></tr><tr><td>25</td></tr><tr><td>46</td></tr><tr><td>31</td></tr><tr><td>54</td></tr><tr><td>29</td></tr><tr><td>45</td></tr><tr><td>35</td></tr><tr><td>40</td></tr><tr><td>23</td></tr><tr><td>60</td></tr><tr><td>21</td></tr><tr><td>53</td></tr><tr><td>18</td></tr><tr><td>49</td></tr><tr><td>21</td></tr><tr><td>42</td></tr><tr><td>30</td></tr><tr><td>36</td></tr><tr><td>20</td></tr><tr><td>65</td></tr><tr><td>24</td></tr><tr><td>48</td></tr><tr><td>31</td></tr><tr><td>49</td></tr><tr><td>24</td></tr><tr><td>50</td></tr><tr><td>27</td></tr><tr><td>29</td></tr><tr><td>31</td></tr><tr><td>49</td></tr><tr><td>33</td></tr><tr><td>31</td></tr><tr><td>59</td></tr><tr><td>50</td></tr><tr><td>47</td></tr><tr><td>51</td></tr><tr><td>69</td></tr><tr><td>27</td></tr><tr><td>53</td></tr><tr><td>70</td></tr><tr><td>19</td></tr><tr><td>67</td></tr><tr><td>54</td></tr><tr><td>63</td></tr><tr><td>18</td></tr><tr><td>43</td></tr><tr><td>68</td></tr><tr><td>19</td></tr><tr><td>32</td></tr><tr><td>70</td></tr><tr><td>47</td></tr><tr><td>60</td></tr><tr><td>60</td></tr><tr><td>59</td></tr><tr><td>26</td></tr><tr><td>45</td></tr><tr><td>40</td></tr><tr><td>23</td></tr><tr><td>49</td></tr><tr><td>57</td></tr><tr><td>38</td></tr><tr><td>67</td></tr><tr><td>46</td></tr><tr><td>21</td></tr><tr><td>48</td></tr><tr><td>55</td></tr><tr><td>22</td></tr><tr><td>34</td></tr><tr><td>50</td></tr><tr><td>68</td></tr><tr><td>18</td></tr><tr><td>48</td></tr><tr><td>40</td></tr><tr><td>32</td></tr><tr><td>24</td></tr><tr><td>47</td></tr><tr><td>27</td></tr><tr><td>48</td></tr><tr><td>20</td></tr><tr><td>23</td></tr><tr><td>49</td></tr><tr><td>67</td></tr><tr><td>26</td></tr><tr><td>49</td></tr><tr><td>21</td></tr><tr><td>66</td></tr><tr><td>54</td></tr><tr><td>68</td></tr><tr><td>66</td></tr><tr><td>65</td></tr><tr><td>19</td></tr><tr><td>38</td></tr><tr><td>19</td></tr><tr><td>18</td></tr><tr><td>19</td></tr><tr><td>63</td></tr><tr><td>49</td></tr><tr><td>51</td></tr><tr><td>50</td></tr><tr><td>27</td></tr><tr><td>38</td></tr><tr><td>40</td></tr><tr><td>39</td></tr><tr><td>23</td></tr><tr><td>31</td></tr><tr><td>43</td></tr><tr><td>40</td></tr><tr><td>59</td></tr><tr><td>38</td></tr><tr><td>47</td></tr><tr><td>39</td></tr><tr><td>25</td></tr><tr><td>31</td></tr><tr><td>20</td></tr><tr><td>29</td></tr><tr><td>44</td></tr><tr><td>32</td></tr><tr><td>19</td></tr><tr><td>35</td></tr><tr><td>57</td></tr><tr><td>32</td></tr><tr><td>28</td></tr><tr><td>32</td></tr><tr><td>25</td></tr><tr><td>28</td></tr><tr><td>48</td></tr><tr><td>32</td></tr><tr><td>34</td></tr><tr><td>34</td></tr><tr><td>43</td></tr><tr><td>39</td></tr><tr><td>44</td></tr><tr><td>38</td></tr><tr><td>47</td></tr><tr><td>27</td></tr><tr><td>37</td></tr><tr><td>30</td></tr><tr><td>34</td></tr><tr><td>30</td></tr><tr><td>56</td></tr><tr><td>29</td></tr><tr><td>19</td></tr><tr><td>31</td></tr><tr><td>50</td></tr><tr><td>36</td></tr><tr><td>42</td></tr><tr><td>33</td></tr><tr><td>36</td></tr><tr><td>32</td></tr><tr><td>40</td></tr><tr><td>28</td></tr><tr><td>36</td></tr><tr><td>36</td></tr><tr><td>52</td></tr><tr><td>30</td></tr><tr><td>58</td></tr><tr><td>27</td></tr><tr><td>59</td></tr><tr><td>35</td></tr><tr><td>37</td></tr><tr><td>32</td></tr><tr><td>46</td></tr><tr><td>29</td></tr><tr><td>41</td></tr><tr><td>30</td></tr><tr><td>54</td></tr><tr><td>28</td></tr><tr><td>41</td></tr><tr><td>36</td></tr><tr><td>34</td></tr><tr><td>32</td></tr><tr><td>33</td></tr><tr><td>38</td></tr><tr><td>47</td></tr><tr><td>35</td></tr><tr><td>45</td></tr><tr><td>32</td></tr><tr><td>32</td></tr><tr><td>30</td></tr></tbody></table></div>"
      ]
     },
     "metadata": {
      "application/vnd.databricks.v1+output": {
       "addedWidgets": {},
       "aggData": [],
       "aggError": "",
       "aggOverflow": false,
       "aggSchema": [],
       "aggSeriesLimitReached": false,
       "aggType": "",
       "arguments": {},
       "columnCustomDisplayInfos": {},
       "data": [
        [
         19
        ],
        [
         21
        ],
        [
         20
        ],
        [
         23
        ],
        [
         31
        ],
        [
         22
        ],
        [
         35
        ],
        [
         23
        ],
        [
         64
        ],
        [
         30
        ],
        [
         67
        ],
        [
         35
        ],
        [
         58
        ],
        [
         24
        ],
        [
         37
        ],
        [
         22
        ],
        [
         35
        ],
        [
         20
        ],
        [
         52
        ],
        [
         35
        ],
        [
         35
        ],
        [
         25
        ],
        [
         46
        ],
        [
         31
        ],
        [
         54
        ],
        [
         29
        ],
        [
         45
        ],
        [
         35
        ],
        [
         40
        ],
        [
         23
        ],
        [
         60
        ],
        [
         21
        ],
        [
         53
        ],
        [
         18
        ],
        [
         49
        ],
        [
         21
        ],
        [
         42
        ],
        [
         30
        ],
        [
         36
        ],
        [
         20
        ],
        [
         65
        ],
        [
         24
        ],
        [
         48
        ],
        [
         31
        ],
        [
         49
        ],
        [
         24
        ],
        [
         50
        ],
        [
         27
        ],
        [
         29
        ],
        [
         31
        ],
        [
         49
        ],
        [
         33
        ],
        [
         31
        ],
        [
         59
        ],
        [
         50
        ],
        [
         47
        ],
        [
         51
        ],
        [
         69
        ],
        [
         27
        ],
        [
         53
        ],
        [
         70
        ],
        [
         19
        ],
        [
         67
        ],
        [
         54
        ],
        [
         63
        ],
        [
         18
        ],
        [
         43
        ],
        [
         68
        ],
        [
         19
        ],
        [
         32
        ],
        [
         70
        ],
        [
         47
        ],
        [
         60
        ],
        [
         60
        ],
        [
         59
        ],
        [
         26
        ],
        [
         45
        ],
        [
         40
        ],
        [
         23
        ],
        [
         49
        ],
        [
         57
        ],
        [
         38
        ],
        [
         67
        ],
        [
         46
        ],
        [
         21
        ],
        [
         48
        ],
        [
         55
        ],
        [
         22
        ],
        [
         34
        ],
        [
         50
        ],
        [
         68
        ],
        [
         18
        ],
        [
         48
        ],
        [
         40
        ],
        [
         32
        ],
        [
         24
        ],
        [
         47
        ],
        [
         27
        ],
        [
         48
        ],
        [
         20
        ],
        [
         23
        ],
        [
         49
        ],
        [
         67
        ],
        [
         26
        ],
        [
         49
        ],
        [
         21
        ],
        [
         66
        ],
        [
         54
        ],
        [
         68
        ],
        [
         66
        ],
        [
         65
        ],
        [
         19
        ],
        [
         38
        ],
        [
         19
        ],
        [
         18
        ],
        [
         19
        ],
        [
         63
        ],
        [
         49
        ],
        [
         51
        ],
        [
         50
        ],
        [
         27
        ],
        [
         38
        ],
        [
         40
        ],
        [
         39
        ],
        [
         23
        ],
        [
         31
        ],
        [
         43
        ],
        [
         40
        ],
        [
         59
        ],
        [
         38
        ],
        [
         47
        ],
        [
         39
        ],
        [
         25
        ],
        [
         31
        ],
        [
         20
        ],
        [
         29
        ],
        [
         44
        ],
        [
         32
        ],
        [
         19
        ],
        [
         35
        ],
        [
         57
        ],
        [
         32
        ],
        [
         28
        ],
        [
         32
        ],
        [
         25
        ],
        [
         28
        ],
        [
         48
        ],
        [
         32
        ],
        [
         34
        ],
        [
         34
        ],
        [
         43
        ],
        [
         39
        ],
        [
         44
        ],
        [
         38
        ],
        [
         47
        ],
        [
         27
        ],
        [
         37
        ],
        [
         30
        ],
        [
         34
        ],
        [
         30
        ],
        [
         56
        ],
        [
         29
        ],
        [
         19
        ],
        [
         31
        ],
        [
         50
        ],
        [
         36
        ],
        [
         42
        ],
        [
         33
        ],
        [
         36
        ],
        [
         32
        ],
        [
         40
        ],
        [
         28
        ],
        [
         36
        ],
        [
         36
        ],
        [
         52
        ],
        [
         30
        ],
        [
         58
        ],
        [
         27
        ],
        [
         59
        ],
        [
         35
        ],
        [
         37
        ],
        [
         32
        ],
        [
         46
        ],
        [
         29
        ],
        [
         41
        ],
        [
         30
        ],
        [
         54
        ],
        [
         28
        ],
        [
         41
        ],
        [
         36
        ],
        [
         34
        ],
        [
         32
        ],
        [
         33
        ],
        [
         38
        ],
        [
         47
        ],
        [
         35
        ],
        [
         45
        ],
        [
         32
        ],
        [
         32
        ],
        [
         30
        ]
       ],
       "datasetInfos": [],
       "dbfsResultPath": null,
       "isJsonSchema": true,
       "metadata": {},
       "overflow": false,
       "plotOptions": {
        "customPlotOptions": {
         "histogram": [
          {
           "key": "bins",
           "value": "50"
          }
         ]
        },
        "displayType": "histogram",
        "pivotAggregation": "sum",
        "pivotColumns": [],
        "xColumns": [],
        "yColumns": [
         "Age"
        ]
       },
       "removedWidgets": [],
       "schema": [
        {
         "metadata": "{}",
         "name": "Age",
         "type": "\"integer\""
        }
       ],
       "type": "table"
      }
     },
     "output_type": "display_data"
    }
   ],
   "source": [
    "#distribuição dos consumidores pela idade\n",
    "display(data.select([\"Age\"]))"
   ]
  },
  {
   "cell_type": "code",
   "execution_count": 0,
   "metadata": {
    "application/vnd.databricks.v1+cell": {
     "inputWidgets": {},
     "nuid": "b98724e9-742d-4df7-b3ed-a482371d817b",
     "showTitle": false,
     "title": ""
    }
   },
   "outputs": [
    {
     "data": {
      "text/html": [
       "<style scoped>\n",
       "  .table-result-container {\n",
       "    max-height: 300px;\n",
       "    overflow: auto;\n",
       "  }\n",
       "  table, th, td {\n",
       "    border: 1px solid black;\n",
       "    border-collapse: collapse;\n",
       "  }\n",
       "  th, td {\n",
       "    padding: 5px;\n",
       "  }\n",
       "  th {\n",
       "    text-align: left;\n",
       "  }\n",
       "</style><div class='table-result-container'><table class='table-result'><thead style='background-color: white'><tr><th>Age</th><th>Genre</th></tr></thead><tbody><tr><td>19</td><td>Male</td></tr><tr><td>21</td><td>Male</td></tr><tr><td>20</td><td>Female</td></tr><tr><td>23</td><td>Female</td></tr><tr><td>31</td><td>Female</td></tr><tr><td>22</td><td>Female</td></tr><tr><td>35</td><td>Female</td></tr><tr><td>23</td><td>Female</td></tr><tr><td>64</td><td>Male</td></tr><tr><td>30</td><td>Female</td></tr><tr><td>67</td><td>Male</td></tr><tr><td>35</td><td>Female</td></tr><tr><td>58</td><td>Female</td></tr><tr><td>24</td><td>Female</td></tr><tr><td>37</td><td>Male</td></tr><tr><td>22</td><td>Male</td></tr><tr><td>35</td><td>Female</td></tr><tr><td>20</td><td>Male</td></tr><tr><td>52</td><td>Male</td></tr><tr><td>35</td><td>Female</td></tr><tr><td>35</td><td>Male</td></tr><tr><td>25</td><td>Male</td></tr><tr><td>46</td><td>Female</td></tr><tr><td>31</td><td>Male</td></tr><tr><td>54</td><td>Female</td></tr><tr><td>29</td><td>Male</td></tr><tr><td>45</td><td>Female</td></tr><tr><td>35</td><td>Male</td></tr><tr><td>40</td><td>Female</td></tr><tr><td>23</td><td>Female</td></tr><tr><td>60</td><td>Male</td></tr><tr><td>21</td><td>Female</td></tr><tr><td>53</td><td>Male</td></tr><tr><td>18</td><td>Male</td></tr><tr><td>49</td><td>Female</td></tr><tr><td>21</td><td>Female</td></tr><tr><td>42</td><td>Female</td></tr><tr><td>30</td><td>Female</td></tr><tr><td>36</td><td>Female</td></tr><tr><td>20</td><td>Female</td></tr><tr><td>65</td><td>Female</td></tr><tr><td>24</td><td>Male</td></tr><tr><td>48</td><td>Male</td></tr><tr><td>31</td><td>Female</td></tr><tr><td>49</td><td>Female</td></tr><tr><td>24</td><td>Female</td></tr><tr><td>50</td><td>Female</td></tr><tr><td>27</td><td>Female</td></tr><tr><td>29</td><td>Female</td></tr><tr><td>31</td><td>Female</td></tr><tr><td>49</td><td>Female</td></tr><tr><td>33</td><td>Male</td></tr><tr><td>31</td><td>Female</td></tr><tr><td>59</td><td>Male</td></tr><tr><td>50</td><td>Female</td></tr><tr><td>47</td><td>Male</td></tr><tr><td>51</td><td>Female</td></tr><tr><td>69</td><td>Male</td></tr><tr><td>27</td><td>Female</td></tr><tr><td>53</td><td>Male</td></tr><tr><td>70</td><td>Male</td></tr><tr><td>19</td><td>Male</td></tr><tr><td>67</td><td>Female</td></tr><tr><td>54</td><td>Female</td></tr><tr><td>63</td><td>Male</td></tr><tr><td>18</td><td>Male</td></tr><tr><td>43</td><td>Female</td></tr><tr><td>68</td><td>Female</td></tr><tr><td>19</td><td>Male</td></tr><tr><td>32</td><td>Female</td></tr><tr><td>70</td><td>Male</td></tr><tr><td>47</td><td>Female</td></tr><tr><td>60</td><td>Female</td></tr><tr><td>60</td><td>Female</td></tr><tr><td>59</td><td>Male</td></tr><tr><td>26</td><td>Male</td></tr><tr><td>45</td><td>Female</td></tr><tr><td>40</td><td>Male</td></tr><tr><td>23</td><td>Female</td></tr><tr><td>49</td><td>Female</td></tr><tr><td>57</td><td>Male</td></tr><tr><td>38</td><td>Male</td></tr><tr><td>67</td><td>Male</td></tr><tr><td>46</td><td>Female</td></tr><tr><td>21</td><td>Female</td></tr><tr><td>48</td><td>Male</td></tr><tr><td>55</td><td>Female</td></tr><tr><td>22</td><td>Female</td></tr><tr><td>34</td><td>Female</td></tr><tr><td>50</td><td>Female</td></tr><tr><td>68</td><td>Female</td></tr><tr><td>18</td><td>Male</td></tr><tr><td>48</td><td>Male</td></tr><tr><td>40</td><td>Female</td></tr><tr><td>32</td><td>Female</td></tr><tr><td>24</td><td>Male</td></tr><tr><td>47</td><td>Female</td></tr><tr><td>27</td><td>Female</td></tr><tr><td>48</td><td>Male</td></tr><tr><td>20</td><td>Male</td></tr><tr><td>23</td><td>Female</td></tr><tr><td>49</td><td>Female</td></tr><tr><td>67</td><td>Male</td></tr><tr><td>26</td><td>Male</td></tr><tr><td>49</td><td>Male</td></tr><tr><td>21</td><td>Female</td></tr><tr><td>66</td><td>Female</td></tr><tr><td>54</td><td>Male</td></tr><tr><td>68</td><td>Male</td></tr><tr><td>66</td><td>Male</td></tr><tr><td>65</td><td>Male</td></tr><tr><td>19</td><td>Female</td></tr><tr><td>38</td><td>Female</td></tr><tr><td>19</td><td>Male</td></tr><tr><td>18</td><td>Female</td></tr><tr><td>19</td><td>Female</td></tr><tr><td>63</td><td>Female</td></tr><tr><td>49</td><td>Female</td></tr><tr><td>51</td><td>Female</td></tr><tr><td>50</td><td>Female</td></tr><tr><td>27</td><td>Male</td></tr><tr><td>38</td><td>Female</td></tr><tr><td>40</td><td>Female</td></tr><tr><td>39</td><td>Male</td></tr><tr><td>23</td><td>Female</td></tr><tr><td>31</td><td>Female</td></tr><tr><td>43</td><td>Male</td></tr><tr><td>40</td><td>Male</td></tr><tr><td>59</td><td>Male</td></tr><tr><td>38</td><td>Male</td></tr><tr><td>47</td><td>Male</td></tr><tr><td>39</td><td>Male</td></tr><tr><td>25</td><td>Female</td></tr><tr><td>31</td><td>Female</td></tr><tr><td>20</td><td>Male</td></tr><tr><td>29</td><td>Female</td></tr><tr><td>44</td><td>Female</td></tr><tr><td>32</td><td>Male</td></tr><tr><td>19</td><td>Male</td></tr><tr><td>35</td><td>Female</td></tr><tr><td>57</td><td>Female</td></tr><tr><td>32</td><td>Male</td></tr><tr><td>28</td><td>Female</td></tr><tr><td>32</td><td>Female</td></tr><tr><td>25</td><td>Male</td></tr><tr><td>28</td><td>Male</td></tr><tr><td>48</td><td>Male</td></tr><tr><td>32</td><td>Female</td></tr><tr><td>34</td><td>Female</td></tr><tr><td>34</td><td>Male</td></tr><tr><td>43</td><td>Male</td></tr><tr><td>39</td><td>Male</td></tr><tr><td>44</td><td>Female</td></tr><tr><td>38</td><td>Female</td></tr><tr><td>47</td><td>Female</td></tr><tr><td>27</td><td>Female</td></tr><tr><td>37</td><td>Male</td></tr><tr><td>30</td><td>Female</td></tr><tr><td>34</td><td>Male</td></tr><tr><td>30</td><td>Female</td></tr><tr><td>56</td><td>Female</td></tr><tr><td>29</td><td>Female</td></tr><tr><td>19</td><td>Male</td></tr><tr><td>31</td><td>Female</td></tr><tr><td>50</td><td>Male</td></tr><tr><td>36</td><td>Female</td></tr><tr><td>42</td><td>Male</td></tr><tr><td>33</td><td>Female</td></tr><tr><td>36</td><td>Female</td></tr><tr><td>32</td><td>Male</td></tr><tr><td>40</td><td>Male</td></tr><tr><td>28</td><td>Male</td></tr><tr><td>36</td><td>Male</td></tr><tr><td>36</td><td>Male</td></tr><tr><td>52</td><td>Female</td></tr><tr><td>30</td><td>Female</td></tr><tr><td>58</td><td>Male</td></tr><tr><td>27</td><td>Male</td></tr><tr><td>59</td><td>Male</td></tr><tr><td>35</td><td>Male</td></tr><tr><td>37</td><td>Female</td></tr><tr><td>32</td><td>Female</td></tr><tr><td>46</td><td>Male</td></tr><tr><td>29</td><td>Female</td></tr><tr><td>41</td><td>Female</td></tr><tr><td>30</td><td>Male</td></tr><tr><td>54</td><td>Female</td></tr><tr><td>28</td><td>Male</td></tr><tr><td>41</td><td>Female</td></tr><tr><td>36</td><td>Female</td></tr><tr><td>34</td><td>Female</td></tr><tr><td>32</td><td>Female</td></tr><tr><td>33</td><td>Male</td></tr><tr><td>38</td><td>Female</td></tr><tr><td>47</td><td>Female</td></tr><tr><td>35</td><td>Female</td></tr><tr><td>45</td><td>Female</td></tr><tr><td>32</td><td>Male</td></tr><tr><td>32</td><td>Male</td></tr><tr><td>30</td><td>Male</td></tr></tbody></table></div>"
      ]
     },
     "metadata": {
      "application/vnd.databricks.v1+output": {
       "addedWidgets": {},
       "aggData": [],
       "aggError": "",
       "aggOverflow": false,
       "aggSchema": [],
       "aggSeriesLimitReached": false,
       "aggType": "",
       "arguments": {},
       "columnCustomDisplayInfos": {},
       "data": [
        [
         19,
         "Male"
        ],
        [
         21,
         "Male"
        ],
        [
         20,
         "Female"
        ],
        [
         23,
         "Female"
        ],
        [
         31,
         "Female"
        ],
        [
         22,
         "Female"
        ],
        [
         35,
         "Female"
        ],
        [
         23,
         "Female"
        ],
        [
         64,
         "Male"
        ],
        [
         30,
         "Female"
        ],
        [
         67,
         "Male"
        ],
        [
         35,
         "Female"
        ],
        [
         58,
         "Female"
        ],
        [
         24,
         "Female"
        ],
        [
         37,
         "Male"
        ],
        [
         22,
         "Male"
        ],
        [
         35,
         "Female"
        ],
        [
         20,
         "Male"
        ],
        [
         52,
         "Male"
        ],
        [
         35,
         "Female"
        ],
        [
         35,
         "Male"
        ],
        [
         25,
         "Male"
        ],
        [
         46,
         "Female"
        ],
        [
         31,
         "Male"
        ],
        [
         54,
         "Female"
        ],
        [
         29,
         "Male"
        ],
        [
         45,
         "Female"
        ],
        [
         35,
         "Male"
        ],
        [
         40,
         "Female"
        ],
        [
         23,
         "Female"
        ],
        [
         60,
         "Male"
        ],
        [
         21,
         "Female"
        ],
        [
         53,
         "Male"
        ],
        [
         18,
         "Male"
        ],
        [
         49,
         "Female"
        ],
        [
         21,
         "Female"
        ],
        [
         42,
         "Female"
        ],
        [
         30,
         "Female"
        ],
        [
         36,
         "Female"
        ],
        [
         20,
         "Female"
        ],
        [
         65,
         "Female"
        ],
        [
         24,
         "Male"
        ],
        [
         48,
         "Male"
        ],
        [
         31,
         "Female"
        ],
        [
         49,
         "Female"
        ],
        [
         24,
         "Female"
        ],
        [
         50,
         "Female"
        ],
        [
         27,
         "Female"
        ],
        [
         29,
         "Female"
        ],
        [
         31,
         "Female"
        ],
        [
         49,
         "Female"
        ],
        [
         33,
         "Male"
        ],
        [
         31,
         "Female"
        ],
        [
         59,
         "Male"
        ],
        [
         50,
         "Female"
        ],
        [
         47,
         "Male"
        ],
        [
         51,
         "Female"
        ],
        [
         69,
         "Male"
        ],
        [
         27,
         "Female"
        ],
        [
         53,
         "Male"
        ],
        [
         70,
         "Male"
        ],
        [
         19,
         "Male"
        ],
        [
         67,
         "Female"
        ],
        [
         54,
         "Female"
        ],
        [
         63,
         "Male"
        ],
        [
         18,
         "Male"
        ],
        [
         43,
         "Female"
        ],
        [
         68,
         "Female"
        ],
        [
         19,
         "Male"
        ],
        [
         32,
         "Female"
        ],
        [
         70,
         "Male"
        ],
        [
         47,
         "Female"
        ],
        [
         60,
         "Female"
        ],
        [
         60,
         "Female"
        ],
        [
         59,
         "Male"
        ],
        [
         26,
         "Male"
        ],
        [
         45,
         "Female"
        ],
        [
         40,
         "Male"
        ],
        [
         23,
         "Female"
        ],
        [
         49,
         "Female"
        ],
        [
         57,
         "Male"
        ],
        [
         38,
         "Male"
        ],
        [
         67,
         "Male"
        ],
        [
         46,
         "Female"
        ],
        [
         21,
         "Female"
        ],
        [
         48,
         "Male"
        ],
        [
         55,
         "Female"
        ],
        [
         22,
         "Female"
        ],
        [
         34,
         "Female"
        ],
        [
         50,
         "Female"
        ],
        [
         68,
         "Female"
        ],
        [
         18,
         "Male"
        ],
        [
         48,
         "Male"
        ],
        [
         40,
         "Female"
        ],
        [
         32,
         "Female"
        ],
        [
         24,
         "Male"
        ],
        [
         47,
         "Female"
        ],
        [
         27,
         "Female"
        ],
        [
         48,
         "Male"
        ],
        [
         20,
         "Male"
        ],
        [
         23,
         "Female"
        ],
        [
         49,
         "Female"
        ],
        [
         67,
         "Male"
        ],
        [
         26,
         "Male"
        ],
        [
         49,
         "Male"
        ],
        [
         21,
         "Female"
        ],
        [
         66,
         "Female"
        ],
        [
         54,
         "Male"
        ],
        [
         68,
         "Male"
        ],
        [
         66,
         "Male"
        ],
        [
         65,
         "Male"
        ],
        [
         19,
         "Female"
        ],
        [
         38,
         "Female"
        ],
        [
         19,
         "Male"
        ],
        [
         18,
         "Female"
        ],
        [
         19,
         "Female"
        ],
        [
         63,
         "Female"
        ],
        [
         49,
         "Female"
        ],
        [
         51,
         "Female"
        ],
        [
         50,
         "Female"
        ],
        [
         27,
         "Male"
        ],
        [
         38,
         "Female"
        ],
        [
         40,
         "Female"
        ],
        [
         39,
         "Male"
        ],
        [
         23,
         "Female"
        ],
        [
         31,
         "Female"
        ],
        [
         43,
         "Male"
        ],
        [
         40,
         "Male"
        ],
        [
         59,
         "Male"
        ],
        [
         38,
         "Male"
        ],
        [
         47,
         "Male"
        ],
        [
         39,
         "Male"
        ],
        [
         25,
         "Female"
        ],
        [
         31,
         "Female"
        ],
        [
         20,
         "Male"
        ],
        [
         29,
         "Female"
        ],
        [
         44,
         "Female"
        ],
        [
         32,
         "Male"
        ],
        [
         19,
         "Male"
        ],
        [
         35,
         "Female"
        ],
        [
         57,
         "Female"
        ],
        [
         32,
         "Male"
        ],
        [
         28,
         "Female"
        ],
        [
         32,
         "Female"
        ],
        [
         25,
         "Male"
        ],
        [
         28,
         "Male"
        ],
        [
         48,
         "Male"
        ],
        [
         32,
         "Female"
        ],
        [
         34,
         "Female"
        ],
        [
         34,
         "Male"
        ],
        [
         43,
         "Male"
        ],
        [
         39,
         "Male"
        ],
        [
         44,
         "Female"
        ],
        [
         38,
         "Female"
        ],
        [
         47,
         "Female"
        ],
        [
         27,
         "Female"
        ],
        [
         37,
         "Male"
        ],
        [
         30,
         "Female"
        ],
        [
         34,
         "Male"
        ],
        [
         30,
         "Female"
        ],
        [
         56,
         "Female"
        ],
        [
         29,
         "Female"
        ],
        [
         19,
         "Male"
        ],
        [
         31,
         "Female"
        ],
        [
         50,
         "Male"
        ],
        [
         36,
         "Female"
        ],
        [
         42,
         "Male"
        ],
        [
         33,
         "Female"
        ],
        [
         36,
         "Female"
        ],
        [
         32,
         "Male"
        ],
        [
         40,
         "Male"
        ],
        [
         28,
         "Male"
        ],
        [
         36,
         "Male"
        ],
        [
         36,
         "Male"
        ],
        [
         52,
         "Female"
        ],
        [
         30,
         "Female"
        ],
        [
         58,
         "Male"
        ],
        [
         27,
         "Male"
        ],
        [
         59,
         "Male"
        ],
        [
         35,
         "Male"
        ],
        [
         37,
         "Female"
        ],
        [
         32,
         "Female"
        ],
        [
         46,
         "Male"
        ],
        [
         29,
         "Female"
        ],
        [
         41,
         "Female"
        ],
        [
         30,
         "Male"
        ],
        [
         54,
         "Female"
        ],
        [
         28,
         "Male"
        ],
        [
         41,
         "Female"
        ],
        [
         36,
         "Female"
        ],
        [
         34,
         "Female"
        ],
        [
         32,
         "Female"
        ],
        [
         33,
         "Male"
        ],
        [
         38,
         "Female"
        ],
        [
         47,
         "Female"
        ],
        [
         35,
         "Female"
        ],
        [
         45,
         "Female"
        ],
        [
         32,
         "Male"
        ],
        [
         32,
         "Male"
        ],
        [
         30,
         "Male"
        ]
       ],
       "datasetInfos": [],
       "dbfsResultPath": null,
       "isJsonSchema": true,
       "metadata": {},
       "overflow": false,
       "plotOptions": {
        "customPlotOptions": {
         "plotlyBar": [
          {
           "key": "grouped",
           "value": true
          },
          {
           "key": "stacked",
           "value": false
          },
          {
           "key": "100_stacked",
           "value": false
          }
         ]
        },
        "displayType": "plotlyBar",
        "pivotAggregation": "avg",
        "pivotColumns": [
         "Genre"
        ],
        "xColumns": [],
        "yColumns": [
         "Age"
        ]
       },
       "removedWidgets": [],
       "schema": [
        {
         "metadata": "{}",
         "name": "Age",
         "type": "\"integer\""
        },
        {
         "metadata": "{}",
         "name": "Genre",
         "type": "\"string\""
        }
       ],
       "type": "table"
      }
     },
     "output_type": "display_data"
    }
   ],
   "source": [
    "#encontrando a distribuição da idade x sexo\n",
    "display(data.select([\"Age\",\"Genre\"]))"
   ]
  },
  {
   "cell_type": "code",
   "execution_count": 0,
   "metadata": {
    "application/vnd.databricks.v1+cell": {
     "inputWidgets": {},
     "nuid": "34f87ecf-04bd-4d1e-baa5-fb4171d71b68",
     "showTitle": false,
     "title": ""
    }
   },
   "outputs": [
    {
     "data": {
      "text/html": [
       "<style scoped>\n",
       "  .table-result-container {\n",
       "    max-height: 300px;\n",
       "    overflow: auto;\n",
       "  }\n",
       "  table, th, td {\n",
       "    border: 1px solid black;\n",
       "    border-collapse: collapse;\n",
       "  }\n",
       "  th, td {\n",
       "    padding: 5px;\n",
       "  }\n",
       "  th {\n",
       "    text-align: left;\n",
       "  }\n",
       "</style><div class='table-result-container'><table class='table-result'><thead style='background-color: white'><tr><th>Age</th><th>Genre</th></tr></thead><tbody><tr><td>19</td><td>Male</td></tr><tr><td>21</td><td>Male</td></tr><tr><td>20</td><td>Female</td></tr><tr><td>23</td><td>Female</td></tr><tr><td>31</td><td>Female</td></tr><tr><td>22</td><td>Female</td></tr><tr><td>35</td><td>Female</td></tr><tr><td>23</td><td>Female</td></tr><tr><td>64</td><td>Male</td></tr><tr><td>30</td><td>Female</td></tr><tr><td>67</td><td>Male</td></tr><tr><td>35</td><td>Female</td></tr><tr><td>58</td><td>Female</td></tr><tr><td>24</td><td>Female</td></tr><tr><td>37</td><td>Male</td></tr><tr><td>22</td><td>Male</td></tr><tr><td>35</td><td>Female</td></tr><tr><td>20</td><td>Male</td></tr><tr><td>52</td><td>Male</td></tr><tr><td>35</td><td>Female</td></tr><tr><td>35</td><td>Male</td></tr><tr><td>25</td><td>Male</td></tr><tr><td>46</td><td>Female</td></tr><tr><td>31</td><td>Male</td></tr><tr><td>54</td><td>Female</td></tr><tr><td>29</td><td>Male</td></tr><tr><td>45</td><td>Female</td></tr><tr><td>35</td><td>Male</td></tr><tr><td>40</td><td>Female</td></tr><tr><td>23</td><td>Female</td></tr><tr><td>60</td><td>Male</td></tr><tr><td>21</td><td>Female</td></tr><tr><td>53</td><td>Male</td></tr><tr><td>18</td><td>Male</td></tr><tr><td>49</td><td>Female</td></tr><tr><td>21</td><td>Female</td></tr><tr><td>42</td><td>Female</td></tr><tr><td>30</td><td>Female</td></tr><tr><td>36</td><td>Female</td></tr><tr><td>20</td><td>Female</td></tr><tr><td>65</td><td>Female</td></tr><tr><td>24</td><td>Male</td></tr><tr><td>48</td><td>Male</td></tr><tr><td>31</td><td>Female</td></tr><tr><td>49</td><td>Female</td></tr><tr><td>24</td><td>Female</td></tr><tr><td>50</td><td>Female</td></tr><tr><td>27</td><td>Female</td></tr><tr><td>29</td><td>Female</td></tr><tr><td>31</td><td>Female</td></tr><tr><td>49</td><td>Female</td></tr><tr><td>33</td><td>Male</td></tr><tr><td>31</td><td>Female</td></tr><tr><td>59</td><td>Male</td></tr><tr><td>50</td><td>Female</td></tr><tr><td>47</td><td>Male</td></tr><tr><td>51</td><td>Female</td></tr><tr><td>69</td><td>Male</td></tr><tr><td>27</td><td>Female</td></tr><tr><td>53</td><td>Male</td></tr><tr><td>70</td><td>Male</td></tr><tr><td>19</td><td>Male</td></tr><tr><td>67</td><td>Female</td></tr><tr><td>54</td><td>Female</td></tr><tr><td>63</td><td>Male</td></tr><tr><td>18</td><td>Male</td></tr><tr><td>43</td><td>Female</td></tr><tr><td>68</td><td>Female</td></tr><tr><td>19</td><td>Male</td></tr><tr><td>32</td><td>Female</td></tr><tr><td>70</td><td>Male</td></tr><tr><td>47</td><td>Female</td></tr><tr><td>60</td><td>Female</td></tr><tr><td>60</td><td>Female</td></tr><tr><td>59</td><td>Male</td></tr><tr><td>26</td><td>Male</td></tr><tr><td>45</td><td>Female</td></tr><tr><td>40</td><td>Male</td></tr><tr><td>23</td><td>Female</td></tr><tr><td>49</td><td>Female</td></tr><tr><td>57</td><td>Male</td></tr><tr><td>38</td><td>Male</td></tr><tr><td>67</td><td>Male</td></tr><tr><td>46</td><td>Female</td></tr><tr><td>21</td><td>Female</td></tr><tr><td>48</td><td>Male</td></tr><tr><td>55</td><td>Female</td></tr><tr><td>22</td><td>Female</td></tr><tr><td>34</td><td>Female</td></tr><tr><td>50</td><td>Female</td></tr><tr><td>68</td><td>Female</td></tr><tr><td>18</td><td>Male</td></tr><tr><td>48</td><td>Male</td></tr><tr><td>40</td><td>Female</td></tr><tr><td>32</td><td>Female</td></tr><tr><td>24</td><td>Male</td></tr><tr><td>47</td><td>Female</td></tr><tr><td>27</td><td>Female</td></tr><tr><td>48</td><td>Male</td></tr><tr><td>20</td><td>Male</td></tr><tr><td>23</td><td>Female</td></tr><tr><td>49</td><td>Female</td></tr><tr><td>67</td><td>Male</td></tr><tr><td>26</td><td>Male</td></tr><tr><td>49</td><td>Male</td></tr><tr><td>21</td><td>Female</td></tr><tr><td>66</td><td>Female</td></tr><tr><td>54</td><td>Male</td></tr><tr><td>68</td><td>Male</td></tr><tr><td>66</td><td>Male</td></tr><tr><td>65</td><td>Male</td></tr><tr><td>19</td><td>Female</td></tr><tr><td>38</td><td>Female</td></tr><tr><td>19</td><td>Male</td></tr><tr><td>18</td><td>Female</td></tr><tr><td>19</td><td>Female</td></tr><tr><td>63</td><td>Female</td></tr><tr><td>49</td><td>Female</td></tr><tr><td>51</td><td>Female</td></tr><tr><td>50</td><td>Female</td></tr><tr><td>27</td><td>Male</td></tr><tr><td>38</td><td>Female</td></tr><tr><td>40</td><td>Female</td></tr><tr><td>39</td><td>Male</td></tr><tr><td>23</td><td>Female</td></tr><tr><td>31</td><td>Female</td></tr><tr><td>43</td><td>Male</td></tr><tr><td>40</td><td>Male</td></tr><tr><td>59</td><td>Male</td></tr><tr><td>38</td><td>Male</td></tr><tr><td>47</td><td>Male</td></tr><tr><td>39</td><td>Male</td></tr><tr><td>25</td><td>Female</td></tr><tr><td>31</td><td>Female</td></tr><tr><td>20</td><td>Male</td></tr><tr><td>29</td><td>Female</td></tr><tr><td>44</td><td>Female</td></tr><tr><td>32</td><td>Male</td></tr><tr><td>19</td><td>Male</td></tr><tr><td>35</td><td>Female</td></tr><tr><td>57</td><td>Female</td></tr><tr><td>32</td><td>Male</td></tr><tr><td>28</td><td>Female</td></tr><tr><td>32</td><td>Female</td></tr><tr><td>25</td><td>Male</td></tr><tr><td>28</td><td>Male</td></tr><tr><td>48</td><td>Male</td></tr><tr><td>32</td><td>Female</td></tr><tr><td>34</td><td>Female</td></tr><tr><td>34</td><td>Male</td></tr><tr><td>43</td><td>Male</td></tr><tr><td>39</td><td>Male</td></tr><tr><td>44</td><td>Female</td></tr><tr><td>38</td><td>Female</td></tr><tr><td>47</td><td>Female</td></tr><tr><td>27</td><td>Female</td></tr><tr><td>37</td><td>Male</td></tr><tr><td>30</td><td>Female</td></tr><tr><td>34</td><td>Male</td></tr><tr><td>30</td><td>Female</td></tr><tr><td>56</td><td>Female</td></tr><tr><td>29</td><td>Female</td></tr><tr><td>19</td><td>Male</td></tr><tr><td>31</td><td>Female</td></tr><tr><td>50</td><td>Male</td></tr><tr><td>36</td><td>Female</td></tr><tr><td>42</td><td>Male</td></tr><tr><td>33</td><td>Female</td></tr><tr><td>36</td><td>Female</td></tr><tr><td>32</td><td>Male</td></tr><tr><td>40</td><td>Male</td></tr><tr><td>28</td><td>Male</td></tr><tr><td>36</td><td>Male</td></tr><tr><td>36</td><td>Male</td></tr><tr><td>52</td><td>Female</td></tr><tr><td>30</td><td>Female</td></tr><tr><td>58</td><td>Male</td></tr><tr><td>27</td><td>Male</td></tr><tr><td>59</td><td>Male</td></tr><tr><td>35</td><td>Male</td></tr><tr><td>37</td><td>Female</td></tr><tr><td>32</td><td>Female</td></tr><tr><td>46</td><td>Male</td></tr><tr><td>29</td><td>Female</td></tr><tr><td>41</td><td>Female</td></tr><tr><td>30</td><td>Male</td></tr><tr><td>54</td><td>Female</td></tr><tr><td>28</td><td>Male</td></tr><tr><td>41</td><td>Female</td></tr><tr><td>36</td><td>Female</td></tr><tr><td>34</td><td>Female</td></tr><tr><td>32</td><td>Female</td></tr><tr><td>33</td><td>Male</td></tr><tr><td>38</td><td>Female</td></tr><tr><td>47</td><td>Female</td></tr><tr><td>35</td><td>Female</td></tr><tr><td>45</td><td>Female</td></tr><tr><td>32</td><td>Male</td></tr><tr><td>32</td><td>Male</td></tr><tr><td>30</td><td>Male</td></tr></tbody></table></div>"
      ]
     },
     "metadata": {
      "application/vnd.databricks.v1+output": {
       "addedWidgets": {},
       "aggData": [],
       "aggError": "",
       "aggOverflow": false,
       "aggSchema": [],
       "aggSeriesLimitReached": false,
       "aggType": "",
       "arguments": {},
       "columnCustomDisplayInfos": {},
       "data": [
        [
         19,
         "Male"
        ],
        [
         21,
         "Male"
        ],
        [
         20,
         "Female"
        ],
        [
         23,
         "Female"
        ],
        [
         31,
         "Female"
        ],
        [
         22,
         "Female"
        ],
        [
         35,
         "Female"
        ],
        [
         23,
         "Female"
        ],
        [
         64,
         "Male"
        ],
        [
         30,
         "Female"
        ],
        [
         67,
         "Male"
        ],
        [
         35,
         "Female"
        ],
        [
         58,
         "Female"
        ],
        [
         24,
         "Female"
        ],
        [
         37,
         "Male"
        ],
        [
         22,
         "Male"
        ],
        [
         35,
         "Female"
        ],
        [
         20,
         "Male"
        ],
        [
         52,
         "Male"
        ],
        [
         35,
         "Female"
        ],
        [
         35,
         "Male"
        ],
        [
         25,
         "Male"
        ],
        [
         46,
         "Female"
        ],
        [
         31,
         "Male"
        ],
        [
         54,
         "Female"
        ],
        [
         29,
         "Male"
        ],
        [
         45,
         "Female"
        ],
        [
         35,
         "Male"
        ],
        [
         40,
         "Female"
        ],
        [
         23,
         "Female"
        ],
        [
         60,
         "Male"
        ],
        [
         21,
         "Female"
        ],
        [
         53,
         "Male"
        ],
        [
         18,
         "Male"
        ],
        [
         49,
         "Female"
        ],
        [
         21,
         "Female"
        ],
        [
         42,
         "Female"
        ],
        [
         30,
         "Female"
        ],
        [
         36,
         "Female"
        ],
        [
         20,
         "Female"
        ],
        [
         65,
         "Female"
        ],
        [
         24,
         "Male"
        ],
        [
         48,
         "Male"
        ],
        [
         31,
         "Female"
        ],
        [
         49,
         "Female"
        ],
        [
         24,
         "Female"
        ],
        [
         50,
         "Female"
        ],
        [
         27,
         "Female"
        ],
        [
         29,
         "Female"
        ],
        [
         31,
         "Female"
        ],
        [
         49,
         "Female"
        ],
        [
         33,
         "Male"
        ],
        [
         31,
         "Female"
        ],
        [
         59,
         "Male"
        ],
        [
         50,
         "Female"
        ],
        [
         47,
         "Male"
        ],
        [
         51,
         "Female"
        ],
        [
         69,
         "Male"
        ],
        [
         27,
         "Female"
        ],
        [
         53,
         "Male"
        ],
        [
         70,
         "Male"
        ],
        [
         19,
         "Male"
        ],
        [
         67,
         "Female"
        ],
        [
         54,
         "Female"
        ],
        [
         63,
         "Male"
        ],
        [
         18,
         "Male"
        ],
        [
         43,
         "Female"
        ],
        [
         68,
         "Female"
        ],
        [
         19,
         "Male"
        ],
        [
         32,
         "Female"
        ],
        [
         70,
         "Male"
        ],
        [
         47,
         "Female"
        ],
        [
         60,
         "Female"
        ],
        [
         60,
         "Female"
        ],
        [
         59,
         "Male"
        ],
        [
         26,
         "Male"
        ],
        [
         45,
         "Female"
        ],
        [
         40,
         "Male"
        ],
        [
         23,
         "Female"
        ],
        [
         49,
         "Female"
        ],
        [
         57,
         "Male"
        ],
        [
         38,
         "Male"
        ],
        [
         67,
         "Male"
        ],
        [
         46,
         "Female"
        ],
        [
         21,
         "Female"
        ],
        [
         48,
         "Male"
        ],
        [
         55,
         "Female"
        ],
        [
         22,
         "Female"
        ],
        [
         34,
         "Female"
        ],
        [
         50,
         "Female"
        ],
        [
         68,
         "Female"
        ],
        [
         18,
         "Male"
        ],
        [
         48,
         "Male"
        ],
        [
         40,
         "Female"
        ],
        [
         32,
         "Female"
        ],
        [
         24,
         "Male"
        ],
        [
         47,
         "Female"
        ],
        [
         27,
         "Female"
        ],
        [
         48,
         "Male"
        ],
        [
         20,
         "Male"
        ],
        [
         23,
         "Female"
        ],
        [
         49,
         "Female"
        ],
        [
         67,
         "Male"
        ],
        [
         26,
         "Male"
        ],
        [
         49,
         "Male"
        ],
        [
         21,
         "Female"
        ],
        [
         66,
         "Female"
        ],
        [
         54,
         "Male"
        ],
        [
         68,
         "Male"
        ],
        [
         66,
         "Male"
        ],
        [
         65,
         "Male"
        ],
        [
         19,
         "Female"
        ],
        [
         38,
         "Female"
        ],
        [
         19,
         "Male"
        ],
        [
         18,
         "Female"
        ],
        [
         19,
         "Female"
        ],
        [
         63,
         "Female"
        ],
        [
         49,
         "Female"
        ],
        [
         51,
         "Female"
        ],
        [
         50,
         "Female"
        ],
        [
         27,
         "Male"
        ],
        [
         38,
         "Female"
        ],
        [
         40,
         "Female"
        ],
        [
         39,
         "Male"
        ],
        [
         23,
         "Female"
        ],
        [
         31,
         "Female"
        ],
        [
         43,
         "Male"
        ],
        [
         40,
         "Male"
        ],
        [
         59,
         "Male"
        ],
        [
         38,
         "Male"
        ],
        [
         47,
         "Male"
        ],
        [
         39,
         "Male"
        ],
        [
         25,
         "Female"
        ],
        [
         31,
         "Female"
        ],
        [
         20,
         "Male"
        ],
        [
         29,
         "Female"
        ],
        [
         44,
         "Female"
        ],
        [
         32,
         "Male"
        ],
        [
         19,
         "Male"
        ],
        [
         35,
         "Female"
        ],
        [
         57,
         "Female"
        ],
        [
         32,
         "Male"
        ],
        [
         28,
         "Female"
        ],
        [
         32,
         "Female"
        ],
        [
         25,
         "Male"
        ],
        [
         28,
         "Male"
        ],
        [
         48,
         "Male"
        ],
        [
         32,
         "Female"
        ],
        [
         34,
         "Female"
        ],
        [
         34,
         "Male"
        ],
        [
         43,
         "Male"
        ],
        [
         39,
         "Male"
        ],
        [
         44,
         "Female"
        ],
        [
         38,
         "Female"
        ],
        [
         47,
         "Female"
        ],
        [
         27,
         "Female"
        ],
        [
         37,
         "Male"
        ],
        [
         30,
         "Female"
        ],
        [
         34,
         "Male"
        ],
        [
         30,
         "Female"
        ],
        [
         56,
         "Female"
        ],
        [
         29,
         "Female"
        ],
        [
         19,
         "Male"
        ],
        [
         31,
         "Female"
        ],
        [
         50,
         "Male"
        ],
        [
         36,
         "Female"
        ],
        [
         42,
         "Male"
        ],
        [
         33,
         "Female"
        ],
        [
         36,
         "Female"
        ],
        [
         32,
         "Male"
        ],
        [
         40,
         "Male"
        ],
        [
         28,
         "Male"
        ],
        [
         36,
         "Male"
        ],
        [
         36,
         "Male"
        ],
        [
         52,
         "Female"
        ],
        [
         30,
         "Female"
        ],
        [
         58,
         "Male"
        ],
        [
         27,
         "Male"
        ],
        [
         59,
         "Male"
        ],
        [
         35,
         "Male"
        ],
        [
         37,
         "Female"
        ],
        [
         32,
         "Female"
        ],
        [
         46,
         "Male"
        ],
        [
         29,
         "Female"
        ],
        [
         41,
         "Female"
        ],
        [
         30,
         "Male"
        ],
        [
         54,
         "Female"
        ],
        [
         28,
         "Male"
        ],
        [
         41,
         "Female"
        ],
        [
         36,
         "Female"
        ],
        [
         34,
         "Female"
        ],
        [
         32,
         "Female"
        ],
        [
         33,
         "Male"
        ],
        [
         38,
         "Female"
        ],
        [
         47,
         "Female"
        ],
        [
         35,
         "Female"
        ],
        [
         45,
         "Female"
        ],
        [
         32,
         "Male"
        ],
        [
         32,
         "Male"
        ],
        [
         30,
         "Male"
        ]
       ],
       "datasetInfos": [],
       "dbfsResultPath": null,
       "isJsonSchema": true,
       "metadata": {},
       "overflow": false,
       "plotOptions": {
        "customPlotOptions": {
         "histogram": [
          {
           "key": "bins",
           "value": "32"
          }
         ]
        },
        "displayType": "histogram",
        "pivotAggregation": "sum",
        "pivotColumns": [],
        "xColumns": [
         "Genre"
        ],
        "yColumns": [
         "Age"
        ]
       },
       "removedWidgets": [],
       "schema": [
        {
         "metadata": "{}",
         "name": "Age",
         "type": "\"integer\""
        },
        {
         "metadata": "{}",
         "name": "Genre",
         "type": "\"string\""
        }
       ],
       "type": "table"
      }
     },
     "output_type": "display_data"
    }
   ],
   "source": [
    "#encontrando a distribuição da idade x sexo\n",
    "display(data.select([\"Age\",\"Genre\"]))"
   ]
  },
  {
   "cell_type": "markdown",
   "metadata": {
    "application/vnd.databricks.v1+cell": {
     "inputWidgets": {},
     "nuid": "ee07ccc5-53e0-4b5d-8ef9-189f3c9db450",
     "showTitle": false,
     "title": ""
    }
   },
   "source": [
    "A variável \"Spending Score (1-100)\" ou pontuação de consumo, corresponde à nota atribuída pelo shopping aos consumidores. Quanto mais próxima de 100 indica que o consumidor é mais \"lucrativo\" para o shopping."
   ]
  },
  {
   "cell_type": "code",
   "execution_count": 0,
   "metadata": {
    "application/vnd.databricks.v1+cell": {
     "inputWidgets": {},
     "nuid": "40b68ed6-2d80-4de5-b4aa-f5e534909a14",
     "showTitle": false,
     "title": ""
    }
   },
   "outputs": [
    {
     "data": {
      "text/html": [
       "<style scoped>\n",
       "  .table-result-container {\n",
       "    max-height: 300px;\n",
       "    overflow: auto;\n",
       "  }\n",
       "  table, th, td {\n",
       "    border: 1px solid black;\n",
       "    border-collapse: collapse;\n",
       "  }\n",
       "  th, td {\n",
       "    padding: 5px;\n",
       "  }\n",
       "  th {\n",
       "    text-align: left;\n",
       "  }\n",
       "</style><div class='table-result-container'><table class='table-result'><thead style='background-color: white'><tr><th>Spending Score (1-100)</th><th>Genre</th></tr></thead><tbody><tr><td>39</td><td>Male</td></tr><tr><td>81</td><td>Male</td></tr><tr><td>6</td><td>Female</td></tr><tr><td>77</td><td>Female</td></tr><tr><td>40</td><td>Female</td></tr><tr><td>76</td><td>Female</td></tr><tr><td>6</td><td>Female</td></tr><tr><td>94</td><td>Female</td></tr><tr><td>3</td><td>Male</td></tr><tr><td>72</td><td>Female</td></tr><tr><td>14</td><td>Male</td></tr><tr><td>99</td><td>Female</td></tr><tr><td>15</td><td>Female</td></tr><tr><td>77</td><td>Female</td></tr><tr><td>13</td><td>Male</td></tr><tr><td>79</td><td>Male</td></tr><tr><td>35</td><td>Female</td></tr><tr><td>66</td><td>Male</td></tr><tr><td>29</td><td>Male</td></tr><tr><td>98</td><td>Female</td></tr><tr><td>35</td><td>Male</td></tr><tr><td>73</td><td>Male</td></tr><tr><td>5</td><td>Female</td></tr><tr><td>73</td><td>Male</td></tr><tr><td>14</td><td>Female</td></tr><tr><td>82</td><td>Male</td></tr><tr><td>32</td><td>Female</td></tr><tr><td>61</td><td>Male</td></tr><tr><td>31</td><td>Female</td></tr><tr><td>87</td><td>Female</td></tr><tr><td>4</td><td>Male</td></tr><tr><td>73</td><td>Female</td></tr><tr><td>4</td><td>Male</td></tr><tr><td>92</td><td>Male</td></tr><tr><td>14</td><td>Female</td></tr><tr><td>81</td><td>Female</td></tr><tr><td>17</td><td>Female</td></tr><tr><td>73</td><td>Female</td></tr><tr><td>26</td><td>Female</td></tr><tr><td>75</td><td>Female</td></tr><tr><td>35</td><td>Female</td></tr><tr><td>92</td><td>Male</td></tr><tr><td>36</td><td>Male</td></tr><tr><td>61</td><td>Female</td></tr><tr><td>28</td><td>Female</td></tr><tr><td>65</td><td>Female</td></tr><tr><td>55</td><td>Female</td></tr><tr><td>47</td><td>Female</td></tr><tr><td>42</td><td>Female</td></tr><tr><td>42</td><td>Female</td></tr><tr><td>52</td><td>Female</td></tr><tr><td>60</td><td>Male</td></tr><tr><td>54</td><td>Female</td></tr><tr><td>60</td><td>Male</td></tr><tr><td>45</td><td>Female</td></tr><tr><td>41</td><td>Male</td></tr><tr><td>50</td><td>Female</td></tr><tr><td>46</td><td>Male</td></tr><tr><td>51</td><td>Female</td></tr><tr><td>46</td><td>Male</td></tr><tr><td>56</td><td>Male</td></tr><tr><td>55</td><td>Male</td></tr><tr><td>52</td><td>Female</td></tr><tr><td>59</td><td>Female</td></tr><tr><td>51</td><td>Male</td></tr><tr><td>59</td><td>Male</td></tr><tr><td>50</td><td>Female</td></tr><tr><td>48</td><td>Female</td></tr><tr><td>59</td><td>Male</td></tr><tr><td>47</td><td>Female</td></tr><tr><td>55</td><td>Male</td></tr><tr><td>42</td><td>Female</td></tr><tr><td>49</td><td>Female</td></tr><tr><td>56</td><td>Female</td></tr><tr><td>47</td><td>Male</td></tr><tr><td>54</td><td>Male</td></tr><tr><td>53</td><td>Female</td></tr><tr><td>48</td><td>Male</td></tr><tr><td>52</td><td>Female</td></tr><tr><td>42</td><td>Female</td></tr><tr><td>51</td><td>Male</td></tr><tr><td>55</td><td>Male</td></tr><tr><td>41</td><td>Male</td></tr><tr><td>44</td><td>Female</td></tr><tr><td>57</td><td>Female</td></tr><tr><td>46</td><td>Male</td></tr><tr><td>58</td><td>Female</td></tr><tr><td>55</td><td>Female</td></tr><tr><td>60</td><td>Female</td></tr><tr><td>46</td><td>Female</td></tr><tr><td>55</td><td>Female</td></tr><tr><td>41</td><td>Male</td></tr><tr><td>49</td><td>Male</td></tr><tr><td>40</td><td>Female</td></tr><tr><td>42</td><td>Female</td></tr><tr><td>52</td><td>Male</td></tr><tr><td>47</td><td>Female</td></tr><tr><td>50</td><td>Female</td></tr><tr><td>42</td><td>Male</td></tr><tr><td>49</td><td>Male</td></tr><tr><td>41</td><td>Female</td></tr><tr><td>48</td><td>Female</td></tr><tr><td>59</td><td>Male</td></tr><tr><td>55</td><td>Male</td></tr><tr><td>56</td><td>Male</td></tr><tr><td>42</td><td>Female</td></tr><tr><td>50</td><td>Female</td></tr><tr><td>46</td><td>Male</td></tr><tr><td>43</td><td>Male</td></tr><tr><td>48</td><td>Male</td></tr><tr><td>52</td><td>Male</td></tr><tr><td>54</td><td>Female</td></tr><tr><td>42</td><td>Female</td></tr><tr><td>46</td><td>Male</td></tr><tr><td>48</td><td>Female</td></tr><tr><td>50</td><td>Female</td></tr><tr><td>43</td><td>Female</td></tr><tr><td>59</td><td>Female</td></tr><tr><td>43</td><td>Female</td></tr><tr><td>57</td><td>Female</td></tr><tr><td>56</td><td>Male</td></tr><tr><td>40</td><td>Female</td></tr><tr><td>58</td><td>Female</td></tr><tr><td>91</td><td>Male</td></tr><tr><td>29</td><td>Female</td></tr><tr><td>77</td><td>Female</td></tr><tr><td>35</td><td>Male</td></tr><tr><td>95</td><td>Male</td></tr><tr><td>11</td><td>Male</td></tr><tr><td>75</td><td>Male</td></tr><tr><td>9</td><td>Male</td></tr><tr><td>75</td><td>Male</td></tr><tr><td>34</td><td>Female</td></tr><tr><td>71</td><td>Female</td></tr><tr><td>5</td><td>Male</td></tr><tr><td>88</td><td>Female</td></tr><tr><td>7</td><td>Female</td></tr><tr><td>73</td><td>Male</td></tr><tr><td>10</td><td>Male</td></tr><tr><td>72</td><td>Female</td></tr><tr><td>5</td><td>Female</td></tr><tr><td>93</td><td>Male</td></tr><tr><td>40</td><td>Female</td></tr><tr><td>87</td><td>Female</td></tr><tr><td>12</td><td>Male</td></tr><tr><td>97</td><td>Male</td></tr><tr><td>36</td><td>Male</td></tr><tr><td>74</td><td>Female</td></tr><tr><td>22</td><td>Female</td></tr><tr><td>90</td><td>Male</td></tr><tr><td>17</td><td>Male</td></tr><tr><td>88</td><td>Male</td></tr><tr><td>20</td><td>Female</td></tr><tr><td>76</td><td>Female</td></tr><tr><td>16</td><td>Female</td></tr><tr><td>89</td><td>Female</td></tr><tr><td>1</td><td>Male</td></tr><tr><td>78</td><td>Female</td></tr><tr><td>1</td><td>Male</td></tr><tr><td>73</td><td>Female</td></tr><tr><td>35</td><td>Female</td></tr><tr><td>83</td><td>Female</td></tr><tr><td>5</td><td>Male</td></tr><tr><td>93</td><td>Female</td></tr><tr><td>26</td><td>Male</td></tr><tr><td>75</td><td>Female</td></tr><tr><td>20</td><td>Male</td></tr><tr><td>95</td><td>Female</td></tr><tr><td>27</td><td>Female</td></tr><tr><td>63</td><td>Male</td></tr><tr><td>13</td><td>Male</td></tr><tr><td>75</td><td>Male</td></tr><tr><td>10</td><td>Male</td></tr><tr><td>92</td><td>Male</td></tr><tr><td>13</td><td>Female</td></tr><tr><td>86</td><td>Female</td></tr><tr><td>15</td><td>Male</td></tr><tr><td>69</td><td>Male</td></tr><tr><td>14</td><td>Male</td></tr><tr><td>90</td><td>Male</td></tr><tr><td>32</td><td>Female</td></tr><tr><td>86</td><td>Female</td></tr><tr><td>15</td><td>Male</td></tr><tr><td>88</td><td>Female</td></tr><tr><td>39</td><td>Female</td></tr><tr><td>97</td><td>Male</td></tr><tr><td>24</td><td>Female</td></tr><tr><td>68</td><td>Male</td></tr><tr><td>17</td><td>Female</td></tr><tr><td>85</td><td>Female</td></tr><tr><td>23</td><td>Female</td></tr><tr><td>69</td><td>Female</td></tr><tr><td>8</td><td>Male</td></tr><tr><td>91</td><td>Female</td></tr><tr><td>16</td><td>Female</td></tr><tr><td>79</td><td>Female</td></tr><tr><td>28</td><td>Female</td></tr><tr><td>74</td><td>Male</td></tr><tr><td>18</td><td>Male</td></tr><tr><td>83</td><td>Male</td></tr></tbody></table></div>"
      ]
     },
     "metadata": {
      "application/vnd.databricks.v1+output": {
       "addedWidgets": {},
       "aggData": [],
       "aggError": "",
       "aggOverflow": false,
       "aggSchema": [],
       "aggSeriesLimitReached": false,
       "aggType": "",
       "arguments": {},
       "columnCustomDisplayInfos": {},
       "data": [
        [
         39,
         "Male"
        ],
        [
         81,
         "Male"
        ],
        [
         6,
         "Female"
        ],
        [
         77,
         "Female"
        ],
        [
         40,
         "Female"
        ],
        [
         76,
         "Female"
        ],
        [
         6,
         "Female"
        ],
        [
         94,
         "Female"
        ],
        [
         3,
         "Male"
        ],
        [
         72,
         "Female"
        ],
        [
         14,
         "Male"
        ],
        [
         99,
         "Female"
        ],
        [
         15,
         "Female"
        ],
        [
         77,
         "Female"
        ],
        [
         13,
         "Male"
        ],
        [
         79,
         "Male"
        ],
        [
         35,
         "Female"
        ],
        [
         66,
         "Male"
        ],
        [
         29,
         "Male"
        ],
        [
         98,
         "Female"
        ],
        [
         35,
         "Male"
        ],
        [
         73,
         "Male"
        ],
        [
         5,
         "Female"
        ],
        [
         73,
         "Male"
        ],
        [
         14,
         "Female"
        ],
        [
         82,
         "Male"
        ],
        [
         32,
         "Female"
        ],
        [
         61,
         "Male"
        ],
        [
         31,
         "Female"
        ],
        [
         87,
         "Female"
        ],
        [
         4,
         "Male"
        ],
        [
         73,
         "Female"
        ],
        [
         4,
         "Male"
        ],
        [
         92,
         "Male"
        ],
        [
         14,
         "Female"
        ],
        [
         81,
         "Female"
        ],
        [
         17,
         "Female"
        ],
        [
         73,
         "Female"
        ],
        [
         26,
         "Female"
        ],
        [
         75,
         "Female"
        ],
        [
         35,
         "Female"
        ],
        [
         92,
         "Male"
        ],
        [
         36,
         "Male"
        ],
        [
         61,
         "Female"
        ],
        [
         28,
         "Female"
        ],
        [
         65,
         "Female"
        ],
        [
         55,
         "Female"
        ],
        [
         47,
         "Female"
        ],
        [
         42,
         "Female"
        ],
        [
         42,
         "Female"
        ],
        [
         52,
         "Female"
        ],
        [
         60,
         "Male"
        ],
        [
         54,
         "Female"
        ],
        [
         60,
         "Male"
        ],
        [
         45,
         "Female"
        ],
        [
         41,
         "Male"
        ],
        [
         50,
         "Female"
        ],
        [
         46,
         "Male"
        ],
        [
         51,
         "Female"
        ],
        [
         46,
         "Male"
        ],
        [
         56,
         "Male"
        ],
        [
         55,
         "Male"
        ],
        [
         52,
         "Female"
        ],
        [
         59,
         "Female"
        ],
        [
         51,
         "Male"
        ],
        [
         59,
         "Male"
        ],
        [
         50,
         "Female"
        ],
        [
         48,
         "Female"
        ],
        [
         59,
         "Male"
        ],
        [
         47,
         "Female"
        ],
        [
         55,
         "Male"
        ],
        [
         42,
         "Female"
        ],
        [
         49,
         "Female"
        ],
        [
         56,
         "Female"
        ],
        [
         47,
         "Male"
        ],
        [
         54,
         "Male"
        ],
        [
         53,
         "Female"
        ],
        [
         48,
         "Male"
        ],
        [
         52,
         "Female"
        ],
        [
         42,
         "Female"
        ],
        [
         51,
         "Male"
        ],
        [
         55,
         "Male"
        ],
        [
         41,
         "Male"
        ],
        [
         44,
         "Female"
        ],
        [
         57,
         "Female"
        ],
        [
         46,
         "Male"
        ],
        [
         58,
         "Female"
        ],
        [
         55,
         "Female"
        ],
        [
         60,
         "Female"
        ],
        [
         46,
         "Female"
        ],
        [
         55,
         "Female"
        ],
        [
         41,
         "Male"
        ],
        [
         49,
         "Male"
        ],
        [
         40,
         "Female"
        ],
        [
         42,
         "Female"
        ],
        [
         52,
         "Male"
        ],
        [
         47,
         "Female"
        ],
        [
         50,
         "Female"
        ],
        [
         42,
         "Male"
        ],
        [
         49,
         "Male"
        ],
        [
         41,
         "Female"
        ],
        [
         48,
         "Female"
        ],
        [
         59,
         "Male"
        ],
        [
         55,
         "Male"
        ],
        [
         56,
         "Male"
        ],
        [
         42,
         "Female"
        ],
        [
         50,
         "Female"
        ],
        [
         46,
         "Male"
        ],
        [
         43,
         "Male"
        ],
        [
         48,
         "Male"
        ],
        [
         52,
         "Male"
        ],
        [
         54,
         "Female"
        ],
        [
         42,
         "Female"
        ],
        [
         46,
         "Male"
        ],
        [
         48,
         "Female"
        ],
        [
         50,
         "Female"
        ],
        [
         43,
         "Female"
        ],
        [
         59,
         "Female"
        ],
        [
         43,
         "Female"
        ],
        [
         57,
         "Female"
        ],
        [
         56,
         "Male"
        ],
        [
         40,
         "Female"
        ],
        [
         58,
         "Female"
        ],
        [
         91,
         "Male"
        ],
        [
         29,
         "Female"
        ],
        [
         77,
         "Female"
        ],
        [
         35,
         "Male"
        ],
        [
         95,
         "Male"
        ],
        [
         11,
         "Male"
        ],
        [
         75,
         "Male"
        ],
        [
         9,
         "Male"
        ],
        [
         75,
         "Male"
        ],
        [
         34,
         "Female"
        ],
        [
         71,
         "Female"
        ],
        [
         5,
         "Male"
        ],
        [
         88,
         "Female"
        ],
        [
         7,
         "Female"
        ],
        [
         73,
         "Male"
        ],
        [
         10,
         "Male"
        ],
        [
         72,
         "Female"
        ],
        [
         5,
         "Female"
        ],
        [
         93,
         "Male"
        ],
        [
         40,
         "Female"
        ],
        [
         87,
         "Female"
        ],
        [
         12,
         "Male"
        ],
        [
         97,
         "Male"
        ],
        [
         36,
         "Male"
        ],
        [
         74,
         "Female"
        ],
        [
         22,
         "Female"
        ],
        [
         90,
         "Male"
        ],
        [
         17,
         "Male"
        ],
        [
         88,
         "Male"
        ],
        [
         20,
         "Female"
        ],
        [
         76,
         "Female"
        ],
        [
         16,
         "Female"
        ],
        [
         89,
         "Female"
        ],
        [
         1,
         "Male"
        ],
        [
         78,
         "Female"
        ],
        [
         1,
         "Male"
        ],
        [
         73,
         "Female"
        ],
        [
         35,
         "Female"
        ],
        [
         83,
         "Female"
        ],
        [
         5,
         "Male"
        ],
        [
         93,
         "Female"
        ],
        [
         26,
         "Male"
        ],
        [
         75,
         "Female"
        ],
        [
         20,
         "Male"
        ],
        [
         95,
         "Female"
        ],
        [
         27,
         "Female"
        ],
        [
         63,
         "Male"
        ],
        [
         13,
         "Male"
        ],
        [
         75,
         "Male"
        ],
        [
         10,
         "Male"
        ],
        [
         92,
         "Male"
        ],
        [
         13,
         "Female"
        ],
        [
         86,
         "Female"
        ],
        [
         15,
         "Male"
        ],
        [
         69,
         "Male"
        ],
        [
         14,
         "Male"
        ],
        [
         90,
         "Male"
        ],
        [
         32,
         "Female"
        ],
        [
         86,
         "Female"
        ],
        [
         15,
         "Male"
        ],
        [
         88,
         "Female"
        ],
        [
         39,
         "Female"
        ],
        [
         97,
         "Male"
        ],
        [
         24,
         "Female"
        ],
        [
         68,
         "Male"
        ],
        [
         17,
         "Female"
        ],
        [
         85,
         "Female"
        ],
        [
         23,
         "Female"
        ],
        [
         69,
         "Female"
        ],
        [
         8,
         "Male"
        ],
        [
         91,
         "Female"
        ],
        [
         16,
         "Female"
        ],
        [
         79,
         "Female"
        ],
        [
         28,
         "Female"
        ],
        [
         74,
         "Male"
        ],
        [
         18,
         "Male"
        ],
        [
         83,
         "Male"
        ]
       ],
       "datasetInfos": [],
       "dbfsResultPath": null,
       "isJsonSchema": true,
       "metadata": {},
       "overflow": false,
       "plotOptions": {
        "customPlotOptions": {
         "plotlyBar": [
          {
           "key": "grouped",
           "value": true
          },
          {
           "key": "stacked",
           "value": false
          },
          {
           "key": "100_stacked",
           "value": false
          }
         ]
        },
        "displayType": "plotlyBar",
        "pivotAggregation": "avg",
        "pivotColumns": [
         "Genre"
        ],
        "xColumns": [],
        "yColumns": [
         "Spending Score (1-100)"
        ]
       },
       "removedWidgets": [],
       "schema": [
        {
         "metadata": "{}",
         "name": "Spending Score (1-100)",
         "type": "\"integer\""
        },
        {
         "metadata": "{}",
         "name": "Genre",
         "type": "\"string\""
        }
       ],
       "type": "table"
      }
     },
     "output_type": "display_data"
    }
   ],
   "source": [
    "#encontrando as notas atribuidas por gênero \n",
    "display(data.select([\"Spending Score (1-100)\",\"Genre\"]))"
   ]
  },
  {
   "cell_type": "markdown",
   "metadata": {
    "application/vnd.databricks.v1+cell": {
     "inputWidgets": {},
     "nuid": "7d79f3ed-1438-4913-b62e-9317860ed069",
     "showTitle": false,
     "title": ""
    }
   },
   "source": [
    "Analisando a correlação entre Idade e Nota Atribuída"
   ]
  },
  {
   "cell_type": "code",
   "execution_count": 0,
   "metadata": {
    "application/vnd.databricks.v1+cell": {
     "inputWidgets": {},
     "nuid": "2d70e44d-c69c-42d9-94d7-69795caf62ad",
     "showTitle": false,
     "title": ""
    }
   },
   "outputs": [
    {
     "data": {
      "text/html": [
       "<style scoped>\n",
       "  .ansiout {\n",
       "    display: block;\n",
       "    unicode-bidi: embed;\n",
       "    white-space: pre-wrap;\n",
       "    word-wrap: break-word;\n",
       "    word-break: break-all;\n",
       "    font-family: \"Source Code Pro\", \"Menlo\", monospace;;\n",
       "    font-size: 13px;\n",
       "    color: #555;\n",
       "    margin-left: 4px;\n",
       "    line-height: 19px;\n",
       "  }\n",
       "</style>\n",
       "<div class=\"ansiout\"></div>"
      ]
     },
     "metadata": {
      "application/vnd.databricks.v1+output": {
       "addedWidgets": {},
       "arguments": {},
       "data": "<div class=\"ansiout\"></div>",
       "datasetInfos": [],
       "metadata": {},
       "removedWidgets": [],
       "type": "html"
      }
     },
     "output_type": "display_data"
    }
   ],
   "source": [
    "#Analisando as correlações\n",
    "from pyspark.mllib.stat import Statistics"
   ]
  },
  {
   "cell_type": "code",
   "execution_count": 0,
   "metadata": {
    "application/vnd.databricks.v1+cell": {
     "inputWidgets": {},
     "nuid": "7b58b107-d80a-4495-b4ba-b0f1ada1b65b",
     "showTitle": false,
     "title": ""
    }
   },
   "outputs": [
    {
     "data": {
      "text/html": [
       "<style scoped>\n",
       "  .ansiout {\n",
       "    display: block;\n",
       "    unicode-bidi: embed;\n",
       "    white-space: pre-wrap;\n",
       "    word-wrap: break-word;\n",
       "    word-break: break-all;\n",
       "    font-family: \"Source Code Pro\", \"Menlo\", monospace;;\n",
       "    font-size: 13px;\n",
       "    color: #555;\n",
       "    margin-left: 4px;\n",
       "    line-height: 19px;\n",
       "  }\n",
       "</style>\n",
       "<div class=\"ansiout\"></div>"
      ]
     },
     "metadata": {
      "application/vnd.databricks.v1+output": {
       "addedWidgets": {},
       "arguments": {},
       "data": "<div class=\"ansiout\"></div>",
       "datasetInfos": [],
       "metadata": {},
       "removedWidgets": [],
       "type": "html"
      }
     },
     "output_type": "display_data"
    }
   ],
   "source": [
    "rdd_1=data.select(\"Spending Score (1-100)\").rdd.flatMap(lambda x:x)  #utilizada para transforma das colunas do dataframe em colunas para serem empregadas na análise de correlaçoes\n",
    "rdd_2=data.select(\"Age\").rdd.flatMap(lambda x:x)"
   ]
  },
  {
   "cell_type": "code",
   "execution_count": 0,
   "metadata": {
    "application/vnd.databricks.v1+cell": {
     "inputWidgets": {},
     "nuid": "3c84990f-0cf1-416c-9608-e1ffcad49580",
     "showTitle": false,
     "title": ""
    }
   },
   "outputs": [
    {
     "data": {
      "text/html": [
       "<style scoped>\n",
       "  .ansiout {\n",
       "    display: block;\n",
       "    unicode-bidi: embed;\n",
       "    white-space: pre-wrap;\n",
       "    word-wrap: break-word;\n",
       "    word-break: break-all;\n",
       "    font-family: \"Source Code Pro\", \"Menlo\", monospace;;\n",
       "    font-size: 13px;\n",
       "    color: #555;\n",
       "    margin-left: 4px;\n",
       "    line-height: 19px;\n",
       "  }\n",
       "</style>\n",
       "<div class=\"ansiout\">Out[22]: -0.32722684603908925</div>"
      ]
     },
     "metadata": {
      "application/vnd.databricks.v1+output": {
       "addedWidgets": {},
       "arguments": {},
       "data": "<div class=\"ansiout\">Out[22]: -0.32722684603908925</div>",
       "datasetInfos": [],
       "metadata": {},
       "removedWidgets": [],
       "type": "html"
      }
     },
     "output_type": "display_data"
    }
   ],
   "source": [
    "Statistics.corr(rdd_1,rdd_2,method=\"pearson\")  #definindo a coeficiente de correlação de pearson "
   ]
  },
  {
   "cell_type": "code",
   "execution_count": 0,
   "metadata": {
    "application/vnd.databricks.v1+cell": {
     "inputWidgets": {},
     "nuid": "b8476c6f-2a26-4698-bb7a-9e2bf288bad4",
     "showTitle": false,
     "title": ""
    }
   },
   "outputs": [
    {
     "data": {
      "text/html": [
       "<style scoped>\n",
       "  .ansiout {\n",
       "    display: block;\n",
       "    unicode-bidi: embed;\n",
       "    white-space: pre-wrap;\n",
       "    word-wrap: break-word;\n",
       "    word-break: break-all;\n",
       "    font-family: \"Source Code Pro\", \"Menlo\", monospace;;\n",
       "    font-size: 13px;\n",
       "    color: #555;\n",
       "    margin-left: 4px;\n",
       "    line-height: 19px;\n",
       "  }\n",
       "</style>\n",
       "<div class=\"ansiout\">Out[23]: -0.01239804273606026</div>"
      ]
     },
     "metadata": {
      "application/vnd.databricks.v1+output": {
       "addedWidgets": {},
       "arguments": {},
       "data": "<div class=\"ansiout\">Out[23]: -0.01239804273606026</div>",
       "datasetInfos": [],
       "metadata": {},
       "removedWidgets": [],
       "type": "html"
      }
     },
     "output_type": "display_data"
    }
   ],
   "source": [
    "data.stat.corr(\"Age\",\"Annual Income (k$)\",method=\"pearson\")"
   ]
  },
  {
   "cell_type": "markdown",
   "metadata": {
    "application/vnd.databricks.v1+cell": {
     "inputWidgets": {},
     "nuid": "db571995-2794-4faa-8b33-f38312a29ba9",
     "showTitle": false,
     "title": ""
    }
   },
   "source": [
    "Analisando a correlação por gênero"
   ]
  },
  {
   "cell_type": "code",
   "execution_count": 0,
   "metadata": {
    "application/vnd.databricks.v1+cell": {
     "inputWidgets": {},
     "nuid": "01bde5bc-6396-4b23-980a-c69fcae1475f",
     "showTitle": false,
     "title": ""
    }
   },
   "outputs": [
    {
     "data": {
      "text/html": [
       "<style scoped>\n",
       "  .ansiout {\n",
       "    display: block;\n",
       "    unicode-bidi: embed;\n",
       "    white-space: pre-wrap;\n",
       "    word-wrap: break-word;\n",
       "    word-break: break-all;\n",
       "    font-family: \"Source Code Pro\", \"Menlo\", monospace;;\n",
       "    font-size: 13px;\n",
       "    color: #555;\n",
       "    margin-left: 4px;\n",
       "    line-height: 19px;\n",
       "  }\n",
       "</style>\n",
       "<div class=\"ansiout\">+----------+-----+---+------------------+----------------------+\n",
       "CustomerID|Genre|Age|Annual Income (k$)|Spending Score (1-100)|\n",
       "+----------+-----+---+------------------+----------------------+\n",
       "         1| Male| 19|                15|                    39|\n",
       "         2| Male| 21|                15|                    81|\n",
       "         9| Male| 64|                19|                     3|\n",
       "        11| Male| 67|                19|                    14|\n",
       "        15| Male| 37|                20|                    13|\n",
       "        16| Male| 22|                20|                    79|\n",
       "        18| Male| 20|                21|                    66|\n",
       "        19| Male| 52|                23|                    29|\n",
       "        21| Male| 35|                24|                    35|\n",
       "        22| Male| 25|                24|                    73|\n",
       "        24| Male| 31|                25|                    73|\n",
       "        26| Male| 29|                28|                    82|\n",
       "        28| Male| 35|                28|                    61|\n",
       "        31| Male| 60|                30|                     4|\n",
       "        33| Male| 53|                33|                     4|\n",
       "        34| Male| 18|                33|                    92|\n",
       "        42| Male| 24|                38|                    92|\n",
       "        43| Male| 48|                39|                    36|\n",
       "        52| Male| 33|                42|                    60|\n",
       "        54| Male| 59|                43|                    60|\n",
       "+----------+-----+---+------------------+----------------------+\n",
       "only showing top 20 rows\n",
       "\n",
       "</div>"
      ]
     },
     "metadata": {
      "application/vnd.databricks.v1+output": {
       "addedWidgets": {},
       "arguments": {},
       "data": "<div class=\"ansiout\">+----------+-----+---+------------------+----------------------+\n|CustomerID|Genre|Age|Annual Income (k$)|Spending Score (1-100)|\n+----------+-----+---+------------------+----------------------+\n|         1| Male| 19|                15|                    39|\n|         2| Male| 21|                15|                    81|\n|         9| Male| 64|                19|                     3|\n|        11| Male| 67|                19|                    14|\n|        15| Male| 37|                20|                    13|\n|        16| Male| 22|                20|                    79|\n|        18| Male| 20|                21|                    66|\n|        19| Male| 52|                23|                    29|\n|        21| Male| 35|                24|                    35|\n|        22| Male| 25|                24|                    73|\n|        24| Male| 31|                25|                    73|\n|        26| Male| 29|                28|                    82|\n|        28| Male| 35|                28|                    61|\n|        31| Male| 60|                30|                     4|\n|        33| Male| 53|                33|                     4|\n|        34| Male| 18|                33|                    92|\n|        42| Male| 24|                38|                    92|\n|        43| Male| 48|                39|                    36|\n|        52| Male| 33|                42|                    60|\n|        54| Male| 59|                43|                    60|\n+----------+-----+---+------------------+----------------------+\nonly showing top 20 rows\n\n</div>",
       "datasetInfos": [
        {
         "name": "homens",
         "schema": {
          "fields": [
           {
            "metadata": {},
            "name": "CustomerID",
            "nullable": true,
            "type": "integer"
           },
           {
            "metadata": {},
            "name": "Genre",
            "nullable": true,
            "type": "string"
           },
           {
            "metadata": {},
            "name": "Age",
            "nullable": true,
            "type": "integer"
           },
           {
            "metadata": {},
            "name": "Annual Income (k$)",
            "nullable": true,
            "type": "integer"
           },
           {
            "metadata": {},
            "name": "Spending Score (1-100)",
            "nullable": true,
            "type": "integer"
           }
          ],
          "type": "struct"
         },
         "tableIdentifier": null,
         "typeStr": "pyspark.sql.dataframe.DataFrame"
        }
       ],
       "metadata": {},
       "removedWidgets": [],
       "type": "html"
      }
     },
     "output_type": "display_data"
    }
   ],
   "source": [
    "#Selecionando os homens\n",
    "homens=data[data.Genre=='Male']\n",
    "homens.show()"
   ]
  },
  {
   "cell_type": "code",
   "execution_count": 0,
   "metadata": {
    "application/vnd.databricks.v1+cell": {
     "inputWidgets": {},
     "nuid": "692776c9-1c84-47fb-a1cf-512d6ac24357",
     "showTitle": false,
     "title": ""
    }
   },
   "outputs": [
    {
     "data": {
      "text/html": [
       "<style scoped>\n",
       "  .ansiout {\n",
       "    display: block;\n",
       "    unicode-bidi: embed;\n",
       "    white-space: pre-wrap;\n",
       "    word-wrap: break-word;\n",
       "    word-break: break-all;\n",
       "    font-family: \"Source Code Pro\", \"Menlo\", monospace;;\n",
       "    font-size: 13px;\n",
       "    color: #555;\n",
       "    margin-left: 4px;\n",
       "    line-height: 19px;\n",
       "  }\n",
       "</style>\n",
       "<div class=\"ansiout\">+----------+------+---+------------------+----------------------+\n",
       "CustomerID| Genre|Age|Annual Income (k$)|Spending Score (1-100)|\n",
       "+----------+------+---+------------------+----------------------+\n",
       "         3|Female| 20|                16|                     6|\n",
       "         4|Female| 23|                16|                    77|\n",
       "         5|Female| 31|                17|                    40|\n",
       "         6|Female| 22|                17|                    76|\n",
       "         7|Female| 35|                18|                     6|\n",
       "         8|Female| 23|                18|                    94|\n",
       "        10|Female| 30|                19|                    72|\n",
       "        12|Female| 35|                19|                    99|\n",
       "        13|Female| 58|                20|                    15|\n",
       "        14|Female| 24|                20|                    77|\n",
       "        17|Female| 35|                21|                    35|\n",
       "        20|Female| 35|                23|                    98|\n",
       "        23|Female| 46|                25|                     5|\n",
       "        25|Female| 54|                28|                    14|\n",
       "        27|Female| 45|                28|                    32|\n",
       "        29|Female| 40|                29|                    31|\n",
       "        30|Female| 23|                29|                    87|\n",
       "        32|Female| 21|                30|                    73|\n",
       "        35|Female| 49|                33|                    14|\n",
       "        36|Female| 21|                33|                    81|\n",
       "+----------+------+---+------------------+----------------------+\n",
       "only showing top 20 rows\n",
       "\n",
       "</div>"
      ]
     },
     "metadata": {
      "application/vnd.databricks.v1+output": {
       "addedWidgets": {},
       "arguments": {},
       "data": "<div class=\"ansiout\">+----------+------+---+------------------+----------------------+\n|CustomerID| Genre|Age|Annual Income (k$)|Spending Score (1-100)|\n+----------+------+---+------------------+----------------------+\n|         3|Female| 20|                16|                     6|\n|         4|Female| 23|                16|                    77|\n|         5|Female| 31|                17|                    40|\n|         6|Female| 22|                17|                    76|\n|         7|Female| 35|                18|                     6|\n|         8|Female| 23|                18|                    94|\n|        10|Female| 30|                19|                    72|\n|        12|Female| 35|                19|                    99|\n|        13|Female| 58|                20|                    15|\n|        14|Female| 24|                20|                    77|\n|        17|Female| 35|                21|                    35|\n|        20|Female| 35|                23|                    98|\n|        23|Female| 46|                25|                     5|\n|        25|Female| 54|                28|                    14|\n|        27|Female| 45|                28|                    32|\n|        29|Female| 40|                29|                    31|\n|        30|Female| 23|                29|                    87|\n|        32|Female| 21|                30|                    73|\n|        35|Female| 49|                33|                    14|\n|        36|Female| 21|                33|                    81|\n+----------+------+---+------------------+----------------------+\nonly showing top 20 rows\n\n</div>",
       "datasetInfos": [
        {
         "name": "mulheres",
         "schema": {
          "fields": [
           {
            "metadata": {},
            "name": "CustomerID",
            "nullable": true,
            "type": "integer"
           },
           {
            "metadata": {},
            "name": "Genre",
            "nullable": true,
            "type": "string"
           },
           {
            "metadata": {},
            "name": "Age",
            "nullable": true,
            "type": "integer"
           },
           {
            "metadata": {},
            "name": "Annual Income (k$)",
            "nullable": true,
            "type": "integer"
           },
           {
            "metadata": {},
            "name": "Spending Score (1-100)",
            "nullable": true,
            "type": "integer"
           }
          ],
          "type": "struct"
         },
         "tableIdentifier": null,
         "typeStr": "pyspark.sql.dataframe.DataFrame"
        }
       ],
       "metadata": {},
       "removedWidgets": [],
       "type": "html"
      }
     },
     "output_type": "display_data"
    }
   ],
   "source": [
    "#selecionando mulheres\n",
    "mulheres=data[data.Genre=='Female']\n",
    "mulheres.show()"
   ]
  },
  {
   "cell_type": "code",
   "execution_count": 0,
   "metadata": {
    "application/vnd.databricks.v1+cell": {
     "inputWidgets": {},
     "nuid": "eb0a0e78-3b51-45ae-9d84-9a647302a9ad",
     "showTitle": false,
     "title": ""
    }
   },
   "outputs": [
    {
     "data": {
      "text/html": [
       "<style scoped>\n",
       "  .ansiout {\n",
       "    display: block;\n",
       "    unicode-bidi: embed;\n",
       "    white-space: pre-wrap;\n",
       "    word-wrap: break-word;\n",
       "    word-break: break-all;\n",
       "    font-family: \"Source Code Pro\", \"Menlo\", monospace;;\n",
       "    font-size: 13px;\n",
       "    color: #555;\n",
       "    margin-left: 4px;\n",
       "    line-height: 19px;\n",
       "  }\n",
       "</style>\n",
       "<div class=\"ansiout\">Out[26]: -0.27962764627493125</div>"
      ]
     },
     "metadata": {
      "application/vnd.databricks.v1+output": {
       "addedWidgets": {},
       "arguments": {},
       "data": "<div class=\"ansiout\">Out[26]: -0.27962764627493125</div>",
       "datasetInfos": [],
       "metadata": {},
       "removedWidgets": [],
       "type": "html"
      }
     },
     "output_type": "display_data"
    }
   ],
   "source": [
    "#correlação entre Idade e o Salário Anual - Homens\n",
    "homens.stat.corr(\"Age\",\"Spending Score (1-100)\",method=\"pearson\")"
   ]
  },
  {
   "cell_type": "code",
   "execution_count": 0,
   "metadata": {
    "application/vnd.databricks.v1+cell": {
     "inputWidgets": {},
     "nuid": "6be5f859-babe-4c2b-a682-32089411c61a",
     "showTitle": false,
     "title": ""
    }
   },
   "outputs": [
    {
     "data": {
      "text/html": [
       "<style scoped>\n",
       "  .ansiout {\n",
       "    display: block;\n",
       "    unicode-bidi: embed;\n",
       "    white-space: pre-wrap;\n",
       "    word-wrap: break-word;\n",
       "    word-break: break-all;\n",
       "    font-family: \"Source Code Pro\", \"Menlo\", monospace;;\n",
       "    font-size: 13px;\n",
       "    color: #555;\n",
       "    margin-left: 4px;\n",
       "    line-height: 19px;\n",
       "  }\n",
       "</style>\n",
       "<div class=\"ansiout\">Out[27]: -0.3754385837780473</div>"
      ]
     },
     "metadata": {
      "application/vnd.databricks.v1+output": {
       "addedWidgets": {},
       "arguments": {},
       "data": "<div class=\"ansiout\">Out[27]: -0.3754385837780473</div>",
       "datasetInfos": [],
       "metadata": {},
       "removedWidgets": [],
       "type": "html"
      }
     },
     "output_type": "display_data"
    }
   ],
   "source": [
    "#correlação entre Idade e o Salário Anual - Homens\n",
    "mulheres.stat.corr(\"Age\",\"Spending Score (1-100)\",method=\"pearson\")"
   ]
  },
  {
   "cell_type": "markdown",
   "metadata": {
    "application/vnd.databricks.v1+cell": {
     "inputWidgets": {},
     "nuid": "ea5b9269-9e99-492c-ad22-b403d17cb9d8",
     "showTitle": false,
     "title": ""
    }
   },
   "source": [
    "Aplicando o Kmeans"
   ]
  },
  {
   "cell_type": "code",
   "execution_count": 0,
   "metadata": {
    "application/vnd.databricks.v1+cell": {
     "inputWidgets": {},
     "nuid": "5c96c10d-44ed-4bc0-9f1d-5649f881dfa8",
     "showTitle": false,
     "title": ""
    }
   },
   "outputs": [
    {
     "data": {
      "text/html": [
       "<style scoped>\n",
       "  .ansiout {\n",
       "    display: block;\n",
       "    unicode-bidi: embed;\n",
       "    white-space: pre-wrap;\n",
       "    word-wrap: break-word;\n",
       "    word-break: break-all;\n",
       "    font-family: \"Source Code Pro\", \"Menlo\", monospace;;\n",
       "    font-size: 13px;\n",
       "    color: #555;\n",
       "    margin-left: 4px;\n",
       "    line-height: 19px;\n",
       "  }\n",
       "</style>\n",
       "<div class=\"ansiout\"></div>"
      ]
     },
     "metadata": {
      "application/vnd.databricks.v1+output": {
       "addedWidgets": {},
       "arguments": {},
       "data": "<div class=\"ansiout\"></div>",
       "datasetInfos": [],
       "metadata": {},
       "removedWidgets": [],
       "type": "html"
      }
     },
     "output_type": "display_data"
    }
   ],
   "source": [
    "from pyspark.ml.evaluation import ClusteringEvaluator  #biblioteca utilizada para a avaliação em cada um dos clusters\n",
    "from pyspark.ml.clustering import KMeans #biblioteca utilizada para a criação do modelo de clusterização utilizando o K-means"
   ]
  },
  {
   "cell_type": "code",
   "execution_count": 0,
   "metadata": {
    "application/vnd.databricks.v1+cell": {
     "inputWidgets": {},
     "nuid": "75496b33-5a00-40d5-ba61-0022abe066cc",
     "showTitle": false,
     "title": ""
    }
   },
   "outputs": [
    {
     "data": {
      "text/html": [
       "<style scoped>\n",
       "  .ansiout {\n",
       "    display: block;\n",
       "    unicode-bidi: embed;\n",
       "    white-space: pre-wrap;\n",
       "    word-wrap: break-word;\n",
       "    word-break: break-all;\n",
       "    font-family: \"Source Code Pro\", \"Menlo\", monospace;;\n",
       "    font-size: 13px;\n",
       "    color: #555;\n",
       "    margin-left: 4px;\n",
       "    line-height: 19px;\n",
       "  }\n",
       "</style>\n",
       "<div class=\"ansiout\">+----------+------+---+------------------+----------------------+-----------+\n",
       "CustomerID| Genre|Age|Annual Income (k$)|Spending Score (1-100)|   features|\n",
       "+----------+------+---+------------------+----------------------+-----------+\n",
       "         1|  Male| 19|                15|                    39|[39.0,15.0]|\n",
       "         2|  Male| 21|                15|                    81|[81.0,15.0]|\n",
       "         3|Female| 20|                16|                     6| [6.0,16.0]|\n",
       "         4|Female| 23|                16|                    77|[77.0,16.0]|\n",
       "         5|Female| 31|                17|                    40|[40.0,17.0]|\n",
       "         6|Female| 22|                17|                    76|[76.0,17.0]|\n",
       "         7|Female| 35|                18|                     6| [6.0,18.0]|\n",
       "         8|Female| 23|                18|                    94|[94.0,18.0]|\n",
       "         9|  Male| 64|                19|                     3| [3.0,19.0]|\n",
       "        10|Female| 30|                19|                    72|[72.0,19.0]|\n",
       "        11|  Male| 67|                19|                    14|[14.0,19.0]|\n",
       "        12|Female| 35|                19|                    99|[99.0,19.0]|\n",
       "        13|Female| 58|                20|                    15|[15.0,20.0]|\n",
       "        14|Female| 24|                20|                    77|[77.0,20.0]|\n",
       "        15|  Male| 37|                20|                    13|[13.0,20.0]|\n",
       "        16|  Male| 22|                20|                    79|[79.0,20.0]|\n",
       "        17|Female| 35|                21|                    35|[35.0,21.0]|\n",
       "        18|  Male| 20|                21|                    66|[66.0,21.0]|\n",
       "        19|  Male| 52|                23|                    29|[29.0,23.0]|\n",
       "        20|Female| 35|                23|                    98|[98.0,23.0]|\n",
       "+----------+------+---+------------------+----------------------+-----------+\n",
       "only showing top 20 rows\n",
       "\n",
       "</div>"
      ]
     },
     "metadata": {
      "application/vnd.databricks.v1+output": {
       "addedWidgets": {},
       "arguments": {},
       "data": "<div class=\"ansiout\">+----------+------+---+------------------+----------------------+-----------+\n|CustomerID| Genre|Age|Annual Income (k$)|Spending Score (1-100)|   features|\n+----------+------+---+------------------+----------------------+-----------+\n|         1|  Male| 19|                15|                    39|[39.0,15.0]|\n|         2|  Male| 21|                15|                    81|[81.0,15.0]|\n|         3|Female| 20|                16|                     6| [6.0,16.0]|\n|         4|Female| 23|                16|                    77|[77.0,16.0]|\n|         5|Female| 31|                17|                    40|[40.0,17.0]|\n|         6|Female| 22|                17|                    76|[76.0,17.0]|\n|         7|Female| 35|                18|                     6| [6.0,18.0]|\n|         8|Female| 23|                18|                    94|[94.0,18.0]|\n|         9|  Male| 64|                19|                     3| [3.0,19.0]|\n|        10|Female| 30|                19|                    72|[72.0,19.0]|\n|        11|  Male| 67|                19|                    14|[14.0,19.0]|\n|        12|Female| 35|                19|                    99|[99.0,19.0]|\n|        13|Female| 58|                20|                    15|[15.0,20.0]|\n|        14|Female| 24|                20|                    77|[77.0,20.0]|\n|        15|  Male| 37|                20|                    13|[13.0,20.0]|\n|        16|  Male| 22|                20|                    79|[79.0,20.0]|\n|        17|Female| 35|                21|                    35|[35.0,21.0]|\n|        18|  Male| 20|                21|                    66|[66.0,21.0]|\n|        19|  Male| 52|                23|                    29|[29.0,23.0]|\n|        20|Female| 35|                23|                    98|[98.0,23.0]|\n+----------+------+---+------------------+----------------------+-----------+\nonly showing top 20 rows\n\n</div>",
       "datasetInfos": [
        {
         "name": "new_df",
         "schema": {
          "fields": [
           {
            "metadata": {},
            "name": "CustomerID",
            "nullable": true,
            "type": "integer"
           },
           {
            "metadata": {},
            "name": "Genre",
            "nullable": true,
            "type": "string"
           },
           {
            "metadata": {},
            "name": "Age",
            "nullable": true,
            "type": "integer"
           },
           {
            "metadata": {},
            "name": "Annual Income (k$)",
            "nullable": true,
            "type": "integer"
           },
           {
            "metadata": {},
            "name": "Spending Score (1-100)",
            "nullable": true,
            "type": "integer"
           },
           {
            "metadata": {
             "ml_attr": {
              "attrs": {
               "numeric": [
                {
                 "idx": 0,
                 "name": "Spending Score (1-100)"
                },
                {
                 "idx": 1,
                 "name": "Annual Income (k$)"
                }
               ]
              },
              "num_attrs": 2
             }
            },
            "name": "features",
            "nullable": true,
            "type": {
             "class": "org.apache.spark.ml.linalg.VectorUDT",
             "pyClass": "pyspark.ml.linalg.VectorUDT",
             "sqlType": {
              "fields": [
               {
                "metadata": {},
                "name": "type",
                "nullable": false,
                "type": "byte"
               },
               {
                "metadata": {},
                "name": "size",
                "nullable": true,
                "type": "integer"
               },
               {
                "metadata": {},
                "name": "indices",
                "nullable": true,
                "type": {
                 "containsNull": false,
                 "elementType": "integer",
                 "type": "array"
                }
               },
               {
                "metadata": {},
                "name": "values",
                "nullable": true,
                "type": {
                 "containsNull": false,
                 "elementType": "double",
                 "type": "array"
                }
               }
              ],
              "type": "struct"
             },
             "type": "udt"
            }
           }
          ],
          "type": "struct"
         },
         "tableIdentifier": null,
         "typeStr": "pyspark.sql.dataframe.DataFrame"
        }
       ],
       "metadata": {},
       "removedWidgets": [],
       "type": "html"
      }
     },
     "output_type": "display_data"
    }
   ],
   "source": [
    "from pyspark.ml.feature import VectorAssembler  #transformando os dados em vetores de características\n",
    "\n",
    "vecAssembler = VectorAssembler(inputCols=[\"Spending Score (1-100)\",\"Annual Income (k$)\"], outputCol=\"features\") #utilizada para transformar os dados em um vetor (define o objeto)\n",
    "new_df = vecAssembler.transform(data) #Aplico a transformação\n",
    "new_df.show()"
   ]
  },
  {
   "cell_type": "code",
   "execution_count": 0,
   "metadata": {
    "application/vnd.databricks.v1+cell": {
     "inputWidgets": {},
     "nuid": "5e940a6f-26a0-476b-81a0-f22b6f9231ba",
     "showTitle": false,
     "title": ""
    }
   },
   "outputs": [
    {
     "data": {
      "text/html": [
       "<style scoped>\n",
       "  .ansiout {\n",
       "    display: block;\n",
       "    unicode-bidi: embed;\n",
       "    white-space: pre-wrap;\n",
       "    word-wrap: break-word;\n",
       "    word-break: break-all;\n",
       "    font-family: \"Source Code Pro\", \"Menlo\", monospace;;\n",
       "    font-size: 13px;\n",
       "    color: #555;\n",
       "    margin-left: 4px;\n",
       "    line-height: 19px;\n",
       "  }\n",
       "</style>\n",
       "<div class=\"ansiout\"></div>"
      ]
     },
     "metadata": {
      "application/vnd.databricks.v1+output": {
       "addedWidgets": {},
       "arguments": {},
       "data": "<div class=\"ansiout\"></div>",
       "datasetInfos": [],
       "metadata": {},
       "removedWidgets": [],
       "type": "html"
      }
     },
     "output_type": "display_data"
    }
   ],
   "source": [
    "#aplica o processo de clusterização\n",
    "kmeans = KMeans(k=5, seed=1)  # declara o objeto - 3 clusters \n",
    "model = kmeans.fit(new_df.select('features')) #aplica o treinamento"
   ]
  },
  {
   "cell_type": "code",
   "execution_count": 0,
   "metadata": {
    "application/vnd.databricks.v1+cell": {
     "inputWidgets": {},
     "nuid": "de5bf4cc-e7c9-4b6d-9bf6-6a846480db70",
     "showTitle": false,
     "title": ""
    }
   },
   "outputs": [
    {
     "data": {
      "text/html": [
       "<style scoped>\n",
       "  .ansiout {\n",
       "    display: block;\n",
       "    unicode-bidi: embed;\n",
       "    white-space: pre-wrap;\n",
       "    word-wrap: break-word;\n",
       "    word-break: break-all;\n",
       "    font-family: \"Source Code Pro\", \"Menlo\", monospace;;\n",
       "    font-size: 13px;\n",
       "    color: #555;\n",
       "    margin-left: 4px;\n",
       "    line-height: 19px;\n",
       "  }\n",
       "</style>\n",
       "<div class=\"ansiout\">+----------+------+---+------------------+----------------------+-----------+----------+\n",
       "CustomerID| Genre|Age|Annual Income (k$)|Spending Score (1-100)|   features|prediction|\n",
       "+----------+------+---+------------------+----------------------+-----------+----------+\n",
       "         1|  Male| 19|                15|                    39|[39.0,15.0]|         4|\n",
       "         2|  Male| 21|                15|                    81|[81.0,15.0]|         1|\n",
       "         3|Female| 20|                16|                     6| [6.0,16.0]|         4|\n",
       "         4|Female| 23|                16|                    77|[77.0,16.0]|         1|\n",
       "         5|Female| 31|                17|                    40|[40.0,17.0]|         4|\n",
       "         6|Female| 22|                17|                    76|[76.0,17.0]|         1|\n",
       "         7|Female| 35|                18|                     6| [6.0,18.0]|         4|\n",
       "         8|Female| 23|                18|                    94|[94.0,18.0]|         1|\n",
       "         9|  Male| 64|                19|                     3| [3.0,19.0]|         4|\n",
       "        10|Female| 30|                19|                    72|[72.0,19.0]|         1|\n",
       "        11|  Male| 67|                19|                    14|[14.0,19.0]|         4|\n",
       "        12|Female| 35|                19|                    99|[99.0,19.0]|         1|\n",
       "        13|Female| 58|                20|                    15|[15.0,20.0]|         4|\n",
       "        14|Female| 24|                20|                    77|[77.0,20.0]|         1|\n",
       "        15|  Male| 37|                20|                    13|[13.0,20.0]|         4|\n",
       "        16|  Male| 22|                20|                    79|[79.0,20.0]|         1|\n",
       "        17|Female| 35|                21|                    35|[35.0,21.0]|         4|\n",
       "        18|  Male| 20|                21|                    66|[66.0,21.0]|         1|\n",
       "        19|  Male| 52|                23|                    29|[29.0,23.0]|         4|\n",
       "        20|Female| 35|                23|                    98|[98.0,23.0]|         1|\n",
       "+----------+------+---+------------------+----------------------+-----------+----------+\n",
       "only showing top 20 rows\n",
       "\n",
       "</div>"
      ]
     },
     "metadata": {
      "application/vnd.databricks.v1+output": {
       "addedWidgets": {},
       "arguments": {},
       "data": "<div class=\"ansiout\">+----------+------+---+------------------+----------------------+-----------+----------+\n|CustomerID| Genre|Age|Annual Income (k$)|Spending Score (1-100)|   features|prediction|\n+----------+------+---+------------------+----------------------+-----------+----------+\n|         1|  Male| 19|                15|                    39|[39.0,15.0]|         4|\n|         2|  Male| 21|                15|                    81|[81.0,15.0]|         1|\n|         3|Female| 20|                16|                     6| [6.0,16.0]|         4|\n|         4|Female| 23|                16|                    77|[77.0,16.0]|         1|\n|         5|Female| 31|                17|                    40|[40.0,17.0]|         4|\n|         6|Female| 22|                17|                    76|[76.0,17.0]|         1|\n|         7|Female| 35|                18|                     6| [6.0,18.0]|         4|\n|         8|Female| 23|                18|                    94|[94.0,18.0]|         1|\n|         9|  Male| 64|                19|                     3| [3.0,19.0]|         4|\n|        10|Female| 30|                19|                    72|[72.0,19.0]|         1|\n|        11|  Male| 67|                19|                    14|[14.0,19.0]|         4|\n|        12|Female| 35|                19|                    99|[99.0,19.0]|         1|\n|        13|Female| 58|                20|                    15|[15.0,20.0]|         4|\n|        14|Female| 24|                20|                    77|[77.0,20.0]|         1|\n|        15|  Male| 37|                20|                    13|[13.0,20.0]|         4|\n|        16|  Male| 22|                20|                    79|[79.0,20.0]|         1|\n|        17|Female| 35|                21|                    35|[35.0,21.0]|         4|\n|        18|  Male| 20|                21|                    66|[66.0,21.0]|         1|\n|        19|  Male| 52|                23|                    29|[29.0,23.0]|         4|\n|        20|Female| 35|                23|                    98|[98.0,23.0]|         1|\n+----------+------+---+------------------+----------------------+-----------+----------+\nonly showing top 20 rows\n\n</div>",
       "datasetInfos": [
        {
         "name": "df_final",
         "schema": {
          "fields": [
           {
            "metadata": {},
            "name": "CustomerID",
            "nullable": true,
            "type": "integer"
           },
           {
            "metadata": {},
            "name": "Genre",
            "nullable": true,
            "type": "string"
           },
           {
            "metadata": {},
            "name": "Age",
            "nullable": true,
            "type": "integer"
           },
           {
            "metadata": {},
            "name": "Annual Income (k$)",
            "nullable": true,
            "type": "integer"
           },
           {
            "metadata": {},
            "name": "Spending Score (1-100)",
            "nullable": true,
            "type": "integer"
           },
           {
            "metadata": {
             "ml_attr": {
              "attrs": {
               "numeric": [
                {
                 "idx": 0,
                 "name": "Spending Score (1-100)"
                },
                {
                 "idx": 1,
                 "name": "Annual Income (k$)"
                }
               ]
              },
              "num_attrs": 2
             }
            },
            "name": "features",
            "nullable": true,
            "type": {
             "class": "org.apache.spark.ml.linalg.VectorUDT",
             "pyClass": "pyspark.ml.linalg.VectorUDT",
             "sqlType": {
              "fields": [
               {
                "metadata": {},
                "name": "type",
                "nullable": false,
                "type": "byte"
               },
               {
                "metadata": {},
                "name": "size",
                "nullable": true,
                "type": "integer"
               },
               {
                "metadata": {},
                "name": "indices",
                "nullable": true,
                "type": {
                 "containsNull": false,
                 "elementType": "integer",
                 "type": "array"
                }
               },
               {
                "metadata": {},
                "name": "values",
                "nullable": true,
                "type": {
                 "containsNull": false,
                 "elementType": "double",
                 "type": "array"
                }
               }
              ],
              "type": "struct"
             },
             "type": "udt"
            }
           },
           {
            "metadata": {},
            "name": "prediction",
            "nullable": false,
            "type": "integer"
           }
          ],
          "type": "struct"
         },
         "tableIdentifier": null,
         "typeStr": "pyspark.sql.dataframe.DataFrame"
        }
       ],
       "metadata": {},
       "removedWidgets": [],
       "type": "html"
      }
     },
     "output_type": "display_data"
    }
   ],
   "source": [
    "#cria o dataset com a indicação sobre qual cluster cada conjunto de dados foi adicionado\n",
    "df_final = model.transform(new_df)\n",
    "df_final.show() "
   ]
  },
  {
   "cell_type": "code",
   "execution_count": 0,
   "metadata": {
    "application/vnd.databricks.v1+cell": {
     "inputWidgets": {},
     "nuid": "b8f237b2-9687-401a-b095-39a96109293c",
     "showTitle": false,
     "title": ""
    }
   },
   "outputs": [
    {
     "data": {
      "text/html": [
       "<style scoped>\n",
       "  .ansiout {\n",
       "    display: block;\n",
       "    unicode-bidi: embed;\n",
       "    white-space: pre-wrap;\n",
       "    word-wrap: break-word;\n",
       "    word-break: break-all;\n",
       "    font-family: \"Source Code Pro\", \"Menlo\", monospace;;\n",
       "    font-size: 13px;\n",
       "    color: #555;\n",
       "    margin-left: 4px;\n",
       "    line-height: 19px;\n",
       "  }\n",
       "</style>\n",
       "<div class=\"ansiout\">+-------+------------------+------+-----------------+------------------+----------------------+\n",
       "summary|        CustomerID| Genre|              Age|Annual Income (k$)|Spending Score (1-100)|\n",
       "+-------+------------------+------+-----------------+------------------+----------------------+\n",
       "  count|               200|   200|              200|               200|                   200|\n",
       "   mean|             100.5|  null|            38.85|             60.56|                  50.2|\n",
       " stddev|57.879184513951124|  null|13.96900733155888| 26.26472116527124|    25.823521668370173|\n",
       "    min|                 1|Female|               18|                15|                     1|\n",
       "    max|               200|  Male|               70|               137|                    99|\n",
       "+-------+------------------+------+-----------------+------------------+----------------------+\n",
       "\n",
       "</div>"
      ]
     },
     "metadata": {
      "application/vnd.databricks.v1+output": {
       "addedWidgets": {},
       "arguments": {},
       "data": "<div class=\"ansiout\">+-------+------------------+------+-----------------+------------------+----------------------+\n|summary|        CustomerID| Genre|              Age|Annual Income (k$)|Spending Score (1-100)|\n+-------+------------------+------+-----------------+------------------+----------------------+\n|  count|               200|   200|              200|               200|                   200|\n|   mean|             100.5|  null|            38.85|             60.56|                  50.2|\n| stddev|57.879184513951124|  null|13.96900733155888| 26.26472116527124|    25.823521668370173|\n|    min|                 1|Female|               18|                15|                     1|\n|    max|               200|  Male|               70|               137|                    99|\n+-------+------------------+------+-----------------+------------------+----------------------+\n\n</div>",
       "datasetInfos": [],
       "metadata": {},
       "removedWidgets": [],
       "type": "html"
      }
     },
     "output_type": "display_data"
    }
   ],
   "source": [
    "data.describe().show()"
   ]
  },
  {
   "cell_type": "code",
   "execution_count": 0,
   "metadata": {
    "application/vnd.databricks.v1+cell": {
     "inputWidgets": {},
     "nuid": "f719a06f-5463-4da1-a0a3-9580556925c9",
     "showTitle": false,
     "title": ""
    }
   },
   "outputs": [
    {
     "data": {
      "text/html": [
       "<style scoped>\n",
       "  .ansiout {\n",
       "    display: block;\n",
       "    unicode-bidi: embed;\n",
       "    white-space: pre-wrap;\n",
       "    word-wrap: break-word;\n",
       "    word-break: break-all;\n",
       "    font-family: \"Source Code Pro\", \"Menlo\", monospace;;\n",
       "    font-size: 13px;\n",
       "    color: #555;\n",
       "    margin-left: 4px;\n",
       "    line-height: 19px;\n",
       "  }\n",
       "</style>\n",
       "<div class=\"ansiout\">+----------+-----+\n",
       "prediction|count|\n",
       "+----------+-----+\n",
       "         1|   22|\n",
       "         3|   35|\n",
       "         4|   23|\n",
       "         2|   39|\n",
       "         0|   81|\n",
       "+----------+-----+\n",
       "\n",
       "</div>"
      ]
     },
     "metadata": {
      "application/vnd.databricks.v1+output": {
       "addedWidgets": {},
       "arguments": {},
       "data": "<div class=\"ansiout\">+----------+-----+\n|prediction|count|\n+----------+-----+\n|         1|   22|\n|         3|   35|\n|         4|   23|\n|         2|   39|\n|         0|   81|\n+----------+-----+\n\n</div>",
       "datasetInfos": [],
       "metadata": {},
       "removedWidgets": [],
       "type": "html"
      }
     },
     "output_type": "display_data"
    }
   ],
   "source": [
    "df_final.groupby('prediction').count().show()"
   ]
  },
  {
   "cell_type": "code",
   "execution_count": 0,
   "metadata": {
    "application/vnd.databricks.v1+cell": {
     "inputWidgets": {},
     "nuid": "d036aac1-8306-416f-b370-085c806b8c4d",
     "showTitle": false,
     "title": ""
    }
   },
   "outputs": [
    {
     "data": {
      "text/html": [
       "<div>\n",
       "<style scoped>\n",
       "    .dataframe tbody tr th:only-of-type {\n",
       "        vertical-align: middle;\n",
       "    }\n",
       "\n",
       "    .dataframe tbody tr th {\n",
       "        vertical-align: top;\n",
       "    }\n",
       "\n",
       "    .dataframe thead th {\n",
       "        text-align: right;\n",
       "    }\n",
       "</style>\n",
       "<table border=\"1\" class=\"dataframe\">\n",
       "  <thead>\n",
       "    <tr style=\"text-align: right;\">\n",
       "      <th></th>\n",
       "      <th>Genre</th>\n",
       "      <th>Age</th>\n",
       "      <th>Annual Income (k$)</th>\n",
       "      <th>Spending Score (1-100)</th>\n",
       "      <th>features</th>\n",
       "      <th>prediction</th>\n",
       "    </tr>\n",
       "    <tr>\n",
       "      <th>CustomerID</th>\n",
       "      <th></th>\n",
       "      <th></th>\n",
       "      <th></th>\n",
       "      <th></th>\n",
       "      <th></th>\n",
       "      <th></th>\n",
       "    </tr>\n",
       "  </thead>\n",
       "  <tbody>\n",
       "    <tr>\n",
       "      <th>1</th>\n",
       "      <td>Male</td>\n",
       "      <td>19</td>\n",
       "      <td>15</td>\n",
       "      <td>39</td>\n",
       "      <td>[39.0, 15.0]</td>\n",
       "      <td>4</td>\n",
       "    </tr>\n",
       "    <tr>\n",
       "      <th>2</th>\n",
       "      <td>Male</td>\n",
       "      <td>21</td>\n",
       "      <td>15</td>\n",
       "      <td>81</td>\n",
       "      <td>[81.0, 15.0]</td>\n",
       "      <td>1</td>\n",
       "    </tr>\n",
       "    <tr>\n",
       "      <th>3</th>\n",
       "      <td>Female</td>\n",
       "      <td>20</td>\n",
       "      <td>16</td>\n",
       "      <td>6</td>\n",
       "      <td>[6.0, 16.0]</td>\n",
       "      <td>4</td>\n",
       "    </tr>\n",
       "    <tr>\n",
       "      <th>4</th>\n",
       "      <td>Female</td>\n",
       "      <td>23</td>\n",
       "      <td>16</td>\n",
       "      <td>77</td>\n",
       "      <td>[77.0, 16.0]</td>\n",
       "      <td>1</td>\n",
       "    </tr>\n",
       "    <tr>\n",
       "      <th>5</th>\n",
       "      <td>Female</td>\n",
       "      <td>31</td>\n",
       "      <td>17</td>\n",
       "      <td>40</td>\n",
       "      <td>[40.0, 17.0]</td>\n",
       "      <td>4</td>\n",
       "    </tr>\n",
       "  </tbody>\n",
       "</table>\n",
       "</div>"
      ]
     },
     "metadata": {
      "application/vnd.databricks.v1+output": {
       "addedWidgets": {},
       "arguments": {},
       "data": "<div>\n<style scoped>\n    .dataframe tbody tr th:only-of-type {\n        vertical-align: middle;\n    }\n\n    .dataframe tbody tr th {\n        vertical-align: top;\n    }\n\n    .dataframe thead th {\n        text-align: right;\n    }\n</style>\n<table border=\"1\" class=\"dataframe\">\n  <thead>\n    <tr style=\"text-align: right;\">\n      <th></th>\n      <th>Genre</th>\n      <th>Age</th>\n      <th>Annual Income (k$)</th>\n      <th>Spending Score (1-100)</th>\n      <th>features</th>\n      <th>prediction</th>\n    </tr>\n    <tr>\n      <th>CustomerID</th>\n      <th></th>\n      <th></th>\n      <th></th>\n      <th></th>\n      <th></th>\n      <th></th>\n    </tr>\n  </thead>\n  <tbody>\n    <tr>\n      <th>1</th>\n      <td>Male</td>\n      <td>19</td>\n      <td>15</td>\n      <td>39</td>\n      <td>[39.0, 15.0]</td>\n      <td>4</td>\n    </tr>\n    <tr>\n      <th>2</th>\n      <td>Male</td>\n      <td>21</td>\n      <td>15</td>\n      <td>81</td>\n      <td>[81.0, 15.0]</td>\n      <td>1</td>\n    </tr>\n    <tr>\n      <th>3</th>\n      <td>Female</td>\n      <td>20</td>\n      <td>16</td>\n      <td>6</td>\n      <td>[6.0, 16.0]</td>\n      <td>4</td>\n    </tr>\n    <tr>\n      <th>4</th>\n      <td>Female</td>\n      <td>23</td>\n      <td>16</td>\n      <td>77</td>\n      <td>[77.0, 16.0]</td>\n      <td>1</td>\n    </tr>\n    <tr>\n      <th>5</th>\n      <td>Female</td>\n      <td>31</td>\n      <td>17</td>\n      <td>40</td>\n      <td>[40.0, 17.0]</td>\n      <td>4</td>\n    </tr>\n  </tbody>\n</table>\n</div>",
       "datasetInfos": [],
       "metadata": {},
       "removedWidgets": [],
       "textData": "<div class=\"ansiout\">/databricks/spark/python/pyspark/sql/dataframe.py:2165: UserWarning: toPandas attempted Arrow optimization because &#39;spark.sql.execution.arrow.enabled&#39; is set to true; however, failed by the reason below:\n  Unsupported type in conversion to Arrow: VectorUDT\nAttempting non-optimization as &#39;spark.sql.execution.arrow.fallback.enabled&#39; is set to true.\n  warnings.warn(msg)\nOut[34]: </div>",
       "type": "htmlSandbox"
      }
     },
     "output_type": "display_data"
    }
   ],
   "source": [
    "#transformando os dados utilizando o pandas \n",
    "data_pandas = df_final.toPandas().set_index('CustomerID')\n",
    "data_pandas.head()"
   ]
  },
  {
   "cell_type": "code",
   "execution_count": 0,
   "metadata": {
    "application/vnd.databricks.v1+cell": {
     "inputWidgets": {},
     "nuid": "509dd58d-331b-4de2-aac7-3593c01b5262",
     "showTitle": false,
     "title": ""
    }
   },
   "outputs": [
    {
     "data": {
      "image/png": "[encoded data removed]"
     },
     "metadata": {
      "application/vnd.databricks.v1+output": {
       "addedWidgets": {},
       "arguments": {},
       "data": "/plots/56a96794-3f8f-4510-b9d1-1d253e67df39.png",
       "datasetInfos": [],
       "metadata": {},
       "removedWidgets": [],
       "type": "image"
      }
     },
     "output_type": "display_data"
    }
   ],
   "source": [
    "import matplotlib.pyplot as plt\n",
    "\n",
    "plt.figure(figsize=(12,10))\n",
    "plt.scatter(data_pandas['Annual Income (k$)'], data_pandas['Spending Score (1-100)'], c=data_pandas.prediction)\n",
    "plt.xlabel('Annual Income (k$)')\n",
    "plt.ylabel('Spending Score (1-100)')\n",
    "plt.show()"
   ]
  }
 ],
 "metadata": {
  "application/vnd.databricks.v1+notebook": {
   "dashboards": [],
   "language": "python",
   "notebookMetadata": {
    "pythonIndentUnit": 2
   },
   "notebookName": "desafio_bootcamp_tpd",
   "notebookOrigID": 3192514136504053,
   "widgets": {}
  },
  "kernelspec": {
   "display_name": "Python 3",
   "language": "python",
   "name": "python3"
  },
  "language_info": {
   "codemirror_mode": {
    "name": "ipython",
    "version": 3
   },
   "file_extension": ".py",
   "mimetype": "text/x-python",
   "name": "python",
   "nbconvert_exporter": "python",
   "pygments_lexer": "ipython3",
   "version": "3.8.5"
  }
 },
 "nbformat": 4,
 "nbformat_minor": 1
}
