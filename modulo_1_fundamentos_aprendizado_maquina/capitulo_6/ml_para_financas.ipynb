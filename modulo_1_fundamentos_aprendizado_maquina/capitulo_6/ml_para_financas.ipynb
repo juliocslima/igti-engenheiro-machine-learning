{
 "cells": [
  {
   "cell_type": "code",
   "execution_count": 1,
   "metadata": {
    "executionInfo": {
     "elapsed": 729,
     "status": "ok",
     "timestamp": 1621422727330,
     "user": {
      "displayName": "Tulio Philipe",
      "photoUrl": "https://lh3.googleusercontent.com/a-/AOh14GiC2kqFihAn3Ile03oz-6rO8qVjEHv1DhGQ0ngQ5g=s64",
      "userId": "06907869093485551957"
     },
     "user_tz": 180
    },
    "id": "Gc-INrEKM2CZ"
   },
   "outputs": [],
   "source": [
    "import pandas as pd #utilizada para importar os nossos dados\n",
    "import matplotlib.pyplot as plt #utilizada para plotar os gráficos\n",
    "import numpy as np  # utilizada para operações matemáticas"
   ]
  },
  {
   "cell_type": "code",
   "execution_count": 2,
   "metadata": {
    "executionInfo": {
     "elapsed": 594,
     "status": "ok",
     "timestamp": 1621422728559,
     "user": {
      "displayName": "Tulio Philipe",
      "photoUrl": "https://lh3.googleusercontent.com/a-/AOh14GiC2kqFihAn3Ile03oz-6rO8qVjEHv1DhGQ0ngQ5g=s64",
      "userId": "06907869093485551957"
     },
     "user_tz": 180
    },
    "id": "AVp696rmUjQV"
   },
   "outputs": [],
   "source": [
    "import warnings\n",
    "warnings.filterwarnings(\"ignore\")"
   ]
  },
  {
   "cell_type": "code",
   "execution_count": 8,
   "metadata": {
    "executionInfo": {
     "elapsed": 397,
     "status": "ok",
     "timestamp": 1621422729344,
     "user": {
      "displayName": "Tulio Philipe",
      "photoUrl": "https://lh3.googleusercontent.com/a-/AOh14GiC2kqFihAn3Ile03oz-6rO8qVjEHv1DhGQ0ngQ5g=s64",
      "userId": "06907869093485551957"
     },
     "user_tz": 180
    },
    "id": "Z4ZVHs2rOUZz"
   },
   "outputs": [],
   "source": [
    "#importando os dados\n",
    "df_petr4=pd.read_csv('PETR4.SA.csv')"
   ]
  },
  {
   "cell_type": "code",
   "execution_count": 9,
   "metadata": {
    "colab": {
     "base_uri": "https://localhost:8080/",
     "height": 204
    },
    "executionInfo": {
     "elapsed": 416,
     "status": "ok",
     "timestamp": 1621422730336,
     "user": {
      "displayName": "Tulio Philipe",
      "photoUrl": "https://lh3.googleusercontent.com/a-/AOh14GiC2kqFihAn3Ile03oz-6rO8qVjEHv1DhGQ0ngQ5g=s64",
      "userId": "06907869093485551957"
     },
     "user_tz": 180
    },
    "id": "12m6yvO2OjT0",
    "outputId": "ce9d9539-4b9f-42a1-afe4-4d746eb8ad61"
   },
   "outputs": [
    {
     "data": {
      "text/html": [
       "<div>\n",
       "<style scoped>\n",
       "    .dataframe tbody tr th:only-of-type {\n",
       "        vertical-align: middle;\n",
       "    }\n",
       "\n",
       "    .dataframe tbody tr th {\n",
       "        vertical-align: top;\n",
       "    }\n",
       "\n",
       "    .dataframe thead th {\n",
       "        text-align: right;\n",
       "    }\n",
       "</style>\n",
       "<table border=\"1\" class=\"dataframe\">\n",
       "  <thead>\n",
       "    <tr style=\"text-align: right;\">\n",
       "      <th></th>\n",
       "      <th>Date</th>\n",
       "      <th>Open</th>\n",
       "      <th>High</th>\n",
       "      <th>Low</th>\n",
       "      <th>Close</th>\n",
       "      <th>Adj Close</th>\n",
       "      <th>Volume</th>\n",
       "    </tr>\n",
       "  </thead>\n",
       "  <tbody>\n",
       "    <tr>\n",
       "      <th>0</th>\n",
       "      <td>2016-11-07</td>\n",
       "      <td>16.709999</td>\n",
       "      <td>17.209999</td>\n",
       "      <td>16.709999</td>\n",
       "      <td>17.209999</td>\n",
       "      <td>14.577669</td>\n",
       "      <td>51625300.0</td>\n",
       "    </tr>\n",
       "    <tr>\n",
       "      <th>1</th>\n",
       "      <td>2016-11-08</td>\n",
       "      <td>17.100000</td>\n",
       "      <td>17.480000</td>\n",
       "      <td>16.730000</td>\n",
       "      <td>17.040001</td>\n",
       "      <td>14.433672</td>\n",
       "      <td>56241000.0</td>\n",
       "    </tr>\n",
       "    <tr>\n",
       "      <th>2</th>\n",
       "      <td>2016-11-09</td>\n",
       "      <td>15.850000</td>\n",
       "      <td>17.100000</td>\n",
       "      <td>15.810000</td>\n",
       "      <td>16.650000</td>\n",
       "      <td>14.103323</td>\n",
       "      <td>111417100.0</td>\n",
       "    </tr>\n",
       "    <tr>\n",
       "      <th>3</th>\n",
       "      <td>2016-11-10</td>\n",
       "      <td>17.100000</td>\n",
       "      <td>17.180000</td>\n",
       "      <td>15.500000</td>\n",
       "      <td>15.500000</td>\n",
       "      <td>13.129223</td>\n",
       "      <td>94683900.0</td>\n",
       "    </tr>\n",
       "    <tr>\n",
       "      <th>4</th>\n",
       "      <td>2016-11-11</td>\n",
       "      <td>15.180000</td>\n",
       "      <td>15.460000</td>\n",
       "      <td>13.940000</td>\n",
       "      <td>14.010000</td>\n",
       "      <td>11.867121</td>\n",
       "      <td>129811400.0</td>\n",
       "    </tr>\n",
       "  </tbody>\n",
       "</table>\n",
       "</div>"
      ],
      "text/plain": [
       "         Date       Open       High        Low      Close  Adj Close  \\\n",
       "0  2016-11-07  16.709999  17.209999  16.709999  17.209999  14.577669   \n",
       "1  2016-11-08  17.100000  17.480000  16.730000  17.040001  14.433672   \n",
       "2  2016-11-09  15.850000  17.100000  15.810000  16.650000  14.103323   \n",
       "3  2016-11-10  17.100000  17.180000  15.500000  15.500000  13.129223   \n",
       "4  2016-11-11  15.180000  15.460000  13.940000  14.010000  11.867121   \n",
       "\n",
       "        Volume  \n",
       "0   51625300.0  \n",
       "1   56241000.0  \n",
       "2  111417100.0  \n",
       "3   94683900.0  \n",
       "4  129811400.0  "
      ]
     },
     "execution_count": 9,
     "metadata": {},
     "output_type": "execute_result"
    }
   ],
   "source": [
    "#mostrando os dados\n",
    "df_petr4.head()"
   ]
  },
  {
   "cell_type": "code",
   "execution_count": 10,
   "metadata": {
    "colab": {
     "base_uri": "https://localhost:8080/",
     "height": 204
    },
    "executionInfo": {
     "elapsed": 488,
     "status": "ok",
     "timestamp": 1621422731975,
     "user": {
      "displayName": "Tulio Philipe",
      "photoUrl": "https://lh3.googleusercontent.com/a-/AOh14GiC2kqFihAn3Ile03oz-6rO8qVjEHv1DhGQ0ngQ5g=s64",
      "userId": "06907869093485551957"
     },
     "user_tz": 180
    },
    "id": "R9g6RqTrTMzx",
    "outputId": "0b415941-b3b9-4394-f588-7384ecc505ce"
   },
   "outputs": [
    {
     "data": {
      "text/html": [
       "<div>\n",
       "<style scoped>\n",
       "    .dataframe tbody tr th:only-of-type {\n",
       "        vertical-align: middle;\n",
       "    }\n",
       "\n",
       "    .dataframe tbody tr th {\n",
       "        vertical-align: top;\n",
       "    }\n",
       "\n",
       "    .dataframe thead th {\n",
       "        text-align: right;\n",
       "    }\n",
       "</style>\n",
       "<table border=\"1\" class=\"dataframe\">\n",
       "  <thead>\n",
       "    <tr style=\"text-align: right;\">\n",
       "      <th></th>\n",
       "      <th>Date</th>\n",
       "      <th>Open</th>\n",
       "      <th>High</th>\n",
       "      <th>Low</th>\n",
       "      <th>Close</th>\n",
       "      <th>Adj Close</th>\n",
       "      <th>Volume</th>\n",
       "    </tr>\n",
       "  </thead>\n",
       "  <tbody>\n",
       "    <tr>\n",
       "      <th>1238</th>\n",
       "      <td>2021-10-28</td>\n",
       "      <td>28.530001</td>\n",
       "      <td>29.250000</td>\n",
       "      <td>28.250000</td>\n",
       "      <td>28.959999</td>\n",
       "      <td>28.959999</td>\n",
       "      <td>89578000.0</td>\n",
       "    </tr>\n",
       "    <tr>\n",
       "      <th>1239</th>\n",
       "      <td>2021-10-29</td>\n",
       "      <td>29.129999</td>\n",
       "      <td>29.190001</td>\n",
       "      <td>26.969999</td>\n",
       "      <td>27.150000</td>\n",
       "      <td>27.150000</td>\n",
       "      <td>157340000.0</td>\n",
       "    </tr>\n",
       "    <tr>\n",
       "      <th>1240</th>\n",
       "      <td>2021-11-01</td>\n",
       "      <td>27.709999</td>\n",
       "      <td>28.320000</td>\n",
       "      <td>27.370001</td>\n",
       "      <td>28.000000</td>\n",
       "      <td>28.000000</td>\n",
       "      <td>102157200.0</td>\n",
       "    </tr>\n",
       "    <tr>\n",
       "      <th>1241</th>\n",
       "      <td>2021-11-03</td>\n",
       "      <td>27.709999</td>\n",
       "      <td>27.850000</td>\n",
       "      <td>26.799999</td>\n",
       "      <td>26.850000</td>\n",
       "      <td>26.850000</td>\n",
       "      <td>83475800.0</td>\n",
       "    </tr>\n",
       "    <tr>\n",
       "      <th>1242</th>\n",
       "      <td>2021-11-04</td>\n",
       "      <td>NaN</td>\n",
       "      <td>NaN</td>\n",
       "      <td>NaN</td>\n",
       "      <td>NaN</td>\n",
       "      <td>NaN</td>\n",
       "      <td>NaN</td>\n",
       "    </tr>\n",
       "  </tbody>\n",
       "</table>\n",
       "</div>"
      ],
      "text/plain": [
       "            Date       Open       High        Low      Close  Adj Close  \\\n",
       "1238  2021-10-28  28.530001  29.250000  28.250000  28.959999  28.959999   \n",
       "1239  2021-10-29  29.129999  29.190001  26.969999  27.150000  27.150000   \n",
       "1240  2021-11-01  27.709999  28.320000  27.370001  28.000000  28.000000   \n",
       "1241  2021-11-03  27.709999  27.850000  26.799999  26.850000  26.850000   \n",
       "1242  2021-11-04        NaN        NaN        NaN        NaN        NaN   \n",
       "\n",
       "           Volume  \n",
       "1238   89578000.0  \n",
       "1239  157340000.0  \n",
       "1240  102157200.0  \n",
       "1241   83475800.0  \n",
       "1242          NaN  "
      ]
     },
     "execution_count": 10,
     "metadata": {},
     "output_type": "execute_result"
    }
   ],
   "source": [
    "#mostrando os dados\n",
    "df_petr4.tail()"
   ]
  },
  {
   "cell_type": "code",
   "execution_count": 11,
   "metadata": {
    "colab": {
     "base_uri": "https://localhost:8080/"
    },
    "executionInfo": {
     "elapsed": 440,
     "status": "ok",
     "timestamp": 1621422732885,
     "user": {
      "displayName": "Tulio Philipe",
      "photoUrl": "https://lh3.googleusercontent.com/a-/AOh14GiC2kqFihAn3Ile03oz-6rO8qVjEHv1DhGQ0ngQ5g=s64",
      "userId": "06907869093485551957"
     },
     "user_tz": 180
    },
    "id": "VTZ3tS9ZOoCv",
    "outputId": "ac9d2079-3f2e-491a-eff8-70c649be42f2"
   },
   "outputs": [
    {
     "name": "stdout",
     "output_type": "stream",
     "text": [
      "<class 'pandas.core.frame.DataFrame'>\n",
      "RangeIndex: 1243 entries, 0 to 1242\n",
      "Data columns (total 7 columns):\n",
      " #   Column     Non-Null Count  Dtype  \n",
      "---  ------     --------------  -----  \n",
      " 0   Date       1243 non-null   object \n",
      " 1   Open       1238 non-null   float64\n",
      " 2   High       1238 non-null   float64\n",
      " 3   Low        1238 non-null   float64\n",
      " 4   Close      1238 non-null   float64\n",
      " 5   Adj Close  1238 non-null   float64\n",
      " 6   Volume     1238 non-null   float64\n",
      "dtypes: float64(6), object(1)\n",
      "memory usage: 68.1+ KB\n"
     ]
    }
   ],
   "source": [
    "#mostrando os tipos de dados encontrados\n",
    "df_petr4.info()"
   ]
  },
  {
   "cell_type": "code",
   "execution_count": 12,
   "metadata": {
    "colab": {
     "base_uri": "https://localhost:8080/"
    },
    "executionInfo": {
     "elapsed": 496,
     "status": "ok",
     "timestamp": 1621422734291,
     "user": {
      "displayName": "Tulio Philipe",
      "photoUrl": "https://lh3.googleusercontent.com/a-/AOh14GiC2kqFihAn3Ile03oz-6rO8qVjEHv1DhGQ0ngQ5g=s64",
      "userId": "06907869093485551957"
     },
     "user_tz": 180
    },
    "id": "rIRBJjrZ8ENW",
    "outputId": "8ae577ad-248a-4a52-d3ac-810734a7ddcf"
   },
   "outputs": [
    {
     "name": "stdout",
     "output_type": "stream",
     "text": [
      "<class 'pandas.core.frame.DataFrame'>\n",
      "Int64Index: 1238 entries, 0 to 1241\n",
      "Data columns (total 7 columns):\n",
      " #   Column     Non-Null Count  Dtype  \n",
      "---  ------     --------------  -----  \n",
      " 0   Date       1238 non-null   object \n",
      " 1   Open       1238 non-null   float64\n",
      " 2   High       1238 non-null   float64\n",
      " 3   Low        1238 non-null   float64\n",
      " 4   Close      1238 non-null   float64\n",
      " 5   Adj Close  1238 non-null   float64\n",
      " 6   Volume     1238 non-null   float64\n",
      "dtypes: float64(6), object(1)\n",
      "memory usage: 77.4+ KB\n"
     ]
    }
   ],
   "source": [
    "#retirando os valores nulos\n",
    "df_petr4=df_petr4.dropna()\n",
    "df_petr4.info()"
   ]
  },
  {
   "cell_type": "code",
   "execution_count": 13,
   "metadata": {
    "executionInfo": {
     "elapsed": 507,
     "status": "ok",
     "timestamp": 1621422735674,
     "user": {
      "displayName": "Tulio Philipe",
      "photoUrl": "https://lh3.googleusercontent.com/a-/AOh14GiC2kqFihAn3Ile03oz-6rO8qVjEHv1DhGQ0ngQ5g=s64",
      "userId": "06907869093485551957"
     },
     "user_tz": 180
    },
    "id": "tgdi45nVSuvm"
   },
   "outputs": [],
   "source": [
    "#transformando os dados\n",
    "df_petr4['Date'] = pd.to_datetime(df_petr4.Date,format='%Y-%m-%d')\n",
    "df_petr4.set_index('Date',inplace=True)"
   ]
  },
  {
   "cell_type": "code",
   "execution_count": 14,
   "metadata": {
    "colab": {
     "base_uri": "https://localhost:8080/",
     "height": 265
    },
    "executionInfo": {
     "elapsed": 969,
     "status": "ok",
     "timestamp": 1621422749730,
     "user": {
      "displayName": "Tulio Philipe",
      "photoUrl": "https://lh3.googleusercontent.com/a-/AOh14GiC2kqFihAn3Ile03oz-6rO8qVjEHv1DhGQ0ngQ5g=s64",
      "userId": "06907869093485551957"
     },
     "user_tz": 180
    },
    "id": "1CFbiHa5Oue8",
    "outputId": "99b20a16-a338-4d6c-8c96-61de99a7515f"
   },
   "outputs": [
    {
     "data": {
      "image/png": "[encoded data removed]",
      "text/plain": [
       "<Figure size 432x288 with 1 Axes>"
      ]
     },
     "metadata": {
      "needs_background": "light"
     },
     "output_type": "display_data"
    }
   ],
   "source": [
    "#verificando se existem outliers nos dados de fechamento\n",
    "df_petr4.boxplot(column='Adj Close');"
   ]
  },
  {
   "cell_type": "code",
   "execution_count": 15,
   "metadata": {
    "colab": {
     "base_uri": "https://localhost:8080/",
     "height": 483
    },
    "executionInfo": {
     "elapsed": 1306,
     "status": "ok",
     "timestamp": 1621422751799,
     "user": {
      "displayName": "Tulio Philipe",
      "photoUrl": "https://lh3.googleusercontent.com/a-/AOh14GiC2kqFihAn3Ile03oz-6rO8qVjEHv1DhGQ0ngQ5g=s64",
      "userId": "06907869093485551957"
     },
     "user_tz": 180
    },
    "id": "Gpn7BHtEaQhq",
    "outputId": "4cba931f-cff5-4e3f-eb1a-4721d0a69951"
   },
   "outputs": [
    {
     "data": {
      "image/png": "[encoded data removed]",
      "text/plain": [
       "<Figure size 1152x576 with 1 Axes>"
      ]
     },
     "metadata": {
      "needs_background": "light"
     },
     "output_type": "display_data"
    }
   ],
   "source": [
    "#plotando o gráfico\n",
    "plt.figure(figsize=(16,8))\n",
    "plt.plot(df_petr4['Adj Close'], label='Variação da PETR4');"
   ]
  },
  {
   "cell_type": "code",
   "execution_count": 16,
   "metadata": {
    "executionInfo": {
     "elapsed": 527,
     "status": "ok",
     "timestamp": 1621424078891,
     "user": {
      "displayName": "Tulio Philipe",
      "photoUrl": "https://lh3.googleusercontent.com/a-/AOh14GiC2kqFihAn3Ile03oz-6rO8qVjEHv1DhGQ0ngQ5g=s64",
      "userId": "06907869093485551957"
     },
     "user_tz": 180
    },
    "id": "qwxgdg2S3bsL"
   },
   "outputs": [],
   "source": [
    "#criando um novo dataset\n",
    "novo_petr4 = pd.DataFrame(index=range(0,len(df_petr4)),columns=['Date', 'Adj Close'])\n",
    "\n",
    "df_petr4_2=df_petr4.reset_index()\n"
   ]
  },
  {
   "cell_type": "code",
   "execution_count": 17,
   "metadata": {
    "colab": {
     "base_uri": "https://localhost:8080/",
     "height": 204
    },
    "executionInfo": {
     "elapsed": 498,
     "status": "ok",
     "timestamp": 1621424091648,
     "user": {
      "displayName": "Tulio Philipe",
      "photoUrl": "https://lh3.googleusercontent.com/a-/AOh14GiC2kqFihAn3Ile03oz-6rO8qVjEHv1DhGQ0ngQ5g=s64",
      "userId": "06907869093485551957"
     },
     "user_tz": 180
    },
    "id": "cEJqoOjTaAvV",
    "outputId": "1f06215a-5d63-4dd1-9628-e2a1816bf188"
   },
   "outputs": [
    {
     "data": {
      "text/html": [
       "<div>\n",
       "<style scoped>\n",
       "    .dataframe tbody tr th:only-of-type {\n",
       "        vertical-align: middle;\n",
       "    }\n",
       "\n",
       "    .dataframe tbody tr th {\n",
       "        vertical-align: top;\n",
       "    }\n",
       "\n",
       "    .dataframe thead th {\n",
       "        text-align: right;\n",
       "    }\n",
       "</style>\n",
       "<table border=\"1\" class=\"dataframe\">\n",
       "  <thead>\n",
       "    <tr style=\"text-align: right;\">\n",
       "      <th></th>\n",
       "      <th>Date</th>\n",
       "      <th>Open</th>\n",
       "      <th>High</th>\n",
       "      <th>Low</th>\n",
       "      <th>Close</th>\n",
       "      <th>Adj Close</th>\n",
       "      <th>Volume</th>\n",
       "    </tr>\n",
       "  </thead>\n",
       "  <tbody>\n",
       "    <tr>\n",
       "      <th>0</th>\n",
       "      <td>2016-11-07</td>\n",
       "      <td>16.709999</td>\n",
       "      <td>17.209999</td>\n",
       "      <td>16.709999</td>\n",
       "      <td>17.209999</td>\n",
       "      <td>14.577669</td>\n",
       "      <td>51625300.0</td>\n",
       "    </tr>\n",
       "    <tr>\n",
       "      <th>1</th>\n",
       "      <td>2016-11-08</td>\n",
       "      <td>17.100000</td>\n",
       "      <td>17.480000</td>\n",
       "      <td>16.730000</td>\n",
       "      <td>17.040001</td>\n",
       "      <td>14.433672</td>\n",
       "      <td>56241000.0</td>\n",
       "    </tr>\n",
       "    <tr>\n",
       "      <th>2</th>\n",
       "      <td>2016-11-09</td>\n",
       "      <td>15.850000</td>\n",
       "      <td>17.100000</td>\n",
       "      <td>15.810000</td>\n",
       "      <td>16.650000</td>\n",
       "      <td>14.103323</td>\n",
       "      <td>111417100.0</td>\n",
       "    </tr>\n",
       "    <tr>\n",
       "      <th>3</th>\n",
       "      <td>2016-11-10</td>\n",
       "      <td>17.100000</td>\n",
       "      <td>17.180000</td>\n",
       "      <td>15.500000</td>\n",
       "      <td>15.500000</td>\n",
       "      <td>13.129223</td>\n",
       "      <td>94683900.0</td>\n",
       "    </tr>\n",
       "    <tr>\n",
       "      <th>4</th>\n",
       "      <td>2016-11-11</td>\n",
       "      <td>15.180000</td>\n",
       "      <td>15.460000</td>\n",
       "      <td>13.940000</td>\n",
       "      <td>14.010000</td>\n",
       "      <td>11.867121</td>\n",
       "      <td>129811400.0</td>\n",
       "    </tr>\n",
       "  </tbody>\n",
       "</table>\n",
       "</div>"
      ],
      "text/plain": [
       "        Date       Open       High        Low      Close  Adj Close  \\\n",
       "0 2016-11-07  16.709999  17.209999  16.709999  17.209999  14.577669   \n",
       "1 2016-11-08  17.100000  17.480000  16.730000  17.040001  14.433672   \n",
       "2 2016-11-09  15.850000  17.100000  15.810000  16.650000  14.103323   \n",
       "3 2016-11-10  17.100000  17.180000  15.500000  15.500000  13.129223   \n",
       "4 2016-11-11  15.180000  15.460000  13.940000  14.010000  11.867121   \n",
       "\n",
       "        Volume  \n",
       "0   51625300.0  \n",
       "1   56241000.0  \n",
       "2  111417100.0  \n",
       "3   94683900.0  \n",
       "4  129811400.0  "
      ]
     },
     "execution_count": 17,
     "metadata": {},
     "output_type": "execute_result"
    }
   ],
   "source": [
    "df_petr4_2.head()"
   ]
  },
  {
   "cell_type": "code",
   "execution_count": 18,
   "metadata": {
    "executionInfo": {
     "elapsed": 475,
     "status": "ok",
     "timestamp": 1621424137203,
     "user": {
      "displayName": "Tulio Philipe",
      "photoUrl": "https://lh3.googleusercontent.com/a-/AOh14GiC2kqFihAn3Ile03oz-6rO8qVjEHv1DhGQ0ngQ5g=s64",
      "userId": "06907869093485551957"
     },
     "user_tz": 180
    },
    "id": "OpRT7sC5Z_OL"
   },
   "outputs": [],
   "source": [
    "for i in range(0,len(df_petr4)):\n",
    "    novo_petr4['Date'][i] = df_petr4_2['Date'][i]\n",
    "    novo_petr4['Adj Close'][i] = df_petr4_2['Adj Close'][i]"
   ]
  },
  {
   "cell_type": "code",
   "execution_count": 19,
   "metadata": {
    "colab": {
     "base_uri": "https://localhost:8080/",
     "height": 204
    },
    "executionInfo": {
     "elapsed": 488,
     "status": "ok",
     "timestamp": 1621424159787,
     "user": {
      "displayName": "Tulio Philipe",
      "photoUrl": "https://lh3.googleusercontent.com/a-/AOh14GiC2kqFihAn3Ile03oz-6rO8qVjEHv1DhGQ0ngQ5g=s64",
      "userId": "06907869093485551957"
     },
     "user_tz": 180
    },
    "id": "VARIVbScaRkd",
    "outputId": "5036b764-650c-44ad-8ffd-9695e8f94198"
   },
   "outputs": [
    {
     "data": {
      "text/html": [
       "<div>\n",
       "<style scoped>\n",
       "    .dataframe tbody tr th:only-of-type {\n",
       "        vertical-align: middle;\n",
       "    }\n",
       "\n",
       "    .dataframe tbody tr th {\n",
       "        vertical-align: top;\n",
       "    }\n",
       "\n",
       "    .dataframe thead th {\n",
       "        text-align: right;\n",
       "    }\n",
       "</style>\n",
       "<table border=\"1\" class=\"dataframe\">\n",
       "  <thead>\n",
       "    <tr style=\"text-align: right;\">\n",
       "      <th></th>\n",
       "      <th>Date</th>\n",
       "      <th>Adj Close</th>\n",
       "    </tr>\n",
       "  </thead>\n",
       "  <tbody>\n",
       "    <tr>\n",
       "      <th>0</th>\n",
       "      <td>2016-11-07 00:00:00</td>\n",
       "      <td>14.577669</td>\n",
       "    </tr>\n",
       "    <tr>\n",
       "      <th>1</th>\n",
       "      <td>2016-11-08 00:00:00</td>\n",
       "      <td>14.433672</td>\n",
       "    </tr>\n",
       "    <tr>\n",
       "      <th>2</th>\n",
       "      <td>2016-11-09 00:00:00</td>\n",
       "      <td>14.103323</td>\n",
       "    </tr>\n",
       "    <tr>\n",
       "      <th>3</th>\n",
       "      <td>2016-11-10 00:00:00</td>\n",
       "      <td>13.129223</td>\n",
       "    </tr>\n",
       "    <tr>\n",
       "      <th>4</th>\n",
       "      <td>2016-11-11 00:00:00</td>\n",
       "      <td>11.867121</td>\n",
       "    </tr>\n",
       "  </tbody>\n",
       "</table>\n",
       "</div>"
      ],
      "text/plain": [
       "                  Date  Adj Close\n",
       "0  2016-11-07 00:00:00  14.577669\n",
       "1  2016-11-08 00:00:00  14.433672\n",
       "2  2016-11-09 00:00:00  14.103323\n",
       "3  2016-11-10 00:00:00  13.129223\n",
       "4  2016-11-11 00:00:00  11.867121"
      ]
     },
     "execution_count": 19,
     "metadata": {},
     "output_type": "execute_result"
    }
   ],
   "source": [
    "novo_petr4.head()"
   ]
  },
  {
   "cell_type": "code",
   "execution_count": 25,
   "metadata": {},
   "outputs": [
    {
     "name": "stdout",
     "output_type": "stream",
     "text": [
      "Requirement already satisfied: fastai in /home/jlima/anaconda3/lib/python3.8/site-packages (2.5.3)\n",
      "Requirement already satisfied: spacy<4 in /home/jlima/anaconda3/lib/python3.8/site-packages (from fastai) (3.2.0)\n",
      "Requirement already satisfied: scipy in /home/jlima/.local/lib/python3.8/site-packages (from fastai) (1.7.0)\n",
      "Requirement already satisfied: pyyaml in /home/jlima/anaconda3/lib/python3.8/site-packages (from fastai) (5.4.1)\n",
      "Requirement already satisfied: torch<1.11,>=1.7.0 in /home/jlima/anaconda3/lib/python3.8/site-packages (from fastai) (1.10.0)\n",
      "Requirement already satisfied: torchvision>=0.8.2 in /home/jlima/anaconda3/lib/python3.8/site-packages (from fastai) (0.11.1)\n",
      "Requirement already satisfied: pandas in /home/jlima/.local/lib/python3.8/site-packages (from fastai) (1.3.0)\n",
      "Requirement already satisfied: requests in /home/jlima/.local/lib/python3.8/site-packages (from fastai) (2.26.0)\n",
      "Requirement already satisfied: fastcore<1.4,>=1.3.22 in /home/jlima/anaconda3/lib/python3.8/site-packages (from fastai) (1.3.27)\n",
      "Requirement already satisfied: packaging in /home/jlima/.local/lib/python3.8/site-packages (from fastai) (21.0)\n",
      "Requirement already satisfied: scikit-learn in /home/jlima/anaconda3/lib/python3.8/site-packages (from fastai) (1.0.1)\n",
      "Requirement already satisfied: matplotlib in /home/jlima/.local/lib/python3.8/site-packages (from fastai) (3.4.2)\n",
      "Requirement already satisfied: pip in /home/jlima/anaconda3/lib/python3.8/site-packages (from fastai) (21.3.1)\n",
      "Requirement already satisfied: fastprogress>=0.2.4 in /home/jlima/anaconda3/lib/python3.8/site-packages (from fastai) (1.0.0)\n",
      "Requirement already satisfied: fastdownload<2,>=0.0.5 in /home/jlima/anaconda3/lib/python3.8/site-packages (from fastai) (0.0.5)\n",
      "Requirement already satisfied: pillow>6.0.0 in /home/jlima/anaconda3/lib/python3.8/site-packages (from fastai) (8.3.1)\n",
      "Requirement already satisfied: numpy in /home/jlima/anaconda3/lib/python3.8/site-packages (from fastprogress>=0.2.4->fastai) (1.20.1)\n",
      "Requirement already satisfied: pathy>=0.3.5 in /home/jlima/anaconda3/lib/python3.8/site-packages (from spacy<4->fastai) (0.6.1)\n",
      "Requirement already satisfied: preshed<3.1.0,>=3.0.2 in /home/jlima/anaconda3/lib/python3.8/site-packages (from spacy<4->fastai) (3.0.6)\n",
      "Requirement already satisfied: thinc<8.1.0,>=8.0.12 in /home/jlima/anaconda3/lib/python3.8/site-packages (from spacy<4->fastai) (8.0.13)\n",
      "Requirement already satisfied: srsly<3.0.0,>=2.4.1 in /home/jlima/anaconda3/lib/python3.8/site-packages (from spacy<4->fastai) (2.4.2)\n",
      "Requirement already satisfied: jinja2 in /home/jlima/anaconda3/lib/python3.8/site-packages (from spacy<4->fastai) (2.11.3)\n",
      "Requirement already satisfied: catalogue<2.1.0,>=2.0.6 in /home/jlima/anaconda3/lib/python3.8/site-packages (from spacy<4->fastai) (2.0.6)\n",
      "Requirement already satisfied: typer<0.5.0,>=0.3.0 in /home/jlima/anaconda3/lib/python3.8/site-packages (from spacy<4->fastai) (0.4.0)\n",
      "Requirement already satisfied: cymem<2.1.0,>=2.0.2 in /home/jlima/anaconda3/lib/python3.8/site-packages (from spacy<4->fastai) (2.0.6)\n",
      "Requirement already satisfied: murmurhash<1.1.0,>=0.28.0 in /home/jlima/anaconda3/lib/python3.8/site-packages (from spacy<4->fastai) (1.0.6)\n",
      "Requirement already satisfied: pydantic!=1.8,!=1.8.1,<1.9.0,>=1.7.4 in /home/jlima/anaconda3/lib/python3.8/site-packages (from spacy<4->fastai) (1.8.2)\n",
      "Requirement already satisfied: langcodes<4.0.0,>=3.2.0 in /home/jlima/anaconda3/lib/python3.8/site-packages (from spacy<4->fastai) (3.2.1)\n",
      "Requirement already satisfied: blis<0.8.0,>=0.4.0 in /home/jlima/anaconda3/lib/python3.8/site-packages (from spacy<4->fastai) (0.7.5)\n",
      "Requirement already satisfied: setuptools in /home/jlima/anaconda3/lib/python3.8/site-packages (from spacy<4->fastai) (52.0.0.post20210125)\n",
      "Requirement already satisfied: spacy-loggers<2.0.0,>=1.0.0 in /home/jlima/anaconda3/lib/python3.8/site-packages (from spacy<4->fastai) (1.0.1)\n",
      "Requirement already satisfied: spacy-legacy<3.1.0,>=3.0.8 in /home/jlima/anaconda3/lib/python3.8/site-packages (from spacy<4->fastai) (3.0.8)\n",
      "Requirement already satisfied: tqdm<5.0.0,>=4.38.0 in /home/jlima/anaconda3/lib/python3.8/site-packages (from spacy<4->fastai) (4.59.0)\n",
      "Requirement already satisfied: wasabi<1.1.0,>=0.8.1 in /home/jlima/anaconda3/lib/python3.8/site-packages (from spacy<4->fastai) (0.8.2)\n",
      "Requirement already satisfied: pyparsing>=2.0.2 in /home/jlima/.local/lib/python3.8/site-packages (from packaging->fastai) (2.4.7)\n",
      "Requirement already satisfied: idna<4,>=2.5 in /home/jlima/anaconda3/lib/python3.8/site-packages (from requests->fastai) (2.10)\n",
      "Requirement already satisfied: charset-normalizer~=2.0.0 in /home/jlima/.local/lib/python3.8/site-packages (from requests->fastai) (2.0.2)\n",
      "Requirement already satisfied: certifi>=2017.4.17 in /home/jlima/anaconda3/lib/python3.8/site-packages (from requests->fastai) (2020.12.5)\n",
      "Requirement already satisfied: urllib3<1.27,>=1.21.1 in /home/jlima/anaconda3/lib/python3.8/site-packages (from requests->fastai) (1.26.4)\n",
      "Requirement already satisfied: typing-extensions in /home/jlima/.local/lib/python3.8/site-packages (from torch<1.11,>=1.7.0->fastai) (3.10.0.2)\n",
      "Requirement already satisfied: python-dateutil>=2.7 in /home/jlima/.local/lib/python3.8/site-packages (from matplotlib->fastai) (2.8.2)\n",
      "Requirement already satisfied: kiwisolver>=1.0.1 in /home/jlima/.local/lib/python3.8/site-packages (from matplotlib->fastai) (1.3.1)\n",
      "Requirement already satisfied: cycler>=0.10 in /home/jlima/.local/lib/python3.8/site-packages (from matplotlib->fastai) (0.10.0)\n",
      "Requirement already satisfied: pytz>=2017.3 in /home/jlima/anaconda3/lib/python3.8/site-packages (from pandas->fastai) (2021.1)\n",
      "Requirement already satisfied: joblib>=0.11 in /home/jlima/.local/lib/python3.8/site-packages (from scikit-learn->fastai) (0.14.1)\n",
      "Requirement already satisfied: threadpoolctl>=2.0.0 in /home/jlima/.local/lib/python3.8/site-packages (from scikit-learn->fastai) (2.1.0)\n",
      "Requirement already satisfied: six in /home/jlima/.local/lib/python3.8/site-packages (from cycler>=0.10->matplotlib->fastai) (1.15.0)\n",
      "Requirement already satisfied: smart-open<6.0.0,>=5.0.0 in /home/jlima/anaconda3/lib/python3.8/site-packages (from pathy>=0.3.5->spacy<4->fastai) (5.2.1)\n",
      "Requirement already satisfied: click<9.0.0,>=7.1.1 in /home/jlima/.local/lib/python3.8/site-packages (from typer<0.5.0,>=0.3.0->spacy<4->fastai) (8.0.3)\n",
      "Requirement already satisfied: MarkupSafe>=0.23 in /home/jlima/anaconda3/lib/python3.8/site-packages (from jinja2->spacy<4->fastai) (1.1.1)\n"
     ]
    }
   ],
   "source": [
    "!pip install -U fastai"
   ]
  },
  {
   "cell_type": "code",
   "execution_count": 28,
   "metadata": {
    "colab": {
     "base_uri": "https://localhost:8080/",
     "height": 419
    },
    "executionInfo": {
     "elapsed": 1555,
     "status": "ok",
     "timestamp": 1621422756628,
     "user": {
      "displayName": "Tulio Philipe",
      "photoUrl": "https://lh3.googleusercontent.com/a-/AOh14GiC2kqFihAn3Ile03oz-6rO8qVjEHv1DhGQ0ngQ5g=s64",
      "userId": "06907869093485551957"
     },
     "user_tz": 180
    },
    "id": "dedMUYKx-tOG",
    "outputId": "053a70a0-7998-48c6-a7db-36c5186f6b1f"
   },
   "outputs": [
    {
     "data": {
      "text/html": [
       "<div>\n",
       "<style scoped>\n",
       "    .dataframe tbody tr th:only-of-type {\n",
       "        vertical-align: middle;\n",
       "    }\n",
       "\n",
       "    .dataframe tbody tr th {\n",
       "        vertical-align: top;\n",
       "    }\n",
       "\n",
       "    .dataframe thead th {\n",
       "        text-align: right;\n",
       "    }\n",
       "</style>\n",
       "<table border=\"1\" class=\"dataframe\">\n",
       "  <thead>\n",
       "    <tr style=\"text-align: right;\">\n",
       "      <th></th>\n",
       "      <th>Adj Close</th>\n",
       "      <th>Year</th>\n",
       "      <th>Month</th>\n",
       "      <th>Week</th>\n",
       "      <th>Day</th>\n",
       "      <th>Dayofweek</th>\n",
       "      <th>Dayofyear</th>\n",
       "      <th>Is_month_end</th>\n",
       "      <th>Is_month_start</th>\n",
       "      <th>Is_quarter_end</th>\n",
       "      <th>Is_quarter_start</th>\n",
       "      <th>Is_year_end</th>\n",
       "      <th>Is_year_start</th>\n",
       "      <th>Elapsed</th>\n",
       "    </tr>\n",
       "  </thead>\n",
       "  <tbody>\n",
       "    <tr>\n",
       "      <th>0</th>\n",
       "      <td>14.577669</td>\n",
       "      <td>2016</td>\n",
       "      <td>11</td>\n",
       "      <td>45</td>\n",
       "      <td>7</td>\n",
       "      <td>0</td>\n",
       "      <td>312</td>\n",
       "      <td>False</td>\n",
       "      <td>False</td>\n",
       "      <td>False</td>\n",
       "      <td>False</td>\n",
       "      <td>False</td>\n",
       "      <td>False</td>\n",
       "      <td>1.478477e+09</td>\n",
       "    </tr>\n",
       "    <tr>\n",
       "      <th>1</th>\n",
       "      <td>14.433672</td>\n",
       "      <td>2016</td>\n",
       "      <td>11</td>\n",
       "      <td>45</td>\n",
       "      <td>8</td>\n",
       "      <td>1</td>\n",
       "      <td>313</td>\n",
       "      <td>False</td>\n",
       "      <td>False</td>\n",
       "      <td>False</td>\n",
       "      <td>False</td>\n",
       "      <td>False</td>\n",
       "      <td>False</td>\n",
       "      <td>1.478563e+09</td>\n",
       "    </tr>\n",
       "    <tr>\n",
       "      <th>2</th>\n",
       "      <td>14.103323</td>\n",
       "      <td>2016</td>\n",
       "      <td>11</td>\n",
       "      <td>45</td>\n",
       "      <td>9</td>\n",
       "      <td>2</td>\n",
       "      <td>314</td>\n",
       "      <td>False</td>\n",
       "      <td>False</td>\n",
       "      <td>False</td>\n",
       "      <td>False</td>\n",
       "      <td>False</td>\n",
       "      <td>False</td>\n",
       "      <td>1.478650e+09</td>\n",
       "    </tr>\n",
       "    <tr>\n",
       "      <th>3</th>\n",
       "      <td>13.129223</td>\n",
       "      <td>2016</td>\n",
       "      <td>11</td>\n",
       "      <td>45</td>\n",
       "      <td>10</td>\n",
       "      <td>3</td>\n",
       "      <td>315</td>\n",
       "      <td>False</td>\n",
       "      <td>False</td>\n",
       "      <td>False</td>\n",
       "      <td>False</td>\n",
       "      <td>False</td>\n",
       "      <td>False</td>\n",
       "      <td>1.478736e+09</td>\n",
       "    </tr>\n",
       "    <tr>\n",
       "      <th>4</th>\n",
       "      <td>11.867121</td>\n",
       "      <td>2016</td>\n",
       "      <td>11</td>\n",
       "      <td>45</td>\n",
       "      <td>11</td>\n",
       "      <td>4</td>\n",
       "      <td>316</td>\n",
       "      <td>False</td>\n",
       "      <td>False</td>\n",
       "      <td>False</td>\n",
       "      <td>False</td>\n",
       "      <td>False</td>\n",
       "      <td>False</td>\n",
       "      <td>1.478822e+09</td>\n",
       "    </tr>\n",
       "    <tr>\n",
       "      <th>...</th>\n",
       "      <td>...</td>\n",
       "      <td>...</td>\n",
       "      <td>...</td>\n",
       "      <td>...</td>\n",
       "      <td>...</td>\n",
       "      <td>...</td>\n",
       "      <td>...</td>\n",
       "      <td>...</td>\n",
       "      <td>...</td>\n",
       "      <td>...</td>\n",
       "      <td>...</td>\n",
       "      <td>...</td>\n",
       "      <td>...</td>\n",
       "      <td>...</td>\n",
       "    </tr>\n",
       "    <tr>\n",
       "      <th>1233</th>\n",
       "      <td>28.690001</td>\n",
       "      <td>2021</td>\n",
       "      <td>10</td>\n",
       "      <td>43</td>\n",
       "      <td>27</td>\n",
       "      <td>2</td>\n",
       "      <td>300</td>\n",
       "      <td>False</td>\n",
       "      <td>False</td>\n",
       "      <td>False</td>\n",
       "      <td>False</td>\n",
       "      <td>False</td>\n",
       "      <td>False</td>\n",
       "      <td>1.635293e+09</td>\n",
       "    </tr>\n",
       "    <tr>\n",
       "      <th>1234</th>\n",
       "      <td>28.959999</td>\n",
       "      <td>2021</td>\n",
       "      <td>10</td>\n",
       "      <td>43</td>\n",
       "      <td>28</td>\n",
       "      <td>3</td>\n",
       "      <td>301</td>\n",
       "      <td>False</td>\n",
       "      <td>False</td>\n",
       "      <td>False</td>\n",
       "      <td>False</td>\n",
       "      <td>False</td>\n",
       "      <td>False</td>\n",
       "      <td>1.635379e+09</td>\n",
       "    </tr>\n",
       "    <tr>\n",
       "      <th>1235</th>\n",
       "      <td>27.15</td>\n",
       "      <td>2021</td>\n",
       "      <td>10</td>\n",
       "      <td>43</td>\n",
       "      <td>29</td>\n",
       "      <td>4</td>\n",
       "      <td>302</td>\n",
       "      <td>False</td>\n",
       "      <td>False</td>\n",
       "      <td>False</td>\n",
       "      <td>False</td>\n",
       "      <td>False</td>\n",
       "      <td>False</td>\n",
       "      <td>1.635466e+09</td>\n",
       "    </tr>\n",
       "    <tr>\n",
       "      <th>1236</th>\n",
       "      <td>28.0</td>\n",
       "      <td>2021</td>\n",
       "      <td>11</td>\n",
       "      <td>44</td>\n",
       "      <td>1</td>\n",
       "      <td>0</td>\n",
       "      <td>305</td>\n",
       "      <td>False</td>\n",
       "      <td>True</td>\n",
       "      <td>False</td>\n",
       "      <td>False</td>\n",
       "      <td>False</td>\n",
       "      <td>False</td>\n",
       "      <td>1.635725e+09</td>\n",
       "    </tr>\n",
       "    <tr>\n",
       "      <th>1237</th>\n",
       "      <td>26.85</td>\n",
       "      <td>2021</td>\n",
       "      <td>11</td>\n",
       "      <td>44</td>\n",
       "      <td>3</td>\n",
       "      <td>2</td>\n",
       "      <td>307</td>\n",
       "      <td>False</td>\n",
       "      <td>False</td>\n",
       "      <td>False</td>\n",
       "      <td>False</td>\n",
       "      <td>False</td>\n",
       "      <td>False</td>\n",
       "      <td>1.635898e+09</td>\n",
       "    </tr>\n",
       "  </tbody>\n",
       "</table>\n",
       "<p>1238 rows × 14 columns</p>\n",
       "</div>"
      ],
      "text/plain": [
       "      Adj Close  Year  Month  Week  Day  Dayofweek  Dayofyear  Is_month_end  \\\n",
       "0     14.577669  2016     11    45    7          0        312         False   \n",
       "1     14.433672  2016     11    45    8          1        313         False   \n",
       "2     14.103323  2016     11    45    9          2        314         False   \n",
       "3     13.129223  2016     11    45   10          3        315         False   \n",
       "4     11.867121  2016     11    45   11          4        316         False   \n",
       "...         ...   ...    ...   ...  ...        ...        ...           ...   \n",
       "1233  28.690001  2021     10    43   27          2        300         False   \n",
       "1234  28.959999  2021     10    43   28          3        301         False   \n",
       "1235      27.15  2021     10    43   29          4        302         False   \n",
       "1236       28.0  2021     11    44    1          0        305         False   \n",
       "1237      26.85  2021     11    44    3          2        307         False   \n",
       "\n",
       "      Is_month_start  Is_quarter_end  Is_quarter_start  Is_year_end  \\\n",
       "0              False           False             False        False   \n",
       "1              False           False             False        False   \n",
       "2              False           False             False        False   \n",
       "3              False           False             False        False   \n",
       "4              False           False             False        False   \n",
       "...              ...             ...               ...          ...   \n",
       "1233           False           False             False        False   \n",
       "1234           False           False             False        False   \n",
       "1235           False           False             False        False   \n",
       "1236            True           False             False        False   \n",
       "1237           False           False             False        False   \n",
       "\n",
       "      Is_year_start       Elapsed  \n",
       "0             False  1.478477e+09  \n",
       "1             False  1.478563e+09  \n",
       "2             False  1.478650e+09  \n",
       "3             False  1.478736e+09  \n",
       "4             False  1.478822e+09  \n",
       "...             ...           ...  \n",
       "1233          False  1.635293e+09  \n",
       "1234          False  1.635379e+09  \n",
       "1235          False  1.635466e+09  \n",
       "1236          False  1.635725e+09  \n",
       "1237          False  1.635898e+09  \n",
       "\n",
       "[1238 rows x 14 columns]"
      ]
     },
     "execution_count": 28,
     "metadata": {},
     "output_type": "execute_result"
    }
   ],
   "source": [
    "#!pip install fastai\n",
    "from fastai.tabular.all import *\n",
    "add_datepart(novo_petr4, 'Date')"
   ]
  },
  {
   "cell_type": "code",
   "execution_count": 29,
   "metadata": {
    "executionInfo": {
     "elapsed": 477,
     "status": "ok",
     "timestamp": 1621422781081,
     "user": {
      "displayName": "Tulio Philipe",
      "photoUrl": "https://lh3.googleusercontent.com/a-/AOh14GiC2kqFihAn3Ile03oz-6rO8qVjEHv1DhGQ0ngQ5g=s64",
      "userId": "06907869093485551957"
     },
     "user_tz": 180
    },
    "id": "X2D-1-BiTnZp"
   },
   "outputs": [],
   "source": [
    "#removendo a coluna de timestamp\n",
    "novo_petr4.drop('Elapsed', axis=1, inplace=True)"
   ]
  },
  {
   "cell_type": "code",
   "execution_count": 35,
   "metadata": {
    "colab": {
     "base_uri": "https://localhost:8080/",
     "height": 204
    },
    "executionInfo": {
     "elapsed": 572,
     "status": "ok",
     "timestamp": 1621422782175,
     "user": {
      "displayName": "Tulio Philipe",
      "photoUrl": "https://lh3.googleusercontent.com/a-/AOh14GiC2kqFihAn3Ile03oz-6rO8qVjEHv1DhGQ0ngQ5g=s64",
      "userId": "06907869093485551957"
     },
     "user_tz": 180
    },
    "id": "IhnBO7yq6W7V",
    "outputId": "7f5af43a-0808-432d-b98f-0ae4bc19cb16"
   },
   "outputs": [
    {
     "data": {
      "text/html": [
       "<div>\n",
       "<style scoped>\n",
       "    .dataframe tbody tr th:only-of-type {\n",
       "        vertical-align: middle;\n",
       "    }\n",
       "\n",
       "    .dataframe tbody tr th {\n",
       "        vertical-align: top;\n",
       "    }\n",
       "\n",
       "    .dataframe thead th {\n",
       "        text-align: right;\n",
       "    }\n",
       "</style>\n",
       "<table border=\"1\" class=\"dataframe\">\n",
       "  <thead>\n",
       "    <tr style=\"text-align: right;\">\n",
       "      <th></th>\n",
       "      <th>Adj Close</th>\n",
       "      <th>Year</th>\n",
       "      <th>Month</th>\n",
       "      <th>Week</th>\n",
       "      <th>Day</th>\n",
       "      <th>Dayofweek</th>\n",
       "      <th>Dayofyear</th>\n",
       "      <th>Is_month_end</th>\n",
       "      <th>Is_month_start</th>\n",
       "      <th>Is_quarter_end</th>\n",
       "      <th>Is_quarter_start</th>\n",
       "      <th>Is_year_end</th>\n",
       "      <th>Is_year_start</th>\n",
       "      <th>seg_sext</th>\n",
       "    </tr>\n",
       "  </thead>\n",
       "  <tbody>\n",
       "    <tr>\n",
       "      <th>0</th>\n",
       "      <td>14.577669</td>\n",
       "      <td>2016</td>\n",
       "      <td>11</td>\n",
       "      <td>45</td>\n",
       "      <td>7</td>\n",
       "      <td>0</td>\n",
       "      <td>312</td>\n",
       "      <td>False</td>\n",
       "      <td>False</td>\n",
       "      <td>False</td>\n",
       "      <td>False</td>\n",
       "      <td>False</td>\n",
       "      <td>False</td>\n",
       "      <td>0</td>\n",
       "    </tr>\n",
       "    <tr>\n",
       "      <th>1</th>\n",
       "      <td>14.433672</td>\n",
       "      <td>2016</td>\n",
       "      <td>11</td>\n",
       "      <td>45</td>\n",
       "      <td>8</td>\n",
       "      <td>1</td>\n",
       "      <td>313</td>\n",
       "      <td>False</td>\n",
       "      <td>False</td>\n",
       "      <td>False</td>\n",
       "      <td>False</td>\n",
       "      <td>False</td>\n",
       "      <td>False</td>\n",
       "      <td>0</td>\n",
       "    </tr>\n",
       "    <tr>\n",
       "      <th>2</th>\n",
       "      <td>14.103323</td>\n",
       "      <td>2016</td>\n",
       "      <td>11</td>\n",
       "      <td>45</td>\n",
       "      <td>9</td>\n",
       "      <td>2</td>\n",
       "      <td>314</td>\n",
       "      <td>False</td>\n",
       "      <td>False</td>\n",
       "      <td>False</td>\n",
       "      <td>False</td>\n",
       "      <td>False</td>\n",
       "      <td>False</td>\n",
       "      <td>0</td>\n",
       "    </tr>\n",
       "    <tr>\n",
       "      <th>3</th>\n",
       "      <td>13.129223</td>\n",
       "      <td>2016</td>\n",
       "      <td>11</td>\n",
       "      <td>45</td>\n",
       "      <td>10</td>\n",
       "      <td>3</td>\n",
       "      <td>315</td>\n",
       "      <td>False</td>\n",
       "      <td>False</td>\n",
       "      <td>False</td>\n",
       "      <td>False</td>\n",
       "      <td>False</td>\n",
       "      <td>False</td>\n",
       "      <td>0</td>\n",
       "    </tr>\n",
       "    <tr>\n",
       "      <th>4</th>\n",
       "      <td>11.867121</td>\n",
       "      <td>2016</td>\n",
       "      <td>11</td>\n",
       "      <td>45</td>\n",
       "      <td>11</td>\n",
       "      <td>4</td>\n",
       "      <td>316</td>\n",
       "      <td>False</td>\n",
       "      <td>False</td>\n",
       "      <td>False</td>\n",
       "      <td>False</td>\n",
       "      <td>False</td>\n",
       "      <td>False</td>\n",
       "      <td>0</td>\n",
       "    </tr>\n",
       "  </tbody>\n",
       "</table>\n",
       "</div>"
      ],
      "text/plain": [
       "   Adj Close  Year  Month  Week  Day  Dayofweek  Dayofyear  Is_month_end  \\\n",
       "0  14.577669  2016     11    45    7          0        312         False   \n",
       "1  14.433672  2016     11    45    8          1        313         False   \n",
       "2  14.103323  2016     11    45    9          2        314         False   \n",
       "3  13.129223  2016     11    45   10          3        315         False   \n",
       "4  11.867121  2016     11    45   11          4        316         False   \n",
       "\n",
       "   Is_month_start  Is_quarter_end  Is_quarter_start  Is_year_end  \\\n",
       "0           False           False             False        False   \n",
       "1           False           False             False        False   \n",
       "2           False           False             False        False   \n",
       "3           False           False             False        False   \n",
       "4           False           False             False        False   \n",
       "\n",
       "   Is_year_start  seg_sext  \n",
       "0          False         0  \n",
       "1          False         0  \n",
       "2          False         0  \n",
       "3          False         0  \n",
       "4          False         0  "
      ]
     },
     "execution_count": 35,
     "metadata": {},
     "output_type": "execute_result"
    }
   ],
   "source": [
    "novo_petr4.head()"
   ]
  },
  {
   "cell_type": "code",
   "execution_count": 97,
   "metadata": {
    "executionInfo": {
     "elapsed": 464,
     "status": "ok",
     "timestamp": 1621422864820,
     "user": {
      "displayName": "Tulio Philipe",
      "photoUrl": "https://lh3.googleusercontent.com/a-/AOh14GiC2kqFihAn3Ile03oz-6rO8qVjEHv1DhGQ0ngQ5g=s64",
      "userId": "06907869093485551957"
     },
     "user_tz": 180
    },
    "id": "K31KyQGX_ZKd"
   },
   "outputs": [],
   "source": [
    "novo_petr4.drop(13,\n",
    "  axis='columns', inplace=True)\n"
   ]
  },
  {
   "cell_type": "code",
   "execution_count": 93,
   "metadata": {},
   "outputs": [],
   "source": [
    "for i in range(0, len(petr4)):\n",
    "    if (novo_petr4['Dayofweek'][i] == 0 or novo_petr4['Dayofweek'][i] == 4):\n",
    "        novo_petr4.loc[i, 'seg_sext'] = 1\n",
    "    else:\n",
    "        novo_petr4.loc[i, 'seg_sext'] = 0"
   ]
  },
  {
   "cell_type": "code",
   "execution_count": 98,
   "metadata": {
    "colab": {
     "base_uri": "https://localhost:8080/",
     "height": 204
    },
    "executionInfo": {
     "elapsed": 472,
     "status": "ok",
     "timestamp": 1621422866798,
     "user": {
      "displayName": "Tulio Philipe",
      "photoUrl": "https://lh3.googleusercontent.com/a-/AOh14GiC2kqFihAn3Ile03oz-6rO8qVjEHv1DhGQ0ngQ5g=s64",
      "userId": "06907869093485551957"
     },
     "user_tz": 180
    },
    "id": "qFn_7zk2_hny",
    "outputId": "96643340-8aa5-4671-cde5-fb99f786ae65"
   },
   "outputs": [
    {
     "data": {
      "text/html": [
       "<div>\n",
       "<style scoped>\n",
       "    .dataframe tbody tr th:only-of-type {\n",
       "        vertical-align: middle;\n",
       "    }\n",
       "\n",
       "    .dataframe tbody tr th {\n",
       "        vertical-align: top;\n",
       "    }\n",
       "\n",
       "    .dataframe thead th {\n",
       "        text-align: right;\n",
       "    }\n",
       "</style>\n",
       "<table border=\"1\" class=\"dataframe\">\n",
       "  <thead>\n",
       "    <tr style=\"text-align: right;\">\n",
       "      <th></th>\n",
       "      <th>Adj Close</th>\n",
       "      <th>Year</th>\n",
       "      <th>Month</th>\n",
       "      <th>Week</th>\n",
       "      <th>Day</th>\n",
       "      <th>Dayofweek</th>\n",
       "      <th>Dayofyear</th>\n",
       "      <th>Is_month_end</th>\n",
       "      <th>Is_month_start</th>\n",
       "      <th>Is_quarter_end</th>\n",
       "      <th>Is_quarter_start</th>\n",
       "      <th>Is_year_end</th>\n",
       "      <th>Is_year_start</th>\n",
       "      <th>seg_sext</th>\n",
       "    </tr>\n",
       "  </thead>\n",
       "  <tbody>\n",
       "    <tr>\n",
       "      <th>0</th>\n",
       "      <td>14.577669</td>\n",
       "      <td>2016</td>\n",
       "      <td>11</td>\n",
       "      <td>45</td>\n",
       "      <td>7</td>\n",
       "      <td>0</td>\n",
       "      <td>312</td>\n",
       "      <td>False</td>\n",
       "      <td>False</td>\n",
       "      <td>False</td>\n",
       "      <td>False</td>\n",
       "      <td>False</td>\n",
       "      <td>False</td>\n",
       "      <td>1</td>\n",
       "    </tr>\n",
       "    <tr>\n",
       "      <th>1</th>\n",
       "      <td>14.433672</td>\n",
       "      <td>2016</td>\n",
       "      <td>11</td>\n",
       "      <td>45</td>\n",
       "      <td>8</td>\n",
       "      <td>1</td>\n",
       "      <td>313</td>\n",
       "      <td>False</td>\n",
       "      <td>False</td>\n",
       "      <td>False</td>\n",
       "      <td>False</td>\n",
       "      <td>False</td>\n",
       "      <td>False</td>\n",
       "      <td>0</td>\n",
       "    </tr>\n",
       "    <tr>\n",
       "      <th>2</th>\n",
       "      <td>14.103323</td>\n",
       "      <td>2016</td>\n",
       "      <td>11</td>\n",
       "      <td>45</td>\n",
       "      <td>9</td>\n",
       "      <td>2</td>\n",
       "      <td>314</td>\n",
       "      <td>False</td>\n",
       "      <td>False</td>\n",
       "      <td>False</td>\n",
       "      <td>False</td>\n",
       "      <td>False</td>\n",
       "      <td>False</td>\n",
       "      <td>0</td>\n",
       "    </tr>\n",
       "    <tr>\n",
       "      <th>3</th>\n",
       "      <td>13.129223</td>\n",
       "      <td>2016</td>\n",
       "      <td>11</td>\n",
       "      <td>45</td>\n",
       "      <td>10</td>\n",
       "      <td>3</td>\n",
       "      <td>315</td>\n",
       "      <td>False</td>\n",
       "      <td>False</td>\n",
       "      <td>False</td>\n",
       "      <td>False</td>\n",
       "      <td>False</td>\n",
       "      <td>False</td>\n",
       "      <td>0</td>\n",
       "    </tr>\n",
       "    <tr>\n",
       "      <th>4</th>\n",
       "      <td>11.867121</td>\n",
       "      <td>2016</td>\n",
       "      <td>11</td>\n",
       "      <td>45</td>\n",
       "      <td>11</td>\n",
       "      <td>4</td>\n",
       "      <td>316</td>\n",
       "      <td>False</td>\n",
       "      <td>False</td>\n",
       "      <td>False</td>\n",
       "      <td>False</td>\n",
       "      <td>False</td>\n",
       "      <td>False</td>\n",
       "      <td>1</td>\n",
       "    </tr>\n",
       "  </tbody>\n",
       "</table>\n",
       "</div>"
      ],
      "text/plain": [
       "   Adj Close  Year  Month  Week  Day  Dayofweek  Dayofyear  Is_month_end  \\\n",
       "0  14.577669  2016     11    45    7          0        312         False   \n",
       "1  14.433672  2016     11    45    8          1        313         False   \n",
       "2  14.103323  2016     11    45    9          2        314         False   \n",
       "3  13.129223  2016     11    45   10          3        315         False   \n",
       "4  11.867121  2016     11    45   11          4        316         False   \n",
       "\n",
       "   Is_month_start  Is_quarter_end  Is_quarter_start  Is_year_end  \\\n",
       "0           False           False             False        False   \n",
       "1           False           False             False        False   \n",
       "2           False           False             False        False   \n",
       "3           False           False             False        False   \n",
       "4           False           False             False        False   \n",
       "\n",
       "   Is_year_start  seg_sext  \n",
       "0          False         1  \n",
       "1          False         0  \n",
       "2          False         0  \n",
       "3          False         0  \n",
       "4          False         1  "
      ]
     },
     "execution_count": 98,
     "metadata": {},
     "output_type": "execute_result"
    }
   ],
   "source": [
    "novo_petr4.head()"
   ]
  },
  {
   "cell_type": "code",
   "execution_count": 172,
   "metadata": {
    "executionInfo": {
     "elapsed": 489,
     "status": "ok",
     "timestamp": 1621422891349,
     "user": {
      "displayName": "Tulio Philipe",
      "photoUrl": "https://lh3.googleusercontent.com/a-/AOh14GiC2kqFihAn3Ile03oz-6rO8qVjEHv1DhGQ0ngQ5g=s64",
      "userId": "06907869093485551957"
     },
     "user_tz": 180
    },
    "id": "1iDY3bOD_tar"
   },
   "outputs": [],
   "source": [
    "#dividindo entre treino e validação\n",
    "train = novo_petr4[:int(novo_petr4.shape[0]*0.7)]\n",
    "valid = novo_petr4[int(novo_petr4.shape[0]*0.7):]\n",
    "\n",
    "x_train = train.drop('Adj Close', axis=1)\n",
    "y_train = train['Adj Close']\n",
    "x_valid = valid.drop('Adj Close', axis=1)\n",
    "y_valid = valid['Adj Close']"
   ]
  },
  {
   "cell_type": "code",
   "execution_count": 147,
   "metadata": {
    "executionInfo": {
     "elapsed": 908,
     "status": "ok",
     "timestamp": 1621422895411,
     "user": {
      "displayName": "Tulio Philipe",
      "photoUrl": "https://lh3.googleusercontent.com/a-/AOh14GiC2kqFihAn3Ile03oz-6rO8qVjEHv1DhGQ0ngQ5g=s64",
      "userId": "06907869093485551957"
     },
     "user_tz": 180
    },
    "id": "rnmQ-kUDzMbm"
   },
   "outputs": [],
   "source": [
    "#aplicando o kNN\n",
    "from sklearn import neighbors\n",
    "from sklearn.model_selection import GridSearchCV\n",
    "from sklearn.preprocessing import MinMaxScaler\n"
   ]
  },
  {
   "cell_type": "code",
   "execution_count": 173,
   "metadata": {
    "executionInfo": {
     "elapsed": 968,
     "status": "ok",
     "timestamp": 1621423018780,
     "user": {
      "displayName": "Tulio Philipe",
      "photoUrl": "https://lh3.googleusercontent.com/a-/AOh14GiC2kqFihAn3Ile03oz-6rO8qVjEHv1DhGQ0ngQ5g=s64",
      "userId": "06907869093485551957"
     },
     "user_tz": 180
    },
    "id": "tU_plNjAV78U"
   },
   "outputs": [],
   "source": [
    "#definindo o modelo de normalização dos dados\n",
    "scaler = MinMaxScaler(feature_range=(0, 1))"
   ]
  },
  {
   "cell_type": "code",
   "execution_count": 174,
   "metadata": {
    "executionInfo": {
     "elapsed": 887,
     "status": "ok",
     "timestamp": 1621423037032,
     "user": {
      "displayName": "Tulio Philipe",
      "photoUrl": "https://lh3.googleusercontent.com/a-/AOh14GiC2kqFihAn3Ile03oz-6rO8qVjEHv1DhGQ0ngQ5g=s64",
      "userId": "06907869093485551957"
     },
     "user_tz": 180
    },
    "id": "r2LAU3PiASEM"
   },
   "outputs": [],
   "source": [
    "#aplicando a normalização\n",
    "x_train_scaled = scaler.fit_transform(x_train)\n",
    "x_train = pd.DataFrame(x_train_scaled)\n",
    "x_valid_scaled = scaler.fit_transform(x_valid)\n",
    "x_valid = pd.DataFrame(x_valid_scaled)"
   ]
  },
  {
   "cell_type": "code",
   "execution_count": 175,
   "metadata": {
    "executionInfo": {
     "elapsed": 898,
     "status": "ok",
     "timestamp": 1621423049739,
     "user": {
      "displayName": "Tulio Philipe",
      "photoUrl": "https://lh3.googleusercontent.com/a-/AOh14GiC2kqFihAn3Ile03oz-6rO8qVjEHv1DhGQ0ngQ5g=s64",
      "userId": "06907869093485551957"
     },
     "user_tz": 180
    },
    "id": "lFusiQLKWCNw"
   },
   "outputs": [],
   "source": [
    "#utilizando o gridSearch\n",
    "params = {'n_neighbors':[2,3,4,5,6,7,8,9]}\n",
    "knn = neighbors.KNeighborsRegressor()\n",
    "model = GridSearchCV(knn, params, cv=5)"
   ]
  },
  {
   "cell_type": "code",
   "execution_count": 176,
   "metadata": {
    "executionInfo": {
     "elapsed": 879,
     "status": "ok",
     "timestamp": 1621423070197,
     "user": {
      "displayName": "Tulio Philipe",
      "photoUrl": "https://lh3.googleusercontent.com/a-/AOh14GiC2kqFihAn3Ile03oz-6rO8qVjEHv1DhGQ0ngQ5g=s64",
      "userId": "06907869093485551957"
     },
     "user_tz": 180
    },
    "id": "3IKQATjfAUHK"
   },
   "outputs": [],
   "source": [
    "#criando o modelo de previsão\n",
    "model.fit(x_train,y_train)\n",
    "preds = model.predict(x_valid)"
   ]
  },
  {
   "cell_type": "code",
   "execution_count": 182,
   "metadata": {},
   "outputs": [
    {
     "data": {
      "text/html": [
       "<div>\n",
       "<style scoped>\n",
       "    .dataframe tbody tr th:only-of-type {\n",
       "        vertical-align: middle;\n",
       "    }\n",
       "\n",
       "    .dataframe tbody tr th {\n",
       "        vertical-align: top;\n",
       "    }\n",
       "\n",
       "    .dataframe thead th {\n",
       "        text-align: right;\n",
       "    }\n",
       "</style>\n",
       "<table border=\"1\" class=\"dataframe\">\n",
       "  <thead>\n",
       "    <tr style=\"text-align: right;\">\n",
       "      <th></th>\n",
       "      <th>Adj Close</th>\n",
       "      <th>Year</th>\n",
       "      <th>Month</th>\n",
       "      <th>Week</th>\n",
       "      <th>Day</th>\n",
       "      <th>Dayofweek</th>\n",
       "      <th>Dayofyear</th>\n",
       "      <th>Is_month_end</th>\n",
       "      <th>Is_month_start</th>\n",
       "      <th>Is_quarter_end</th>\n",
       "      <th>Is_quarter_start</th>\n",
       "      <th>Is_year_end</th>\n",
       "      <th>Is_year_start</th>\n",
       "      <th>seg_sext</th>\n",
       "      <th>Predictions</th>\n",
       "    </tr>\n",
       "  </thead>\n",
       "  <tbody>\n",
       "    <tr>\n",
       "      <th>1233</th>\n",
       "      <td>28.690001</td>\n",
       "      <td>2021</td>\n",
       "      <td>10</td>\n",
       "      <td>43</td>\n",
       "      <td>27</td>\n",
       "      <td>2</td>\n",
       "      <td>300</td>\n",
       "      <td>False</td>\n",
       "      <td>False</td>\n",
       "      <td>False</td>\n",
       "      <td>False</td>\n",
       "      <td>False</td>\n",
       "      <td>False</td>\n",
       "      <td>0</td>\n",
       "      <td>25.91946</td>\n",
       "    </tr>\n",
       "    <tr>\n",
       "      <th>1234</th>\n",
       "      <td>28.959999</td>\n",
       "      <td>2021</td>\n",
       "      <td>10</td>\n",
       "      <td>43</td>\n",
       "      <td>28</td>\n",
       "      <td>3</td>\n",
       "      <td>301</td>\n",
       "      <td>False</td>\n",
       "      <td>False</td>\n",
       "      <td>False</td>\n",
       "      <td>False</td>\n",
       "      <td>False</td>\n",
       "      <td>False</td>\n",
       "      <td>0</td>\n",
       "      <td>25.904101</td>\n",
       "    </tr>\n",
       "    <tr>\n",
       "      <th>1235</th>\n",
       "      <td>27.15</td>\n",
       "      <td>2021</td>\n",
       "      <td>10</td>\n",
       "      <td>43</td>\n",
       "      <td>29</td>\n",
       "      <td>4</td>\n",
       "      <td>302</td>\n",
       "      <td>False</td>\n",
       "      <td>False</td>\n",
       "      <td>False</td>\n",
       "      <td>False</td>\n",
       "      <td>False</td>\n",
       "      <td>False</td>\n",
       "      <td>1</td>\n",
       "      <td>26.039767</td>\n",
       "    </tr>\n",
       "    <tr>\n",
       "      <th>1236</th>\n",
       "      <td>28.0</td>\n",
       "      <td>2021</td>\n",
       "      <td>11</td>\n",
       "      <td>44</td>\n",
       "      <td>1</td>\n",
       "      <td>0</td>\n",
       "      <td>305</td>\n",
       "      <td>False</td>\n",
       "      <td>True</td>\n",
       "      <td>False</td>\n",
       "      <td>False</td>\n",
       "      <td>False</td>\n",
       "      <td>False</td>\n",
       "      <td>1</td>\n",
       "      <td>25.992877</td>\n",
       "    </tr>\n",
       "    <tr>\n",
       "      <th>1237</th>\n",
       "      <td>26.85</td>\n",
       "      <td>2021</td>\n",
       "      <td>11</td>\n",
       "      <td>44</td>\n",
       "      <td>3</td>\n",
       "      <td>2</td>\n",
       "      <td>307</td>\n",
       "      <td>False</td>\n",
       "      <td>False</td>\n",
       "      <td>False</td>\n",
       "      <td>False</td>\n",
       "      <td>False</td>\n",
       "      <td>False</td>\n",
       "      <td>0</td>\n",
       "      <td>25.228881</td>\n",
       "    </tr>\n",
       "  </tbody>\n",
       "</table>\n",
       "</div>"
      ],
      "text/plain": [
       "      Adj Close  Year  Month  Week  Day  Dayofweek  Dayofyear  Is_month_end  \\\n",
       "1233  28.690001  2021     10    43   27          2        300         False   \n",
       "1234  28.959999  2021     10    43   28          3        301         False   \n",
       "1235      27.15  2021     10    43   29          4        302         False   \n",
       "1236       28.0  2021     11    44    1          0        305         False   \n",
       "1237      26.85  2021     11    44    3          2        307         False   \n",
       "\n",
       "      Is_month_start  Is_quarter_end  Is_quarter_start  Is_year_end  \\\n",
       "1233           False           False             False        False   \n",
       "1234           False           False             False        False   \n",
       "1235           False           False             False        False   \n",
       "1236            True           False             False        False   \n",
       "1237           False           False             False        False   \n",
       "\n",
       "      Is_year_start  seg_sext Predictions  \n",
       "1233          False         0    25.91946  \n",
       "1234          False         0   25.904101  \n",
       "1235          False         1   26.039767  \n",
       "1236          False         1   25.992877  \n",
       "1237          False         0   25.228881  "
      ]
     },
     "execution_count": 182,
     "metadata": {},
     "output_type": "execute_result"
    }
   ],
   "source": [
    "valid.tail()"
   ]
  },
  {
   "cell_type": "code",
   "execution_count": 178,
   "metadata": {},
   "outputs": [
    {
     "data": {
      "text/plain": [
       "True"
      ]
     },
     "execution_count": 178,
     "metadata": {},
     "output_type": "execute_result"
    }
   ],
   "source": [
    "len(preds) == len(valid)"
   ]
  },
  {
   "cell_type": "code",
   "execution_count": 181,
   "metadata": {},
   "outputs": [],
   "source": [
    "valid.loc[:]['Predictions'] = preds[:]"
   ]
  },
  {
   "cell_type": "code",
   "execution_count": 183,
   "metadata": {},
   "outputs": [
    {
     "data": {
      "image/png": "[encoded data removed]",
      "text/plain": [
       "<Figure size 1152x576 with 1 Axes>"
      ]
     },
     "metadata": {
      "needs_background": "light"
     },
     "output_type": "display_data"
    }
   ],
   "source": [
    "plt.figure(figsize=(16,8))\n",
    "plt.plot(valid[['Adj Close', 'Predictions']])\n",
    "plt.plot(train['Adj Close'])\n",
    "plt.legend(['Real','Previsão','Treino']);"
   ]
  }
 ],
 "metadata": {
  "colab": {
   "authorship_tag": "ABX9TyMMdP0MJ5AQHU0ZIhnCfxB2",
   "name": "ml_para_financas.ipynb",
   "provenance": []
  },
  "kernelspec": {
   "display_name": "Python 3",
   "language": "python",
   "name": "python3"
  },
  "language_info": {
   "codemirror_mode": {
    "name": "ipython",
    "version": 3
   },
   "file_extension": ".py",
   "mimetype": "text/x-python",
   "name": "python",
   "nbconvert_exporter": "python",
   "pygments_lexer": "ipython3",
   "version": "3.8.5"
  }
 },
 "nbformat": 4,
 "nbformat_minor": 1
}
