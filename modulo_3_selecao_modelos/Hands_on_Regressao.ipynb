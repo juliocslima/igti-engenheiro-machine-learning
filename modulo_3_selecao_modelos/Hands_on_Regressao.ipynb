{
 "cells": [
  {
   "cell_type": "markdown",
   "metadata": {
    "id": "wIl-k3lr8Qiv"
   },
   "source": [
    "# **Hands-on Regressão**\n",
    "\n",
    "---\n",
    "\n",
    "Regressão com sklearn "
   ]
  },
  {
   "cell_type": "markdown",
   "metadata": {
    "id": "SN6weYKF8N8v"
   },
   "source": [
    "Vamos começar a analisar algoritmos de regressão de acordo com as métricas vistas nas aula anteriores. \n",
    "\n",
    "Para isso, usaremos 3 regressores diferentes. Todas as implementações são provenivientes do sklearn. São eles: \n",
    "\n",
    "\n",
    "*   <a href = http://scikit-learn.org/stable/modules/generated/sklearn.linear_model.LinearRegression.html> Regressão Linear </a>\n",
    "*   <a href = http://scikit-learn.org/stable/modules/generated/sklearn.svm.SVR.html>Support Vector Regressor (SVR)</a>\n",
    "*   <a href = http://scikit-learn.org/stable/modules/generated/sklearn.ensemble.RandomForestRegressor.html> Random Forest Regressor </a>\n",
    "\n",
    "Esses regressores são amplamente utilizados no dia-a-dia quando se trata de uma tarefa de regressão. Mais informações sobre esses modelos podem ser encontradas nos links para a documentação do sklearn. \n",
    "\n",
    "Vamos utilizar a base de dados **data-temp.csv** </a> que pode ser encontrada no Kaggle em: https://www.kaggle.com/ilayaraja97/temperature-data-seattle. Essa base descreve o problema de predizer a temperatura máxima dos próximos dias a partir das informações dos dias anteriores em Seatlle. \n"
   ]
  },
  {
   "cell_type": "markdown",
   "metadata": {
    "id": "_5wwHwTQ8N8v"
   },
   "source": [
    "### *Importando* bibliotecas\n"
   ]
  },
  {
   "cell_type": "code",
   "execution_count": 1,
   "metadata": {
    "id": "i_5G2bRaHU8i"
   },
   "outputs": [],
   "source": [
    "import pandas as pd #biblioteca para manipulação de dados\n",
    "import numpy as np #biblioteca para utilizacao de vetores e matrizes\n",
    "import matplotlib.pyplot as plt #bibloteca para plotar graficos"
   ]
  },
  {
   "cell_type": "code",
   "execution_count": null,
   "metadata": {
    "colab": {
     "base_uri": "https://localhost:8080/",
     "height": 34
    },
    "id": "ufc7rjN0Hbb7",
    "outputId": "796ba9ca-26e5-4795-e8cf-9a06b9bfd782"
   },
   "outputs": [
    {
     "name": "stdout",
     "output_type": "stream",
     "text": [
      "Mounted at /content/gdrive\n"
     ]
    }
   ],
   "source": [
    "#liberando acesso do colab aos arquivos no drive\n",
    "from google.colab import drive\n",
    "drive.mount('/content/gdrive')"
   ]
  },
  {
   "cell_type": "markdown",
   "metadata": {
    "id": "L9aBPfZwHjwK"
   },
   "source": [
    "### Carregamento dos dados"
   ]
  },
  {
   "cell_type": "code",
   "execution_count": 2,
   "metadata": {
    "id": "FTLPdcSaHsIo"
   },
   "outputs": [],
   "source": [
    "#lendo o csv que contem a base de dados e armazanando em um df\n",
    "df = pd.read_csv('data-temps.csv')"
   ]
  },
  {
   "cell_type": "code",
   "execution_count": 3,
   "metadata": {
    "colab": {
     "base_uri": "https://localhost:8080/",
     "height": 204
    },
    "id": "Yw9wSFNd8N8w",
    "outputId": "0e81fd03-85c9-476e-fc7b-774b9daaaeb1"
   },
   "outputs": [
    {
     "data": {
      "text/html": [
       "<div>\n",
       "<style scoped>\n",
       "    .dataframe tbody tr th:only-of-type {\n",
       "        vertical-align: middle;\n",
       "    }\n",
       "\n",
       "    .dataframe tbody tr th {\n",
       "        vertical-align: top;\n",
       "    }\n",
       "\n",
       "    .dataframe thead th {\n",
       "        text-align: right;\n",
       "    }\n",
       "</style>\n",
       "<table border=\"1\" class=\"dataframe\">\n",
       "  <thead>\n",
       "    <tr style=\"text-align: right;\">\n",
       "      <th></th>\n",
       "      <th>year</th>\n",
       "      <th>month</th>\n",
       "      <th>day</th>\n",
       "      <th>week</th>\n",
       "      <th>temp_2</th>\n",
       "      <th>temp_1</th>\n",
       "      <th>average</th>\n",
       "      <th>actual</th>\n",
       "      <th>friend</th>\n",
       "    </tr>\n",
       "  </thead>\n",
       "  <tbody>\n",
       "    <tr>\n",
       "      <th>0</th>\n",
       "      <td>2016</td>\n",
       "      <td>1</td>\n",
       "      <td>1</td>\n",
       "      <td>Fri</td>\n",
       "      <td>45</td>\n",
       "      <td>45</td>\n",
       "      <td>45.6</td>\n",
       "      <td>45</td>\n",
       "      <td>29</td>\n",
       "    </tr>\n",
       "    <tr>\n",
       "      <th>1</th>\n",
       "      <td>2016</td>\n",
       "      <td>1</td>\n",
       "      <td>2</td>\n",
       "      <td>Sat</td>\n",
       "      <td>44</td>\n",
       "      <td>45</td>\n",
       "      <td>45.7</td>\n",
       "      <td>44</td>\n",
       "      <td>61</td>\n",
       "    </tr>\n",
       "    <tr>\n",
       "      <th>2</th>\n",
       "      <td>2016</td>\n",
       "      <td>1</td>\n",
       "      <td>3</td>\n",
       "      <td>Sun</td>\n",
       "      <td>45</td>\n",
       "      <td>44</td>\n",
       "      <td>45.8</td>\n",
       "      <td>41</td>\n",
       "      <td>56</td>\n",
       "    </tr>\n",
       "    <tr>\n",
       "      <th>3</th>\n",
       "      <td>2016</td>\n",
       "      <td>1</td>\n",
       "      <td>4</td>\n",
       "      <td>Mon</td>\n",
       "      <td>44</td>\n",
       "      <td>41</td>\n",
       "      <td>45.9</td>\n",
       "      <td>40</td>\n",
       "      <td>53</td>\n",
       "    </tr>\n",
       "    <tr>\n",
       "      <th>4</th>\n",
       "      <td>2016</td>\n",
       "      <td>1</td>\n",
       "      <td>5</td>\n",
       "      <td>Tues</td>\n",
       "      <td>41</td>\n",
       "      <td>40</td>\n",
       "      <td>46.0</td>\n",
       "      <td>44</td>\n",
       "      <td>41</td>\n",
       "    </tr>\n",
       "  </tbody>\n",
       "</table>\n",
       "</div>"
      ],
      "text/plain": [
       "   year  month  day  week  temp_2  temp_1  average  actual  friend\n",
       "0  2016      1    1   Fri      45      45     45.6      45      29\n",
       "1  2016      1    2   Sat      44      45     45.7      44      61\n",
       "2  2016      1    3   Sun      45      44     45.8      41      56\n",
       "3  2016      1    4   Mon      44      41     45.9      40      53\n",
       "4  2016      1    5  Tues      41      40     46.0      44      41"
      ]
     },
     "execution_count": 3,
     "metadata": {},
     "output_type": "execute_result"
    }
   ],
   "source": [
    "#imprimindo as 5 primeiras linhas do df para confirmação\n",
    "df.head(5)"
   ]
  },
  {
   "cell_type": "markdown",
   "metadata": {
    "id": "cFaZnXnAIonA"
   },
   "source": [
    "*   year: ano de registro da temperatura\n",
    "*   month: mês de registro da temperatura\n",
    "*   day: dia de registro da temperatura\n",
    "*   week: dia da semana em que a temperatura foi registrada\n",
    "*   temp2: temperatura máxima obtida 2 dias antes do dia atual\n",
    "*   temp1: temperatura máxima obtida 1 dia antes do dia atual\n",
    "*   average: máxima média histórica\n",
    "*   actual: temperatura máxima real\n",
    "*   friend: previsão de um oráculo sobre a temperatura máxima\n"
   ]
  },
  {
   "cell_type": "code",
   "execution_count": 4,
   "metadata": {
    "colab": {
     "base_uri": "https://localhost:8080/",
     "height": 34
    },
    "id": "d_lxVAD-8N86",
    "outputId": "bb64f602-e6eb-4e9f-9f21-48ba81c91fb0"
   },
   "outputs": [
    {
     "name": "stdout",
     "output_type": "stream",
     "text": [
      "Amostras e Features: (348, 9)\n"
     ]
    }
   ],
   "source": [
    "# Verificando o numero de amostras (linhas) e features (colunas) do dataset. \n",
    "print('Amostras e Features:', df.shape)"
   ]
  },
  {
   "cell_type": "code",
   "execution_count": 7,
   "metadata": {
    "colab": {
     "base_uri": "https://localhost:8080/",
     "height": 68
    },
    "id": "MILEATwd8N9A",
    "outputId": "6ebc15c9-fc32-402f-e967-835d6bfd11cb"
   },
   "outputs": [
    {
     "data": {
      "text/plain": [
       "Index(['year', 'month', 'day', 'week', 'temp_2', 'temp_1', 'average', 'actual',\n",
       "       'friend'],\n",
       "      dtype='object')"
      ]
     },
     "execution_count": 7,
     "metadata": {},
     "output_type": "execute_result"
    }
   ],
   "source": [
    "# Verificando quais são os tipos das features\n",
    "df.columns"
   ]
  },
  {
   "cell_type": "markdown",
   "metadata": {
    "id": "b2aq9YGyJ_YN"
   },
   "source": [
    "### Pré processamento"
   ]
  },
  {
   "cell_type": "markdown",
   "metadata": {
    "id": "WD1KwfP08N9E"
   },
   "source": [
    "Muitos modelos de regressão não são capazes de lidar com dados categóricos. Nesse caso, é preciso pré-processar alguns dados para que eles sejam entendidos pelo modelo. \n",
    "\n",
    "No nosso problema, a feature week é categórica. Dois dos modelos que vamos usar não lidam com esse tipo de dado. Nesse caso, precisamos transformar o atributo categórico **week** em um atributo numérico que não forneça pesos distintos para dias das semana distintos.\n",
    "\n",
    "O processo que vamos utilizar se chama binarização, ou ainda One-Hot Encoding. \n",
    "O pandas possui a função <a href = https://pandas.pydata.org/pandas-docs/stable/generated/pandas.get_dummies.html > get_dummies()</a> que faz essa transformação diretamente. \n"
   ]
  },
  {
   "cell_type": "code",
   "execution_count": 8,
   "metadata": {
    "colab": {
     "base_uri": "https://localhost:8080/",
     "height": 204
    },
    "id": "DGwAHyx78N9H",
    "outputId": "fc921ae0-92ad-4150-daf8-887910b78cc3"
   },
   "outputs": [
    {
     "data": {
      "text/html": [
       "<div>\n",
       "<style scoped>\n",
       "    .dataframe tbody tr th:only-of-type {\n",
       "        vertical-align: middle;\n",
       "    }\n",
       "\n",
       "    .dataframe tbody tr th {\n",
       "        vertical-align: top;\n",
       "    }\n",
       "\n",
       "    .dataframe thead th {\n",
       "        text-align: right;\n",
       "    }\n",
       "</style>\n",
       "<table border=\"1\" class=\"dataframe\">\n",
       "  <thead>\n",
       "    <tr style=\"text-align: right;\">\n",
       "      <th></th>\n",
       "      <th>year</th>\n",
       "      <th>month</th>\n",
       "      <th>day</th>\n",
       "      <th>temp_2</th>\n",
       "      <th>temp_1</th>\n",
       "      <th>average</th>\n",
       "      <th>actual</th>\n",
       "      <th>friend</th>\n",
       "      <th>week_Fri</th>\n",
       "      <th>week_Mon</th>\n",
       "      <th>week_Sat</th>\n",
       "      <th>week_Sun</th>\n",
       "      <th>week_Thurs</th>\n",
       "      <th>week_Tues</th>\n",
       "      <th>week_Wed</th>\n",
       "    </tr>\n",
       "  </thead>\n",
       "  <tbody>\n",
       "    <tr>\n",
       "      <th>0</th>\n",
       "      <td>2016</td>\n",
       "      <td>1</td>\n",
       "      <td>1</td>\n",
       "      <td>45</td>\n",
       "      <td>45</td>\n",
       "      <td>45.6</td>\n",
       "      <td>45</td>\n",
       "      <td>29</td>\n",
       "      <td>1</td>\n",
       "      <td>0</td>\n",
       "      <td>0</td>\n",
       "      <td>0</td>\n",
       "      <td>0</td>\n",
       "      <td>0</td>\n",
       "      <td>0</td>\n",
       "    </tr>\n",
       "    <tr>\n",
       "      <th>1</th>\n",
       "      <td>2016</td>\n",
       "      <td>1</td>\n",
       "      <td>2</td>\n",
       "      <td>44</td>\n",
       "      <td>45</td>\n",
       "      <td>45.7</td>\n",
       "      <td>44</td>\n",
       "      <td>61</td>\n",
       "      <td>0</td>\n",
       "      <td>0</td>\n",
       "      <td>1</td>\n",
       "      <td>0</td>\n",
       "      <td>0</td>\n",
       "      <td>0</td>\n",
       "      <td>0</td>\n",
       "    </tr>\n",
       "    <tr>\n",
       "      <th>2</th>\n",
       "      <td>2016</td>\n",
       "      <td>1</td>\n",
       "      <td>3</td>\n",
       "      <td>45</td>\n",
       "      <td>44</td>\n",
       "      <td>45.8</td>\n",
       "      <td>41</td>\n",
       "      <td>56</td>\n",
       "      <td>0</td>\n",
       "      <td>0</td>\n",
       "      <td>0</td>\n",
       "      <td>1</td>\n",
       "      <td>0</td>\n",
       "      <td>0</td>\n",
       "      <td>0</td>\n",
       "    </tr>\n",
       "    <tr>\n",
       "      <th>3</th>\n",
       "      <td>2016</td>\n",
       "      <td>1</td>\n",
       "      <td>4</td>\n",
       "      <td>44</td>\n",
       "      <td>41</td>\n",
       "      <td>45.9</td>\n",
       "      <td>40</td>\n",
       "      <td>53</td>\n",
       "      <td>0</td>\n",
       "      <td>1</td>\n",
       "      <td>0</td>\n",
       "      <td>0</td>\n",
       "      <td>0</td>\n",
       "      <td>0</td>\n",
       "      <td>0</td>\n",
       "    </tr>\n",
       "    <tr>\n",
       "      <th>4</th>\n",
       "      <td>2016</td>\n",
       "      <td>1</td>\n",
       "      <td>5</td>\n",
       "      <td>41</td>\n",
       "      <td>40</td>\n",
       "      <td>46.0</td>\n",
       "      <td>44</td>\n",
       "      <td>41</td>\n",
       "      <td>0</td>\n",
       "      <td>0</td>\n",
       "      <td>0</td>\n",
       "      <td>0</td>\n",
       "      <td>0</td>\n",
       "      <td>1</td>\n",
       "      <td>0</td>\n",
       "    </tr>\n",
       "  </tbody>\n",
       "</table>\n",
       "</div>"
      ],
      "text/plain": [
       "   year  month  day  temp_2  temp_1  average  actual  friend  week_Fri  \\\n",
       "0  2016      1    1      45      45     45.6      45      29         1   \n",
       "1  2016      1    2      44      45     45.7      44      61         0   \n",
       "2  2016      1    3      45      44     45.8      41      56         0   \n",
       "3  2016      1    4      44      41     45.9      40      53         0   \n",
       "4  2016      1    5      41      40     46.0      44      41         0   \n",
       "\n",
       "   week_Mon  week_Sat  week_Sun  week_Thurs  week_Tues  week_Wed  \n",
       "0         0         0         0           0          0         0  \n",
       "1         0         1         0           0          0         0  \n",
       "2         0         0         1           0          0         0  \n",
       "3         1         0         0           0          0         0  \n",
       "4         0         0         0           0          1         0  "
      ]
     },
     "execution_count": 8,
     "metadata": {},
     "output_type": "execute_result"
    }
   ],
   "source": [
    "# binarizando a feature week\n",
    "df = pd.get_dummies(df)\n",
    "\n",
    "# visualizando o resultado\n",
    "df.head(5)"
   ]
  },
  {
   "cell_type": "markdown",
   "metadata": {
    "id": "_J94oUYW8N9Q"
   },
   "source": [
    "Uma outra etapa importante do pré-processamento consiste na avaliação de dados faltantes. \n",
    "\n"
   ]
  },
  {
   "cell_type": "code",
   "execution_count": 9,
   "metadata": {
    "colab": {
     "base_uri": "https://localhost:8080/",
     "height": 317
    },
    "id": "fOQWr4kR8N9R",
    "outputId": "020fda12-3081-4d2d-a2ee-31794dfa1b7d"
   },
   "outputs": [
    {
     "data": {
      "text/html": [
       "<div>\n",
       "<style scoped>\n",
       "    .dataframe tbody tr th:only-of-type {\n",
       "        vertical-align: middle;\n",
       "    }\n",
       "\n",
       "    .dataframe tbody tr th {\n",
       "        vertical-align: top;\n",
       "    }\n",
       "\n",
       "    .dataframe thead th {\n",
       "        text-align: right;\n",
       "    }\n",
       "</style>\n",
       "<table border=\"1\" class=\"dataframe\">\n",
       "  <thead>\n",
       "    <tr style=\"text-align: right;\">\n",
       "      <th></th>\n",
       "      <th>year</th>\n",
       "      <th>month</th>\n",
       "      <th>day</th>\n",
       "      <th>temp_2</th>\n",
       "      <th>temp_1</th>\n",
       "      <th>average</th>\n",
       "      <th>actual</th>\n",
       "      <th>friend</th>\n",
       "      <th>week_Fri</th>\n",
       "      <th>week_Mon</th>\n",
       "      <th>week_Sat</th>\n",
       "      <th>week_Sun</th>\n",
       "      <th>week_Thurs</th>\n",
       "      <th>week_Tues</th>\n",
       "      <th>week_Wed</th>\n",
       "    </tr>\n",
       "  </thead>\n",
       "  <tbody>\n",
       "    <tr>\n",
       "      <th>count</th>\n",
       "      <td>348.0</td>\n",
       "      <td>348.000000</td>\n",
       "      <td>348.000000</td>\n",
       "      <td>348.000000</td>\n",
       "      <td>348.000000</td>\n",
       "      <td>348.000000</td>\n",
       "      <td>348.000000</td>\n",
       "      <td>348.000000</td>\n",
       "      <td>348.000000</td>\n",
       "      <td>348.000000</td>\n",
       "      <td>348.000000</td>\n",
       "      <td>348.000000</td>\n",
       "      <td>348.000000</td>\n",
       "      <td>348.000000</td>\n",
       "      <td>348.000000</td>\n",
       "    </tr>\n",
       "    <tr>\n",
       "      <th>mean</th>\n",
       "      <td>2016.0</td>\n",
       "      <td>6.477011</td>\n",
       "      <td>15.514368</td>\n",
       "      <td>62.652299</td>\n",
       "      <td>62.701149</td>\n",
       "      <td>59.760632</td>\n",
       "      <td>62.543103</td>\n",
       "      <td>60.034483</td>\n",
       "      <td>0.143678</td>\n",
       "      <td>0.140805</td>\n",
       "      <td>0.143678</td>\n",
       "      <td>0.140805</td>\n",
       "      <td>0.140805</td>\n",
       "      <td>0.149425</td>\n",
       "      <td>0.140805</td>\n",
       "    </tr>\n",
       "    <tr>\n",
       "      <th>std</th>\n",
       "      <td>0.0</td>\n",
       "      <td>3.498380</td>\n",
       "      <td>8.772982</td>\n",
       "      <td>12.165398</td>\n",
       "      <td>12.120542</td>\n",
       "      <td>10.527306</td>\n",
       "      <td>11.794146</td>\n",
       "      <td>15.626179</td>\n",
       "      <td>0.351268</td>\n",
       "      <td>0.348321</td>\n",
       "      <td>0.351268</td>\n",
       "      <td>0.348321</td>\n",
       "      <td>0.348321</td>\n",
       "      <td>0.357021</td>\n",
       "      <td>0.348321</td>\n",
       "    </tr>\n",
       "    <tr>\n",
       "      <th>min</th>\n",
       "      <td>2016.0</td>\n",
       "      <td>1.000000</td>\n",
       "      <td>1.000000</td>\n",
       "      <td>35.000000</td>\n",
       "      <td>35.000000</td>\n",
       "      <td>45.100000</td>\n",
       "      <td>35.000000</td>\n",
       "      <td>28.000000</td>\n",
       "      <td>0.000000</td>\n",
       "      <td>0.000000</td>\n",
       "      <td>0.000000</td>\n",
       "      <td>0.000000</td>\n",
       "      <td>0.000000</td>\n",
       "      <td>0.000000</td>\n",
       "      <td>0.000000</td>\n",
       "    </tr>\n",
       "    <tr>\n",
       "      <th>25%</th>\n",
       "      <td>2016.0</td>\n",
       "      <td>3.000000</td>\n",
       "      <td>8.000000</td>\n",
       "      <td>54.000000</td>\n",
       "      <td>54.000000</td>\n",
       "      <td>49.975000</td>\n",
       "      <td>54.000000</td>\n",
       "      <td>47.750000</td>\n",
       "      <td>0.000000</td>\n",
       "      <td>0.000000</td>\n",
       "      <td>0.000000</td>\n",
       "      <td>0.000000</td>\n",
       "      <td>0.000000</td>\n",
       "      <td>0.000000</td>\n",
       "      <td>0.000000</td>\n",
       "    </tr>\n",
       "    <tr>\n",
       "      <th>50%</th>\n",
       "      <td>2016.0</td>\n",
       "      <td>6.000000</td>\n",
       "      <td>15.000000</td>\n",
       "      <td>62.500000</td>\n",
       "      <td>62.500000</td>\n",
       "      <td>58.200000</td>\n",
       "      <td>62.500000</td>\n",
       "      <td>60.000000</td>\n",
       "      <td>0.000000</td>\n",
       "      <td>0.000000</td>\n",
       "      <td>0.000000</td>\n",
       "      <td>0.000000</td>\n",
       "      <td>0.000000</td>\n",
       "      <td>0.000000</td>\n",
       "      <td>0.000000</td>\n",
       "    </tr>\n",
       "    <tr>\n",
       "      <th>75%</th>\n",
       "      <td>2016.0</td>\n",
       "      <td>10.000000</td>\n",
       "      <td>23.000000</td>\n",
       "      <td>71.000000</td>\n",
       "      <td>71.000000</td>\n",
       "      <td>69.025000</td>\n",
       "      <td>71.000000</td>\n",
       "      <td>71.000000</td>\n",
       "      <td>0.000000</td>\n",
       "      <td>0.000000</td>\n",
       "      <td>0.000000</td>\n",
       "      <td>0.000000</td>\n",
       "      <td>0.000000</td>\n",
       "      <td>0.000000</td>\n",
       "      <td>0.000000</td>\n",
       "    </tr>\n",
       "    <tr>\n",
       "      <th>max</th>\n",
       "      <td>2016.0</td>\n",
       "      <td>12.000000</td>\n",
       "      <td>31.000000</td>\n",
       "      <td>117.000000</td>\n",
       "      <td>117.000000</td>\n",
       "      <td>77.400000</td>\n",
       "      <td>92.000000</td>\n",
       "      <td>95.000000</td>\n",
       "      <td>1.000000</td>\n",
       "      <td>1.000000</td>\n",
       "      <td>1.000000</td>\n",
       "      <td>1.000000</td>\n",
       "      <td>1.000000</td>\n",
       "      <td>1.000000</td>\n",
       "      <td>1.000000</td>\n",
       "    </tr>\n",
       "  </tbody>\n",
       "</table>\n",
       "</div>"
      ],
      "text/plain": [
       "         year       month         day      temp_2      temp_1     average  \\\n",
       "count   348.0  348.000000  348.000000  348.000000  348.000000  348.000000   \n",
       "mean   2016.0    6.477011   15.514368   62.652299   62.701149   59.760632   \n",
       "std       0.0    3.498380    8.772982   12.165398   12.120542   10.527306   \n",
       "min    2016.0    1.000000    1.000000   35.000000   35.000000   45.100000   \n",
       "25%    2016.0    3.000000    8.000000   54.000000   54.000000   49.975000   \n",
       "50%    2016.0    6.000000   15.000000   62.500000   62.500000   58.200000   \n",
       "75%    2016.0   10.000000   23.000000   71.000000   71.000000   69.025000   \n",
       "max    2016.0   12.000000   31.000000  117.000000  117.000000   77.400000   \n",
       "\n",
       "           actual      friend    week_Fri    week_Mon    week_Sat    week_Sun  \\\n",
       "count  348.000000  348.000000  348.000000  348.000000  348.000000  348.000000   \n",
       "mean    62.543103   60.034483    0.143678    0.140805    0.143678    0.140805   \n",
       "std     11.794146   15.626179    0.351268    0.348321    0.351268    0.348321   \n",
       "min     35.000000   28.000000    0.000000    0.000000    0.000000    0.000000   \n",
       "25%     54.000000   47.750000    0.000000    0.000000    0.000000    0.000000   \n",
       "50%     62.500000   60.000000    0.000000    0.000000    0.000000    0.000000   \n",
       "75%     71.000000   71.000000    0.000000    0.000000    0.000000    0.000000   \n",
       "max     92.000000   95.000000    1.000000    1.000000    1.000000    1.000000   \n",
       "\n",
       "       week_Thurs   week_Tues    week_Wed  \n",
       "count  348.000000  348.000000  348.000000  \n",
       "mean     0.140805    0.149425    0.140805  \n",
       "std      0.348321    0.357021    0.348321  \n",
       "min      0.000000    0.000000    0.000000  \n",
       "25%      0.000000    0.000000    0.000000  \n",
       "50%      0.000000    0.000000    0.000000  \n",
       "75%      0.000000    0.000000    0.000000  \n",
       "max      1.000000    1.000000    1.000000  "
      ]
     },
     "execution_count": 9,
     "metadata": {},
     "output_type": "execute_result"
    }
   ],
   "source": [
    "# Analisando o resumo da base\n",
    "df.describe()"
   ]
  },
  {
   "cell_type": "markdown",
   "metadata": {
    "id": "AxL9q7KJMSZO"
   },
   "source": [
    "Particularmente, quando estamos falando de Regressão, é interessante avaliar a correlação entre os atributos da base de dados. Em geral, atributos com alta correlação com a variável que queremos prever são atributos que influenciam bastante no comportamento do modelo. "
   ]
  },
  {
   "cell_type": "code",
   "execution_count": 10,
   "metadata": {
    "colab": {
     "base_uri": "https://localhost:8080/",
     "height": 1000
    },
    "id": "3WK7AXTi8N9V",
    "outputId": "e1d855d6-885e-498f-a351-cf005de1f245"
   },
   "outputs": [
    {
     "data": {
      "image/png": "[encoded data removed]",
      "text/plain": [
       "<Figure size 432x288 with 1 Axes>"
      ]
     },
     "metadata": {
      "needs_background": "light"
     },
     "output_type": "display_data"
    },
    {
     "data": {
      "image/png": "[encoded data removed]",
      "text/plain": [
       "<Figure size 432x288 with 1 Axes>"
      ]
     },
     "metadata": {
      "needs_background": "light"
     },
     "output_type": "display_data"
    },
    {
     "data": {
      "image/png": "[encoded data removed]",
      "text/plain": [
       "<Figure size 432x288 with 1 Axes>"
      ]
     },
     "metadata": {
      "needs_background": "light"
     },
     "output_type": "display_data"
    },
    {
     "data": {
      "image/png": "[encoded data removed]",
      "text/plain": [
       "<Figure size 432x288 with 1 Axes>"
      ]
     },
     "metadata": {
      "needs_background": "light"
     },
     "output_type": "display_data"
    },
    {
     "data": {
      "image/png": "[encoded data removed]",
      "text/plain": [
       "<Figure size 432x288 with 1 Axes>"
      ]
     },
     "metadata": {
      "needs_background": "light"
     },
     "output_type": "display_data"
    },
    {
     "data": {
      "image/png": "[encoded data removed]",
      "text/plain": [
       "<Figure size 432x288 with 1 Axes>"
      ]
     },
     "metadata": {
      "needs_background": "light"
     },
     "output_type": "display_data"
    },
    {
     "data": {
      "image/png": "[encoded data removed]",
      "text/plain": [
       "<Figure size 432x288 with 1 Axes>"
      ]
     },
     "metadata": {
      "needs_background": "light"
     },
     "output_type": "display_data"
    },
    {
     "data": {
      "image/png": "[encoded data removed]",
      "text/plain": [
       "<Figure size 432x288 with 1 Axes>"
      ]
     },
     "metadata": {
      "needs_background": "light"
     },
     "output_type": "display_data"
    },
    {
     "data": {
      "image/png": "[encoded data removed]",
      "text/plain": [
       "<Figure size 432x288 with 1 Axes>"
      ]
     },
     "metadata": {
      "needs_background": "light"
     },
     "output_type": "display_data"
    },
    {
     "data": {
      "image/png": "[encoded data removed]",
      "text/plain": [
       "<Figure size 432x288 with 1 Axes>"
      ]
     },
     "metadata": {
      "needs_background": "light"
     },
     "output_type": "display_data"
    },
    {
     "data": {
      "image/png": "[encoded data removed]",
      "text/plain": [
       "<Figure size 432x288 with 1 Axes>"
      ]
     },
     "metadata": {
      "needs_background": "light"
     },
     "output_type": "display_data"
    },
    {
     "data": {
      "image/png": "[encoded data removed]",
      "text/plain": [
       "<Figure size 432x288 with 1 Axes>"
      ]
     },
     "metadata": {
      "needs_background": "light"
     },
     "output_type": "display_data"
    },
    {
     "data": {
      "image/png": "[encoded data removed]",
      "text/plain": [
       "<Figure size 432x288 with 1 Axes>"
      ]
     },
     "metadata": {
      "needs_background": "light"
     },
     "output_type": "display_data"
    }
   ],
   "source": [
    "#plotando gráficos de correlação das features\n",
    "for i in df.columns[1:]:\n",
    "    if(i != 'actual'):\n",
    "        df.plot(x = 'actual', y = i, style='o') \n",
    "        plt.xlabel('Actual Temperature')  \n",
    "        plt.ylabel(i) \n",
    "        plt.show()"
   ]
  },
  {
   "cell_type": "markdown",
   "metadata": {
    "id": "-mH3u8WT8N9f"
   },
   "source": [
    "Os modelos implementados no sklearn recebem como entrada para a modelagam um ou mais arrays. Dessa forma, precisamos modificar o df original para que seja possível a modelagem correta. \n",
    "\n",
    "Para isso, vamos separar o label das amotras, armazenar o nome das featues já que os arrays não fazem isso e depois retirar a coluna de labels do df original. Em seguida, vamos converter o df para array usando o numpy!"
   ]
  },
  {
   "cell_type": "code",
   "execution_count": 11,
   "metadata": {
    "id": "WZ3jLCuEOfbJ"
   },
   "outputs": [],
   "source": [
    "# armazenando os labels em um array\n",
    "labels = np.array(df['actual'])\n",
    "\n",
    "# salvando a ordem das features\n",
    "feature_list = list(df.columns)"
   ]
  },
  {
   "cell_type": "code",
   "execution_count": 12,
   "metadata": {
    "colab": {
     "base_uri": "https://localhost:8080/",
     "height": 85
    },
    "id": "Q5wIxGj68N9g",
    "outputId": "32feb1a4-d96a-4a43-d346-a18adf58bc03"
   },
   "outputs": [
    {
     "data": {
      "text/plain": [
       "Index(['year', 'month', 'day', 'temp_2', 'temp_1', 'average', 'friend',\n",
       "       'week_Fri', 'week_Mon', 'week_Sat', 'week_Sun', 'week_Thurs',\n",
       "       'week_Tues', 'week_Wed'],\n",
       "      dtype='object')"
      ]
     },
     "execution_count": 12,
     "metadata": {},
     "output_type": "execute_result"
    }
   ],
   "source": [
    "# removendo a coluna de labels do df original\n",
    "df = df.drop('actual', axis = 1)\n",
    "\n",
    "# check\n",
    "df.columns"
   ]
  },
  {
   "cell_type": "code",
   "execution_count": 13,
   "metadata": {
    "id": "H24By9Vf8N9k"
   },
   "outputs": [],
   "source": [
    "# convertendo df para array\n",
    "data = np.array(df)"
   ]
  },
  {
   "cell_type": "markdown",
   "metadata": {
    "id": "WY6_Mcme8N9o"
   },
   "source": [
    "Agora estamos quase prontos para a modelagem em si!\n",
    "\n",
    "Precisamos apenas separar uma parte dos nossos dados para que seja possível avaliar os modelos que vamos treinar. O sklearn tem uma função para isso: <a href = http://scikit-learn.org/stable/modules/generated/sklearn.model_selection.train_test_split.html> train_test_split<a>."
   ]
  },
  {
   "cell_type": "code",
   "execution_count": 14,
   "metadata": {
    "id": "Ews_1IMu8N9p"
   },
   "outputs": [],
   "source": [
    "# importar train_test_split do scikitlearn \n",
    "from sklearn.model_selection import train_test_split\n",
    "\n",
    "# aplicando a funcao train_test_split para separar os conjuntos de treino e \n",
    "# teste segundo uma porcentagem de separação definida. \n",
    "train_data, test_data, train_labels, test_labels = train_test_split(data, labels, test_size = 0.25, random_state = 42)"
   ]
  },
  {
   "cell_type": "markdown",
   "metadata": {
    "id": "FYsqiOG18N9v"
   },
   "source": [
    "### Baseline: Comparando com a média!"
   ]
  },
  {
   "cell_type": "markdown",
   "metadata": {
    "id": "JpkQtbyW8N9w"
   },
   "source": [
    "Como falamos durante as aulas teóricas, precisamos criar uma base de comparação para os modelos que queremos avaliar. \n",
    "\n",
    "Várias medidas de erro apresentadas usam como baseline, isto é, uma linha de base, o modelo médio. Para o nosso problema, o baseline utilizado é a média máxima histórica. Podemos pensar que o modelo baseline é equivalente a prever a média máxima histórica para todos os dias do nosso conjunto de teste. \n",
    "\n",
    "Como essa média máxima é um atributo do nosso dataset, podemos apenas copiar a resposta desse atributo como resultado do modelo aplicado ao nosso conjunto de teste. "
   ]
  },
  {
   "cell_type": "code",
   "execution_count": 15,
   "metadata": {
    "id": "kTl5nyp9SHff"
   },
   "outputs": [],
   "source": [
    "# criando baseline\n",
    "baseline_preds = test_data[:, feature_list.index('average')]"
   ]
  },
  {
   "cell_type": "markdown",
   "metadata": {
    "id": "WeZ5topCSLxn"
   },
   "source": [
    "O sklearn tem várias métricas implementadas! :D\n",
    "\n",
    "Vamos testar essas metricas? "
   ]
  },
  {
   "cell_type": "code",
   "execution_count": 16,
   "metadata": {
    "colab": {
     "base_uri": "https://localhost:8080/",
     "height": 102
    },
    "id": "6Aobv8rd8N9x",
    "outputId": "321483de-abf8-4384-be50-4e21b8e5075c"
   },
   "outputs": [
    {
     "name": "stdout",
     "output_type": "stream",
     "text": [
      "R2: 0.6081589797570233\n",
      "MSE: 54.4928735632184\n",
      "RMSE: 7.381928851134939\n",
      "RMSLE: 0.11221618980253842\n",
      "MAE: 5.05977011494253\n"
     ]
    }
   ],
   "source": [
    "# importar biblioteca para calculo de métricas\n",
    "from sklearn import metrics  \n",
    "\n",
    "# calculando medidas de erro\n",
    "# essas medidas são calculadas a partir da comparação com o valor real do nosso conjunto de teste\n",
    "print('R2:', metrics.r2_score(test_labels, baseline_preds)) \n",
    "print('MSE:', metrics.mean_squared_error(test_labels, baseline_preds))  \n",
    "print('RMSE:', np.sqrt(metrics.mean_squared_error(test_labels, baseline_preds))) \n",
    "print('RMSLE:', np.sqrt(metrics.mean_squared_log_error(test_labels, baseline_preds))) \n",
    "print('MAE:', metrics.mean_absolute_error(test_labels, baseline_preds))\n"
   ]
  },
  {
   "cell_type": "markdown",
   "metadata": {
    "id": "AAwsSBcdVoku"
   },
   "source": [
    "Algumas das medidas faladas em aula não estão implementadas no metrics do sklearn. \n",
    "\n",
    "Podemos criar a função que calula essas metricas! :)"
   ]
  },
  {
   "cell_type": "code",
   "execution_count": 17,
   "metadata": {
    "id": "vKXqYbwLUkP_"
   },
   "outputs": [],
   "source": [
    "#criando a funcao para calculo do MAPE\n",
    "def mean_absolute_percentage_error(y_true, y_pred): \n",
    "    y_true, y_pred = np.array(y_true), np.array(y_pred)\n",
    "    return np.mean(np.abs((y_true - y_pred) / y_true)) * 100"
   ]
  },
  {
   "cell_type": "code",
   "execution_count": 18,
   "metadata": {
    "colab": {
     "base_uri": "https://localhost:8080/",
     "height": 34
    },
    "id": "0HuYS-dnV2Fa",
    "outputId": "9f3cf614-21bf-4aa8-a59f-98c2797c3c1d"
   },
   "outputs": [
    {
     "name": "stdout",
     "output_type": "stream",
     "text": [
      "MAPE: 7.704879665543076\n"
     ]
    }
   ],
   "source": [
    "print('MAPE:', mean_absolute_percentage_error(test_labels, baseline_preds))\n"
   ]
  },
  {
   "cell_type": "markdown",
   "metadata": {
    "id": "1NH3QMlf8N91"
   },
   "source": [
    "Agora que avaliamos nosso baseline e identificamos o erro desse modelo, podemos criar outros modelos de regressão e comparar os resultados encontrados!\n",
    "\n",
    "Dica: Se não conseguirmos um erro menor do que o baseline, talvez precisemos repensar nossa abordagem."
   ]
  },
  {
   "cell_type": "markdown",
   "metadata": {
    "id": "nstvyr-hdG1S"
   },
   "source": [
    "Vamos dar uma olhada como ficou o nosso baseline em relação as amostras de teste?\n",
    "\n",
    "*Não se preocupe em compreender o que foi realizado na célula a seguir, todas as manipulações foram realizadas no único intuito de gerar o gráfico.*"
   ]
  },
  {
   "cell_type": "code",
   "execution_count": 19,
   "metadata": {
    "colab": {
     "base_uri": "https://localhost:8080/",
     "height": 326
    },
    "id": "eqGMncqndAaJ",
    "outputId": "d18d0bbf-5eb8-456d-a409-2cd0d198ff70"
   },
   "outputs": [
    {
     "data": {
      "image/png": "[encoded data removed]",
      "text/plain": [
       "<Figure size 432x288 with 1 Axes>"
      ]
     },
     "metadata": {
      "needs_background": "light"
     },
     "output_type": "display_data"
    }
   ],
   "source": [
    "# importar datetime para criação de objetos do tipo data para plotagem\n",
    "import datetime\n",
    "\n",
    "# datas do conjunto de treino\n",
    "months = data[:, feature_list.index('month')]\n",
    "days = data[:, feature_list.index('day')]\n",
    "years = data[:, feature_list.index('year')]\n",
    "\n",
    "# criar lista contendo os valores de dia, mês e ano unificados em formato de data\n",
    "dates = [str(int(year)) + '-' + str(int(month)) + '-' + str(int(day)) for year, month, day in zip(years, months, days)]\n",
    "dates = [datetime.datetime.strptime(date, '%Y-%m-%d') for date in dates]\n",
    "\n",
    "# criar dataframe com valores de temperatura máxima real e datas de registro\n",
    "true_data = pd.DataFrame(data = {'date': dates, 'actual': labels})\n",
    "\n",
    "# datas do conjunto de teste\n",
    "months = test_data[:, feature_list.index('month')]\n",
    "days = test_data[:, feature_list.index('day')]\n",
    "years = test_data[:, feature_list.index('year')]\n",
    "\n",
    "# criar lista contendo os valores de dia, mês e ano unificados em formato de data\n",
    "test_dates = [str(int(year)) + '-' + str(int(month)) + '-' + str(int(day)) for year, month, day in zip(years, months, days)]\n",
    "\n",
    "# converter lista gerada anteriormente em objetos datetime\n",
    "test_dates = [datetime.datetime.strptime(date, '%Y-%m-%d') for date in test_dates]\n",
    "\n",
    "\n",
    "# criar dataframe com valores previstos e datas de registro\n",
    "predictions_data = pd.DataFrame(data = {'date': test_dates, 'prediction': baseline_preds})\n",
    "\n",
    "# plotar os valores de temperatura reais\n",
    "plt.plot(true_data['date'], true_data['actual'], 'b-', label = 'real')\n",
    "\n",
    "# plotar os valores de temperatura previstos\n",
    "plt.plot(predictions_data['date'], predictions_data['prediction'], 'ro', label = 'previsto')\n",
    "\n",
    "plt.xticks(rotation = '60'); \n",
    "plt.legend()\n",
    "\n",
    "# definição dos nomes dos eixos\n",
    "plt.xlabel('Data');\n",
    "plt.ylabel('Temperatura Máxima (F)'); \n",
    "plt.title('Valores Reais e Previstos');"
   ]
  },
  {
   "cell_type": "markdown",
   "metadata": {
    "id": "p_6LHRU0WoaJ"
   },
   "source": [
    "# Regressão Linear"
   ]
  },
  {
   "cell_type": "markdown",
   "metadata": {
    "id": "uem0TvVMWw-X"
   },
   "source": [
    "Vamos aplicar o primeiro modelo de regressão: a regressão linear!"
   ]
  },
  {
   "cell_type": "code",
   "execution_count": 20,
   "metadata": {
    "id": "ECIYz7rg8N92"
   },
   "outputs": [],
   "source": [
    "# importar o modelo de regressão linear\n",
    "from sklearn.linear_model import LinearRegression \n",
    "\n",
    "# treinando o modelo no conjunto de dados de treino\n",
    "regression = LinearRegression().fit(train_data, train_labels);"
   ]
  },
  {
   "cell_type": "code",
   "execution_count": 21,
   "metadata": {
    "colab": {
     "base_uri": "https://localhost:8080/",
     "height": 359
    },
    "id": "E-2XWEDe8N98",
    "outputId": "ff14bf44-392c-4daf-fb91-ceed2421e2be"
   },
   "outputs": [
    {
     "data": {
      "text/html": [
       "<div>\n",
       "<style scoped>\n",
       "    .dataframe tbody tr th:only-of-type {\n",
       "        vertical-align: middle;\n",
       "    }\n",
       "\n",
       "    .dataframe tbody tr th {\n",
       "        vertical-align: top;\n",
       "    }\n",
       "\n",
       "    .dataframe thead th {\n",
       "        text-align: right;\n",
       "    }\n",
       "</style>\n",
       "<table border=\"1\" class=\"dataframe\">\n",
       "  <thead>\n",
       "    <tr style=\"text-align: right;\">\n",
       "      <th></th>\n",
       "      <th>Real</th>\n",
       "      <th>Previsto</th>\n",
       "    </tr>\n",
       "  </thead>\n",
       "  <tbody>\n",
       "    <tr>\n",
       "      <th>0</th>\n",
       "      <td>66</td>\n",
       "      <td>68.053603</td>\n",
       "    </tr>\n",
       "    <tr>\n",
       "      <th>1</th>\n",
       "      <td>61</td>\n",
       "      <td>62.714241</td>\n",
       "    </tr>\n",
       "    <tr>\n",
       "      <th>2</th>\n",
       "      <td>52</td>\n",
       "      <td>48.931776</td>\n",
       "    </tr>\n",
       "    <tr>\n",
       "      <th>3</th>\n",
       "      <td>66</td>\n",
       "      <td>61.809117</td>\n",
       "    </tr>\n",
       "    <tr>\n",
       "      <th>4</th>\n",
       "      <td>70</td>\n",
       "      <td>67.878007</td>\n",
       "    </tr>\n",
       "    <tr>\n",
       "      <th>5</th>\n",
       "      <td>82</td>\n",
       "      <td>68.909162</td>\n",
       "    </tr>\n",
       "    <tr>\n",
       "      <th>6</th>\n",
       "      <td>85</td>\n",
       "      <td>79.026256</td>\n",
       "    </tr>\n",
       "    <tr>\n",
       "      <th>7</th>\n",
       "      <td>84</td>\n",
       "      <td>80.498872</td>\n",
       "    </tr>\n",
       "    <tr>\n",
       "      <th>8</th>\n",
       "      <td>65</td>\n",
       "      <td>60.387689</td>\n",
       "    </tr>\n",
       "    <tr>\n",
       "      <th>9</th>\n",
       "      <td>92</td>\n",
       "      <td>73.925827</td>\n",
       "    </tr>\n",
       "  </tbody>\n",
       "</table>\n",
       "</div>"
      ],
      "text/plain": [
       "   Real   Previsto\n",
       "0    66  68.053603\n",
       "1    61  62.714241\n",
       "2    52  48.931776\n",
       "3    66  61.809117\n",
       "4    70  67.878007\n",
       "5    82  68.909162\n",
       "6    85  79.026256\n",
       "7    84  80.498872\n",
       "8    65  60.387689\n",
       "9    92  73.925827"
      ]
     },
     "execution_count": 21,
     "metadata": {},
     "output_type": "execute_result"
    }
   ],
   "source": [
    "# aplicando o modelo treinado para a previsão da temperatura \n",
    "#em todo o conjunto de teste\n",
    "predictions1_labels = regression.predict(test_data)\n",
    "\n",
    "# Exibindo dataframe com valores 10 reais e suas respectivas previsões\n",
    "p = pd.DataFrame({'Real': test_labels, 'Previsto': predictions1_labels})  \n",
    "p.head(10)"
   ]
  },
  {
   "cell_type": "markdown",
   "metadata": {
    "id": "M_rj1T77X6Fy"
   },
   "source": [
    "Agora que criamos o modelo de regressão linear e aplicamos o modelo criado ao conjunto de teste, podemos então avaliar o modelo gerado. "
   ]
  },
  {
   "cell_type": "code",
   "execution_count": 22,
   "metadata": {
    "colab": {
     "base_uri": "https://localhost:8080/",
     "height": 119
    },
    "id": "UavyKXJ88N-A",
    "outputId": "d063c14b-a7b0-4592-d077-b5c3c82ecabb"
   },
   "outputs": [
    {
     "name": "stdout",
     "output_type": "stream",
     "text": [
      "R2: 0.8069774388842328\n",
      "MSE: 26.84342239413264\n",
      "RMSE: 5.181063828417156\n",
      "RMSLE: 0.07811529163036064\n",
      "MAE: 3.8275014537919656\n",
      "MAPE: 6.011806129263038\n"
     ]
    }
   ],
   "source": [
    "#avaliando o modelo\n",
    "print('R2:', metrics.r2_score(test_labels, predictions1_labels)) \n",
    "print('MSE:', metrics.mean_squared_error(test_labels, predictions1_labels))  \n",
    "print('RMSE:', np.sqrt(metrics.mean_squared_error(test_labels, predictions1_labels))) \n",
    "print('RMSLE:', np.sqrt(metrics.mean_squared_log_error(test_labels, predictions1_labels))) \n",
    "print('MAE:', metrics.mean_absolute_error(test_labels, predictions1_labels))\n",
    "print('MAPE:', mean_absolute_percentage_error(test_labels, predictions1_labels))\n"
   ]
  },
  {
   "cell_type": "markdown",
   "metadata": {
    "id": "7A0leRBV8N-E"
   },
   "source": [
    "**Uaaaaaaaaaaaaaaaaau!**\n",
    "\n",
    "Uma simples regressão linear ja encontrou um erro bem menor do que o encontrado pelo nosso baseline! \n",
    "\n",
    "Vamos dar uma olhada como ficou a regressão linear em relação as amostras de teste?\n",
    "\n",
    "*Novamente, não é preciso se preocupar com o código da célula abaixo. *"
   ]
  },
  {
   "cell_type": "code",
   "execution_count": 23,
   "metadata": {
    "colab": {
     "base_uri": "https://localhost:8080/",
     "height": 326
    },
    "id": "8C1PMnjA8N-F",
    "outputId": "91444fc3-36e6-44d1-d722-f76e69045c04"
   },
   "outputs": [
    {
     "data": {
      "image/png": "[encoded data removed]",
      "text/plain": [
       "<Figure size 432x288 with 1 Axes>"
      ]
     },
     "metadata": {
      "needs_background": "light"
     },
     "output_type": "display_data"
    }
   ],
   "source": [
    "# criar dataframe com valores previstos e datas de registro\n",
    "predictions_data = pd.DataFrame(data = {'date': test_dates, 'prediction': predictions1_labels})\n",
    "\n",
    "# plotar os valores de temperatura reais\n",
    "plt.plot(true_data['date'], true_data['actual'], 'b-', label = 'real')\n",
    "\n",
    "# plotar os valores de temperatura previstos\n",
    "plt.plot(predictions_data['date'], predictions_data['prediction'], 'ro', label = 'previsto')\n",
    "\n",
    "plt.xticks(rotation = '60'); \n",
    "plt.legend()\n",
    "\n",
    "# definição dos nomes dos eixos\n",
    "plt.xlabel('Data');\n",
    "plt.ylabel('Temperatura Máxima (F)'); \n",
    "plt.title('Valores Reais e Previstos');"
   ]
  },
  {
   "cell_type": "markdown",
   "metadata": {
    "id": "aJXB1tN4ZSOI"
   },
   "source": [
    "# Support Vector Regressor SVR"
   ]
  },
  {
   "cell_type": "markdown",
   "metadata": {
    "id": "mjfmk5HkZgjj"
   },
   "source": [
    "Vamos dar uma olhada agora no comportamento do SVR"
   ]
  },
  {
   "cell_type": "code",
   "execution_count": 24,
   "metadata": {
    "colab": {
     "base_uri": "https://localhost:8080/",
     "height": 51
    },
    "id": "vE-1qSaUZsA9",
    "outputId": "d1045b0e-8943-4ed7-c422-f83b9b3f22da"
   },
   "outputs": [
    {
     "data": {
      "text/plain": [
       "SVR(C=1.0, cache_size=200, coef0=0.0, degree=3, epsilon=1.0, gamma='scale',\n",
       "    kernel='rbf', max_iter=-1, shrinking=True, tol=0.001, verbose=False)"
      ]
     },
     "execution_count": 24,
     "metadata": {},
     "output_type": "execute_result"
    }
   ],
   "source": [
    "#importar o modelo SVR\n",
    "from sklearn.svm import SVR\n",
    "\n",
    "# instanciacao e determinacao dos hiperparâmetros do SVR: tipo de kernel e epsilon\n",
    "regression = SVR(kernel='rbf', epsilon=1.0)\n",
    "\n",
    "# treinando o SVR\n",
    "regression.fit(train_data,train_labels)"
   ]
  },
  {
   "cell_type": "code",
   "execution_count": 25,
   "metadata": {
    "colab": {
     "base_uri": "https://localhost:8080/",
     "height": 359
    },
    "id": "sEqrz0n9Zr5K",
    "outputId": "203528c2-5e6a-4ed7-8ae9-2c7e76a2e57f"
   },
   "outputs": [
    {
     "data": {
      "text/html": [
       "<div>\n",
       "<style scoped>\n",
       "    .dataframe tbody tr th:only-of-type {\n",
       "        vertical-align: middle;\n",
       "    }\n",
       "\n",
       "    .dataframe tbody tr th {\n",
       "        vertical-align: top;\n",
       "    }\n",
       "\n",
       "    .dataframe thead th {\n",
       "        text-align: right;\n",
       "    }\n",
       "</style>\n",
       "<table border=\"1\" class=\"dataframe\">\n",
       "  <thead>\n",
       "    <tr style=\"text-align: right;\">\n",
       "      <th></th>\n",
       "      <th>Real</th>\n",
       "      <th>Previsto</th>\n",
       "    </tr>\n",
       "  </thead>\n",
       "  <tbody>\n",
       "    <tr>\n",
       "      <th>0</th>\n",
       "      <td>66</td>\n",
       "      <td>62.025961</td>\n",
       "    </tr>\n",
       "    <tr>\n",
       "      <th>1</th>\n",
       "      <td>61</td>\n",
       "      <td>61.989091</td>\n",
       "    </tr>\n",
       "    <tr>\n",
       "      <th>2</th>\n",
       "      <td>52</td>\n",
       "      <td>61.945076</td>\n",
       "    </tr>\n",
       "    <tr>\n",
       "      <th>3</th>\n",
       "      <td>66</td>\n",
       "      <td>61.995669</td>\n",
       "    </tr>\n",
       "    <tr>\n",
       "      <th>4</th>\n",
       "      <td>70</td>\n",
       "      <td>62.026022</td>\n",
       "    </tr>\n",
       "    <tr>\n",
       "      <th>5</th>\n",
       "      <td>82</td>\n",
       "      <td>62.064812</td>\n",
       "    </tr>\n",
       "    <tr>\n",
       "      <th>6</th>\n",
       "      <td>85</td>\n",
       "      <td>62.090959</td>\n",
       "    </tr>\n",
       "    <tr>\n",
       "      <th>7</th>\n",
       "      <td>84</td>\n",
       "      <td>62.097218</td>\n",
       "    </tr>\n",
       "    <tr>\n",
       "      <th>8</th>\n",
       "      <td>65</td>\n",
       "      <td>61.984746</td>\n",
       "    </tr>\n",
       "    <tr>\n",
       "      <th>9</th>\n",
       "      <td>92</td>\n",
       "      <td>62.052646</td>\n",
       "    </tr>\n",
       "  </tbody>\n",
       "</table>\n",
       "</div>"
      ],
      "text/plain": [
       "   Real   Previsto\n",
       "0    66  62.025961\n",
       "1    61  61.989091\n",
       "2    52  61.945076\n",
       "3    66  61.995669\n",
       "4    70  62.026022\n",
       "5    82  62.064812\n",
       "6    85  62.090959\n",
       "7    84  62.097218\n",
       "8    65  61.984746\n",
       "9    92  62.052646"
      ]
     },
     "execution_count": 25,
     "metadata": {},
     "output_type": "execute_result"
    }
   ],
   "source": [
    "# aplicando o modelo treinado para a previsão da temperatura \n",
    "#em todo o conjunto de teste\n",
    "predictions2_labels = regression.predict(test_data)\n",
    "\n",
    "# Exibindo dataframe com valores 10 reais e suas respectivas previsões\n",
    "p = pd.DataFrame({'Real': test_labels, 'Previsto': predictions2_labels})  \n",
    "p.head(10)"
   ]
  },
  {
   "cell_type": "code",
   "execution_count": 26,
   "metadata": {
    "colab": {
     "base_uri": "https://localhost:8080/",
     "height": 119
    },
    "id": "sAkezhEKZrwC",
    "outputId": "9aa0d4a4-861b-4b0d-b145-7ad2147bdb37"
   },
   "outputs": [
    {
     "name": "stdout",
     "output_type": "stream",
     "text": [
      "R2: 0.00012649703504530319\n",
      "MSE: 139.0512416043\n",
      "RMSE: 11.791999050385817\n",
      "RMSLE: 0.18671091932638212\n",
      "MAE: 9.547606515768958\n",
      "MAPE: 15.685787500492534\n"
     ]
    }
   ],
   "source": [
    "#avaliando o modelo \n",
    "print('R2:', metrics.r2_score(test_labels, predictions2_labels)) \n",
    "print('MSE:', metrics.mean_squared_error(test_labels, predictions2_labels))  \n",
    "print('RMSE:', np.sqrt(metrics.mean_squared_error(test_labels, predictions2_labels))) \n",
    "print('RMSLE:', np.sqrt(metrics.mean_squared_log_error(test_labels, predictions2_labels))) \n",
    "print('MAE:', metrics.mean_absolute_error(test_labels, predictions2_labels))\n",
    "print('MAPE:', mean_absolute_percentage_error(test_labels, predictions2_labels))\n"
   ]
  },
  {
   "cell_type": "markdown",
   "metadata": {
    "id": "GlmZZD4EbOmY"
   },
   "source": [
    "Vamos olhar como ficou o modelo? :)\n",
    "\n",
    "*Novamente, não precisa se preocupar com o código abaixo.*"
   ]
  },
  {
   "cell_type": "code",
   "execution_count": 27,
   "metadata": {
    "colab": {
     "base_uri": "https://localhost:8080/",
     "height": 326
    },
    "id": "hzlc5wcha-a7",
    "outputId": "8e9d562d-f131-498f-831a-0060bc7ede7d"
   },
   "outputs": [
    {
     "data": {
      "image/png": "[encoded data removed]",
      "text/plain": [
       "<Figure size 432x288 with 1 Axes>"
      ]
     },
     "metadata": {
      "needs_background": "light"
     },
     "output_type": "display_data"
    }
   ],
   "source": [
    "# criar dataframe com valores previstos e datas de registro\n",
    "predictions_data = pd.DataFrame(data = {'date': test_dates, 'prediction': predictions2_labels})\n",
    "\n",
    "# plotar os valores de temperatura reais\n",
    "plt.plot(true_data['date'], true_data['actual'], 'b-', label = 'real')\n",
    "\n",
    "# plotar os valores de temperatura previstos\n",
    "plt.plot(predictions_data['date'], predictions_data['prediction'], 'ro', label = 'previsto')\n",
    "\n",
    "plt.xticks(rotation = '60'); \n",
    "plt.legend()\n",
    "\n",
    "# definição dos nomes dos eixos\n",
    "plt.xlabel('Data');\n",
    "plt.ylabel('Temperatura Máxima (F)'); \n",
    "plt.title('Valores Reais e Previstos');"
   ]
  },
  {
   "cell_type": "markdown",
   "metadata": {
    "id": "MglFMlLLbggA"
   },
   "source": [
    "# Random Forest Regressor\n"
   ]
  },
  {
   "cell_type": "markdown",
   "metadata": {
    "id": "0qjPEqNfbmtk"
   },
   "source": [
    "Vamos agora modelar o nosso problema utilizando o Random Forest Regressor!\n",
    "\n",
    "Esse modelo é um dos mais utilizados tanto na sua versão de regressor quanto para sua versão de classificador e, em geral, apresenta otimos resultados!"
   ]
  },
  {
   "cell_type": "code",
   "execution_count": 28,
   "metadata": {
    "id": "7LrKgJhb8N-K"
   },
   "outputs": [],
   "source": [
    "# importar o modelo Random Forest Regressor\n",
    "from sklearn.ensemble import RandomForestRegressor\n",
    "\n",
    "# treinando o modelo \n",
    "regression = RandomForestRegressor(n_estimators= 10, random_state=42).fit(train_data, train_labels);"
   ]
  },
  {
   "cell_type": "code",
   "execution_count": 29,
   "metadata": {
    "colab": {
     "base_uri": "https://localhost:8080/",
     "height": 359
    },
    "id": "o86GOgTY8N-P",
    "outputId": "a9eb2fdf-3047-47dd-8cb0-fd62c74a35fb"
   },
   "outputs": [
    {
     "data": {
      "text/html": [
       "<div>\n",
       "<style scoped>\n",
       "    .dataframe tbody tr th:only-of-type {\n",
       "        vertical-align: middle;\n",
       "    }\n",
       "\n",
       "    .dataframe tbody tr th {\n",
       "        vertical-align: top;\n",
       "    }\n",
       "\n",
       "    .dataframe thead th {\n",
       "        text-align: right;\n",
       "    }\n",
       "</style>\n",
       "<table border=\"1\" class=\"dataframe\">\n",
       "  <thead>\n",
       "    <tr style=\"text-align: right;\">\n",
       "      <th></th>\n",
       "      <th>Real</th>\n",
       "      <th>Previsto</th>\n",
       "    </tr>\n",
       "  </thead>\n",
       "  <tbody>\n",
       "    <tr>\n",
       "      <th>0</th>\n",
       "      <td>66</td>\n",
       "      <td>71.5</td>\n",
       "    </tr>\n",
       "    <tr>\n",
       "      <th>1</th>\n",
       "      <td>61</td>\n",
       "      <td>61.7</td>\n",
       "    </tr>\n",
       "    <tr>\n",
       "      <th>2</th>\n",
       "      <td>52</td>\n",
       "      <td>50.7</td>\n",
       "    </tr>\n",
       "    <tr>\n",
       "      <th>3</th>\n",
       "      <td>66</td>\n",
       "      <td>61.0</td>\n",
       "    </tr>\n",
       "    <tr>\n",
       "      <th>4</th>\n",
       "      <td>70</td>\n",
       "      <td>64.2</td>\n",
       "    </tr>\n",
       "    <tr>\n",
       "      <th>5</th>\n",
       "      <td>82</td>\n",
       "      <td>68.1</td>\n",
       "    </tr>\n",
       "    <tr>\n",
       "      <th>6</th>\n",
       "      <td>85</td>\n",
       "      <td>78.1</td>\n",
       "    </tr>\n",
       "    <tr>\n",
       "      <th>7</th>\n",
       "      <td>84</td>\n",
       "      <td>80.1</td>\n",
       "    </tr>\n",
       "    <tr>\n",
       "      <th>8</th>\n",
       "      <td>65</td>\n",
       "      <td>64.3</td>\n",
       "    </tr>\n",
       "    <tr>\n",
       "      <th>9</th>\n",
       "      <td>92</td>\n",
       "      <td>73.4</td>\n",
       "    </tr>\n",
       "  </tbody>\n",
       "</table>\n",
       "</div>"
      ],
      "text/plain": [
       "   Real  Previsto\n",
       "0    66      71.5\n",
       "1    61      61.7\n",
       "2    52      50.7\n",
       "3    66      61.0\n",
       "4    70      64.2\n",
       "5    82      68.1\n",
       "6    85      78.1\n",
       "7    84      80.1\n",
       "8    65      64.3\n",
       "9    92      73.4"
      ]
     },
     "execution_count": 29,
     "metadata": {},
     "output_type": "execute_result"
    }
   ],
   "source": [
    "# aplicando o modelo treinado para a previsão da temperatura \n",
    "#em todo o conjunto de teste\n",
    "predictions3_labels = regression.predict(test_data)\n",
    "\n",
    "# Exibindo dataframe com valores 10 reais e suas respectivas previsões\n",
    "p = pd.DataFrame({'Real': test_labels, 'Previsto': predictions3_labels})  \n",
    "p.head(10)"
   ]
  },
  {
   "cell_type": "code",
   "execution_count": 30,
   "metadata": {
    "colab": {
     "base_uri": "https://localhost:8080/",
     "height": 119
    },
    "id": "j3XYU8C_clmb",
    "outputId": "01b433e9-3f24-41fc-ed93-dc83216d4892"
   },
   "outputs": [
    {
     "name": "stdout",
     "output_type": "stream",
     "text": [
      "R2: 0.7826272833674706\n",
      "MSE: 30.229770114942525\n",
      "RMSE: 5.498160611963107\n",
      "RMSLE: 0.08430660941594086\n",
      "MAE: 4.30919540229885\n",
      "MAPE: 6.75604632349625\n"
     ]
    }
   ],
   "source": [
    "#avaliando o modelo\n",
    "print('R2:', metrics.r2_score(test_labels, predictions3_labels)) \n",
    "print('MSE:', metrics.mean_squared_error(test_labels, predictions3_labels))  \n",
    "print('RMSE:', np.sqrt(metrics.mean_squared_error(test_labels, predictions3_labels))) \n",
    "print('RMSLE:', np.sqrt(metrics.mean_squared_log_error(test_labels, predictions3_labels))) \n",
    "print('MAE:', metrics.mean_absolute_error(test_labels, predictions3_labels))\n",
    "print('MAPE:', mean_absolute_percentage_error(test_labels, predictions3_labels))"
   ]
  },
  {
   "cell_type": "markdown",
   "metadata": {
    "id": "C2q6M07mc1Sm"
   },
   "source": [
    "Vamos olhar como ficou o modelo? :)\n",
    "\n",
    "*Novamente, não precisa se preocupar com o código abaixo.*"
   ]
  },
  {
   "cell_type": "code",
   "execution_count": 31,
   "metadata": {
    "colab": {
     "base_uri": "https://localhost:8080/",
     "height": 326
    },
    "id": "dVZgXwW18N-W",
    "outputId": "7b6bb434-6df8-4519-cc82-da3032c08863"
   },
   "outputs": [
    {
     "data": {
      "image/png": "[encoded data removed]",
      "text/plain": [
       "<Figure size 432x288 with 1 Axes>"
      ]
     },
     "metadata": {
      "needs_background": "light"
     },
     "output_type": "display_data"
    }
   ],
   "source": [
    "# criar dataframe com valores previstos e datas de registro\n",
    "predictions_data = pd.DataFrame(data = {'date': test_dates, 'prediction': predictions3_labels})\n",
    "\n",
    "# plotar os valores de temperatura reais\n",
    "plt.plot(true_data['date'], true_data['actual'], 'b-', label = 'real')\n",
    "\n",
    "# plotar os valores de temperatura previstos\n",
    "plt.plot(predictions_data['date'], predictions_data['prediction'], 'ro', label = 'previsto')\n",
    "\n",
    "plt.xticks(rotation = '60'); \n",
    "plt.legend()\n",
    "\n",
    "# definição dos nomes dos eixos\n",
    "plt.xlabel('Data');\n",
    "plt.ylabel('Temperatura Máxima (F)'); \n",
    "plt.title('Valores Reais e Previstos');"
   ]
  },
  {
   "cell_type": "markdown",
   "metadata": {
    "id": "Ur8gD8oI8N-Y"
   },
   "source": [
    "Vamos agora comparar os resultados do 3 modelos de regressão e o nosso baseline?"
   ]
  },
  {
   "cell_type": "code",
   "execution_count": 32,
   "metadata": {
    "colab": {
     "base_uri": "https://localhost:8080/",
     "height": 68
    },
    "id": "AviWSy_sehpN",
    "outputId": "bc61594b-c4fe-42ab-8d09-d89bc9e4bdc5"
   },
   "outputs": [
    {
     "name": "stdout",
     "output_type": "stream",
     "text": [
      "Erros do Baseline\n",
      "MSE: 54.4928735632184\n",
      "MAPE: 7.704879665543076\n"
     ]
    }
   ],
   "source": [
    "print('Erros do Baseline')\n",
    "print('MSE:', metrics.mean_squared_error(test_labels, baseline_preds))  \n",
    "print('MAPE:', mean_absolute_percentage_error(test_labels, baseline_preds))"
   ]
  },
  {
   "cell_type": "code",
   "execution_count": 33,
   "metadata": {
    "colab": {
     "base_uri": "https://localhost:8080/",
     "height": 68
    },
    "id": "V6riPr0lehgA",
    "outputId": "2efeaeb3-6e9e-4354-f12c-7e42a2e70867"
   },
   "outputs": [
    {
     "name": "stdout",
     "output_type": "stream",
     "text": [
      "Erros da Regressão Linear\n",
      "MSE: 26.84342239413264\n",
      "MAPE: 6.011806129263038\n"
     ]
    }
   ],
   "source": [
    "print('Erros da Regressão Linear')\n",
    "print('MSE:', metrics.mean_squared_error(test_labels, predictions1_labels))  \n",
    "print('MAPE:', mean_absolute_percentage_error(test_labels, predictions1_labels))"
   ]
  },
  {
   "cell_type": "code",
   "execution_count": 34,
   "metadata": {
    "colab": {
     "base_uri": "https://localhost:8080/",
     "height": 68
    },
    "id": "faWz7JGvehT_",
    "outputId": "c75c4ce1-5f59-4d87-e457-5c153098f4f4"
   },
   "outputs": [
    {
     "name": "stdout",
     "output_type": "stream",
     "text": [
      "Erros do SVR\n",
      "MSE: 139.0512416043\n",
      "MAPE: 15.685787500492534\n"
     ]
    }
   ],
   "source": [
    "print('Erros do SVR')\n",
    "print('MSE:', metrics.mean_squared_error(test_labels, predictions2_labels))  \n",
    "print('MAPE:', mean_absolute_percentage_error(test_labels, predictions2_labels))"
   ]
  },
  {
   "cell_type": "code",
   "execution_count": 35,
   "metadata": {
    "colab": {
     "base_uri": "https://localhost:8080/",
     "height": 68
    },
    "id": "S2hKjSOSd4sh",
    "outputId": "0bbccc78-220d-407f-b49f-63ae046def51"
   },
   "outputs": [
    {
     "name": "stdout",
     "output_type": "stream",
     "text": [
      "Erros do Random Forest Regressor\n",
      "MSE: 30.229770114942525\n",
      "MAPE: 6.75604632349625\n"
     ]
    }
   ],
   "source": [
    "print('Erros do Random Forest Regressor')\n",
    "print('MSE:', metrics.mean_squared_error(test_labels, predictions3_labels))  \n",
    "print('MAPE:', mean_absolute_percentage_error(test_labels, predictions3_labels))"
   ]
  }
 ],
 "metadata": {
  "colab": {
   "collapsed_sections": [],
   "name": "Hands-on Regressão.ipynb",
   "provenance": []
  },
  "kernelspec": {
   "display_name": "Python 3 (ipykernel)",
   "language": "python",
   "name": "python3"
  },
  "language_info": {
   "codemirror_mode": {
    "name": "ipython",
    "version": 3
   },
   "file_extension": ".py",
   "mimetype": "text/x-python",
   "name": "python",
   "nbconvert_exporter": "python",
   "pygments_lexer": "ipython3",
   "version": "3.10.4"
  }
 },
 "nbformat": 4,
 "nbformat_minor": 4
}
