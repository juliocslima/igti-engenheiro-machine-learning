{
 "cells": [
  {
   "cell_type": "code",
   "execution_count": 1,
   "id": "7cee1010",
   "metadata": {},
   "outputs": [],
   "source": [
    "import pandas as pd\n",
    "import numpy as np\n",
    "import matplotlib.pyplot as plt"
   ]
  },
  {
   "cell_type": "code",
   "execution_count": 4,
   "id": "d4b290a2",
   "metadata": {},
   "outputs": [],
   "source": [
    "df = pd.read_csv('data/cars.csv', delimiter=',')"
   ]
  },
  {
   "cell_type": "code",
   "execution_count": 5,
   "id": "609d2a65",
   "metadata": {},
   "outputs": [
    {
     "data": {
      "text/html": [
       "<div>\n",
       "<style scoped>\n",
       "    .dataframe tbody tr th:only-of-type {\n",
       "        vertical-align: middle;\n",
       "    }\n",
       "\n",
       "    .dataframe tbody tr th {\n",
       "        vertical-align: top;\n",
       "    }\n",
       "\n",
       "    .dataframe thead th {\n",
       "        text-align: right;\n",
       "    }\n",
       "</style>\n",
       "<table border=\"1\" class=\"dataframe\">\n",
       "  <thead>\n",
       "    <tr style=\"text-align: right;\">\n",
       "      <th></th>\n",
       "      <th>mpg</th>\n",
       "      <th>cylinders</th>\n",
       "      <th>cubicinches</th>\n",
       "      <th>hp</th>\n",
       "      <th>weightlbs</th>\n",
       "      <th>time-to-60</th>\n",
       "      <th>year</th>\n",
       "      <th>brand</th>\n",
       "    </tr>\n",
       "  </thead>\n",
       "  <tbody>\n",
       "    <tr>\n",
       "      <th>0</th>\n",
       "      <td>14.0</td>\n",
       "      <td>8</td>\n",
       "      <td>350</td>\n",
       "      <td>165</td>\n",
       "      <td>4209</td>\n",
       "      <td>12</td>\n",
       "      <td>1972</td>\n",
       "      <td>US.</td>\n",
       "    </tr>\n",
       "    <tr>\n",
       "      <th>1</th>\n",
       "      <td>31.9</td>\n",
       "      <td>4</td>\n",
       "      <td>89</td>\n",
       "      <td>71</td>\n",
       "      <td>1925</td>\n",
       "      <td>14</td>\n",
       "      <td>1980</td>\n",
       "      <td>Europe.</td>\n",
       "    </tr>\n",
       "    <tr>\n",
       "      <th>2</th>\n",
       "      <td>17.0</td>\n",
       "      <td>8</td>\n",
       "      <td>302</td>\n",
       "      <td>140</td>\n",
       "      <td>3449</td>\n",
       "      <td>11</td>\n",
       "      <td>1971</td>\n",
       "      <td>US.</td>\n",
       "    </tr>\n",
       "    <tr>\n",
       "      <th>3</th>\n",
       "      <td>15.0</td>\n",
       "      <td>8</td>\n",
       "      <td>400</td>\n",
       "      <td>150</td>\n",
       "      <td>3761</td>\n",
       "      <td>10</td>\n",
       "      <td>1971</td>\n",
       "      <td>US.</td>\n",
       "    </tr>\n",
       "    <tr>\n",
       "      <th>4</th>\n",
       "      <td>30.5</td>\n",
       "      <td>4</td>\n",
       "      <td>98</td>\n",
       "      <td>63</td>\n",
       "      <td>2051</td>\n",
       "      <td>17</td>\n",
       "      <td>1978</td>\n",
       "      <td>US.</td>\n",
       "    </tr>\n",
       "  </tbody>\n",
       "</table>\n",
       "</div>"
      ],
      "text/plain": [
       "    mpg  cylinders cubicinches   hp weightlbs  time-to-60  year     brand\n",
       "0  14.0          8         350  165      4209          12  1972       US.\n",
       "1  31.9          4          89   71      1925          14  1980   Europe.\n",
       "2  17.0          8         302  140      3449          11  1971       US.\n",
       "3  15.0          8         400  150      3761          10  1971       US.\n",
       "4  30.5          4          98   63      2051          17  1978       US."
      ]
     },
     "execution_count": 5,
     "metadata": {},
     "output_type": "execute_result"
    }
   ],
   "source": [
    "df.head()"
   ]
  },
  {
   "cell_type": "code",
   "execution_count": 6,
   "id": "102a1975",
   "metadata": {},
   "outputs": [
    {
     "name": "stdout",
     "output_type": "stream",
     "text": [
      "<class 'pandas.core.frame.DataFrame'>\n",
      "RangeIndex: 261 entries, 0 to 260\n",
      "Data columns (total 8 columns):\n",
      " #   Column       Non-Null Count  Dtype  \n",
      "---  ------       --------------  -----  \n",
      " 0   mpg          261 non-null    float64\n",
      " 1   cylinders    261 non-null    int64  \n",
      " 2   cubicinches  261 non-null    object \n",
      " 3   hp           261 non-null    int64  \n",
      " 4   weightlbs    261 non-null    object \n",
      " 5   time-to-60   261 non-null    int64  \n",
      " 6   year         261 non-null    int64  \n",
      " 7   brand        261 non-null    object \n",
      "dtypes: float64(1), int64(4), object(3)\n",
      "memory usage: 16.4+ KB\n"
     ]
    }
   ],
   "source": [
    "df.info()"
   ]
  },
  {
   "cell_type": "markdown",
   "id": "ec5053ab",
   "metadata": {},
   "source": [
    "### Pergunta 1\n",
    "Após a utilização da biblioteca pandas para a leitura dos dados sobre os valores lidos, é CORRETO afirmar que:"
   ]
  },
  {
   "cell_type": "code",
   "execution_count": 7,
   "id": "f1ac40b6",
   "metadata": {},
   "outputs": [
    {
     "data": {
      "text/plain": [
       "mpg            0\n",
       "cylinders      0\n",
       "cubicinches    0\n",
       "hp             0\n",
       "weightlbs      0\n",
       "time-to-60     0\n",
       "year           0\n",
       "brand          0\n",
       "dtype: int64"
      ]
     },
     "execution_count": 7,
     "metadata": {},
     "output_type": "execute_result"
    }
   ],
   "source": [
    "df.isnull().sum()"
   ]
  },
  {
   "cell_type": "markdown",
   "id": "e6bdc2d3",
   "metadata": {},
   "source": [
    "Resposta: Não foram encontrados valores nulos após a leitura dos dados."
   ]
  },
  {
   "cell_type": "markdown",
   "id": "4738a80a",
   "metadata": {},
   "source": [
    "### Pergunta 2\n",
    "\n",
    "Realize a transformação das colunas “cubicinches” e “weightlbs” do tipo “string” para o tipo numérico utilizando o pd.to_numeric(), utilizando o parâmetro  errors='coerce'. Após essa transformação, é CORRETO afirmar:"
   ]
  },
  {
   "cell_type": "code",
   "execution_count": 10,
   "id": "67e6e6b6",
   "metadata": {},
   "outputs": [],
   "source": [
    "df['cubicinches'] = pd.to_numeric(df['cubicinches'], errors='coerce')\n",
    "df['weightlbs'] = pd.to_numeric(df['weightlbs'], errors='coerce')"
   ]
  },
  {
   "cell_type": "code",
   "execution_count": 11,
   "id": "79635e5b",
   "metadata": {},
   "outputs": [
    {
     "data": {
      "text/plain": [
       "mpg            0\n",
       "cylinders      0\n",
       "cubicinches    2\n",
       "hp             0\n",
       "weightlbs      3\n",
       "time-to-60     0\n",
       "year           0\n",
       "brand          0\n",
       "dtype: int64"
      ]
     },
     "execution_count": 11,
     "metadata": {},
     "output_type": "execute_result"
    }
   ],
   "source": [
    "df.isnull().sum()"
   ]
  },
  {
   "cell_type": "markdown",
   "id": "4873528a",
   "metadata": {},
   "source": [
    "Resposta: Essa transformação adiciona valores nulos ao nosso dataset."
   ]
  },
  {
   "cell_type": "markdown",
   "id": "724330cd",
   "metadata": {},
   "source": [
    "### Pergunta 3\n",
    "\n",
    "Indique quais eram os índices dos valores presentes no dataset que “forçaram” o pandas a compreender a variável “cubicinches” como string."
   ]
  },
  {
   "cell_type": "code",
   "execution_count": 14,
   "id": "36d341e7",
   "metadata": {},
   "outputs": [
    {
     "data": {
      "text/html": [
       "<div>\n",
       "<style scoped>\n",
       "    .dataframe tbody tr th:only-of-type {\n",
       "        vertical-align: middle;\n",
       "    }\n",
       "\n",
       "    .dataframe tbody tr th {\n",
       "        vertical-align: top;\n",
       "    }\n",
       "\n",
       "    .dataframe thead th {\n",
       "        text-align: right;\n",
       "    }\n",
       "</style>\n",
       "<table border=\"1\" class=\"dataframe\">\n",
       "  <thead>\n",
       "    <tr style=\"text-align: right;\">\n",
       "      <th></th>\n",
       "      <th>mpg</th>\n",
       "      <th>cylinders</th>\n",
       "      <th>cubicinches</th>\n",
       "      <th>hp</th>\n",
       "      <th>weightlbs</th>\n",
       "      <th>time-to-60</th>\n",
       "      <th>year</th>\n",
       "      <th>brand</th>\n",
       "    </tr>\n",
       "  </thead>\n",
       "  <tbody>\n",
       "    <tr>\n",
       "      <th>40</th>\n",
       "      <td>16.0</td>\n",
       "      <td>6</td>\n",
       "      <td>NaN</td>\n",
       "      <td>105</td>\n",
       "      <td>3897.0</td>\n",
       "      <td>19</td>\n",
       "      <td>1976</td>\n",
       "      <td>US.</td>\n",
       "    </tr>\n",
       "    <tr>\n",
       "      <th>180</th>\n",
       "      <td>19.8</td>\n",
       "      <td>6</td>\n",
       "      <td>NaN</td>\n",
       "      <td>85</td>\n",
       "      <td>2990.0</td>\n",
       "      <td>18</td>\n",
       "      <td>1980</td>\n",
       "      <td>US.</td>\n",
       "    </tr>\n",
       "  </tbody>\n",
       "</table>\n",
       "</div>"
      ],
      "text/plain": [
       "      mpg  cylinders  cubicinches   hp  weightlbs  time-to-60  year brand\n",
       "40   16.0          6          NaN  105     3897.0          19  1976   US.\n",
       "180  19.8          6          NaN   85     2990.0          18  1980   US."
      ]
     },
     "execution_count": 14,
     "metadata": {},
     "output_type": "execute_result"
    }
   ],
   "source": [
    "df[df['cubicinches'].isnull()]"
   ]
  },
  {
   "cell_type": "markdown",
   "id": "00fe92e0",
   "metadata": {},
   "source": [
    "### Pergunta 4\n",
    "Após a transformação das variáveis “string” para os valores numéricos, quantos valores nulos (células no dataframe) passaram a existir no dataset?"
   ]
  },
  {
   "cell_type": "code",
   "execution_count": 22,
   "id": "745c8a30",
   "metadata": {},
   "outputs": [
    {
     "data": {
      "text/plain": [
       "5"
      ]
     },
     "execution_count": 22,
     "metadata": {},
     "output_type": "execute_result"
    }
   ],
   "source": [
    "result = df.isnull().sum()\n",
    "result.sum()"
   ]
  },
  {
   "cell_type": "markdown",
   "id": "5d373249",
   "metadata": {},
   "source": [
    "### Pergunta 5\n",
    "Substitua os valores nulos introduzidos no dataset após a transformação pelo valor médio das colunas. Qual é o novo valor médio da coluna “weightlbs”?"
   ]
  },
  {
   "cell_type": "code",
   "execution_count": 23,
   "id": "95a52e51",
   "metadata": {},
   "outputs": [],
   "source": [
    "df['cubicinches'].fillna(df['cubicinches'].mean(), inplace = True)\n",
    "df['weightlbs'].fillna(df['weightlbs'].mean(), inplace = True)"
   ]
  },
  {
   "cell_type": "code",
   "execution_count": 24,
   "id": "2548b93a",
   "metadata": {},
   "outputs": [
    {
     "data": {
      "text/html": [
       "<div>\n",
       "<style scoped>\n",
       "    .dataframe tbody tr th:only-of-type {\n",
       "        vertical-align: middle;\n",
       "    }\n",
       "\n",
       "    .dataframe tbody tr th {\n",
       "        vertical-align: top;\n",
       "    }\n",
       "\n",
       "    .dataframe thead th {\n",
       "        text-align: right;\n",
       "    }\n",
       "</style>\n",
       "<table border=\"1\" class=\"dataframe\">\n",
       "  <thead>\n",
       "    <tr style=\"text-align: right;\">\n",
       "      <th></th>\n",
       "      <th>count</th>\n",
       "      <th>mean</th>\n",
       "      <th>std</th>\n",
       "      <th>min</th>\n",
       "      <th>25%</th>\n",
       "      <th>50%</th>\n",
       "      <th>75%</th>\n",
       "      <th>max</th>\n",
       "    </tr>\n",
       "  </thead>\n",
       "  <tbody>\n",
       "    <tr>\n",
       "      <th>mpg</th>\n",
       "      <td>261.0</td>\n",
       "      <td>23.144828</td>\n",
       "      <td>7.823570</td>\n",
       "      <td>10.0</td>\n",
       "      <td>16.9</td>\n",
       "      <td>22.0</td>\n",
       "      <td>28.8</td>\n",
       "      <td>46.6</td>\n",
       "    </tr>\n",
       "    <tr>\n",
       "      <th>cylinders</th>\n",
       "      <td>261.0</td>\n",
       "      <td>5.590038</td>\n",
       "      <td>1.733310</td>\n",
       "      <td>3.0</td>\n",
       "      <td>4.0</td>\n",
       "      <td>6.0</td>\n",
       "      <td>8.0</td>\n",
       "      <td>8.0</td>\n",
       "    </tr>\n",
       "    <tr>\n",
       "      <th>cubicinches</th>\n",
       "      <td>261.0</td>\n",
       "      <td>200.918919</td>\n",
       "      <td>108.837269</td>\n",
       "      <td>68.0</td>\n",
       "      <td>101.0</td>\n",
       "      <td>156.0</td>\n",
       "      <td>302.0</td>\n",
       "      <td>455.0</td>\n",
       "    </tr>\n",
       "    <tr>\n",
       "      <th>hp</th>\n",
       "      <td>261.0</td>\n",
       "      <td>106.360153</td>\n",
       "      <td>40.499959</td>\n",
       "      <td>46.0</td>\n",
       "      <td>75.0</td>\n",
       "      <td>95.0</td>\n",
       "      <td>138.0</td>\n",
       "      <td>230.0</td>\n",
       "    </tr>\n",
       "    <tr>\n",
       "      <th>weightlbs</th>\n",
       "      <td>261.0</td>\n",
       "      <td>3009.833333</td>\n",
       "      <td>849.097575</td>\n",
       "      <td>1613.0</td>\n",
       "      <td>2254.0</td>\n",
       "      <td>2904.0</td>\n",
       "      <td>3664.0</td>\n",
       "      <td>4997.0</td>\n",
       "    </tr>\n",
       "    <tr>\n",
       "      <th>time-to-60</th>\n",
       "      <td>261.0</td>\n",
       "      <td>15.547893</td>\n",
       "      <td>2.910625</td>\n",
       "      <td>8.0</td>\n",
       "      <td>14.0</td>\n",
       "      <td>16.0</td>\n",
       "      <td>17.0</td>\n",
       "      <td>25.0</td>\n",
       "    </tr>\n",
       "    <tr>\n",
       "      <th>year</th>\n",
       "      <td>261.0</td>\n",
       "      <td>1976.819923</td>\n",
       "      <td>3.637696</td>\n",
       "      <td>1971.0</td>\n",
       "      <td>1974.0</td>\n",
       "      <td>1977.0</td>\n",
       "      <td>1980.0</td>\n",
       "      <td>1983.0</td>\n",
       "    </tr>\n",
       "  </tbody>\n",
       "</table>\n",
       "</div>"
      ],
      "text/plain": [
       "             count         mean         std     min     25%     50%     75%  \\\n",
       "mpg          261.0    23.144828    7.823570    10.0    16.9    22.0    28.8   \n",
       "cylinders    261.0     5.590038    1.733310     3.0     4.0     6.0     8.0   \n",
       "cubicinches  261.0   200.918919  108.837269    68.0   101.0   156.0   302.0   \n",
       "hp           261.0   106.360153   40.499959    46.0    75.0    95.0   138.0   \n",
       "weightlbs    261.0  3009.833333  849.097575  1613.0  2254.0  2904.0  3664.0   \n",
       "time-to-60   261.0    15.547893    2.910625     8.0    14.0    16.0    17.0   \n",
       "year         261.0  1976.819923    3.637696  1971.0  1974.0  1977.0  1980.0   \n",
       "\n",
       "                max  \n",
       "mpg            46.6  \n",
       "cylinders       8.0  \n",
       "cubicinches   455.0  \n",
       "hp            230.0  \n",
       "weightlbs    4997.0  \n",
       "time-to-60     25.0  \n",
       "year         1983.0  "
      ]
     },
     "execution_count": 24,
     "metadata": {},
     "output_type": "execute_result"
    }
   ],
   "source": [
    "df.describe().T"
   ]
  },
  {
   "cell_type": "code",
   "execution_count": 27,
   "id": "6f11e611",
   "metadata": {},
   "outputs": [
    {
     "data": {
      "text/plain": [
       "3009.8333333333335"
      ]
     },
     "execution_count": 27,
     "metadata": {},
     "output_type": "execute_result"
    }
   ],
   "source": [
    "df['weightlbs'].mean()"
   ]
  },
  {
   "cell_type": "markdown",
   "id": "2d5d1ace",
   "metadata": {},
   "source": [
    "### Pergunta 6\n",
    "Após substituir os valores nulos pela média das colunas, selecione as colunas ['mpg', 'cylinders', 'cubicinches', 'hp', 'weightlbs', 'time-to-60', 'year']. Qual é o valor da mediana para a característica 'mpg'?"
   ]
  },
  {
   "cell_type": "code",
   "execution_count": 29,
   "id": "c5b8fde0",
   "metadata": {},
   "outputs": [
    {
     "data": {
      "text/plain": [
       "22.0"
      ]
     },
     "execution_count": 29,
     "metadata": {},
     "output_type": "execute_result"
    }
   ],
   "source": [
    "df['mpg'].median()"
   ]
  },
  {
   "cell_type": "markdown",
   "id": "f2ff09d6",
   "metadata": {},
   "source": [
    "### Pergunta 7\n",
    "Qual é a afirmação CORRETA sobre o valor de 14,00 para a variável “time-to-60”?"
   ]
  },
  {
   "cell_type": "code",
   "execution_count": 30,
   "id": "f1807019",
   "metadata": {},
   "outputs": [
    {
     "data": {
      "text/html": [
       "<div>\n",
       "<style scoped>\n",
       "    .dataframe tbody tr th:only-of-type {\n",
       "        vertical-align: middle;\n",
       "    }\n",
       "\n",
       "    .dataframe tbody tr th {\n",
       "        vertical-align: top;\n",
       "    }\n",
       "\n",
       "    .dataframe thead th {\n",
       "        text-align: right;\n",
       "    }\n",
       "</style>\n",
       "<table border=\"1\" class=\"dataframe\">\n",
       "  <thead>\n",
       "    <tr style=\"text-align: right;\">\n",
       "      <th></th>\n",
       "      <th>count</th>\n",
       "      <th>mean</th>\n",
       "      <th>std</th>\n",
       "      <th>min</th>\n",
       "      <th>25%</th>\n",
       "      <th>50%</th>\n",
       "      <th>75%</th>\n",
       "      <th>max</th>\n",
       "    </tr>\n",
       "  </thead>\n",
       "  <tbody>\n",
       "    <tr>\n",
       "      <th>mpg</th>\n",
       "      <td>261.0</td>\n",
       "      <td>23.144828</td>\n",
       "      <td>7.823570</td>\n",
       "      <td>10.0</td>\n",
       "      <td>16.9</td>\n",
       "      <td>22.0</td>\n",
       "      <td>28.8</td>\n",
       "      <td>46.6</td>\n",
       "    </tr>\n",
       "    <tr>\n",
       "      <th>cylinders</th>\n",
       "      <td>261.0</td>\n",
       "      <td>5.590038</td>\n",
       "      <td>1.733310</td>\n",
       "      <td>3.0</td>\n",
       "      <td>4.0</td>\n",
       "      <td>6.0</td>\n",
       "      <td>8.0</td>\n",
       "      <td>8.0</td>\n",
       "    </tr>\n",
       "    <tr>\n",
       "      <th>cubicinches</th>\n",
       "      <td>261.0</td>\n",
       "      <td>200.918919</td>\n",
       "      <td>108.837269</td>\n",
       "      <td>68.0</td>\n",
       "      <td>101.0</td>\n",
       "      <td>156.0</td>\n",
       "      <td>302.0</td>\n",
       "      <td>455.0</td>\n",
       "    </tr>\n",
       "    <tr>\n",
       "      <th>hp</th>\n",
       "      <td>261.0</td>\n",
       "      <td>106.360153</td>\n",
       "      <td>40.499959</td>\n",
       "      <td>46.0</td>\n",
       "      <td>75.0</td>\n",
       "      <td>95.0</td>\n",
       "      <td>138.0</td>\n",
       "      <td>230.0</td>\n",
       "    </tr>\n",
       "    <tr>\n",
       "      <th>weightlbs</th>\n",
       "      <td>261.0</td>\n",
       "      <td>3009.833333</td>\n",
       "      <td>849.097575</td>\n",
       "      <td>1613.0</td>\n",
       "      <td>2254.0</td>\n",
       "      <td>2904.0</td>\n",
       "      <td>3664.0</td>\n",
       "      <td>4997.0</td>\n",
       "    </tr>\n",
       "    <tr>\n",
       "      <th>time-to-60</th>\n",
       "      <td>261.0</td>\n",
       "      <td>15.547893</td>\n",
       "      <td>2.910625</td>\n",
       "      <td>8.0</td>\n",
       "      <td>14.0</td>\n",
       "      <td>16.0</td>\n",
       "      <td>17.0</td>\n",
       "      <td>25.0</td>\n",
       "    </tr>\n",
       "    <tr>\n",
       "      <th>year</th>\n",
       "      <td>261.0</td>\n",
       "      <td>1976.819923</td>\n",
       "      <td>3.637696</td>\n",
       "      <td>1971.0</td>\n",
       "      <td>1974.0</td>\n",
       "      <td>1977.0</td>\n",
       "      <td>1980.0</td>\n",
       "      <td>1983.0</td>\n",
       "    </tr>\n",
       "  </tbody>\n",
       "</table>\n",
       "</div>"
      ],
      "text/plain": [
       "             count         mean         std     min     25%     50%     75%  \\\n",
       "mpg          261.0    23.144828    7.823570    10.0    16.9    22.0    28.8   \n",
       "cylinders    261.0     5.590038    1.733310     3.0     4.0     6.0     8.0   \n",
       "cubicinches  261.0   200.918919  108.837269    68.0   101.0   156.0   302.0   \n",
       "hp           261.0   106.360153   40.499959    46.0    75.0    95.0   138.0   \n",
       "weightlbs    261.0  3009.833333  849.097575  1613.0  2254.0  2904.0  3664.0   \n",
       "time-to-60   261.0    15.547893    2.910625     8.0    14.0    16.0    17.0   \n",
       "year         261.0  1976.819923    3.637696  1971.0  1974.0  1977.0  1980.0   \n",
       "\n",
       "                max  \n",
       "mpg            46.6  \n",
       "cylinders       8.0  \n",
       "cubicinches   455.0  \n",
       "hp            230.0  \n",
       "weightlbs    4997.0  \n",
       "time-to-60     25.0  \n",
       "year         1983.0  "
      ]
     },
     "execution_count": 30,
     "metadata": {},
     "output_type": "execute_result"
    }
   ],
   "source": [
    "df.describe().T"
   ]
  },
  {
   "cell_type": "markdown",
   "id": "beb09c70",
   "metadata": {},
   "source": [
    "Resposta: 75% dos dados são maiores que o valor de 14,00."
   ]
  },
  {
   "cell_type": "markdown",
   "id": "cfcebe31",
   "metadata": {},
   "source": [
    "### Pergunta 8\n",
    "Sobre o coeficiente de correlação de Pearson entre as variáveis “cylinders” e “mpg”, é correto afirmar, EXCETO:"
   ]
  },
  {
   "cell_type": "code",
   "execution_count": 31,
   "id": "71a3b6da",
   "metadata": {},
   "outputs": [
    {
     "data": {
      "image/png": "[encoded data removed]",
      "text/plain": [
       "<Figure size 720x360 with 2 Axes>"
      ]
     },
     "metadata": {
      "needs_background": "light"
     },
     "output_type": "display_data"
    }
   ],
   "source": [
    "import seaborn as sns\n",
    "\n",
    "plt.figure(figsize=(10, 5))\n",
    "matriz_correlacao = df[['cylinders', 'mpg']].corr()\n",
    "sns.heatmap(matriz_correlacao, annot = True, vmin = -1, vmax = 1, center= 0)\n",
    "plt.show()"
   ]
  },
  {
   "cell_type": "code",
   "execution_count": 34,
   "id": "56835e88",
   "metadata": {},
   "outputs": [
    {
     "data": {
      "text/plain": [
       "<AxesSubplot:xlabel='cylinders', ylabel='mpg'>"
      ]
     },
     "execution_count": 34,
     "metadata": {},
     "output_type": "execute_result"
    },
    {
     "data": {
      "image/png": "[encoded data removed]",
      "text/plain": [
       "<Figure size 432x288 with 1 Axes>"
      ]
     },
     "metadata": {
      "needs_background": "light"
     },
     "output_type": "display_data"
    }
   ],
   "source": [
    "# Existe uma correlação negativa. Quanto maior o \"fixed acidity, menor é o \"pH\".\n",
    "df.plot.scatter(x = 'cylinders',y = 'mpg', colormap = 'viridis') "
   ]
  },
  {
   "cell_type": "code",
   "execution_count": 45,
   "id": "08e9c48b",
   "metadata": {},
   "outputs": [
    {
     "data": {
      "text/plain": [
       "'R2 = -0.78 ^ 2 =  0.60'"
      ]
     },
     "execution_count": 45,
     "metadata": {},
     "output_type": "execute_result"
    }
   ],
   "source": [
    "correlacao = df[['cylinders', 'mpg']].corr()\n",
    "corr_value = correlacao['cylinders']['mpg']\n",
    "\n",
    "coeficiente_determinacao = (corr_value ** 2)\n",
    "\n",
    "'R2 = {:.2f} ^ 2 =  {:.2f}'.format(corr_value, coeficiente_determinacao)"
   ]
  },
  {
   "cell_type": "markdown",
   "id": "d6575814",
   "metadata": {},
   "source": [
    "Se até agora encontramos o Coeficiente de Correlação de 2 ativos 0,78, para encontrar o Coeficiente de Determinação iremos elevar ao quadrado e multiplicar por 100.\n",
    "\n",
    "R2 = 0,78 = 0,6.\n",
    "\n",
    "Nesse caso afirmasse que 60% das variações de 'cylinders' podem ser explicadas com base na variação da 'mpg'"
   ]
  },
  {
   "cell_type": "markdown",
   "id": "4c7e283a",
   "metadata": {},
   "source": [
    "**Resposta:**\n",
    "\n",
    "(Correto)\n",
    "Quando um coeficiente de correlação de Pearson é igual a 1, o coeficiente de determinação também será igual a 1.\n",
    "\n",
    "(Correto)\n",
    "Caso fosse calculado o coeficiente de determinação entre essas duas variáveis, o valor seria aproximadamente 0,6.\n",
    "\n",
    "(Incorreto - a correlação entre as duas variáveis é negativa)\n",
    "Mesmo não sendo igual a 1, é possível dizer que à medida em que a variável “cylinders” aumenta, a variável “mpg” também aumenta na mesma direção.\n",
    "\n",
    "(Correto)\n",
    "Mesmo não sendo igual a 1, é possível dizer que à medida que a variável “cylinders” aumenta, a variável “mpg” reduz em uma direção oposta."
   ]
  },
  {
   "cell_type": "markdown",
   "id": "fff9a230",
   "metadata": {},
   "source": [
    "### Pergunta 9\n",
    "Sobre o boxplot da variável “hp”, é correto afirmar, EXCETO: "
   ]
  },
  {
   "cell_type": "code",
   "execution_count": 52,
   "id": "bbeb04c3",
   "metadata": {},
   "outputs": [
    {
     "data": {
      "image/png": "[encoded data removed]",
      "text/plain": [
       "<Figure size 432x288 with 1 Axes>"
      ]
     },
     "metadata": {
      "needs_background": "light"
     },
     "output_type": "display_data"
    }
   ],
   "source": [
    "sns.boxplot(x = df['hp'])\n",
    "\n",
    "plt.title('Distribuição HP')\n",
    "plt.ylabel('HP') \n",
    "plt.show()"
   ]
  },
  {
   "cell_type": "code",
   "execution_count": 55,
   "id": "e0a61f53",
   "metadata": {},
   "outputs": [
    {
     "data": {
      "text/plain": [
       "count    261.000000\n",
       "mean     106.360153\n",
       "std       40.499959\n",
       "min       46.000000\n",
       "25%       75.000000\n",
       "50%       95.000000\n",
       "75%      138.000000\n",
       "max      230.000000\n",
       "Name: hp, dtype: float64"
      ]
     },
     "execution_count": 55,
     "metadata": {},
     "output_type": "execute_result"
    }
   ],
   "source": [
    "df['hp'].describe().T"
   ]
  },
  {
   "cell_type": "code",
   "execution_count": 67,
   "id": "84278aad",
   "metadata": {},
   "outputs": [
    {
     "data": {
      "text/plain": [
       "66"
      ]
     },
     "execution_count": 67,
     "metadata": {},
     "output_type": "execute_result"
    }
   ],
   "source": [
    "# Quantidade de valores primeiro quartil\n",
    "\n",
    "Q1_count = df['hp'][df['hp'] <= df['hp'].describe().T['25%']].count()\n",
    "Q1_count"
   ]
  },
  {
   "cell_type": "code",
   "execution_count": 68,
   "id": "8a12de66",
   "metadata": {},
   "outputs": [
    {
     "data": {
      "text/plain": [
       "71"
      ]
     },
     "execution_count": 68,
     "metadata": {},
     "output_type": "execute_result"
    }
   ],
   "source": [
    "# Quantidade de valores segundo quartil\n",
    "\n",
    "Q2_count = df['hp'][df['hp'] <= df['hp'].describe().T['50%']].count() \n",
    "\n",
    "Q2_count - Q1_count"
   ]
  },
  {
   "cell_type": "code",
   "execution_count": 69,
   "id": "eee46586",
   "metadata": {},
   "outputs": [
    {
     "data": {
      "text/plain": [
       "59"
      ]
     },
     "execution_count": 69,
     "metadata": {},
     "output_type": "execute_result"
    }
   ],
   "source": [
    "# Quantidade de valores terceiro quartil\n",
    "\n",
    "Q3_count = df['hp'][df['hp'] <= df['hp'].describe().T['75%']].count() \n",
    "\n",
    "Q3_count - Q2_count"
   ]
  },
  {
   "cell_type": "code",
   "execution_count": 70,
   "id": "6fa701ca",
   "metadata": {},
   "outputs": [
    {
     "data": {
      "text/plain": [
       "65.0"
      ]
     },
     "execution_count": 70,
     "metadata": {},
     "output_type": "execute_result"
    }
   ],
   "source": [
    "# Quantidade de valores quarto quartil\n",
    "\n",
    "df['hp'].describe().T['count'] - Q3_count"
   ]
  },
  {
   "cell_type": "markdown",
   "id": "2996b1c0",
   "metadata": {},
   "source": [
    "** Resposta: **\n",
    "\n",
    "(Correto) Não foi identificada a presença de possíveis outliers nos dados.\n",
    "\n",
    "(Incorreto) Existe uma maior dispersão no segundo quartil quando comparamos com o terceiro.\n",
    "\n",
    "(correto) Cada um dos quartis possui a mesma quantidade de valores para a variável “hp”.\n",
    "\n",
    "(Correto) Através do boxplot, é possível perceber que a mediana encontra-se entre os valores de 80 e 100."
   ]
  },
  {
   "cell_type": "markdown",
   "id": "f61bb24f",
   "metadata": {},
   "source": [
    "### Pergunta 10\n",
    "\n",
    "Após normalizado, utilizando a função StandardScaler(), qual é o maior valor para a variável “hp”? "
   ]
  },
  {
   "cell_type": "code",
   "execution_count": 76,
   "id": "4c14403b",
   "metadata": {},
   "outputs": [
    {
     "name": "stderr",
     "output_type": "stream",
     "text": [
      "/tmp/ipykernel_48158/1233999935.py:8: SettingWithCopyWarning: \n",
      "A value is trying to be set on a copy of a slice from a DataFrame.\n",
      "Try using .loc[row_indexer,col_indexer] = value instead\n",
      "\n",
      "See the caveats in the documentation: https://pandas.pydata.org/pandas-docs/stable/user_guide/indexing.html#returning-a-view-versus-a-copy\n",
      "  df_scaler[num_cols] = normaliza.fit_transform(df_scaler[num_cols])\n"
     ]
    },
    {
     "data": {
      "text/html": [
       "<div>\n",
       "<style scoped>\n",
       "    .dataframe tbody tr th:only-of-type {\n",
       "        vertical-align: middle;\n",
       "    }\n",
       "\n",
       "    .dataframe tbody tr th {\n",
       "        vertical-align: top;\n",
       "    }\n",
       "\n",
       "    .dataframe thead th {\n",
       "        text-align: right;\n",
       "    }\n",
       "</style>\n",
       "<table border=\"1\" class=\"dataframe\">\n",
       "  <thead>\n",
       "    <tr style=\"text-align: right;\">\n",
       "      <th></th>\n",
       "      <th>mpg</th>\n",
       "      <th>cylinders</th>\n",
       "      <th>cubicinches</th>\n",
       "      <th>hp</th>\n",
       "      <th>weightlbs</th>\n",
       "      <th>time-to-60</th>\n",
       "      <th>year</th>\n",
       "    </tr>\n",
       "  </thead>\n",
       "  <tbody>\n",
       "    <tr>\n",
       "      <th>0</th>\n",
       "      <td>-1.171127</td>\n",
       "      <td>1.393053</td>\n",
       "      <td>1.372393</td>\n",
       "      <td>1.450681</td>\n",
       "      <td>1.414997</td>\n",
       "      <td>-1.221287</td>\n",
       "      <td>-1.327539</td>\n",
       "    </tr>\n",
       "    <tr>\n",
       "      <th>1</th>\n",
       "      <td>1.121226</td>\n",
       "      <td>-0.919105</td>\n",
       "      <td>-1.030290</td>\n",
       "      <td>-0.874768</td>\n",
       "      <td>-1.280086</td>\n",
       "      <td>-0.532829</td>\n",
       "      <td>0.875880</td>\n",
       "    </tr>\n",
       "    <tr>\n",
       "      <th>2</th>\n",
       "      <td>-0.786934</td>\n",
       "      <td>1.393053</td>\n",
       "      <td>0.930520</td>\n",
       "      <td>0.832210</td>\n",
       "      <td>0.518209</td>\n",
       "      <td>-1.565516</td>\n",
       "      <td>-1.602966</td>\n",
       "    </tr>\n",
       "    <tr>\n",
       "      <th>3</th>\n",
       "      <td>-1.043063</td>\n",
       "      <td>1.393053</td>\n",
       "      <td>1.832677</td>\n",
       "      <td>1.079598</td>\n",
       "      <td>0.886364</td>\n",
       "      <td>-1.909745</td>\n",
       "      <td>-1.602966</td>\n",
       "    </tr>\n",
       "    <tr>\n",
       "      <th>4</th>\n",
       "      <td>0.941936</td>\n",
       "      <td>-0.919105</td>\n",
       "      <td>-0.947439</td>\n",
       "      <td>-1.072679</td>\n",
       "      <td>-1.131408</td>\n",
       "      <td>0.499857</td>\n",
       "      <td>0.325025</td>\n",
       "    </tr>\n",
       "  </tbody>\n",
       "</table>\n",
       "</div>"
      ],
      "text/plain": [
       "        mpg  cylinders  cubicinches        hp  weightlbs  time-to-60      year\n",
       "0 -1.171127   1.393053     1.372393  1.450681   1.414997   -1.221287 -1.327539\n",
       "1  1.121226  -0.919105    -1.030290 -0.874768  -1.280086   -0.532829  0.875880\n",
       "2 -0.786934   1.393053     0.930520  0.832210   0.518209   -1.565516 -1.602966\n",
       "3 -1.043063   1.393053     1.832677  1.079598   0.886364   -1.909745 -1.602966\n",
       "4  0.941936  -0.919105    -0.947439 -1.072679  -1.131408    0.499857  0.325025"
      ]
     },
     "execution_count": 76,
     "metadata": {},
     "output_type": "execute_result"
    }
   ],
   "source": [
    "from sklearn.preprocessing import StandardScaler\n",
    "\n",
    "normaliza = StandardScaler()\n",
    "\n",
    "num_cols = df.columns[df.dtypes.apply(lambda c: np.issubdtype(c, np.number))]\n",
    "\n",
    "df_scaler = df[num_cols]\n",
    "df_scaler[num_cols] = normaliza.fit_transform(df_scaler[num_cols])\n",
    "df_scaler.head()"
   ]
  },
  {
   "cell_type": "code",
   "execution_count": 77,
   "id": "7f5d95ab",
   "metadata": {},
   "outputs": [
    {
     "data": {
      "text/plain": [
       "3.05870398977614"
      ]
     },
     "execution_count": 77,
     "metadata": {},
     "output_type": "execute_result"
    }
   ],
   "source": [
    "df_scaler['hp'].max()"
   ]
  },
  {
   "cell_type": "markdown",
   "id": "fb992b8c",
   "metadata": {},
   "source": [
    "### Pergunta 11\n",
    "\n",
    "Aplicando o PCA, conforme a definição acima, qual é o valor da variância explicada pela primeira componente principal?"
   ]
  },
  {
   "cell_type": "code",
   "execution_count": 172,
   "id": "6701fd66",
   "metadata": {},
   "outputs": [],
   "source": [
    "from sklearn.decomposition import PCA\n",
    "from pandas import DataFrame\n",
    "\n",
    "pca = PCA(n_components = 7)\n",
    "principalComponents = pca.fit_transform(df_scaler)"
   ]
  },
  {
   "cell_type": "code",
   "execution_count": 173,
   "id": "ee582401",
   "metadata": {},
   "outputs": [
    {
     "data": {
      "text/html": [
       "<div>\n",
       "<style scoped>\n",
       "    .dataframe tbody tr th:only-of-type {\n",
       "        vertical-align: middle;\n",
       "    }\n",
       "\n",
       "    .dataframe tbody tr th {\n",
       "        vertical-align: top;\n",
       "    }\n",
       "\n",
       "    .dataframe thead th {\n",
       "        text-align: right;\n",
       "    }\n",
       "</style>\n",
       "<table border=\"1\" class=\"dataframe\">\n",
       "  <thead>\n",
       "    <tr style=\"text-align: right;\">\n",
       "      <th></th>\n",
       "      <th>TS 1</th>\n",
       "      <th>TS 2</th>\n",
       "      <th>TS 3</th>\n",
       "      <th>TS 4</th>\n",
       "      <th>TS 5</th>\n",
       "      <th>TS 6</th>\n",
       "      <th>TS 7</th>\n",
       "    </tr>\n",
       "  </thead>\n",
       "  <tbody>\n",
       "    <tr>\n",
       "      <th>PC 1</th>\n",
       "      <td>-0.395062</td>\n",
       "      <td>-0.192358</td>\n",
       "      <td>-0.268055</td>\n",
       "      <td>0.784925</td>\n",
       "      <td>0.253753</td>\n",
       "      <td>-0.230364</td>\n",
       "      <td>0.038804</td>\n",
       "    </tr>\n",
       "    <tr>\n",
       "      <th>PC 2</th>\n",
       "      <td>0.414625</td>\n",
       "      <td>-0.190708</td>\n",
       "      <td>0.139150</td>\n",
       "      <td>0.418972</td>\n",
       "      <td>-0.572847</td>\n",
       "      <td>0.165571</td>\n",
       "      <td>0.491171</td>\n",
       "    </tr>\n",
       "    <tr>\n",
       "      <th>PC 3</th>\n",
       "      <td>0.427513</td>\n",
       "      <td>-0.168498</td>\n",
       "      <td>0.103408</td>\n",
       "      <td>0.304884</td>\n",
       "      <td>-0.044436</td>\n",
       "      <td>0.139875</td>\n",
       "      <td>-0.814650</td>\n",
       "    </tr>\n",
       "    <tr>\n",
       "      <th>PC 4</th>\n",
       "      <td>0.420834</td>\n",
       "      <td>-0.086140</td>\n",
       "      <td>-0.185907</td>\n",
       "      <td>0.033599</td>\n",
       "      <td>0.686644</td>\n",
       "      <td>0.483403</td>\n",
       "      <td>0.273185</td>\n",
       "    </tr>\n",
       "    <tr>\n",
       "      <th>PC 5</th>\n",
       "      <td>0.408872</td>\n",
       "      <td>-0.229261</td>\n",
       "      <td>0.312250</td>\n",
       "      <td>-0.067171</td>\n",
       "      <td>0.291195</td>\n",
       "      <td>-0.759273</td>\n",
       "      <td>0.130234</td>\n",
       "    </tr>\n",
       "    <tr>\n",
       "      <th>PC 6</th>\n",
       "      <td>-0.314229</td>\n",
       "      <td>-0.026522</td>\n",
       "      <td>0.871777</td>\n",
       "      <td>0.142901</td>\n",
       "      <td>0.210669</td>\n",
       "      <td>0.272324</td>\n",
       "      <td>0.039991</td>\n",
       "    </tr>\n",
       "    <tr>\n",
       "      <th>PC 7</th>\n",
       "      <td>-0.215006</td>\n",
       "      <td>-0.915179</td>\n",
       "      <td>-0.077681</td>\n",
       "      <td>-0.298897</td>\n",
       "      <td>-0.069464</td>\n",
       "      <td>0.124978</td>\n",
       "      <td>-0.020016</td>\n",
       "    </tr>\n",
       "  </tbody>\n",
       "</table>\n",
       "</div>"
      ],
      "text/plain": [
       "          TS 1      TS 2      TS 3      TS 4      TS 5      TS 6      TS 7\n",
       "PC 1 -0.395062 -0.192358 -0.268055  0.784925  0.253753 -0.230364  0.038804\n",
       "PC 2  0.414625 -0.190708  0.139150  0.418972 -0.572847  0.165571  0.491171\n",
       "PC 3  0.427513 -0.168498  0.103408  0.304884 -0.044436  0.139875 -0.814650\n",
       "PC 4  0.420834 -0.086140 -0.185907  0.033599  0.686644  0.483403  0.273185\n",
       "PC 5  0.408872 -0.229261  0.312250 -0.067171  0.291195 -0.759273  0.130234\n",
       "PC 6 -0.314229 -0.026522  0.871777  0.142901  0.210669  0.272324  0.039991\n",
       "PC 7 -0.215006 -0.915179 -0.077681 -0.298897 -0.069464  0.124978 -0.020016"
      ]
     },
     "execution_count": 173,
     "metadata": {},
     "output_type": "execute_result"
    }
   ],
   "source": [
    "loadings = DataFrame(pca.components_.T)\n",
    "loadings.index = ['PC %s' % pc for pc in loadings.index + 1]\n",
    "loadings.columns = ['TS %s' % pc for pc in loadings.columns + 1]\n",
    "loadings"
   ]
  },
  {
   "cell_type": "code",
   "execution_count": 174,
   "id": "2307c266",
   "metadata": {},
   "outputs": [
    {
     "data": {
      "image/png": "[encoded data removed]",
      "text/plain": [
       "<Figure size 432x288 with 1 Axes>"
      ]
     },
     "metadata": {
      "needs_background": "light"
     },
     "output_type": "display_data"
    }
   ],
   "source": [
    "perc = pca.explained_variance_ratio_ * 100\n",
    "\n",
    "perc = DataFrame(perc, columns=['Percentage explained ratio'], index=['PC %s' % pc for pc in np.arange(len(perc)) + 1])\n",
    "ax = perc.plot(kind='bar')"
   ]
  },
  {
   "cell_type": "code",
   "execution_count": 104,
   "id": "44dea802",
   "metadata": {},
   "outputs": [
    {
     "data": {
      "text/html": [
       "<div>\n",
       "<style scoped>\n",
       "    .dataframe tbody tr th:only-of-type {\n",
       "        vertical-align: middle;\n",
       "    }\n",
       "\n",
       "    .dataframe tbody tr th {\n",
       "        vertical-align: top;\n",
       "    }\n",
       "\n",
       "    .dataframe thead th {\n",
       "        text-align: right;\n",
       "    }\n",
       "</style>\n",
       "<table border=\"1\" class=\"dataframe\">\n",
       "  <thead>\n",
       "    <tr style=\"text-align: right;\">\n",
       "      <th></th>\n",
       "      <th>Percentage explained ratio</th>\n",
       "    </tr>\n",
       "  </thead>\n",
       "  <tbody>\n",
       "    <tr>\n",
       "      <th>PC 1</th>\n",
       "      <td>72.371349</td>\n",
       "    </tr>\n",
       "    <tr>\n",
       "      <th>PC 2</th>\n",
       "      <td>12.675138</td>\n",
       "    </tr>\n",
       "    <tr>\n",
       "      <th>PC 3</th>\n",
       "      <td>9.126131</td>\n",
       "    </tr>\n",
       "    <tr>\n",
       "      <th>PC 4</th>\n",
       "      <td>2.773591</td>\n",
       "    </tr>\n",
       "    <tr>\n",
       "      <th>PC 5</th>\n",
       "      <td>1.766794</td>\n",
       "    </tr>\n",
       "    <tr>\n",
       "      <th>PC 6</th>\n",
       "      <td>0.798425</td>\n",
       "    </tr>\n",
       "    <tr>\n",
       "      <th>PC 7</th>\n",
       "      <td>0.488572</td>\n",
       "    </tr>\n",
       "  </tbody>\n",
       "</table>\n",
       "</div>"
      ],
      "text/plain": [
       "      Percentage explained ratio\n",
       "PC 1                   72.371349\n",
       "PC 2                   12.675138\n",
       "PC 3                    9.126131\n",
       "PC 4                    2.773591\n",
       "PC 5                    1.766794\n",
       "PC 6                    0.798425\n",
       "PC 7                    0.488572"
      ]
     },
     "execution_count": 104,
     "metadata": {},
     "output_type": "execute_result"
    }
   ],
   "source": [
    "perc"
   ]
  },
  {
   "cell_type": "markdown",
   "id": "721f9af0",
   "metadata": {},
   "source": [
    "### Pergunta 12\n",
    "\n",
    "Utilize os três primeiros componentes principais para construir o K-means com um número de três clusters. Sobre os clusters, é INCORRETO afirmar que: \n",
    "\n",
    "(   ) Os centroides, utilizando apenas as três componentes principais, possuem três dimensões.\n",
    "\n",
    "(   ) Existem três centroides após a aplicação da clusterização.\n",
    "\n",
    "( X ) Todos os clusters possuem a mesma quantidade de elementos.\n",
    "\n",
    "(   ) Cada um dos clusters possui características próprias."
   ]
  },
  {
   "cell_type": "code",
   "execution_count": 175,
   "id": "556aead2",
   "metadata": {},
   "outputs": [],
   "source": [
    "# Save components to a DataFrame\n",
    "\n",
    "PCA_components = pd.DataFrame(principalComponents)"
   ]
  },
  {
   "cell_type": "code",
   "execution_count": 176,
   "id": "ffcbdafe",
   "metadata": {},
   "outputs": [
    {
     "data": {
      "image/png": "[encoded data removed]",
      "text/plain": [
       "<Figure size 432x288 with 1 Axes>"
      ]
     },
     "metadata": {
      "needs_background": "light"
     },
     "output_type": "display_data"
    }
   ],
   "source": [
    "from sklearn.cluster import KMeans\n",
    "\n",
    "ks = range(1, 10)\n",
    "inertias = []\n",
    "for k in ks:\n",
    "    # Create a KMeans instance with k clusters: model\n",
    "    model = KMeans(n_clusters=k)\n",
    "    \n",
    "    # Fit model to samples\n",
    "    model.fit(PCA_components.iloc[:,:3])\n",
    "    \n",
    "    # Append the inertia to the list of inertias\n",
    "    inertias.append(model.inertia_)\n",
    "    \n",
    "plt.plot(ks, inertias, '-o', color='black')\n",
    "plt.xlabel('number of clusters, k')\n",
    "plt.ylabel('inertia')\n",
    "plt.xticks(ks)\n",
    "plt.show()"
   ]
  },
  {
   "cell_type": "code",
   "execution_count": 177,
   "id": "7cbcc516",
   "metadata": {},
   "outputs": [
    {
     "data": {
      "text/plain": [
       "KMeans(n_clusters=3, random_state=42)"
      ]
     },
     "execution_count": 177,
     "metadata": {},
     "output_type": "execute_result"
    }
   ],
   "source": [
    "kmeans = KMeans(n_clusters=3, random_state=42)\n",
    "\n",
    "kmeans.fit(PCA_components.iloc[:,:3])"
   ]
  },
  {
   "cell_type": "code",
   "execution_count": 180,
   "id": "9b9a3061",
   "metadata": {},
   "outputs": [
    {
     "data": {
      "text/plain": [
       "(3, 3)"
      ]
     },
     "execution_count": 180,
     "metadata": {},
     "output_type": "execute_result"
    }
   ],
   "source": [
    "kmeans.cluster_centers_.shape"
   ]
  },
  {
   "cell_type": "code",
   "execution_count": 185,
   "id": "36701061",
   "metadata": {},
   "outputs": [],
   "source": [
    "# Determine which clusters each data point belongs to:\n",
    "clusters =  kmeans.predict(PCA_components.iloc[:,:3])"
   ]
  },
  {
   "cell_type": "code",
   "execution_count": 189,
   "id": "8b9bd79e",
   "metadata": {},
   "outputs": [
    {
     "data": {
      "text/html": [
       "<div>\n",
       "<style scoped>\n",
       "    .dataframe tbody tr th:only-of-type {\n",
       "        vertical-align: middle;\n",
       "    }\n",
       "\n",
       "    .dataframe tbody tr th {\n",
       "        vertical-align: top;\n",
       "    }\n",
       "\n",
       "    .dataframe thead th {\n",
       "        text-align: right;\n",
       "    }\n",
       "</style>\n",
       "<table border=\"1\" class=\"dataframe\">\n",
       "  <thead>\n",
       "    <tr style=\"text-align: right;\">\n",
       "      <th></th>\n",
       "      <th>0</th>\n",
       "      <th>1</th>\n",
       "      <th>cluster</th>\n",
       "    </tr>\n",
       "  </thead>\n",
       "  <tbody>\n",
       "    <tr>\n",
       "      <th>0</th>\n",
       "      <td>3.485219</td>\n",
       "      <td>0.526326</td>\n",
       "      <td>1</td>\n",
       "    </tr>\n",
       "    <tr>\n",
       "      <th>1</th>\n",
       "      <td>-2.176912</td>\n",
       "      <td>-0.285424</td>\n",
       "      <td>0</td>\n",
       "    </tr>\n",
       "    <tr>\n",
       "      <th>2</th>\n",
       "      <td>2.684973</td>\n",
       "      <td>1.046946</td>\n",
       "      <td>1</td>\n",
       "    </tr>\n",
       "    <tr>\n",
       "      <th>3</th>\n",
       "      <td>3.534648</td>\n",
       "      <td>0.847619</td>\n",
       "      <td>1</td>\n",
       "    </tr>\n",
       "    <tr>\n",
       "      <th>4</th>\n",
       "      <td>-2.299222</td>\n",
       "      <td>0.194808</td>\n",
       "      <td>0</td>\n",
       "    </tr>\n",
       "  </tbody>\n",
       "</table>\n",
       "</div>"
      ],
      "text/plain": [
       "          0         1  cluster\n",
       "0  3.485219  0.526326        1\n",
       "1 -2.176912 -0.285424        0\n",
       "2  2.684973  1.046946        1\n",
       "3  3.534648  0.847619        1\n",
       "4 -2.299222  0.194808        0"
      ]
     },
     "execution_count": 189,
     "metadata": {},
     "output_type": "execute_result"
    }
   ],
   "source": [
    "# Convert to a data frame\n",
    "X_reduceddf = pd.DataFrame(PCA_components, index=df.index, columns=[0,1])\n",
    "X_reduceddf['cluster'] = clusters\n",
    "X_reduceddf.head()"
   ]
  },
  {
   "cell_type": "code",
   "execution_count": 197,
   "id": "b5dd79e9",
   "metadata": {},
   "outputs": [
    {
     "data": {
      "text/plain": [
       "0          77\n",
       "1          77\n",
       "cluster    77\n",
       "dtype: int64"
      ]
     },
     "execution_count": 197,
     "metadata": {},
     "output_type": "execute_result"
    }
   ],
   "source": [
    "X_reduceddf[X_reduceddf['cluster'] == 0].count()"
   ]
  },
  {
   "cell_type": "code",
   "execution_count": 195,
   "id": "252f9fa0",
   "metadata": {},
   "outputs": [
    {
     "data": {
      "text/plain": [
       "0          75\n",
       "1          75\n",
       "cluster    75\n",
       "dtype: int64"
      ]
     },
     "execution_count": 195,
     "metadata": {},
     "output_type": "execute_result"
    }
   ],
   "source": [
    "X_reduceddf[X_reduceddf['cluster'] == 1].count()"
   ]
  },
  {
   "cell_type": "code",
   "execution_count": 196,
   "id": "f1d450ba",
   "metadata": {},
   "outputs": [
    {
     "data": {
      "text/plain": [
       "0          109\n",
       "1          109\n",
       "cluster    109\n",
       "dtype: int64"
      ]
     },
     "execution_count": 196,
     "metadata": {},
     "output_type": "execute_result"
    }
   ],
   "source": [
    "X_reduceddf[X_reduceddf['cluster'] == 2].count()"
   ]
  },
  {
   "cell_type": "code",
   "execution_count": 198,
   "id": "ebb09fef",
   "metadata": {},
   "outputs": [
    {
     "data": {
      "text/plain": [
       "2    109\n",
       "0     77\n",
       "1     75\n",
       "Name: cluster, dtype: int64"
      ]
     },
     "execution_count": 198,
     "metadata": {},
     "output_type": "execute_result"
    }
   ],
   "source": [
    "X_reduceddf['cluster'].value_counts()"
   ]
  },
  {
   "cell_type": "markdown",
   "id": "1570c846",
   "metadata": {},
   "source": [
    "### Pergunta 13\n",
    "\n",
    "Após todo o processamento realizado nos itens anteriores, crie uma coluna que contenha a variável de eficiência do veículo. Veículos que percorrem mais de 25 milhas com um galão (“mpg”>25) devem ser considerados eficientes. Utilize as colunas ['cylinders' ,'cubicinches'            ,'hp' ,'weightlbs','time-to-60'] como entradas e como saída a coluna de eficiência criada.\n",
    "\n",
    " \n",
    "\n",
    "Utilizando a árvore de decisão como mostrado, qual é a acurácia do modelo?"
   ]
  },
  {
   "cell_type": "code",
   "execution_count": 120,
   "id": "c23c123e",
   "metadata": {},
   "outputs": [
    {
     "data": {
      "text/html": [
       "<div>\n",
       "<style scoped>\n",
       "    .dataframe tbody tr th:only-of-type {\n",
       "        vertical-align: middle;\n",
       "    }\n",
       "\n",
       "    .dataframe tbody tr th {\n",
       "        vertical-align: top;\n",
       "    }\n",
       "\n",
       "    .dataframe thead th {\n",
       "        text-align: right;\n",
       "    }\n",
       "</style>\n",
       "<table border=\"1\" class=\"dataframe\">\n",
       "  <thead>\n",
       "    <tr style=\"text-align: right;\">\n",
       "      <th></th>\n",
       "      <th>mpg</th>\n",
       "      <th>cylinders</th>\n",
       "      <th>cubicinches</th>\n",
       "      <th>hp</th>\n",
       "      <th>weightlbs</th>\n",
       "      <th>time-to-60</th>\n",
       "      <th>year</th>\n",
       "      <th>brand</th>\n",
       "      <th>efficiency</th>\n",
       "    </tr>\n",
       "  </thead>\n",
       "  <tbody>\n",
       "    <tr>\n",
       "      <th>0</th>\n",
       "      <td>14.0</td>\n",
       "      <td>8</td>\n",
       "      <td>350.0</td>\n",
       "      <td>165</td>\n",
       "      <td>4209.0</td>\n",
       "      <td>12</td>\n",
       "      <td>1972</td>\n",
       "      <td>US.</td>\n",
       "      <td>0</td>\n",
       "    </tr>\n",
       "    <tr>\n",
       "      <th>1</th>\n",
       "      <td>31.9</td>\n",
       "      <td>4</td>\n",
       "      <td>89.0</td>\n",
       "      <td>71</td>\n",
       "      <td>1925.0</td>\n",
       "      <td>14</td>\n",
       "      <td>1980</td>\n",
       "      <td>Europe.</td>\n",
       "      <td>1</td>\n",
       "    </tr>\n",
       "    <tr>\n",
       "      <th>2</th>\n",
       "      <td>17.0</td>\n",
       "      <td>8</td>\n",
       "      <td>302.0</td>\n",
       "      <td>140</td>\n",
       "      <td>3449.0</td>\n",
       "      <td>11</td>\n",
       "      <td>1971</td>\n",
       "      <td>US.</td>\n",
       "      <td>0</td>\n",
       "    </tr>\n",
       "    <tr>\n",
       "      <th>3</th>\n",
       "      <td>15.0</td>\n",
       "      <td>8</td>\n",
       "      <td>400.0</td>\n",
       "      <td>150</td>\n",
       "      <td>3761.0</td>\n",
       "      <td>10</td>\n",
       "      <td>1971</td>\n",
       "      <td>US.</td>\n",
       "      <td>0</td>\n",
       "    </tr>\n",
       "    <tr>\n",
       "      <th>4</th>\n",
       "      <td>30.5</td>\n",
       "      <td>4</td>\n",
       "      <td>98.0</td>\n",
       "      <td>63</td>\n",
       "      <td>2051.0</td>\n",
       "      <td>17</td>\n",
       "      <td>1978</td>\n",
       "      <td>US.</td>\n",
       "      <td>1</td>\n",
       "    </tr>\n",
       "  </tbody>\n",
       "</table>\n",
       "</div>"
      ],
      "text/plain": [
       "    mpg  cylinders  cubicinches   hp  weightlbs  time-to-60  year     brand  \\\n",
       "0  14.0          8        350.0  165     4209.0          12  1972       US.   \n",
       "1  31.9          4         89.0   71     1925.0          14  1980   Europe.   \n",
       "2  17.0          8        302.0  140     3449.0          11  1971       US.   \n",
       "3  15.0          8        400.0  150     3761.0          10  1971       US.   \n",
       "4  30.5          4         98.0   63     2051.0          17  1978       US.   \n",
       "\n",
       "   efficiency  \n",
       "0           0  \n",
       "1           1  \n",
       "2           0  \n",
       "3           0  \n",
       "4           1  "
      ]
     },
     "execution_count": 120,
     "metadata": {},
     "output_type": "execute_result"
    }
   ],
   "source": [
    "cars = df\n",
    "cars['efficiency'] = np.where(cars['mpg'] > 25, 1, 0)\n",
    "cars.head()"
   ]
  },
  {
   "cell_type": "code",
   "execution_count": 138,
   "id": "4da7ce8b",
   "metadata": {},
   "outputs": [
    {
     "data": {
      "text/plain": [
       "Index(['mpg', 'cylinders', 'cubicinches', 'hp', 'weightlbs', 'time-to-60',\n",
       "       'year', 'brand'],\n",
       "      dtype='object')"
      ]
     },
     "execution_count": 138,
     "metadata": {},
     "output_type": "execute_result"
    }
   ],
   "source": [
    "#repetindo o processo para o df1\n",
    "y = np.array(cars['efficiency'])\n",
    "\n",
    "features = list(cars.columns)\n",
    "\n",
    "X = cars.drop('efficiency', axis = 1)\n",
    "X.columns"
   ]
  },
  {
   "cell_type": "code",
   "execution_count": 139,
   "id": "5e36caef",
   "metadata": {},
   "outputs": [],
   "source": [
    "X = X[['cylinders', 'cubicinches', 'hp', 'weightlbs', 'time-to-60']]\n",
    "\n",
    "scaler = StandardScaler()\n",
    "X = scaler.fit_transform(X)"
   ]
  },
  {
   "cell_type": "code",
   "execution_count": 140,
   "id": "be623131",
   "metadata": {},
   "outputs": [],
   "source": [
    "# importar train_test_split do scikitlearn \n",
    "from sklearn.model_selection import train_test_split\n",
    "\n",
    "X_train, X_test, y_train, y_test = train_test_split(X, y, test_size = 0.30, random_state = 42)"
   ]
  },
  {
   "cell_type": "code",
   "execution_count": 141,
   "id": "8606af45",
   "metadata": {},
   "outputs": [
    {
     "name": "stdout",
     "output_type": "stream",
     "text": [
      "(182, 5) (182,) (79, 5) (79,)\n"
     ]
    }
   ],
   "source": [
    "print(X_train.shape, y_train.shape, X_test.shape, y_test.shape)"
   ]
  },
  {
   "cell_type": "code",
   "execution_count": 149,
   "id": "2825e7a2",
   "metadata": {},
   "outputs": [
    {
     "data": {
      "text/plain": [
       "DecisionTreeClassifier(random_state=42)"
      ]
     },
     "execution_count": 149,
     "metadata": {},
     "output_type": "execute_result"
    }
   ],
   "source": [
    "from sklearn.tree import DecisionTreeClassifier\n",
    "\n",
    "model = DecisionTreeClassifier(random_state = 42)\n",
    "model.fit(X_train, y_train)"
   ]
  },
  {
   "cell_type": "code",
   "execution_count": 150,
   "id": "01c6edef",
   "metadata": {},
   "outputs": [],
   "source": [
    "y_pred = model.predict(X_test)"
   ]
  },
  {
   "cell_type": "code",
   "execution_count": 162,
   "id": "2456f16c",
   "metadata": {},
   "outputs": [
    {
     "name": "stdout",
     "output_type": "stream",
     "text": [
      "              precision    recall  f1-score   support\n",
      "\n",
      "           0       0.94      0.80      0.87        41\n",
      "           1       0.82      0.95      0.88        38\n",
      "\n",
      "    accuracy                           0.87        79\n",
      "   macro avg       0.88      0.88      0.87        79\n",
      "weighted avg       0.88      0.87      0.87        79\n",
      "\n"
     ]
    }
   ],
   "source": [
    "from sklearn.metrics import classification_report, plot_confusion_matrix, plot_roc_curve, confusion_matrix\n",
    "\n",
    "print(classification_report(y_test, y_pred))"
   ]
  },
  {
   "cell_type": "markdown",
   "id": "47280831",
   "metadata": {},
   "source": [
    "### Pergunta 14\n",
    "\n",
    "Sobre a matriz de confusão obtida após a aplicação da árvore de decisão, como mostrado anteriormente, é INCORRETO afirmar:\n",
    "\n",
    "(   ) Os falsos positivos correspondem a instâncias em que o algoritmo considerou a previsão como verdadeira e, na realidade, ela era falsa.\n",
    "\n",
    "( X ) Existem duas vezes mais veículos considerados não eficientes que instâncias de veículos eficientes.\n",
    "\n",
    "(   ) A matriz de confusão se constitui em uma estratégia ainda mais importante quando um dataset não está balanceado.\n",
    "\n",
    "(   ) A diagonal principal da matriz mostra as instâncias em que as previsões foram corretas."
   ]
  },
  {
   "cell_type": "code",
   "execution_count": 163,
   "id": "fd6a26ff",
   "metadata": {},
   "outputs": [
    {
     "data": {
      "image/png": "[encoded data removed]",
      "text/plain": [
       "<Figure size 720x360 with 2 Axes>"
      ]
     },
     "metadata": {
      "needs_background": "light"
     },
     "output_type": "display_data"
    }
   ],
   "source": [
    "plt.figure(figsize=(10, 5))\n",
    "matriz_confusao = confusion_matrix(y_test, y_pred)\n",
    "sns.heatmap(matriz_confusao, annot = True, vmin = 0, vmax = 40, center = 20)\n",
    "plt.show()"
   ]
  },
  {
   "cell_type": "markdown",
   "id": "e940a203",
   "metadata": {},
   "source": [
    "### Pergunta 15\n",
    "\n",
    "Utilizando a mesma divisão de dados entre treinamento e teste empregados para a análise anterior, aplique o modelo de regressão logística como mostrado na descrição do trabalho.\n",
    "\n",
    "Comparando os resultados obtidos com o modelo de árvore de decisão, é INCORRETO afirmar que:\n",
    "\n",
    "(   ) A árvore de decisão e a regressão logística podem ser utilizadas para previsão em regressões.\n",
    "\n",
    "( X ) A regressão logística não deveria ser aplicada ao problema, pois ela trabalha apenas com dados categóricos.\n",
    "\n",
    "(   ) Como os dois modelos obtiveram um resultado superior a 80% de acurácia, a escolha sobre qual utilizar deve e pode ser feita a partir de outros critérios, como a complexidade do modelo.\n",
    "\n",
    "(   ) A acurácia de ambos os modelos foi superior a 80%."
   ]
  },
  {
   "cell_type": "code",
   "execution_count": 153,
   "id": "e57e56e5",
   "metadata": {},
   "outputs": [
    {
     "data": {
      "text/plain": [
       "LogisticRegression(random_state=42)"
      ]
     },
     "execution_count": 153,
     "metadata": {},
     "output_type": "execute_result"
    }
   ],
   "source": [
    "from sklearn.linear_model import LogisticRegression\n",
    "\n",
    "log_reg = LogisticRegression(random_state = 42)\n",
    "log_reg.fit(X_train, y_train)"
   ]
  },
  {
   "cell_type": "code",
   "execution_count": 155,
   "id": "d7bd0ff5",
   "metadata": {},
   "outputs": [],
   "source": [
    "y_pred_lr = log_reg.predict(X_test)"
   ]
  },
  {
   "cell_type": "code",
   "execution_count": 156,
   "id": "b5fd22ce",
   "metadata": {},
   "outputs": [
    {
     "name": "stdout",
     "output_type": "stream",
     "text": [
      "              precision    recall  f1-score   support\n",
      "\n",
      "           0       0.86      0.88      0.87        41\n",
      "           1       0.86      0.84      0.85        38\n",
      "\n",
      "    accuracy                           0.86        79\n",
      "   macro avg       0.86      0.86      0.86        79\n",
      "weighted avg       0.86      0.86      0.86        79\n",
      "\n"
     ]
    }
   ],
   "source": [
    "print(classification_report(y_test, y_pred_lr))"
   ]
  },
  {
   "cell_type": "code",
   "execution_count": 164,
   "id": "94f2b473",
   "metadata": {},
   "outputs": [
    {
     "data": {
      "image/png": "[encoded data removed]",
      "text/plain": [
       "<Figure size 720x360 with 2 Axes>"
      ]
     },
     "metadata": {
      "needs_background": "light"
     },
     "output_type": "display_data"
    }
   ],
   "source": [
    "# matriz de confusão Regressão Logística\n",
    "plt.figure(figsize=(10, 5))\n",
    "matriz_confusao_lr = confusion_matrix(y_test, y_pred_lr)\n",
    "sns.heatmap(matriz_confusao_lr, annot = True, vmin = 0, vmax = 40, center = 20)\n",
    "plt.show()"
   ]
  }
 ],
 "metadata": {
  "kernelspec": {
   "display_name": "Python 3 (ipykernel)",
   "language": "python",
   "name": "python3"
  },
  "language_info": {
   "codemirror_mode": {
    "name": "ipython",
    "version": 3
   },
   "file_extension": ".py",
   "mimetype": "text/x-python",
   "name": "python",
   "nbconvert_exporter": "python",
   "pygments_lexer": "ipython3",
   "version": "3.10.4"
  }
 },
 "nbformat": 4,
 "nbformat_minor": 5
}
