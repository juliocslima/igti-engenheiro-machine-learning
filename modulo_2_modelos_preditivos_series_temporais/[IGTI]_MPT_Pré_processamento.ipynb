{
 "cells": [
  {
   "cell_type": "markdown",
   "metadata": {
    "id": "LVqUEmhOG9jh"
   },
   "source": [
    "# **IGTI - MPT**\n",
    "\n",
    "- Pré-processamento e visualização de dados\n",
    "- [Prof. Matheus Mendonça](https://www.linkedin.com/in/matheusmendonca/)"
   ]
  },
  {
   "cell_type": "markdown",
   "metadata": {
    "id": "tUN5C6oukXvU"
   },
   "source": [
    "## **Leitura dos dados**"
   ]
  },
  {
   "cell_type": "code",
   "execution_count": null,
   "metadata": {
    "colab": {
     "base_uri": "https://localhost:8080/",
     "height": 71
    },
    "id": "J70vciEbFfiD",
    "outputId": "58b332f9-6415-49e2-e1de-2c196dd0e5d5"
   },
   "outputs": [
    {
     "name": "stderr",
     "output_type": "stream",
     "text": [
      "/usr/local/lib/python3.6/dist-packages/statsmodels/tools/_testing.py:19: FutureWarning: pandas.util.testing is deprecated. Use the functions in the public API at pandas.testing instead.\n",
      "  import pandas.util.testing as tm\n"
     ]
    }
   ],
   "source": [
    "# importando as bibliotecas\n",
    "import pandas as pd\n",
    "import numpy as np\n",
    "import matplotlib.pyplot as plt\n",
    "import seaborn as sns"
   ]
  },
  {
   "cell_type": "markdown",
   "metadata": {
    "id": "41ZagxTRGeoe"
   },
   "source": [
    "A seguir, iremos importar o dataset e visualizá-lo."
   ]
  },
  {
   "cell_type": "code",
   "execution_count": null,
   "metadata": {
    "colab": {
     "base_uri": "https://localhost:8080/",
     "height": 359
    },
    "id": "DY9pocUzF6nl",
    "outputId": "90744448-63be-4954-eb97-d95a71805545"
   },
   "outputs": [
    {
     "data": {
      "text/html": [
       "<div>\n",
       "<style scoped>\n",
       "    .dataframe tbody tr th:only-of-type {\n",
       "        vertical-align: middle;\n",
       "    }\n",
       "\n",
       "    .dataframe tbody tr th {\n",
       "        vertical-align: top;\n",
       "    }\n",
       "\n",
       "    .dataframe thead th {\n",
       "        text-align: right;\n",
       "    }\n",
       "</style>\n",
       "<table border=\"1\" class=\"dataframe\">\n",
       "  <thead>\n",
       "    <tr style=\"text-align: right;\">\n",
       "      <th></th>\n",
       "      <th>Country</th>\n",
       "      <th>Age</th>\n",
       "      <th>Salary</th>\n",
       "      <th>Purchased</th>\n",
       "    </tr>\n",
       "  </thead>\n",
       "  <tbody>\n",
       "    <tr>\n",
       "      <th>0</th>\n",
       "      <td>France</td>\n",
       "      <td>44.0</td>\n",
       "      <td>72000.0</td>\n",
       "      <td>No</td>\n",
       "    </tr>\n",
       "    <tr>\n",
       "      <th>1</th>\n",
       "      <td>Spain</td>\n",
       "      <td>27.0</td>\n",
       "      <td>48000.0</td>\n",
       "      <td>Yes</td>\n",
       "    </tr>\n",
       "    <tr>\n",
       "      <th>2</th>\n",
       "      <td>Germany</td>\n",
       "      <td>30.0</td>\n",
       "      <td>54000.0</td>\n",
       "      <td>No</td>\n",
       "    </tr>\n",
       "    <tr>\n",
       "      <th>3</th>\n",
       "      <td>Spain</td>\n",
       "      <td>38.0</td>\n",
       "      <td>61000.0</td>\n",
       "      <td>No</td>\n",
       "    </tr>\n",
       "    <tr>\n",
       "      <th>4</th>\n",
       "      <td>Germany</td>\n",
       "      <td>40.0</td>\n",
       "      <td>NaN</td>\n",
       "      <td>Yes</td>\n",
       "    </tr>\n",
       "    <tr>\n",
       "      <th>5</th>\n",
       "      <td>France</td>\n",
       "      <td>35.0</td>\n",
       "      <td>58000.0</td>\n",
       "      <td>Yes</td>\n",
       "    </tr>\n",
       "    <tr>\n",
       "      <th>6</th>\n",
       "      <td>Spain</td>\n",
       "      <td>NaN</td>\n",
       "      <td>52000.0</td>\n",
       "      <td>No</td>\n",
       "    </tr>\n",
       "    <tr>\n",
       "      <th>7</th>\n",
       "      <td>France</td>\n",
       "      <td>48.0</td>\n",
       "      <td>79000.0</td>\n",
       "      <td>Yes</td>\n",
       "    </tr>\n",
       "    <tr>\n",
       "      <th>8</th>\n",
       "      <td>Germany</td>\n",
       "      <td>50.0</td>\n",
       "      <td>83000.0</td>\n",
       "      <td>No</td>\n",
       "    </tr>\n",
       "    <tr>\n",
       "      <th>9</th>\n",
       "      <td>France</td>\n",
       "      <td>37.0</td>\n",
       "      <td>67000.0</td>\n",
       "      <td>Yes</td>\n",
       "    </tr>\n",
       "  </tbody>\n",
       "</table>\n",
       "</div>"
      ],
      "text/plain": [
       "   Country   Age   Salary Purchased\n",
       "0   France  44.0  72000.0        No\n",
       "1    Spain  27.0  48000.0       Yes\n",
       "2  Germany  30.0  54000.0        No\n",
       "3    Spain  38.0  61000.0        No\n",
       "4  Germany  40.0      NaN       Yes\n",
       "5   France  35.0  58000.0       Yes\n",
       "6    Spain   NaN  52000.0        No\n",
       "7   France  48.0  79000.0       Yes\n",
       "8  Germany  50.0  83000.0        No\n",
       "9   France  37.0  67000.0       Yes"
      ]
     },
     "execution_count": 2,
     "metadata": {
      "tags": []
     },
     "output_type": "execute_result"
    }
   ],
   "source": [
    "# carregando o dataset\n",
    "df = pd.read_csv(\"https://pycourse.s3.amazonaws.com/Data.csv\")\n",
    "df"
   ]
  },
  {
   "cell_type": "markdown",
   "metadata": {
    "id": "tgGLM26UGi-D"
   },
   "source": [
    "Este dataset contém 4 colunas:\n",
    "\n",
    "* **Country**: variável categórica\n",
    "* **Age**: variável numérica com dados faltantes\n",
    "* **Salary**: variável numérica com dados faltantes\n",
    "* **Purchased**: variável-resposta categórica"
   ]
  },
  {
   "cell_type": "code",
   "execution_count": null,
   "metadata": {
    "colab": {
     "base_uri": "https://localhost:8080/",
     "height": 102
    },
    "id": "HAf0gYCJGk8s",
    "outputId": "558b3bb1-aac6-414d-c076-a6a35842b59f"
   },
   "outputs": [
    {
     "data": {
      "text/plain": [
       "Country       object\n",
       "Age          float64\n",
       "Salary       float64\n",
       "Purchased     object\n",
       "dtype: object"
      ]
     },
     "execution_count": 3,
     "metadata": {
      "tags": []
     },
     "output_type": "execute_result"
    }
   ],
   "source": [
    "# visualizando os dtypes\n",
    "df.dtypes"
   ]
  },
  {
   "cell_type": "markdown",
   "metadata": {
    "id": "Nh0dSJ4OG8gc"
   },
   "source": [
    "## **Visualização de dados numéricos**"
   ]
  },
  {
   "cell_type": "code",
   "execution_count": null,
   "metadata": {
    "colab": {
     "base_uri": "https://localhost:8080/"
    },
    "id": "ibDSP5tAKOtY",
    "outputId": "2696a23a-fd4c-4920-bc94-2934c767cdf9"
   },
   "outputs": [
    {
     "data": {
      "image/png": "[encoded data removed]",
      "text/plain": [
       "<Figure size 864x360 with 2 Axes>"
      ]
     },
     "metadata": {
      "needs_background": "light",
      "tags": []
     },
     "output_type": "display_data"
    }
   ],
   "source": [
    "# histograma\n",
    "fig, ax = plt.subplots(ncols=2, figsize=(12, 5))\n",
    "df.hist(column='Age', ax=ax[0], bins=5)\n",
    "df.hist(column='Salary', ax=ax[1], bins=5)\n",
    "plt.show()"
   ]
  },
  {
   "cell_type": "code",
   "execution_count": null,
   "metadata": {
    "colab": {
     "base_uri": "https://localhost:8080/"
    },
    "id": "-ZaH_kmYGGqW",
    "outputId": "8a3e1142-8fee-471b-ec83-5ed78c88ca63"
   },
   "outputs": [
    {
     "data": {
      "image/png": "[encoded data removed]",
      "text/plain": [
       "<Figure size 864x360 with 2 Axes>"
      ]
     },
     "metadata": {
      "needs_background": "light",
      "tags": []
     },
     "output_type": "display_data"
    }
   ],
   "source": [
    "# boxplot\n",
    "fig, ax = plt.subplots(ncols=2, figsize=(12, 5))\n",
    "df.boxplot(column='Age', ax=ax[0])\n",
    "ax[0].set_ylabel(\"Idade\")\n",
    "df.boxplot(column='Salary', ax=ax[1])\n",
    "ax[1].set_ylabel(\"Salário (US$)\")\n",
    "plt.show()"
   ]
  },
  {
   "cell_type": "code",
   "execution_count": null,
   "metadata": {
    "colab": {
     "base_uri": "https://localhost:8080/"
    },
    "id": "V_phZedsHpd-",
    "outputId": "6ea86c59-84c8-42bb-ff1d-e31601ea711e"
   },
   "outputs": [
    {
     "data": {
      "image/png": "[encoded data removed]",
      "text/plain": [
       "<Figure size 432x288 with 1 Axes>"
      ]
     },
     "metadata": {
      "needs_background": "light",
      "tags": []
     },
     "output_type": "display_data"
    }
   ],
   "source": [
    "# scatter plot\n",
    "df.plot.scatter(x='Age', y='Salary', grid='on');"
   ]
  },
  {
   "cell_type": "code",
   "execution_count": null,
   "metadata": {
    "colab": {
     "base_uri": "https://localhost:8080/"
    },
    "id": "Hqj9fxPnIeET",
    "outputId": "52afe869-ee5c-44ad-9a2e-f2578ed07d9d"
   },
   "outputs": [
    {
     "data": {
      "image/png": "[encoded data removed]",
      "text/plain": [
       "<Figure size 360x360 with 6 Axes>"
      ]
     },
     "metadata": {
      "needs_background": "light",
      "tags": []
     },
     "output_type": "display_data"
    }
   ],
   "source": [
    "# seaborn para visualização automática\n",
    "sns.pairplot(data=df[['Age', 'Salary']], diag_kind='hist');"
   ]
  },
  {
   "cell_type": "code",
   "execution_count": null,
   "metadata": {
    "colab": {
     "base_uri": "https://localhost:8080/"
    },
    "id": "DSy92KMoLm6T",
    "outputId": "c442d2df-be12-468c-8775-b3ed6532fb74"
   },
   "outputs": [
    {
     "data": {
      "image/png": "[encoded data removed]",
      "text/plain": [
       "<Figure size 360x360 with 6 Axes>"
      ]
     },
     "metadata": {
      "needs_background": "light",
      "tags": []
     },
     "output_type": "display_data"
    }
   ],
   "source": [
    "# seaborn para visualização automática\n",
    "sns.pairplot(data=df[['Age', 'Salary']], diag_kind='kde');"
   ]
  },
  {
   "cell_type": "code",
   "execution_count": null,
   "metadata": {
    "colab": {
     "base_uri": "https://localhost:8080/"
    },
    "id": "MOpkFNx6NXmY",
    "outputId": "df57b001-ac92-4b4c-8391-55297f7a3997"
   },
   "outputs": [
    {
     "data": {
      "image/png": "[encoded data removed]",
      "text/plain": [
       "<Figure size 360x360 with 6 Axes>"
      ]
     },
     "metadata": {
      "needs_background": "light",
      "tags": []
     },
     "output_type": "display_data"
    }
   ],
   "source": [
    "# seaborn para visualização automática\n",
    "sns.pairplot(data=df[['Age', 'Salary']], kind='reg');"
   ]
  },
  {
   "cell_type": "code",
   "execution_count": null,
   "metadata": {
    "colab": {
     "base_uri": "https://localhost:8080/"
    },
    "id": "E1n-DJ9CNdiu",
    "outputId": "94cf681b-3d8a-43b6-a06c-a5418f21941b"
   },
   "outputs": [
    {
     "data": {
      "image/png": "[encoded data removed]",
      "text/plain": [
       "<Figure size 360x360 with 6 Axes>"
      ]
     },
     "metadata": {
      "needs_background": "light",
      "tags": []
     },
     "output_type": "display_data"
    }
   ],
   "source": [
    "# seaborn para visualização automática\n",
    "sns.pairplot(data=df[['Age', 'Salary']], kind='reg', diag_kind='kde');"
   ]
  },
  {
   "cell_type": "code",
   "execution_count": null,
   "metadata": {
    "id": "eERphiZoLsA6"
   },
   "outputs": [],
   "source": [
    "sns.pairplot?"
   ]
  },
  {
   "cell_type": "markdown",
   "metadata": {
    "id": "jKPMf2uDOJpP"
   },
   "source": [
    "## **Tratamento de dados numéricos**"
   ]
  },
  {
   "cell_type": "markdown",
   "metadata": {
    "id": "IeY6XhOkOPQB"
   },
   "source": [
    "### Lidando com dados faltantes"
   ]
  },
  {
   "cell_type": "markdown",
   "metadata": {
    "id": "fJpVrvi9PZT3"
   },
   "source": [
    "As colunas **Age** e **Salary** apresentam dados faltantes, representados pelo `NaN`. Quando isso ocorrer, alguma estratégia deve ser usada para que as amostras possam ser usadas pelo modelo."
   ]
  },
  {
   "cell_type": "code",
   "execution_count": null,
   "metadata": {
    "id": "0QwGp2VRNOOf"
   },
   "outputs": [],
   "source": [
    "# importanto a classe de tratamento de dados faltantes\n",
    "from sklearn.impute import SimpleImputer"
   ]
  },
  {
   "cell_type": "code",
   "execution_count": null,
   "metadata": {
    "id": "CArEqahiSR2g"
   },
   "outputs": [],
   "source": [
    "SimpleImputer?"
   ]
  },
  {
   "cell_type": "code",
   "execution_count": null,
   "metadata": {
    "id": "puUpssWLRX8H"
   },
   "outputs": [],
   "source": [
    "# formatação do print do numpy\n",
    "np.set_printoptions(precision=4, suppress=True)"
   ]
  },
  {
   "cell_type": "code",
   "execution_count": null,
   "metadata": {
    "colab": {
     "base_uri": "https://localhost:8080/"
    },
    "id": "pJGVDQ78Pje9",
    "outputId": "406af60a-43d0-4cfa-8271-392a83e42e72"
   },
   "outputs": [
    {
     "data": {
      "text/plain": [
       "array([[   44.    , 72000.    ],\n",
       "       [   27.    , 48000.    ],\n",
       "       [   30.    , 54000.    ],\n",
       "       [   38.    , 61000.    ],\n",
       "       [   40.    , 63777.7778],\n",
       "       [   35.    , 58000.    ],\n",
       "       [   38.7778, 52000.    ],\n",
       "       [   48.    , 79000.    ],\n",
       "       [   50.    , 83000.    ],\n",
       "       [   37.    , 67000.    ]])"
      ]
     },
     "execution_count": 15,
     "metadata": {
      "tags": []
     },
     "output_type": "execute_result"
    }
   ],
   "source": [
    "# trocando os dados faltantes (NaN) pela média da coluna\n",
    "imputer = SimpleImputer(strategy='mean')\n",
    "num_cols_mean = imputer.fit_transform(df[['Age', 'Salary']])\n",
    "num_cols_mean"
   ]
  },
  {
   "cell_type": "code",
   "execution_count": null,
   "metadata": {
    "colab": {
     "base_uri": "https://localhost:8080/"
    },
    "id": "o_HTbBAbQ2_j",
    "outputId": "d660e4f7-d9ee-49d7-9868-5e23957f3c4a"
   },
   "outputs": [
    {
     "data": {
      "text/plain": [
       "array([[   44., 72000.],\n",
       "       [   27., 48000.],\n",
       "       [   30., 54000.],\n",
       "       [   38., 61000.],\n",
       "       [   40., 61000.],\n",
       "       [   35., 58000.],\n",
       "       [   38., 52000.],\n",
       "       [   48., 79000.],\n",
       "       [   50., 83000.],\n",
       "       [   37., 67000.]])"
      ]
     },
     "execution_count": 16,
     "metadata": {
      "tags": []
     },
     "output_type": "execute_result"
    }
   ],
   "source": [
    "# trocando os dados faltantes (NaN) pela mediana da coluna\n",
    "imputer = SimpleImputer(strategy='median')\n",
    "num_cols_median = imputer.fit_transform(df[['Age', 'Salary']])\n",
    "num_cols_median"
   ]
  },
  {
   "cell_type": "code",
   "execution_count": null,
   "metadata": {
    "colab": {
     "base_uri": "https://localhost:8080/"
    },
    "id": "NBWO5E-EQASy",
    "outputId": "9f481ad9-2d7f-4cd6-b820-35f0e7cac98f"
   },
   "outputs": [
    {
     "data": {
      "text/html": [
       "<div>\n",
       "<style scoped>\n",
       "    .dataframe tbody tr th:only-of-type {\n",
       "        vertical-align: middle;\n",
       "    }\n",
       "\n",
       "    .dataframe tbody tr th {\n",
       "        vertical-align: top;\n",
       "    }\n",
       "\n",
       "    .dataframe thead th {\n",
       "        text-align: right;\n",
       "    }\n",
       "</style>\n",
       "<table border=\"1\" class=\"dataframe\">\n",
       "  <thead>\n",
       "    <tr style=\"text-align: right;\">\n",
       "      <th></th>\n",
       "      <th>Country</th>\n",
       "      <th>Age</th>\n",
       "      <th>Salary</th>\n",
       "      <th>Purchased</th>\n",
       "    </tr>\n",
       "  </thead>\n",
       "  <tbody>\n",
       "    <tr>\n",
       "      <th>0</th>\n",
       "      <td>France</td>\n",
       "      <td>44.0</td>\n",
       "      <td>72000.0</td>\n",
       "      <td>No</td>\n",
       "    </tr>\n",
       "    <tr>\n",
       "      <th>1</th>\n",
       "      <td>Spain</td>\n",
       "      <td>27.0</td>\n",
       "      <td>48000.0</td>\n",
       "      <td>Yes</td>\n",
       "    </tr>\n",
       "    <tr>\n",
       "      <th>2</th>\n",
       "      <td>Germany</td>\n",
       "      <td>30.0</td>\n",
       "      <td>54000.0</td>\n",
       "      <td>No</td>\n",
       "    </tr>\n",
       "    <tr>\n",
       "      <th>3</th>\n",
       "      <td>Spain</td>\n",
       "      <td>38.0</td>\n",
       "      <td>61000.0</td>\n",
       "      <td>No</td>\n",
       "    </tr>\n",
       "    <tr>\n",
       "      <th>4</th>\n",
       "      <td>Germany</td>\n",
       "      <td>40.0</td>\n",
       "      <td>61000.0</td>\n",
       "      <td>Yes</td>\n",
       "    </tr>\n",
       "    <tr>\n",
       "      <th>5</th>\n",
       "      <td>France</td>\n",
       "      <td>35.0</td>\n",
       "      <td>58000.0</td>\n",
       "      <td>Yes</td>\n",
       "    </tr>\n",
       "    <tr>\n",
       "      <th>6</th>\n",
       "      <td>Spain</td>\n",
       "      <td>38.0</td>\n",
       "      <td>52000.0</td>\n",
       "      <td>No</td>\n",
       "    </tr>\n",
       "    <tr>\n",
       "      <th>7</th>\n",
       "      <td>France</td>\n",
       "      <td>48.0</td>\n",
       "      <td>79000.0</td>\n",
       "      <td>Yes</td>\n",
       "    </tr>\n",
       "    <tr>\n",
       "      <th>8</th>\n",
       "      <td>Germany</td>\n",
       "      <td>50.0</td>\n",
       "      <td>83000.0</td>\n",
       "      <td>No</td>\n",
       "    </tr>\n",
       "    <tr>\n",
       "      <th>9</th>\n",
       "      <td>France</td>\n",
       "      <td>37.0</td>\n",
       "      <td>67000.0</td>\n",
       "      <td>Yes</td>\n",
       "    </tr>\n",
       "  </tbody>\n",
       "</table>\n",
       "</div>"
      ],
      "text/plain": [
       "   Country   Age   Salary Purchased\n",
       "0   France  44.0  72000.0        No\n",
       "1    Spain  27.0  48000.0       Yes\n",
       "2  Germany  30.0  54000.0        No\n",
       "3    Spain  38.0  61000.0        No\n",
       "4  Germany  40.0  61000.0       Yes\n",
       "5   France  35.0  58000.0       Yes\n",
       "6    Spain  38.0  52000.0        No\n",
       "7   France  48.0  79000.0       Yes\n",
       "8  Germany  50.0  83000.0        No\n",
       "9   France  37.0  67000.0       Yes"
      ]
     },
     "execution_count": 17,
     "metadata": {
      "tags": []
     },
     "output_type": "execute_result"
    }
   ],
   "source": [
    "# substituição no dataframe\n",
    "df[['Age', 'Salary']] = num_cols_median\n",
    "df"
   ]
  },
  {
   "cell_type": "markdown",
   "metadata": {
    "id": "yOkliMjaSwFU"
   },
   "source": [
    "### Normalização de dados numéricos"
   ]
  },
  {
   "cell_type": "markdown",
   "metadata": {
    "id": "VB-N9nqfS3h5"
   },
   "source": [
    "Muitos modelos de machine learning são dependentes da magnitude das valores numéricos, como por exemplo em métodos baseados em distância (e.g. KNN). Desse modo, escalar os dados é de suma importância para se obter um bom desempenho."
   ]
  },
  {
   "cell_type": "code",
   "execution_count": null,
   "metadata": {
    "id": "s6pAxj-qQOlo"
   },
   "outputs": [],
   "source": [
    "# importando as classes\n",
    "from sklearn.preprocessing import StandardScaler, MinMaxScaler"
   ]
  },
  {
   "cell_type": "code",
   "execution_count": null,
   "metadata": {
    "id": "kGe-C3FWS69k"
   },
   "outputs": [],
   "source": [
    "StandardScaler?"
   ]
  },
  {
   "cell_type": "code",
   "execution_count": null,
   "metadata": {
    "id": "oQXuLx2EHxl_"
   },
   "outputs": [],
   "source": [
    "MinMaxScaler?"
   ]
  },
  {
   "cell_type": "code",
   "execution_count": null,
   "metadata": {
    "id": "ew2MintRS8Xa"
   },
   "outputs": [],
   "source": [
    "# Escalando dados numéricos (média 0 e desvio padrão 1)\n",
    "sc = StandardScaler()\n",
    "num_cols_std = sc.fit_transform(df[['Age', 'Salary']])"
   ]
  },
  {
   "cell_type": "code",
   "execution_count": null,
   "metadata": {
    "colab": {
     "base_uri": "https://localhost:8080/"
    },
    "id": "vuTcjev5ToMN",
    "outputId": "f81df1cb-b349-42a1-dc0b-eabb68fe95e8"
   },
   "outputs": [
    {
     "data": {
      "text/plain": [
       "array([[ 0.7697,  0.7726],\n",
       "       [-1.6992, -1.4088],\n",
       "       [-1.2635, -0.8635],\n",
       "       [-0.1017, -0.2272],\n",
       "       [ 0.1888, -0.2272],\n",
       "       [-0.5374, -0.4999],\n",
       "       [-0.1017, -1.0452],\n",
       "       [ 1.3507,  1.4088],\n",
       "       [ 1.6411,  1.7724],\n",
       "       [-0.2469,  0.3181]])"
      ]
     },
     "execution_count": 22,
     "metadata": {
      "tags": []
     },
     "output_type": "execute_result"
    }
   ],
   "source": [
    "num_cols_std"
   ]
  },
  {
   "cell_type": "code",
   "execution_count": null,
   "metadata": {
    "id": "dJSn9D6PIJwk"
   },
   "outputs": [],
   "source": [
    "# Escalando dados numéricos entre [min, max]\n",
    "minmax = MinMaxScaler(feature_range=(0, 1))\n",
    "num_cols_mm = minmax.fit_transform(df[['Age', 'Salary']])"
   ]
  },
  {
   "cell_type": "code",
   "execution_count": null,
   "metadata": {
    "colab": {
     "base_uri": "https://localhost:8080/"
    },
    "id": "ZXaqeGNyIY5C",
    "outputId": "b901430b-5569-4fa0-b6a1-17b5c2754f04"
   },
   "outputs": [
    {
     "data": {
      "text/plain": [
       "array([[0.7391, 0.6857],\n",
       "       [0.    , 0.    ],\n",
       "       [0.1304, 0.1714],\n",
       "       [0.4783, 0.3714],\n",
       "       [0.5652, 0.3714],\n",
       "       [0.3478, 0.2857],\n",
       "       [0.4783, 0.1143],\n",
       "       [0.913 , 0.8857],\n",
       "       [1.    , 1.    ],\n",
       "       [0.4348, 0.5429]])"
      ]
     },
     "execution_count": 24,
     "metadata": {
      "tags": []
     },
     "output_type": "execute_result"
    }
   ],
   "source": [
    "num_cols_mm"
   ]
  },
  {
   "cell_type": "code",
   "execution_count": null,
   "metadata": {
    "id": "QPcRLbrFIrL9"
   },
   "outputs": [],
   "source": [
    "# atribuindo\n",
    "df[['Age', 'Salary']] = num_cols_std"
   ]
  },
  {
   "cell_type": "markdown",
   "metadata": {
    "id": "vKaZ8VMTU6P_"
   },
   "source": [
    "## **Visualização de dados categóricos**"
   ]
  },
  {
   "cell_type": "code",
   "execution_count": null,
   "metadata": {
    "colab": {
     "base_uri": "https://localhost:8080/",
     "height": 281
    },
    "id": "IXenaAacUGfR",
    "outputId": "9671d5e6-3ebb-47bf-8c6b-1f5c12936993"
   },
   "outputs": [
    {
     "data": {
      "image/png": "[encoded data removed]",
      "text/plain": [
       "<Figure size 432x288 with 1 Axes>"
      ]
     },
     "metadata": {
      "needs_background": "light",
      "tags": []
     },
     "output_type": "display_data"
    }
   ],
   "source": [
    "# plot de barras\n",
    "df['Country'].value_counts().plot.bar(rot=0,\n",
    "                                      title='Clientes por país');"
   ]
  },
  {
   "cell_type": "code",
   "execution_count": null,
   "metadata": {
    "colab": {
     "base_uri": "https://localhost:8080/",
     "height": 281
    },
    "id": "bobA7ONoVGMk",
    "outputId": "5b4a24f6-636f-4653-8b34-44ac59eb1fa5"
   },
   "outputs": [
    {
     "data": {
      "image/png": "[encoded data removed]",
      "text/plain": [
       "<Figure size 432x288 with 1 Axes>"
      ]
     },
     "metadata": {
      "needs_background": "light",
      "tags": []
     },
     "output_type": "display_data"
    }
   ],
   "source": [
    "# plot de barras\n",
    "df['Purchased'].value_counts().plot.bar(rot=0,\n",
    "                                        title='Comprou (sim/não)');"
   ]
  },
  {
   "cell_type": "code",
   "execution_count": null,
   "metadata": {
    "colab": {
     "base_uri": "https://localhost:8080/",
     "height": 411
    },
    "id": "XTv_uWBCWeaE",
    "outputId": "581c9762-66e0-4e59-8a6f-ec906b5ed9f0"
   },
   "outputs": [
    {
     "data": {
      "image/png": "[encoded data removed]",
      "text/plain": [
       "<Figure size 504x504 with 1 Axes>"
      ]
     },
     "metadata": {
      "tags": []
     },
     "output_type": "display_data"
    }
   ],
   "source": [
    "# gráfico de setores\n",
    "df['Country'].value_counts().plot.pie(autopct='%.1f%%',\n",
    "                                      figsize=(7, 7));"
   ]
  },
  {
   "cell_type": "code",
   "execution_count": null,
   "metadata": {
    "colab": {
     "base_uri": "https://localhost:8080/",
     "height": 387
    },
    "id": "5jDTmeqBWagJ",
    "outputId": "b50be09b-6ca4-4865-d98b-551abac4aa0b"
   },
   "outputs": [
    {
     "data": {
      "image/png": "[encoded data removed]",
      "text/plain": [
       "<Figure size 441.875x360 with 6 Axes>"
      ]
     },
     "metadata": {
      "needs_background": "light",
      "tags": []
     },
     "output_type": "display_data"
    }
   ],
   "source": [
    "# visualização de variáveis categóricas\n",
    "sns.pairplot(data=df, hue='Country');"
   ]
  },
  {
   "cell_type": "code",
   "execution_count": null,
   "metadata": {
    "colab": {
     "base_uri": "https://localhost:8080/",
     "height": 387
    },
    "id": "7QEgkg-lX2ka",
    "outputId": "c77dcc78-b622-408d-c7d8-92fe76147d8c"
   },
   "outputs": [
    {
     "data": {
      "image/png": "[encoded data removed]",
      "text/plain": [
       "<Figure size 419.875x360 with 6 Axes>"
      ]
     },
     "metadata": {
      "needs_background": "light",
      "tags": []
     },
     "output_type": "display_data"
    }
   ],
   "source": [
    "# visualização de variáveis categóricas\n",
    "sns.pairplot(data=df, hue='Purchased');"
   ]
  },
  {
   "cell_type": "markdown",
   "metadata": {
    "id": "fcBFp11zbVmT"
   },
   "source": [
    "## **Tratamento de dados categóricos**"
   ]
  },
  {
   "cell_type": "markdown",
   "metadata": {
    "id": "YOVkFPpjcTjb"
   },
   "source": [
    "### Lidando com dados faltantes"
   ]
  },
  {
   "cell_type": "code",
   "execution_count": null,
   "metadata": {
    "id": "ZYxiTy1XXhBq"
   },
   "outputs": [],
   "source": [
    "# emulando a falta de um dado categórico\n",
    "df.iloc[1, 0] = np.nan"
   ]
  },
  {
   "cell_type": "code",
   "execution_count": null,
   "metadata": {
    "colab": {
     "base_uri": "https://localhost:8080/",
     "height": 359
    },
    "id": "hwjCbadOdZYD",
    "outputId": "b3d848e6-8213-4ec7-9ae1-c01aec2a8e0e"
   },
   "outputs": [
    {
     "data": {
      "text/html": [
       "<div>\n",
       "<style scoped>\n",
       "    .dataframe tbody tr th:only-of-type {\n",
       "        vertical-align: middle;\n",
       "    }\n",
       "\n",
       "    .dataframe tbody tr th {\n",
       "        vertical-align: top;\n",
       "    }\n",
       "\n",
       "    .dataframe thead th {\n",
       "        text-align: right;\n",
       "    }\n",
       "</style>\n",
       "<table border=\"1\" class=\"dataframe\">\n",
       "  <thead>\n",
       "    <tr style=\"text-align: right;\">\n",
       "      <th></th>\n",
       "      <th>Country</th>\n",
       "      <th>Age</th>\n",
       "      <th>Salary</th>\n",
       "      <th>Purchased</th>\n",
       "    </tr>\n",
       "  </thead>\n",
       "  <tbody>\n",
       "    <tr>\n",
       "      <th>0</th>\n",
       "      <td>France</td>\n",
       "      <td>0.769734</td>\n",
       "      <td>0.772568</td>\n",
       "      <td>No</td>\n",
       "    </tr>\n",
       "    <tr>\n",
       "      <th>1</th>\n",
       "      <td>NaN</td>\n",
       "      <td>-1.699225</td>\n",
       "      <td>-1.408800</td>\n",
       "      <td>Yes</td>\n",
       "    </tr>\n",
       "    <tr>\n",
       "      <th>2</th>\n",
       "      <td>Germany</td>\n",
       "      <td>-1.263526</td>\n",
       "      <td>-0.863458</td>\n",
       "      <td>No</td>\n",
       "    </tr>\n",
       "    <tr>\n",
       "      <th>3</th>\n",
       "      <td>Spain</td>\n",
       "      <td>-0.101663</td>\n",
       "      <td>-0.227226</td>\n",
       "      <td>No</td>\n",
       "    </tr>\n",
       "    <tr>\n",
       "      <th>4</th>\n",
       "      <td>Germany</td>\n",
       "      <td>0.188803</td>\n",
       "      <td>-0.227226</td>\n",
       "      <td>Yes</td>\n",
       "    </tr>\n",
       "    <tr>\n",
       "      <th>5</th>\n",
       "      <td>France</td>\n",
       "      <td>-0.537362</td>\n",
       "      <td>-0.499897</td>\n",
       "      <td>Yes</td>\n",
       "    </tr>\n",
       "    <tr>\n",
       "      <th>6</th>\n",
       "      <td>Spain</td>\n",
       "      <td>-0.101663</td>\n",
       "      <td>-1.045239</td>\n",
       "      <td>No</td>\n",
       "    </tr>\n",
       "    <tr>\n",
       "      <th>7</th>\n",
       "      <td>France</td>\n",
       "      <td>1.350666</td>\n",
       "      <td>1.408800</td>\n",
       "      <td>Yes</td>\n",
       "    </tr>\n",
       "    <tr>\n",
       "      <th>8</th>\n",
       "      <td>Germany</td>\n",
       "      <td>1.641132</td>\n",
       "      <td>1.772361</td>\n",
       "      <td>No</td>\n",
       "    </tr>\n",
       "    <tr>\n",
       "      <th>9</th>\n",
       "      <td>France</td>\n",
       "      <td>-0.246896</td>\n",
       "      <td>0.318116</td>\n",
       "      <td>Yes</td>\n",
       "    </tr>\n",
       "  </tbody>\n",
       "</table>\n",
       "</div>"
      ],
      "text/plain": [
       "   Country       Age    Salary Purchased\n",
       "0   France  0.769734  0.772568        No\n",
       "1      NaN -1.699225 -1.408800       Yes\n",
       "2  Germany -1.263526 -0.863458        No\n",
       "3    Spain -0.101663 -0.227226        No\n",
       "4  Germany  0.188803 -0.227226       Yes\n",
       "5   France -0.537362 -0.499897       Yes\n",
       "6    Spain -0.101663 -1.045239        No\n",
       "7   France  1.350666  1.408800       Yes\n",
       "8  Germany  1.641132  1.772361        No\n",
       "9   France -0.246896  0.318116       Yes"
      ]
     },
     "execution_count": 32,
     "metadata": {
      "tags": []
     },
     "output_type": "execute_result"
    }
   ],
   "source": [
    "df"
   ]
  },
  {
   "cell_type": "code",
   "execution_count": null,
   "metadata": {
    "id": "a_-xsJ1Kda-C"
   },
   "outputs": [],
   "source": [
    "# trocando os dados faltantes (NaN) pelo valor mais frequente \n",
    "imputer = SimpleImputer(strategy='most_frequent')\n",
    "df['Country'] = imputer.fit_transform(df[['Country']])"
   ]
  },
  {
   "cell_type": "code",
   "execution_count": null,
   "metadata": {
    "colab": {
     "base_uri": "https://localhost:8080/",
     "height": 359
    },
    "id": "r6-RbiTTeHhR",
    "outputId": "bdf500c6-31c8-42af-f870-ae2a1dca43bc"
   },
   "outputs": [
    {
     "data": {
      "text/html": [
       "<div>\n",
       "<style scoped>\n",
       "    .dataframe tbody tr th:only-of-type {\n",
       "        vertical-align: middle;\n",
       "    }\n",
       "\n",
       "    .dataframe tbody tr th {\n",
       "        vertical-align: top;\n",
       "    }\n",
       "\n",
       "    .dataframe thead th {\n",
       "        text-align: right;\n",
       "    }\n",
       "</style>\n",
       "<table border=\"1\" class=\"dataframe\">\n",
       "  <thead>\n",
       "    <tr style=\"text-align: right;\">\n",
       "      <th></th>\n",
       "      <th>Country</th>\n",
       "      <th>Age</th>\n",
       "      <th>Salary</th>\n",
       "      <th>Purchased</th>\n",
       "    </tr>\n",
       "  </thead>\n",
       "  <tbody>\n",
       "    <tr>\n",
       "      <th>0</th>\n",
       "      <td>France</td>\n",
       "      <td>0.769734</td>\n",
       "      <td>0.772568</td>\n",
       "      <td>No</td>\n",
       "    </tr>\n",
       "    <tr>\n",
       "      <th>1</th>\n",
       "      <td>France</td>\n",
       "      <td>-1.699225</td>\n",
       "      <td>-1.408800</td>\n",
       "      <td>Yes</td>\n",
       "    </tr>\n",
       "    <tr>\n",
       "      <th>2</th>\n",
       "      <td>Germany</td>\n",
       "      <td>-1.263526</td>\n",
       "      <td>-0.863458</td>\n",
       "      <td>No</td>\n",
       "    </tr>\n",
       "    <tr>\n",
       "      <th>3</th>\n",
       "      <td>Spain</td>\n",
       "      <td>-0.101663</td>\n",
       "      <td>-0.227226</td>\n",
       "      <td>No</td>\n",
       "    </tr>\n",
       "    <tr>\n",
       "      <th>4</th>\n",
       "      <td>Germany</td>\n",
       "      <td>0.188803</td>\n",
       "      <td>-0.227226</td>\n",
       "      <td>Yes</td>\n",
       "    </tr>\n",
       "    <tr>\n",
       "      <th>5</th>\n",
       "      <td>France</td>\n",
       "      <td>-0.537362</td>\n",
       "      <td>-0.499897</td>\n",
       "      <td>Yes</td>\n",
       "    </tr>\n",
       "    <tr>\n",
       "      <th>6</th>\n",
       "      <td>Spain</td>\n",
       "      <td>-0.101663</td>\n",
       "      <td>-1.045239</td>\n",
       "      <td>No</td>\n",
       "    </tr>\n",
       "    <tr>\n",
       "      <th>7</th>\n",
       "      <td>France</td>\n",
       "      <td>1.350666</td>\n",
       "      <td>1.408800</td>\n",
       "      <td>Yes</td>\n",
       "    </tr>\n",
       "    <tr>\n",
       "      <th>8</th>\n",
       "      <td>Germany</td>\n",
       "      <td>1.641132</td>\n",
       "      <td>1.772361</td>\n",
       "      <td>No</td>\n",
       "    </tr>\n",
       "    <tr>\n",
       "      <th>9</th>\n",
       "      <td>France</td>\n",
       "      <td>-0.246896</td>\n",
       "      <td>0.318116</td>\n",
       "      <td>Yes</td>\n",
       "    </tr>\n",
       "  </tbody>\n",
       "</table>\n",
       "</div>"
      ],
      "text/plain": [
       "   Country       Age    Salary Purchased\n",
       "0   France  0.769734  0.772568        No\n",
       "1   France -1.699225 -1.408800       Yes\n",
       "2  Germany -1.263526 -0.863458        No\n",
       "3    Spain -0.101663 -0.227226        No\n",
       "4  Germany  0.188803 -0.227226       Yes\n",
       "5   France -0.537362 -0.499897       Yes\n",
       "6    Spain -0.101663 -1.045239        No\n",
       "7   France  1.350666  1.408800       Yes\n",
       "8  Germany  1.641132  1.772361        No\n",
       "9   France -0.246896  0.318116       Yes"
      ]
     },
     "execution_count": 34,
     "metadata": {
      "tags": []
     },
     "output_type": "execute_result"
    }
   ],
   "source": [
    "df"
   ]
  },
  {
   "cell_type": "markdown",
   "metadata": {
    "id": "AO16OoXmes7P"
   },
   "source": [
    "### Codificação de variáveis categóricas"
   ]
  },
  {
   "cell_type": "markdown",
   "metadata": {
    "id": "gxH91m_Mi8D3"
   },
   "source": [
    "**Ordinal Encoding**"
   ]
  },
  {
   "cell_type": "code",
   "execution_count": null,
   "metadata": {
    "id": "x8QZlTXPjBP4"
   },
   "outputs": [],
   "source": [
    "from sklearn.preprocessing import OrdinalEncoder"
   ]
  },
  {
   "cell_type": "code",
   "execution_count": null,
   "metadata": {
    "colab": {
     "base_uri": "https://localhost:8080/",
     "height": 187
    },
    "id": "bU24ZEnfjC3Z",
    "outputId": "f83158f7-844d-42f9-a243-de4c6537365c"
   },
   "outputs": [
    {
     "data": {
      "text/plain": [
       "array([[0.],\n",
       "       [0.],\n",
       "       [1.],\n",
       "       [2.],\n",
       "       [1.],\n",
       "       [0.],\n",
       "       [2.],\n",
       "       [0.],\n",
       "       [1.],\n",
       "       [0.]])"
      ]
     },
     "execution_count": 36,
     "metadata": {
      "tags": []
     },
     "output_type": "execute_result"
    }
   ],
   "source": [
    "# ordinal encoding\n",
    "oe = OrdinalEncoder()\n",
    "oe.fit_transform(df[['Country']])"
   ]
  },
  {
   "cell_type": "markdown",
   "metadata": {
    "id": "HlHlc4N0fZoG"
   },
   "source": [
    "**One Hot Encoding**\n",
    "\n",
    "Variáveis categóricas carregam informações qualitativas, ou seja, não possuem uma relação de magnitude, de $>, <, \\leq, \\geq$, como ocorre com variáveis numéricas. Devem ser, portanto, codificadas de forma que isso seja transferido para o modelo matemático."
   ]
  },
  {
   "cell_type": "markdown",
   "metadata": {
    "id": "Tfxf6JjVe-NI"
   },
   "source": [
    "![categoric](https://pycourse.s3.amazonaws.com/var_categorical.png)"
   ]
  },
  {
   "cell_type": "code",
   "execution_count": null,
   "metadata": {
    "colab": {
     "base_uri": "https://localhost:8080/",
     "height": 359
    },
    "id": "pKALwrd-eL9T",
    "outputId": "4ec20a64-6441-40d8-a607-801143d307d6"
   },
   "outputs": [
    {
     "data": {
      "text/html": [
       "<div>\n",
       "<style scoped>\n",
       "    .dataframe tbody tr th:only-of-type {\n",
       "        vertical-align: middle;\n",
       "    }\n",
       "\n",
       "    .dataframe tbody tr th {\n",
       "        vertical-align: top;\n",
       "    }\n",
       "\n",
       "    .dataframe thead th {\n",
       "        text-align: right;\n",
       "    }\n",
       "</style>\n",
       "<table border=\"1\" class=\"dataframe\">\n",
       "  <thead>\n",
       "    <tr style=\"text-align: right;\">\n",
       "      <th></th>\n",
       "      <th>Age</th>\n",
       "      <th>Salary</th>\n",
       "      <th>Purchased</th>\n",
       "      <th>Country_France</th>\n",
       "      <th>Country_Germany</th>\n",
       "      <th>Country_Spain</th>\n",
       "    </tr>\n",
       "  </thead>\n",
       "  <tbody>\n",
       "    <tr>\n",
       "      <th>0</th>\n",
       "      <td>0.769734</td>\n",
       "      <td>0.772568</td>\n",
       "      <td>No</td>\n",
       "      <td>1</td>\n",
       "      <td>0</td>\n",
       "      <td>0</td>\n",
       "    </tr>\n",
       "    <tr>\n",
       "      <th>1</th>\n",
       "      <td>-1.699225</td>\n",
       "      <td>-1.408800</td>\n",
       "      <td>Yes</td>\n",
       "      <td>1</td>\n",
       "      <td>0</td>\n",
       "      <td>0</td>\n",
       "    </tr>\n",
       "    <tr>\n",
       "      <th>2</th>\n",
       "      <td>-1.263526</td>\n",
       "      <td>-0.863458</td>\n",
       "      <td>No</td>\n",
       "      <td>0</td>\n",
       "      <td>1</td>\n",
       "      <td>0</td>\n",
       "    </tr>\n",
       "    <tr>\n",
       "      <th>3</th>\n",
       "      <td>-0.101663</td>\n",
       "      <td>-0.227226</td>\n",
       "      <td>No</td>\n",
       "      <td>0</td>\n",
       "      <td>0</td>\n",
       "      <td>1</td>\n",
       "    </tr>\n",
       "    <tr>\n",
       "      <th>4</th>\n",
       "      <td>0.188803</td>\n",
       "      <td>-0.227226</td>\n",
       "      <td>Yes</td>\n",
       "      <td>0</td>\n",
       "      <td>1</td>\n",
       "      <td>0</td>\n",
       "    </tr>\n",
       "    <tr>\n",
       "      <th>5</th>\n",
       "      <td>-0.537362</td>\n",
       "      <td>-0.499897</td>\n",
       "      <td>Yes</td>\n",
       "      <td>1</td>\n",
       "      <td>0</td>\n",
       "      <td>0</td>\n",
       "    </tr>\n",
       "    <tr>\n",
       "      <th>6</th>\n",
       "      <td>-0.101663</td>\n",
       "      <td>-1.045239</td>\n",
       "      <td>No</td>\n",
       "      <td>0</td>\n",
       "      <td>0</td>\n",
       "      <td>1</td>\n",
       "    </tr>\n",
       "    <tr>\n",
       "      <th>7</th>\n",
       "      <td>1.350666</td>\n",
       "      <td>1.408800</td>\n",
       "      <td>Yes</td>\n",
       "      <td>1</td>\n",
       "      <td>0</td>\n",
       "      <td>0</td>\n",
       "    </tr>\n",
       "    <tr>\n",
       "      <th>8</th>\n",
       "      <td>1.641132</td>\n",
       "      <td>1.772361</td>\n",
       "      <td>No</td>\n",
       "      <td>0</td>\n",
       "      <td>1</td>\n",
       "      <td>0</td>\n",
       "    </tr>\n",
       "    <tr>\n",
       "      <th>9</th>\n",
       "      <td>-0.246896</td>\n",
       "      <td>0.318116</td>\n",
       "      <td>Yes</td>\n",
       "      <td>1</td>\n",
       "      <td>0</td>\n",
       "      <td>0</td>\n",
       "    </tr>\n",
       "  </tbody>\n",
       "</table>\n",
       "</div>"
      ],
      "text/plain": [
       "        Age    Salary Purchased  Country_France  Country_Germany  Country_Spain\n",
       "0  0.769734  0.772568        No               1                0              0\n",
       "1 -1.699225 -1.408800       Yes               1                0              0\n",
       "2 -1.263526 -0.863458        No               0                1              0\n",
       "3 -0.101663 -0.227226        No               0                0              1\n",
       "4  0.188803 -0.227226       Yes               0                1              0\n",
       "5 -0.537362 -0.499897       Yes               1                0              0\n",
       "6 -0.101663 -1.045239        No               0                0              1\n",
       "7  1.350666  1.408800       Yes               1                0              0\n",
       "8  1.641132  1.772361        No               0                1              0\n",
       "9 -0.246896  0.318116       Yes               1                0              0"
      ]
     },
     "execution_count": 37,
     "metadata": {
      "tags": []
     },
     "output_type": "execute_result"
    }
   ],
   "source": [
    "# Codificando a variável categórica Country\n",
    "# OneHotEncoder tem o mesmo comportamento\n",
    "pd.get_dummies(data=df, columns=['Country'])"
   ]
  },
  {
   "cell_type": "markdown",
   "metadata": {
    "id": "lSofsqTDjm_1"
   },
   "source": [
    "**Label Encoder**"
   ]
  },
  {
   "cell_type": "code",
   "execution_count": null,
   "metadata": {
    "id": "sJRlBPAffnEA"
   },
   "outputs": [],
   "source": [
    "# Codificando a variável dependente Purchased\n",
    "from sklearn.preprocessing import LabelEncoder"
   ]
  },
  {
   "cell_type": "code",
   "execution_count": null,
   "metadata": {
    "colab": {
     "base_uri": "https://localhost:8080/",
     "height": 359
    },
    "id": "Xf97l0gzg-Ah",
    "outputId": "a9d46baa-f501-4f0c-b7a0-47b07ba5f752"
   },
   "outputs": [
    {
     "data": {
      "text/html": [
       "<div>\n",
       "<style scoped>\n",
       "    .dataframe tbody tr th:only-of-type {\n",
       "        vertical-align: middle;\n",
       "    }\n",
       "\n",
       "    .dataframe tbody tr th {\n",
       "        vertical-align: top;\n",
       "    }\n",
       "\n",
       "    .dataframe thead th {\n",
       "        text-align: right;\n",
       "    }\n",
       "</style>\n",
       "<table border=\"1\" class=\"dataframe\">\n",
       "  <thead>\n",
       "    <tr style=\"text-align: right;\">\n",
       "      <th></th>\n",
       "      <th>Country</th>\n",
       "      <th>Age</th>\n",
       "      <th>Salary</th>\n",
       "      <th>Purchased</th>\n",
       "    </tr>\n",
       "  </thead>\n",
       "  <tbody>\n",
       "    <tr>\n",
       "      <th>0</th>\n",
       "      <td>France</td>\n",
       "      <td>0.769734</td>\n",
       "      <td>0.772568</td>\n",
       "      <td>0</td>\n",
       "    </tr>\n",
       "    <tr>\n",
       "      <th>1</th>\n",
       "      <td>France</td>\n",
       "      <td>-1.699225</td>\n",
       "      <td>-1.408800</td>\n",
       "      <td>1</td>\n",
       "    </tr>\n",
       "    <tr>\n",
       "      <th>2</th>\n",
       "      <td>Germany</td>\n",
       "      <td>-1.263526</td>\n",
       "      <td>-0.863458</td>\n",
       "      <td>0</td>\n",
       "    </tr>\n",
       "    <tr>\n",
       "      <th>3</th>\n",
       "      <td>Spain</td>\n",
       "      <td>-0.101663</td>\n",
       "      <td>-0.227226</td>\n",
       "      <td>0</td>\n",
       "    </tr>\n",
       "    <tr>\n",
       "      <th>4</th>\n",
       "      <td>Germany</td>\n",
       "      <td>0.188803</td>\n",
       "      <td>-0.227226</td>\n",
       "      <td>1</td>\n",
       "    </tr>\n",
       "    <tr>\n",
       "      <th>5</th>\n",
       "      <td>France</td>\n",
       "      <td>-0.537362</td>\n",
       "      <td>-0.499897</td>\n",
       "      <td>1</td>\n",
       "    </tr>\n",
       "    <tr>\n",
       "      <th>6</th>\n",
       "      <td>Spain</td>\n",
       "      <td>-0.101663</td>\n",
       "      <td>-1.045239</td>\n",
       "      <td>0</td>\n",
       "    </tr>\n",
       "    <tr>\n",
       "      <th>7</th>\n",
       "      <td>France</td>\n",
       "      <td>1.350666</td>\n",
       "      <td>1.408800</td>\n",
       "      <td>1</td>\n",
       "    </tr>\n",
       "    <tr>\n",
       "      <th>8</th>\n",
       "      <td>Germany</td>\n",
       "      <td>1.641132</td>\n",
       "      <td>1.772361</td>\n",
       "      <td>0</td>\n",
       "    </tr>\n",
       "    <tr>\n",
       "      <th>9</th>\n",
       "      <td>France</td>\n",
       "      <td>-0.246896</td>\n",
       "      <td>0.318116</td>\n",
       "      <td>1</td>\n",
       "    </tr>\n",
       "  </tbody>\n",
       "</table>\n",
       "</div>"
      ],
      "text/plain": [
       "   Country       Age    Salary  Purchased\n",
       "0   France  0.769734  0.772568          0\n",
       "1   France -1.699225 -1.408800          1\n",
       "2  Germany -1.263526 -0.863458          0\n",
       "3    Spain -0.101663 -0.227226          0\n",
       "4  Germany  0.188803 -0.227226          1\n",
       "5   France -0.537362 -0.499897          1\n",
       "6    Spain -0.101663 -1.045239          0\n",
       "7   France  1.350666  1.408800          1\n",
       "8  Germany  1.641132  1.772361          0\n",
       "9   France -0.246896  0.318116          1"
      ]
     },
     "execution_count": 39,
     "metadata": {
      "tags": []
     },
     "output_type": "execute_result"
    }
   ],
   "source": [
    "le = LabelEncoder()\n",
    "df['Purchased'] = le.fit_transform(df['Purchased'])\n",
    "df"
   ]
  },
  {
   "cell_type": "markdown",
   "metadata": {
    "id": "QuMeRfnTh5ta"
   },
   "source": [
    "## **Referências**\n",
    "\n",
    "- [Visualização de dados](https://www.data-to-viz.com/)"
   ]
  }
 ],
 "metadata": {
  "colab": {
   "collapsed_sections": [
    "Nh0dSJ4OG8gc",
    "jKPMf2uDOJpP",
    "IeY6XhOkOPQB",
    "yOkliMjaSwFU"
   ],
   "name": "[IGTI] MPT - Pré-processamento.ipynb",
   "provenance": []
  },
  "kernelspec": {
   "display_name": "Python 3",
   "language": "python",
   "name": "python3"
  },
  "language_info": {
   "codemirror_mode": {
    "name": "ipython",
    "version": 3
   },
   "file_extension": ".py",
   "mimetype": "text/x-python",
   "name": "python",
   "nbconvert_exporter": "python",
   "pygments_lexer": "ipython3",
   "version": "3.8.5"
  }
 },
 "nbformat": 4,
 "nbformat_minor": 1
}
